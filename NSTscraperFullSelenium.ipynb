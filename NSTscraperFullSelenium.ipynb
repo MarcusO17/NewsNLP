{
 "cells": [
  {
   "cell_type": "code",
   "execution_count": 50,
   "metadata": {},
   "outputs": [],
   "source": [
    "import undetected_chromedriver as uc\n",
    "from selenium.webdriver.common.by import By\n",
    "import pandas as pd\n",
    "from datetime import datetime\n",
    "from selenium.webdriver.support import expected_conditions as EC\n",
    "from selenium.webdriver.support.ui import WebDriverWait\n",
    "import time\n",
    "from ast import literal_eval\n",
    "import random"
   ]
  },
  {
   "cell_type": "markdown",
   "metadata": {},
   "source": [
    "Scraping NST Using Selenium"
   ]
  },
  {
   "cell_type": "code",
   "execution_count": 94,
   "metadata": {},
   "outputs": [],
   "source": [
    "url = f\"https://www.nst.com.my/news/politics?page=0\"\n",
    "news_scraped = []\n",
    "df = pd.DataFrame(columns=['date','title','description'])"
   ]
  },
  {
   "cell_type": "code",
   "execution_count": 37,
   "metadata": {},
   "outputs": [],
   "source": [
    "def pullArticle(driver):\n",
    "   XPath = 'content.pl-2.pl-lg-3.col'\n",
    "   WebDriverWait(driver,5).until(EC.visibility_of_element_located((By.CLASS_NAME,XPath)))\n",
    "   return driver.find_elements(by=By.CLASS_NAME,value=XPath)"
   ]
  },
  {
   "cell_type": "code",
   "execution_count": 97,
   "metadata": {},
   "outputs": [],
   "source": [
    "def timeProcessor(time,today):\n",
    "    if time.endswith('ago'):\n",
    "        return today.strftime('%Y-%m-%d')\n",
    "    else:\n",
    "       return datetime.strptime(time.split(' @ ')[0].strip(),'%b %d, %Y').strftime('%Y-%m-%d')\n"
   ]
  },
  {
   "cell_type": "code",
   "execution_count": 42,
   "metadata": {},
   "outputs": [],
   "source": [
    "def isolateArticle(page):\n",
    "    for items in page:\n",
    "        elements = items.split('\\n')\n",
    "        print(elements)\n"
   ]
  },
  {
   "cell_type": "code",
   "execution_count": null,
   "metadata": {},
   "outputs": [],
   "source": [
    "def LaunchWebsite(url):\n",
    "    driver = uc.Chrome()\n",
    "    driver.get(url)\n",
    "    count = 384 #max page count\n",
    "    while True:\n",
    "        page = pullArticle(driver)\n",
    "        today = datetime.today().date()\n",
    "        for items in page:\n",
    "            elements = items.text.split('\\n')\n",
    "            time = timeProcessor(elements[0].split('POLITICS')[1],today)\n",
    "            title = elements[1]\n",
    "            description = elements[2]\n",
    "            row_info = [time,title,description]\n",
    "            news_scraped.append(row_info)\n",
    "        nextPage(driver)\n",
    "        timer = random.randint(,1.5)\n",
    "        print(f'Pausing for {timer}')\n",
    "        time.sleep(timer)\n",
    "        count += 1\n",
    "    \n",
    "        "
   ]
  },
  {
   "cell_type": "code",
   "execution_count": 105,
   "metadata": {},
   "outputs": [],
   "source": [
    "df.to_csv('BBCNews.csv',index=False)"
   ]
  }
 ],
 "metadata": {
  "kernelspec": {
   "display_name": ".venv",
   "language": "python",
   "name": "python3"
  },
  "language_info": {
   "codemirror_mode": {
    "name": "ipython",
    "version": 3
   },
   "file_extension": ".py",
   "mimetype": "text/x-python",
   "name": "python",
   "nbconvert_exporter": "python",
   "pygments_lexer": "ipython3",
   "version": "3.11.1"
  }
 },
 "nbformat": 4,
 "nbformat_minor": 2
}
