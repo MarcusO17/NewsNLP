{
 "cells": [
  {
   "cell_type": "code",
   "execution_count": 2,
   "metadata": {},
   "outputs": [],
   "source": [
    "import pandas as pd\n",
    "import plotly.express as px"
   ]
  },
  {
   "cell_type": "code",
   "execution_count": 3,
   "metadata": {},
   "outputs": [],
   "source": [
    "df_news = pd.read_csv('data/BBCNewsProcessed.csv')\n",
    "df_rates = pd.read_csv('data/exchangerates.csv')"
   ]
  },
  {
   "cell_type": "code",
   "execution_count": 4,
   "metadata": {},
   "outputs": [
    {
     "data": {
      "text/html": [
       "<div>\n",
       "<style scoped>\n",
       "    .dataframe tbody tr th:only-of-type {\n",
       "        vertical-align: middle;\n",
       "    }\n",
       "\n",
       "    .dataframe tbody tr th {\n",
       "        vertical-align: top;\n",
       "    }\n",
       "\n",
       "    .dataframe thead th {\n",
       "        text-align: right;\n",
       "    }\n",
       "</style>\n",
       "<table border=\"1\" class=\"dataframe\">\n",
       "  <thead>\n",
       "    <tr style=\"text-align: right;\">\n",
       "      <th></th>\n",
       "      <th>title</th>\n",
       "      <th>description</th>\n",
       "      <th>publisheddate</th>\n",
       "      <th>section</th>\n",
       "      <th>site</th>\n",
       "    </tr>\n",
       "  </thead>\n",
       "  <tbody>\n",
       "    <tr>\n",
       "      <th>0</th>\n",
       "      <td>The $100bn ghost city in southern Malaysia</td>\n",
       "      <td>The Chinese-built city was supposed to be a th...</td>\n",
       "      <td>2023-12-11</td>\n",
       "      <td>News</td>\n",
       "      <td>Asia</td>\n",
       "    </tr>\n",
       "    <tr>\n",
       "      <th>1</th>\n",
       "      <td>Forest City: Inside Malaysia's Chinese-built '...</td>\n",
       "      <td>Built during the Chinese property boom, Forest...</td>\n",
       "      <td>2023-12-05</td>\n",
       "      <td>News</td>\n",
       "      <td>Business</td>\n",
       "    </tr>\n",
       "    <tr>\n",
       "      <th>2</th>\n",
       "      <td>Malaysian killer released from Australian immi...</td>\n",
       "      <td>An ex-policeman convicted in a politically cha...</td>\n",
       "      <td>2023-11-13</td>\n",
       "      <td>News</td>\n",
       "      <td>Australia</td>\n",
       "    </tr>\n",
       "    <tr>\n",
       "      <th>3</th>\n",
       "      <td>Israel-Gaza: Malaysia will maintain ties with ...</td>\n",
       "      <td>Analysts say Mr Anwar's stand is politically e...</td>\n",
       "      <td>2023-11-08</td>\n",
       "      <td>News</td>\n",
       "      <td>Asia</td>\n",
       "    </tr>\n",
       "    <tr>\n",
       "      <th>4</th>\n",
       "      <td>Matty Healy defends Malaysia kiss during 1975 ...</td>\n",
       "      <td>The 1975 frontman read a prepared speech from ...</td>\n",
       "      <td>2023-10-10</td>\n",
       "      <td>News</td>\n",
       "      <td>Entertainment &amp; Arts</td>\n",
       "    </tr>\n",
       "    <tr>\n",
       "      <th>...</th>\n",
       "      <td>...</td>\n",
       "      <td>...</td>\n",
       "      <td>...</td>\n",
       "      <td>...</td>\n",
       "      <td>...</td>\n",
       "    </tr>\n",
       "    <tr>\n",
       "      <th>235</th>\n",
       "      <td>Najib Razak: Malaysia's former PM and his down...</td>\n",
       "      <td>The former PM promised to boost Malaysia's eco...</td>\n",
       "      <td>2013-05-01</td>\n",
       "      <td>News</td>\n",
       "      <td>Asia</td>\n",
       "    </tr>\n",
       "    <tr>\n",
       "      <th>236</th>\n",
       "      <td>Anwar Ibrahim: The man who fulfilled his goal ...</td>\n",
       "      <td>After a decades-long quest to become premier, ...</td>\n",
       "      <td>2012-01-06</td>\n",
       "      <td>News</td>\n",
       "      <td>Asia</td>\n",
       "    </tr>\n",
       "    <tr>\n",
       "      <th>237</th>\n",
       "      <td>Malaysia country profile</td>\n",
       "      <td>Provides an overview of Malaysia, including ke...</td>\n",
       "      <td>2011-10-21</td>\n",
       "      <td>News</td>\n",
       "      <td>Asia</td>\n",
       "    </tr>\n",
       "    <tr>\n",
       "      <th>238</th>\n",
       "      <td>Malaysia media guide</td>\n",
       "      <td>An overview of the media in Malaysia, includin...</td>\n",
       "      <td>2011-10-21</td>\n",
       "      <td>News</td>\n",
       "      <td>Asia-Pacific</td>\n",
       "    </tr>\n",
       "    <tr>\n",
       "      <th>239</th>\n",
       "      <td>Malaysia profile - Timeline</td>\n",
       "      <td>A chronology of key events in the history of M...</td>\n",
       "      <td>2011-10-21</td>\n",
       "      <td>News</td>\n",
       "      <td>Asia</td>\n",
       "    </tr>\n",
       "  </tbody>\n",
       "</table>\n",
       "<p>240 rows × 5 columns</p>\n",
       "</div>"
      ],
      "text/plain": [
       "                                                 title  \\\n",
       "0           The $100bn ghost city in southern Malaysia   \n",
       "1    Forest City: Inside Malaysia's Chinese-built '...   \n",
       "2    Malaysian killer released from Australian immi...   \n",
       "3    Israel-Gaza: Malaysia will maintain ties with ...   \n",
       "4    Matty Healy defends Malaysia kiss during 1975 ...   \n",
       "..                                                 ...   \n",
       "235  Najib Razak: Malaysia's former PM and his down...   \n",
       "236  Anwar Ibrahim: The man who fulfilled his goal ...   \n",
       "237                           Malaysia country profile   \n",
       "238                               Malaysia media guide   \n",
       "239                        Malaysia profile - Timeline   \n",
       "\n",
       "                                           description publisheddate section  \\\n",
       "0    The Chinese-built city was supposed to be a th...    2023-12-11    News   \n",
       "1    Built during the Chinese property boom, Forest...    2023-12-05    News   \n",
       "2    An ex-policeman convicted in a politically cha...    2023-11-13    News   \n",
       "3    Analysts say Mr Anwar's stand is politically e...    2023-11-08    News   \n",
       "4    The 1975 frontman read a prepared speech from ...    2023-10-10    News   \n",
       "..                                                 ...           ...     ...   \n",
       "235  The former PM promised to boost Malaysia's eco...    2013-05-01    News   \n",
       "236  After a decades-long quest to become premier, ...    2012-01-06    News   \n",
       "237  Provides an overview of Malaysia, including ke...    2011-10-21    News   \n",
       "238  An overview of the media in Malaysia, includin...    2011-10-21    News   \n",
       "239  A chronology of key events in the history of M...    2011-10-21    News   \n",
       "\n",
       "                     site  \n",
       "0                    Asia  \n",
       "1                Business  \n",
       "2               Australia  \n",
       "3                    Asia  \n",
       "4    Entertainment & Arts  \n",
       "..                    ...  \n",
       "235                  Asia  \n",
       "236                  Asia  \n",
       "237                  Asia  \n",
       "238          Asia-Pacific  \n",
       "239                  Asia  \n",
       "\n",
       "[240 rows x 5 columns]"
      ]
     },
     "execution_count": 4,
     "metadata": {},
     "output_type": "execute_result"
    }
   ],
   "source": [
    "df_news"
   ]
  },
  {
   "cell_type": "code",
   "execution_count": 5,
   "metadata": {},
   "outputs": [
    {
     "data": {
      "text/html": [
       "<div>\n",
       "<style scoped>\n",
       "    .dataframe tbody tr th:only-of-type {\n",
       "        vertical-align: middle;\n",
       "    }\n",
       "\n",
       "    .dataframe tbody tr th {\n",
       "        vertical-align: top;\n",
       "    }\n",
       "\n",
       "    .dataframe thead th {\n",
       "        text-align: right;\n",
       "    }\n",
       "</style>\n",
       "<table border=\"1\" class=\"dataframe\">\n",
       "  <thead>\n",
       "    <tr style=\"text-align: right;\">\n",
       "      <th></th>\n",
       "      <th>date</th>\n",
       "      <th>myr_usd</th>\n",
       "      <th>myr_rmb</th>\n",
       "      <th>myr_sgd</th>\n",
       "      <th>myr_eur</th>\n",
       "      <th>myr_jpy</th>\n",
       "      <th>myr_twd</th>\n",
       "      <th>myr_thb</th>\n",
       "      <th>myr_idr</th>\n",
       "      <th>myr_hkd</th>\n",
       "      <th>...</th>\n",
       "      <th>myr_aed</th>\n",
       "      <th>myr_sar</th>\n",
       "      <th>myr_try</th>\n",
       "      <th>myr_gbp</th>\n",
       "      <th>myr_brl</th>\n",
       "      <th>myr_mxn</th>\n",
       "      <th>myr_bdt</th>\n",
       "      <th>myr_chf</th>\n",
       "      <th>myr_cad</th>\n",
       "      <th>myr_rub</th>\n",
       "    </tr>\n",
       "  </thead>\n",
       "  <tbody>\n",
       "    <tr>\n",
       "      <th>0</th>\n",
       "      <td>2003-12-01</td>\n",
       "      <td>0.263380</td>\n",
       "      <td>2.177413</td>\n",
       "      <td>0.453461</td>\n",
       "      <td>0.220125</td>\n",
       "      <td>28.753161</td>\n",
       "      <td>8.359132</td>\n",
       "      <td>10.506216</td>\n",
       "      <td>2238.306086</td>\n",
       "      <td>2.045143</td>\n",
       "      <td>...</td>\n",
       "      <td>0.966999</td>\n",
       "      <td>0.987621</td>\n",
       "      <td>0.353535</td>\n",
       "      <td>0.153253</td>\n",
       "      <td>0.769859</td>\n",
       "      <td>2.991467</td>\n",
       "      <td>14.910451</td>\n",
       "      <td>0.341893</td>\n",
       "      <td>0.343500</td>\n",
       "      <td>7.822377</td>\n",
       "    </tr>\n",
       "    <tr>\n",
       "      <th>1</th>\n",
       "      <td>2003-12-02</td>\n",
       "      <td>0.263359</td>\n",
       "      <td>2.177241</td>\n",
       "      <td>0.452977</td>\n",
       "      <td>0.217850</td>\n",
       "      <td>28.635010</td>\n",
       "      <td>8.359132</td>\n",
       "      <td>10.494587</td>\n",
       "      <td>2234.889529</td>\n",
       "      <td>2.043507</td>\n",
       "      <td>...</td>\n",
       "      <td>0.966922</td>\n",
       "      <td>0.987543</td>\n",
       "      <td>0.353535</td>\n",
       "      <td>0.152203</td>\n",
       "      <td>0.771905</td>\n",
       "      <td>2.973322</td>\n",
       "      <td>14.934028</td>\n",
       "      <td>0.338996</td>\n",
       "      <td>0.341471</td>\n",
       "      <td>7.819125</td>\n",
       "    </tr>\n",
       "    <tr>\n",
       "      <th>2</th>\n",
       "      <td>2003-12-03</td>\n",
       "      <td>0.263838</td>\n",
       "      <td>2.181178</td>\n",
       "      <td>0.452773</td>\n",
       "      <td>0.217635</td>\n",
       "      <td>28.573691</td>\n",
       "      <td>8.359132</td>\n",
       "      <td>10.502612</td>\n",
       "      <td>2234.156621</td>\n",
       "      <td>2.047491</td>\n",
       "      <td>...</td>\n",
       "      <td>0.968682</td>\n",
       "      <td>0.989341</td>\n",
       "      <td>0.353535</td>\n",
       "      <td>0.152675</td>\n",
       "      <td>0.773310</td>\n",
       "      <td>2.966862</td>\n",
       "      <td>14.980212</td>\n",
       "      <td>0.339085</td>\n",
       "      <td>0.343016</td>\n",
       "      <td>7.833360</td>\n",
       "    </tr>\n",
       "    <tr>\n",
       "      <th>3</th>\n",
       "      <td>2003-12-04</td>\n",
       "      <td>0.263248</td>\n",
       "      <td>2.176271</td>\n",
       "      <td>0.451075</td>\n",
       "      <td>0.217903</td>\n",
       "      <td>28.501853</td>\n",
       "      <td>8.359132</td>\n",
       "      <td>10.495695</td>\n",
       "      <td>2235.633105</td>\n",
       "      <td>2.044463</td>\n",
       "      <td>...</td>\n",
       "      <td>0.966515</td>\n",
       "      <td>0.987127</td>\n",
       "      <td>0.353535</td>\n",
       "      <td>0.152989</td>\n",
       "      <td>0.774739</td>\n",
       "      <td>2.945218</td>\n",
       "      <td>14.935109</td>\n",
       "      <td>0.339195</td>\n",
       "      <td>0.345223</td>\n",
       "      <td>7.813199</td>\n",
       "    </tr>\n",
       "    <tr>\n",
       "      <th>4</th>\n",
       "      <td>2003-12-05</td>\n",
       "      <td>0.263880</td>\n",
       "      <td>2.181470</td>\n",
       "      <td>0.452290</td>\n",
       "      <td>0.216527</td>\n",
       "      <td>28.398777</td>\n",
       "      <td>8.359132</td>\n",
       "      <td>10.505859</td>\n",
       "      <td>2234.826884</td>\n",
       "      <td>2.047630</td>\n",
       "      <td>...</td>\n",
       "      <td>0.968915</td>\n",
       "      <td>0.989498</td>\n",
       "      <td>0.353535</td>\n",
       "      <td>0.152259</td>\n",
       "      <td>0.774224</td>\n",
       "      <td>2.954665</td>\n",
       "      <td>14.977571</td>\n",
       "      <td>0.335761</td>\n",
       "      <td>0.343809</td>\n",
       "      <td>7.816129</td>\n",
       "    </tr>\n",
       "    <tr>\n",
       "      <th>...</th>\n",
       "      <td>...</td>\n",
       "      <td>...</td>\n",
       "      <td>...</td>\n",
       "      <td>...</td>\n",
       "      <td>...</td>\n",
       "      <td>...</td>\n",
       "      <td>...</td>\n",
       "      <td>...</td>\n",
       "      <td>...</td>\n",
       "      <td>...</td>\n",
       "      <td>...</td>\n",
       "      <td>...</td>\n",
       "      <td>...</td>\n",
       "      <td>...</td>\n",
       "      <td>...</td>\n",
       "      <td>...</td>\n",
       "      <td>...</td>\n",
       "      <td>...</td>\n",
       "      <td>...</td>\n",
       "      <td>...</td>\n",
       "      <td>...</td>\n",
       "    </tr>\n",
       "    <tr>\n",
       "      <th>7310</th>\n",
       "      <td>2023-12-06</td>\n",
       "      <td>0.214500</td>\n",
       "      <td>1.532733</td>\n",
       "      <td>0.287516</td>\n",
       "      <td>0.198728</td>\n",
       "      <td>31.571212</td>\n",
       "      <td>6.760189</td>\n",
       "      <td>7.558988</td>\n",
       "      <td>3315.529649</td>\n",
       "      <td>1.677199</td>\n",
       "      <td>...</td>\n",
       "      <td>0.787516</td>\n",
       "      <td>0.803490</td>\n",
       "      <td>6.202209</td>\n",
       "      <td>0.170313</td>\n",
       "      <td>1.056993</td>\n",
       "      <td>3.723359</td>\n",
       "      <td>23.237059</td>\n",
       "      <td>0.187674</td>\n",
       "      <td>0.291527</td>\n",
       "      <td>19.343092</td>\n",
       "    </tr>\n",
       "    <tr>\n",
       "      <th>7311</th>\n",
       "      <td>2023-12-07</td>\n",
       "      <td>0.214293</td>\n",
       "      <td>1.531040</td>\n",
       "      <td>0.287502</td>\n",
       "      <td>0.199034</td>\n",
       "      <td>31.540555</td>\n",
       "      <td>6.747905</td>\n",
       "      <td>7.542483</td>\n",
       "      <td>3317.261224</td>\n",
       "      <td>1.673796</td>\n",
       "      <td>...</td>\n",
       "      <td>0.786778</td>\n",
       "      <td>0.802419</td>\n",
       "      <td>6.196271</td>\n",
       "      <td>0.170633</td>\n",
       "      <td>1.050295</td>\n",
       "      <td>3.704588</td>\n",
       "      <td>23.226301</td>\n",
       "      <td>0.187430</td>\n",
       "      <td>0.291263</td>\n",
       "      <td>19.878923</td>\n",
       "    </tr>\n",
       "    <tr>\n",
       "      <th>7312</th>\n",
       "      <td>2023-12-08</td>\n",
       "      <td>0.214041</td>\n",
       "      <td>1.530137</td>\n",
       "      <td>0.286723</td>\n",
       "      <td>0.198330</td>\n",
       "      <td>30.881422</td>\n",
       "      <td>6.726670</td>\n",
       "      <td>7.514983</td>\n",
       "      <td>3317.637034</td>\n",
       "      <td>1.671982</td>\n",
       "      <td>...</td>\n",
       "      <td>0.785852</td>\n",
       "      <td>0.802070</td>\n",
       "      <td>6.188078</td>\n",
       "      <td>0.170015</td>\n",
       "      <td>1.050963</td>\n",
       "      <td>3.739737</td>\n",
       "      <td>23.204293</td>\n",
       "      <td>0.187380</td>\n",
       "      <td>0.291066</td>\n",
       "      <td>19.777398</td>\n",
       "    </tr>\n",
       "    <tr>\n",
       "      <th>7313</th>\n",
       "      <td>2023-12-09</td>\n",
       "      <td>0.214041</td>\n",
       "      <td>1.530137</td>\n",
       "      <td>0.286723</td>\n",
       "      <td>0.198330</td>\n",
       "      <td>30.881422</td>\n",
       "      <td>6.726670</td>\n",
       "      <td>7.514983</td>\n",
       "      <td>3317.637034</td>\n",
       "      <td>1.671982</td>\n",
       "      <td>...</td>\n",
       "      <td>0.785852</td>\n",
       "      <td>0.802070</td>\n",
       "      <td>6.188078</td>\n",
       "      <td>0.170015</td>\n",
       "      <td>1.050963</td>\n",
       "      <td>3.739737</td>\n",
       "      <td>23.204293</td>\n",
       "      <td>0.187380</td>\n",
       "      <td>0.291066</td>\n",
       "      <td>19.777398</td>\n",
       "    </tr>\n",
       "    <tr>\n",
       "      <th>7314</th>\n",
       "      <td>2023-12-10</td>\n",
       "      <td>0.214500</td>\n",
       "      <td>1.536679</td>\n",
       "      <td>0.287559</td>\n",
       "      <td>0.199249</td>\n",
       "      <td>31.061990</td>\n",
       "      <td>6.737881</td>\n",
       "      <td>7.603388</td>\n",
       "      <td>3323.680657</td>\n",
       "      <td>1.674775</td>\n",
       "      <td>...</td>\n",
       "      <td>0.787602</td>\n",
       "      <td>0.804075</td>\n",
       "      <td>6.200386</td>\n",
       "      <td>0.170937</td>\n",
       "      <td>1.056671</td>\n",
       "      <td>3.717224</td>\n",
       "      <td>23.539252</td>\n",
       "      <td>0.188782</td>\n",
       "      <td>0.291270</td>\n",
       "      <td>19.696695</td>\n",
       "    </tr>\n",
       "  </tbody>\n",
       "</table>\n",
       "<p>7315 rows × 25 columns</p>\n",
       "</div>"
      ],
      "text/plain": [
       "            date   myr_usd   myr_rmb   myr_sgd   myr_eur    myr_jpy   myr_twd  \\\n",
       "0     2003-12-01  0.263380  2.177413  0.453461  0.220125  28.753161  8.359132   \n",
       "1     2003-12-02  0.263359  2.177241  0.452977  0.217850  28.635010  8.359132   \n",
       "2     2003-12-03  0.263838  2.181178  0.452773  0.217635  28.573691  8.359132   \n",
       "3     2003-12-04  0.263248  2.176271  0.451075  0.217903  28.501853  8.359132   \n",
       "4     2003-12-05  0.263880  2.181470  0.452290  0.216527  28.398777  8.359132   \n",
       "...          ...       ...       ...       ...       ...        ...       ...   \n",
       "7310  2023-12-06  0.214500  1.532733  0.287516  0.198728  31.571212  6.760189   \n",
       "7311  2023-12-07  0.214293  1.531040  0.287502  0.199034  31.540555  6.747905   \n",
       "7312  2023-12-08  0.214041  1.530137  0.286723  0.198330  30.881422  6.726670   \n",
       "7313  2023-12-09  0.214041  1.530137  0.286723  0.198330  30.881422  6.726670   \n",
       "7314  2023-12-10  0.214500  1.536679  0.287559  0.199249  31.061990  6.737881   \n",
       "\n",
       "        myr_thb      myr_idr   myr_hkd  ...   myr_aed   myr_sar   myr_try  \\\n",
       "0     10.506216  2238.306086  2.045143  ...  0.966999  0.987621  0.353535   \n",
       "1     10.494587  2234.889529  2.043507  ...  0.966922  0.987543  0.353535   \n",
       "2     10.502612  2234.156621  2.047491  ...  0.968682  0.989341  0.353535   \n",
       "3     10.495695  2235.633105  2.044463  ...  0.966515  0.987127  0.353535   \n",
       "4     10.505859  2234.826884  2.047630  ...  0.968915  0.989498  0.353535   \n",
       "...         ...          ...       ...  ...       ...       ...       ...   \n",
       "7310   7.558988  3315.529649  1.677199  ...  0.787516  0.803490  6.202209   \n",
       "7311   7.542483  3317.261224  1.673796  ...  0.786778  0.802419  6.196271   \n",
       "7312   7.514983  3317.637034  1.671982  ...  0.785852  0.802070  6.188078   \n",
       "7313   7.514983  3317.637034  1.671982  ...  0.785852  0.802070  6.188078   \n",
       "7314   7.603388  3323.680657  1.674775  ...  0.787602  0.804075  6.200386   \n",
       "\n",
       "       myr_gbp   myr_brl   myr_mxn    myr_bdt   myr_chf   myr_cad    myr_rub  \n",
       "0     0.153253  0.769859  2.991467  14.910451  0.341893  0.343500   7.822377  \n",
       "1     0.152203  0.771905  2.973322  14.934028  0.338996  0.341471   7.819125  \n",
       "2     0.152675  0.773310  2.966862  14.980212  0.339085  0.343016   7.833360  \n",
       "3     0.152989  0.774739  2.945218  14.935109  0.339195  0.345223   7.813199  \n",
       "4     0.152259  0.774224  2.954665  14.977571  0.335761  0.343809   7.816129  \n",
       "...        ...       ...       ...        ...       ...       ...        ...  \n",
       "7310  0.170313  1.056993  3.723359  23.237059  0.187674  0.291527  19.343092  \n",
       "7311  0.170633  1.050295  3.704588  23.226301  0.187430  0.291263  19.878923  \n",
       "7312  0.170015  1.050963  3.739737  23.204293  0.187380  0.291066  19.777398  \n",
       "7313  0.170015  1.050963  3.739737  23.204293  0.187380  0.291066  19.777398  \n",
       "7314  0.170937  1.056671  3.717224  23.539252  0.188782  0.291270  19.696695  \n",
       "\n",
       "[7315 rows x 25 columns]"
      ]
     },
     "execution_count": 5,
     "metadata": {},
     "output_type": "execute_result"
    }
   ],
   "source": [
    "df_rates"
   ]
  },
  {
   "cell_type": "code",
   "execution_count": 6,
   "metadata": {},
   "outputs": [
    {
     "data": {
      "text/html": [
       "<div>\n",
       "<style scoped>\n",
       "    .dataframe tbody tr th:only-of-type {\n",
       "        vertical-align: middle;\n",
       "    }\n",
       "\n",
       "    .dataframe tbody tr th {\n",
       "        vertical-align: top;\n",
       "    }\n",
       "\n",
       "    .dataframe thead th {\n",
       "        text-align: right;\n",
       "    }\n",
       "</style>\n",
       "<table border=\"1\" class=\"dataframe\">\n",
       "  <thead>\n",
       "    <tr style=\"text-align: right;\">\n",
       "      <th></th>\n",
       "      <th>date</th>\n",
       "      <th>myr_usd</th>\n",
       "      <th>myr_rmb</th>\n",
       "      <th>myr_sgd</th>\n",
       "      <th>myr_eur</th>\n",
       "      <th>myr_jpy</th>\n",
       "      <th>myr_twd</th>\n",
       "      <th>myr_thb</th>\n",
       "      <th>myr_idr</th>\n",
       "      <th>myr_hkd</th>\n",
       "      <th>...</th>\n",
       "      <th>myr_aed</th>\n",
       "      <th>myr_sar</th>\n",
       "      <th>myr_try</th>\n",
       "      <th>myr_gbp</th>\n",
       "      <th>myr_brl</th>\n",
       "      <th>myr_mxn</th>\n",
       "      <th>myr_bdt</th>\n",
       "      <th>myr_chf</th>\n",
       "      <th>myr_cad</th>\n",
       "      <th>myr_rub</th>\n",
       "    </tr>\n",
       "  </thead>\n",
       "  <tbody>\n",
       "    <tr>\n",
       "      <th>0</th>\n",
       "      <td>2023-12-10</td>\n",
       "      <td>0.214500</td>\n",
       "      <td>1.536679</td>\n",
       "      <td>0.287559</td>\n",
       "      <td>0.199249</td>\n",
       "      <td>31.061990</td>\n",
       "      <td>6.737881</td>\n",
       "      <td>7.603388</td>\n",
       "      <td>3323.680657</td>\n",
       "      <td>1.674775</td>\n",
       "      <td>...</td>\n",
       "      <td>0.787602</td>\n",
       "      <td>0.804075</td>\n",
       "      <td>6.200386</td>\n",
       "      <td>0.170937</td>\n",
       "      <td>1.056671</td>\n",
       "      <td>3.717224</td>\n",
       "      <td>23.539252</td>\n",
       "      <td>0.188782</td>\n",
       "      <td>0.291270</td>\n",
       "      <td>19.696695</td>\n",
       "    </tr>\n",
       "    <tr>\n",
       "      <th>1</th>\n",
       "      <td>2023-12-09</td>\n",
       "      <td>0.214041</td>\n",
       "      <td>1.530137</td>\n",
       "      <td>0.286723</td>\n",
       "      <td>0.198330</td>\n",
       "      <td>30.881422</td>\n",
       "      <td>6.726670</td>\n",
       "      <td>7.514983</td>\n",
       "      <td>3317.637034</td>\n",
       "      <td>1.671982</td>\n",
       "      <td>...</td>\n",
       "      <td>0.785852</td>\n",
       "      <td>0.802070</td>\n",
       "      <td>6.188078</td>\n",
       "      <td>0.170015</td>\n",
       "      <td>1.050963</td>\n",
       "      <td>3.739737</td>\n",
       "      <td>23.204293</td>\n",
       "      <td>0.187380</td>\n",
       "      <td>0.291066</td>\n",
       "      <td>19.777398</td>\n",
       "    </tr>\n",
       "    <tr>\n",
       "      <th>2</th>\n",
       "      <td>2023-12-08</td>\n",
       "      <td>0.214041</td>\n",
       "      <td>1.530137</td>\n",
       "      <td>0.286723</td>\n",
       "      <td>0.198330</td>\n",
       "      <td>30.881422</td>\n",
       "      <td>6.726670</td>\n",
       "      <td>7.514983</td>\n",
       "      <td>3317.637034</td>\n",
       "      <td>1.671982</td>\n",
       "      <td>...</td>\n",
       "      <td>0.785852</td>\n",
       "      <td>0.802070</td>\n",
       "      <td>6.188078</td>\n",
       "      <td>0.170015</td>\n",
       "      <td>1.050963</td>\n",
       "      <td>3.739737</td>\n",
       "      <td>23.204293</td>\n",
       "      <td>0.187380</td>\n",
       "      <td>0.291066</td>\n",
       "      <td>19.777398</td>\n",
       "    </tr>\n",
       "    <tr>\n",
       "      <th>3</th>\n",
       "      <td>2023-12-07</td>\n",
       "      <td>0.214293</td>\n",
       "      <td>1.531040</td>\n",
       "      <td>0.287502</td>\n",
       "      <td>0.199034</td>\n",
       "      <td>31.540555</td>\n",
       "      <td>6.747905</td>\n",
       "      <td>7.542483</td>\n",
       "      <td>3317.261224</td>\n",
       "      <td>1.673796</td>\n",
       "      <td>...</td>\n",
       "      <td>0.786778</td>\n",
       "      <td>0.802419</td>\n",
       "      <td>6.196271</td>\n",
       "      <td>0.170633</td>\n",
       "      <td>1.050295</td>\n",
       "      <td>3.704588</td>\n",
       "      <td>23.226301</td>\n",
       "      <td>0.187430</td>\n",
       "      <td>0.291263</td>\n",
       "      <td>19.878923</td>\n",
       "    </tr>\n",
       "    <tr>\n",
       "      <th>4</th>\n",
       "      <td>2023-12-06</td>\n",
       "      <td>0.214500</td>\n",
       "      <td>1.532733</td>\n",
       "      <td>0.287516</td>\n",
       "      <td>0.198728</td>\n",
       "      <td>31.571212</td>\n",
       "      <td>6.760189</td>\n",
       "      <td>7.558988</td>\n",
       "      <td>3315.529649</td>\n",
       "      <td>1.677199</td>\n",
       "      <td>...</td>\n",
       "      <td>0.787516</td>\n",
       "      <td>0.803490</td>\n",
       "      <td>6.202209</td>\n",
       "      <td>0.170313</td>\n",
       "      <td>1.056993</td>\n",
       "      <td>3.723359</td>\n",
       "      <td>23.237059</td>\n",
       "      <td>0.187674</td>\n",
       "      <td>0.291527</td>\n",
       "      <td>19.343092</td>\n",
       "    </tr>\n",
       "    <tr>\n",
       "      <th>...</th>\n",
       "      <td>...</td>\n",
       "      <td>...</td>\n",
       "      <td>...</td>\n",
       "      <td>...</td>\n",
       "      <td>...</td>\n",
       "      <td>...</td>\n",
       "      <td>...</td>\n",
       "      <td>...</td>\n",
       "      <td>...</td>\n",
       "      <td>...</td>\n",
       "      <td>...</td>\n",
       "      <td>...</td>\n",
       "      <td>...</td>\n",
       "      <td>...</td>\n",
       "      <td>...</td>\n",
       "      <td>...</td>\n",
       "      <td>...</td>\n",
       "      <td>...</td>\n",
       "      <td>...</td>\n",
       "      <td>...</td>\n",
       "      <td>...</td>\n",
       "    </tr>\n",
       "    <tr>\n",
       "      <th>4428</th>\n",
       "      <td>2011-10-26</td>\n",
       "      <td>0.321089</td>\n",
       "      <td>2.044054</td>\n",
       "      <td>0.405760</td>\n",
       "      <td>0.230924</td>\n",
       "      <td>24.437774</td>\n",
       "      <td>9.667994</td>\n",
       "      <td>9.879913</td>\n",
       "      <td>2841.622973</td>\n",
       "      <td>2.496276</td>\n",
       "      <td>...</td>\n",
       "      <td>1.179296</td>\n",
       "      <td>1.204052</td>\n",
       "      <td>0.570190</td>\n",
       "      <td>0.200700</td>\n",
       "      <td>0.565599</td>\n",
       "      <td>4.298420</td>\n",
       "      <td>23.985038</td>\n",
       "      <td>0.282045</td>\n",
       "      <td>0.326387</td>\n",
       "      <td>9.782045</td>\n",
       "    </tr>\n",
       "    <tr>\n",
       "      <th>4429</th>\n",
       "      <td>2011-10-25</td>\n",
       "      <td>0.319765</td>\n",
       "      <td>2.039459</td>\n",
       "      <td>0.404023</td>\n",
       "      <td>0.229677</td>\n",
       "      <td>24.344323</td>\n",
       "      <td>0.576056</td>\n",
       "      <td>9.851309</td>\n",
       "      <td>2826.703526</td>\n",
       "      <td>2.486618</td>\n",
       "      <td>...</td>\n",
       "      <td>1.174432</td>\n",
       "      <td>1.199085</td>\n",
       "      <td>0.574713</td>\n",
       "      <td>0.199894</td>\n",
       "      <td>0.559364</td>\n",
       "      <td>4.320020</td>\n",
       "      <td>23.852205</td>\n",
       "      <td>0.281553</td>\n",
       "      <td>0.320820</td>\n",
       "      <td>9.751223</td>\n",
       "    </tr>\n",
       "    <tr>\n",
       "      <th>4430</th>\n",
       "      <td>2011-10-24</td>\n",
       "      <td>0.319193</td>\n",
       "      <td>2.034377</td>\n",
       "      <td>0.406556</td>\n",
       "      <td>0.230502</td>\n",
       "      <td>24.325703</td>\n",
       "      <td>9.337674</td>\n",
       "      <td>9.890835</td>\n",
       "      <td>2828.034660</td>\n",
       "      <td>2.483194</td>\n",
       "      <td>...</td>\n",
       "      <td>1.172364</td>\n",
       "      <td>1.196942</td>\n",
       "      <td>0.586390</td>\n",
       "      <td>0.200207</td>\n",
       "      <td>0.564206</td>\n",
       "      <td>4.264100</td>\n",
       "      <td>23.574324</td>\n",
       "      <td>0.282071</td>\n",
       "      <td>0.322162</td>\n",
       "      <td>9.904561</td>\n",
       "    </tr>\n",
       "    <tr>\n",
       "      <th>4431</th>\n",
       "      <td>2011-10-23</td>\n",
       "      <td>0.318461</td>\n",
       "      <td>2.029458</td>\n",
       "      <td>0.405226</td>\n",
       "      <td>0.231120</td>\n",
       "      <td>24.476929</td>\n",
       "      <td>9.582498</td>\n",
       "      <td>9.776122</td>\n",
       "      <td>2810.404313</td>\n",
       "      <td>2.477214</td>\n",
       "      <td>...</td>\n",
       "      <td>1.169676</td>\n",
       "      <td>1.194166</td>\n",
       "      <td>0.591414</td>\n",
       "      <td>0.201608</td>\n",
       "      <td>0.569090</td>\n",
       "      <td>4.352728</td>\n",
       "      <td>23.798607</td>\n",
       "      <td>0.284641</td>\n",
       "      <td>0.323620</td>\n",
       "      <td>10.003631</td>\n",
       "    </tr>\n",
       "    <tr>\n",
       "      <th>4432</th>\n",
       "      <td>2011-10-22</td>\n",
       "      <td>0.318461</td>\n",
       "      <td>2.029458</td>\n",
       "      <td>0.405226</td>\n",
       "      <td>0.231120</td>\n",
       "      <td>24.476929</td>\n",
       "      <td>9.582498</td>\n",
       "      <td>9.776122</td>\n",
       "      <td>2810.404313</td>\n",
       "      <td>2.477214</td>\n",
       "      <td>...</td>\n",
       "      <td>1.169676</td>\n",
       "      <td>1.194166</td>\n",
       "      <td>0.591414</td>\n",
       "      <td>0.201608</td>\n",
       "      <td>0.569090</td>\n",
       "      <td>4.352728</td>\n",
       "      <td>23.798607</td>\n",
       "      <td>0.284641</td>\n",
       "      <td>0.323620</td>\n",
       "      <td>10.003631</td>\n",
       "    </tr>\n",
       "  </tbody>\n",
       "</table>\n",
       "<p>4433 rows × 25 columns</p>\n",
       "</div>"
      ],
      "text/plain": [
       "            date   myr_usd   myr_rmb   myr_sgd   myr_eur    myr_jpy   myr_twd  \\\n",
       "0     2023-12-10  0.214500  1.536679  0.287559  0.199249  31.061990  6.737881   \n",
       "1     2023-12-09  0.214041  1.530137  0.286723  0.198330  30.881422  6.726670   \n",
       "2     2023-12-08  0.214041  1.530137  0.286723  0.198330  30.881422  6.726670   \n",
       "3     2023-12-07  0.214293  1.531040  0.287502  0.199034  31.540555  6.747905   \n",
       "4     2023-12-06  0.214500  1.532733  0.287516  0.198728  31.571212  6.760189   \n",
       "...          ...       ...       ...       ...       ...        ...       ...   \n",
       "4428  2011-10-26  0.321089  2.044054  0.405760  0.230924  24.437774  9.667994   \n",
       "4429  2011-10-25  0.319765  2.039459  0.404023  0.229677  24.344323  0.576056   \n",
       "4430  2011-10-24  0.319193  2.034377  0.406556  0.230502  24.325703  9.337674   \n",
       "4431  2011-10-23  0.318461  2.029458  0.405226  0.231120  24.476929  9.582498   \n",
       "4432  2011-10-22  0.318461  2.029458  0.405226  0.231120  24.476929  9.582498   \n",
       "\n",
       "       myr_thb      myr_idr   myr_hkd  ...   myr_aed   myr_sar   myr_try  \\\n",
       "0     7.603388  3323.680657  1.674775  ...  0.787602  0.804075  6.200386   \n",
       "1     7.514983  3317.637034  1.671982  ...  0.785852  0.802070  6.188078   \n",
       "2     7.514983  3317.637034  1.671982  ...  0.785852  0.802070  6.188078   \n",
       "3     7.542483  3317.261224  1.673796  ...  0.786778  0.802419  6.196271   \n",
       "4     7.558988  3315.529649  1.677199  ...  0.787516  0.803490  6.202209   \n",
       "...        ...          ...       ...  ...       ...       ...       ...   \n",
       "4428  9.879913  2841.622973  2.496276  ...  1.179296  1.204052  0.570190   \n",
       "4429  9.851309  2826.703526  2.486618  ...  1.174432  1.199085  0.574713   \n",
       "4430  9.890835  2828.034660  2.483194  ...  1.172364  1.196942  0.586390   \n",
       "4431  9.776122  2810.404313  2.477214  ...  1.169676  1.194166  0.591414   \n",
       "4432  9.776122  2810.404313  2.477214  ...  1.169676  1.194166  0.591414   \n",
       "\n",
       "       myr_gbp   myr_brl   myr_mxn    myr_bdt   myr_chf   myr_cad    myr_rub  \n",
       "0     0.170937  1.056671  3.717224  23.539252  0.188782  0.291270  19.696695  \n",
       "1     0.170015  1.050963  3.739737  23.204293  0.187380  0.291066  19.777398  \n",
       "2     0.170015  1.050963  3.739737  23.204293  0.187380  0.291066  19.777398  \n",
       "3     0.170633  1.050295  3.704588  23.226301  0.187430  0.291263  19.878923  \n",
       "4     0.170313  1.056993  3.723359  23.237059  0.187674  0.291527  19.343092  \n",
       "...        ...       ...       ...        ...       ...       ...        ...  \n",
       "4428  0.200700  0.565599  4.298420  23.985038  0.282045  0.326387   9.782045  \n",
       "4429  0.199894  0.559364  4.320020  23.852205  0.281553  0.320820   9.751223  \n",
       "4430  0.200207  0.564206  4.264100  23.574324  0.282071  0.322162   9.904561  \n",
       "4431  0.201608  0.569090  4.352728  23.798607  0.284641  0.323620  10.003631  \n",
       "4432  0.201608  0.569090  4.352728  23.798607  0.284641  0.323620  10.003631  \n",
       "\n",
       "[4433 rows x 25 columns]"
      ]
     },
     "execution_count": 6,
     "metadata": {},
     "output_type": "execute_result"
    }
   ],
   "source": [
    "df_rates = df_rates[df_rates['date'] > '2011-10-21']\n",
    "df_rates.sort_values(by='date',ascending=False).reset_index(drop=True)"
   ]
  },
  {
   "cell_type": "code",
   "execution_count": 7,
   "metadata": {},
   "outputs": [],
   "source": [
    "df_news = df_news.rename(columns={'publisheddate':'date'})"
   ]
  },
  {
   "cell_type": "code",
   "execution_count": 8,
   "metadata": {},
   "outputs": [
    {
     "name": "stderr",
     "output_type": "stream",
     "text": [
      "C:\\Users\\Marcus Ong\\AppData\\Local\\Temp\\ipykernel_25784\\1671083262.py:2: SettingWithCopyWarning: \n",
      "A value is trying to be set on a copy of a slice from a DataFrame.\n",
      "Try using .loc[row_indexer,col_indexer] = value instead\n",
      "\n",
      "See the caveats in the documentation: https://pandas.pydata.org/pandas-docs/stable/user_guide/indexing.html#returning-a-view-versus-a-copy\n",
      "  df_rates['date'] = pd.to_datetime(df_rates['date'])\n"
     ]
    }
   ],
   "source": [
    "df_news['date'] = pd.to_datetime(df_news['date'])\n",
    "df_rates['date'] = pd.to_datetime(df_rates['date'])\n"
   ]
  },
  {
   "cell_type": "code",
   "execution_count": 9,
   "metadata": {},
   "outputs": [],
   "source": [
    "df_merged = pd.merge(df_news,df_rates,on='date',how='inner')"
   ]
  },
  {
   "cell_type": "code",
   "execution_count": 10,
   "metadata": {},
   "outputs": [],
   "source": [
    "df_merged = df_merged.sort_values(by='date').reset_index(drop=True)"
   ]
  },
  {
   "cell_type": "code",
   "execution_count": 11,
   "metadata": {},
   "outputs": [
    {
     "data": {
      "text/html": [
       "<div>\n",
       "<style scoped>\n",
       "    .dataframe tbody tr th:only-of-type {\n",
       "        vertical-align: middle;\n",
       "    }\n",
       "\n",
       "    .dataframe tbody tr th {\n",
       "        vertical-align: top;\n",
       "    }\n",
       "\n",
       "    .dataframe thead th {\n",
       "        text-align: right;\n",
       "    }\n",
       "</style>\n",
       "<table border=\"1\" class=\"dataframe\">\n",
       "  <thead>\n",
       "    <tr style=\"text-align: right;\">\n",
       "      <th></th>\n",
       "      <th>title</th>\n",
       "      <th>description</th>\n",
       "      <th>date</th>\n",
       "      <th>section</th>\n",
       "      <th>site</th>\n",
       "      <th>myr_usd</th>\n",
       "      <th>myr_rmb</th>\n",
       "      <th>myr_sgd</th>\n",
       "      <th>myr_eur</th>\n",
       "      <th>myr_jpy</th>\n",
       "      <th>...</th>\n",
       "      <th>myr_aed</th>\n",
       "      <th>myr_sar</th>\n",
       "      <th>myr_try</th>\n",
       "      <th>myr_gbp</th>\n",
       "      <th>myr_brl</th>\n",
       "      <th>myr_mxn</th>\n",
       "      <th>myr_bdt</th>\n",
       "      <th>myr_chf</th>\n",
       "      <th>myr_cad</th>\n",
       "      <th>myr_rub</th>\n",
       "    </tr>\n",
       "  </thead>\n",
       "  <tbody>\n",
       "    <tr>\n",
       "      <th>0</th>\n",
       "      <td>Anwar Ibrahim: The man who fulfilled his goal ...</td>\n",
       "      <td>After a decades-long quest to become premier, ...</td>\n",
       "      <td>2012-01-06</td>\n",
       "      <td>News</td>\n",
       "      <td>Asia</td>\n",
       "      <td>0.317854</td>\n",
       "      <td>2.005181</td>\n",
       "      <td>0.410476</td>\n",
       "      <td>0.248400</td>\n",
       "      <td>24.522742</td>\n",
       "      <td>...</td>\n",
       "      <td>1.167445</td>\n",
       "      <td>1.191952</td>\n",
       "      <td>0.597343</td>\n",
       "      <td>0.205044</td>\n",
       "      <td>0.585805</td>\n",
       "      <td>4.361272</td>\n",
       "      <td>25.481071</td>\n",
       "      <td>0.302629</td>\n",
       "      <td>0.324084</td>\n",
       "      <td>10.172150</td>\n",
       "    </tr>\n",
       "    <tr>\n",
       "      <th>1</th>\n",
       "      <td>Najib Razak: Malaysia's former PM and his down...</td>\n",
       "      <td>The former PM promised to boost Malaysia's eco...</td>\n",
       "      <td>2013-05-01</td>\n",
       "      <td>News</td>\n",
       "      <td>Asia</td>\n",
       "      <td>0.329034</td>\n",
       "      <td>2.028560</td>\n",
       "      <td>0.405136</td>\n",
       "      <td>0.249868</td>\n",
       "      <td>32.004801</td>\n",
       "      <td>...</td>\n",
       "      <td>1.208213</td>\n",
       "      <td>1.232693</td>\n",
       "      <td>0.589336</td>\n",
       "      <td>0.211766</td>\n",
       "      <td>0.658561</td>\n",
       "      <td>4.011286</td>\n",
       "      <td>25.020399</td>\n",
       "      <td>0.305784</td>\n",
       "      <td>0.331242</td>\n",
       "      <td>10.199986</td>\n",
       "    </tr>\n",
       "    <tr>\n",
       "      <th>2</th>\n",
       "      <td>Malaysia Airlines plane turns back after cockp...</td>\n",
       "      <td>The Malaysia Airlines jet returned to Melbourn...</td>\n",
       "      <td>2017-05-31</td>\n",
       "      <td>News</td>\n",
       "      <td>Australia</td>\n",
       "      <td>0.233193</td>\n",
       "      <td>1.598722</td>\n",
       "      <td>0.323112</td>\n",
       "      <td>0.208735</td>\n",
       "      <td>25.846838</td>\n",
       "      <td>...</td>\n",
       "      <td>0.856260</td>\n",
       "      <td>0.873470</td>\n",
       "      <td>0.828417</td>\n",
       "      <td>0.182053</td>\n",
       "      <td>0.759322</td>\n",
       "      <td>4.345626</td>\n",
       "      <td>18.407994</td>\n",
       "      <td>0.227559</td>\n",
       "      <td>0.314115</td>\n",
       "      <td>13.182566</td>\n",
       "    </tr>\n",
       "    <tr>\n",
       "      <th>3</th>\n",
       "      <td>Malaysia Airlines plane threat foiled by 'hero...</td>\n",
       "      <td>A witness tells how passengers tackled a man w...</td>\n",
       "      <td>2017-06-01</td>\n",
       "      <td>News</td>\n",
       "      <td>Australia</td>\n",
       "      <td>0.233345</td>\n",
       "      <td>1.589360</td>\n",
       "      <td>0.322858</td>\n",
       "      <td>0.207537</td>\n",
       "      <td>25.853692</td>\n",
       "      <td>...</td>\n",
       "      <td>0.856820</td>\n",
       "      <td>0.874997</td>\n",
       "      <td>0.823288</td>\n",
       "      <td>0.181232</td>\n",
       "      <td>0.752561</td>\n",
       "      <td>4.350752</td>\n",
       "      <td>18.429822</td>\n",
       "      <td>0.225876</td>\n",
       "      <td>0.314792</td>\n",
       "      <td>13.233088</td>\n",
       "    </tr>\n",
       "    <tr>\n",
       "      <th>4</th>\n",
       "      <td>Malaysia airline cockpit scare</td>\n",
       "      <td>The moment armed police carried a man off a fl...</td>\n",
       "      <td>2017-06-01</td>\n",
       "      <td>News</td>\n",
       "      <td>World</td>\n",
       "      <td>0.233345</td>\n",
       "      <td>1.589360</td>\n",
       "      <td>0.322858</td>\n",
       "      <td>0.207537</td>\n",
       "      <td>25.853692</td>\n",
       "      <td>...</td>\n",
       "      <td>0.856820</td>\n",
       "      <td>0.874997</td>\n",
       "      <td>0.823288</td>\n",
       "      <td>0.181232</td>\n",
       "      <td>0.752561</td>\n",
       "      <td>4.350752</td>\n",
       "      <td>18.429822</td>\n",
       "      <td>0.225876</td>\n",
       "      <td>0.314792</td>\n",
       "      <td>13.233088</td>\n",
       "    </tr>\n",
       "    <tr>\n",
       "      <th>...</th>\n",
       "      <td>...</td>\n",
       "      <td>...</td>\n",
       "      <td>...</td>\n",
       "      <td>...</td>\n",
       "      <td>...</td>\n",
       "      <td>...</td>\n",
       "      <td>...</td>\n",
       "      <td>...</td>\n",
       "      <td>...</td>\n",
       "      <td>...</td>\n",
       "      <td>...</td>\n",
       "      <td>...</td>\n",
       "      <td>...</td>\n",
       "      <td>...</td>\n",
       "      <td>...</td>\n",
       "      <td>...</td>\n",
       "      <td>...</td>\n",
       "      <td>...</td>\n",
       "      <td>...</td>\n",
       "      <td>...</td>\n",
       "      <td>...</td>\n",
       "    </tr>\n",
       "    <tr>\n",
       "      <th>231</th>\n",
       "      <td>Private jet crashes onto Malaysia highway, kil...</td>\n",
       "      <td>Investigators are searching for the aircraft's...</td>\n",
       "      <td>2023-08-17</td>\n",
       "      <td>News</td>\n",
       "      <td>Asia</td>\n",
       "      <td>0.215054</td>\n",
       "      <td>1.565677</td>\n",
       "      <td>0.292019</td>\n",
       "      <td>0.197757</td>\n",
       "      <td>31.336343</td>\n",
       "      <td>...</td>\n",
       "      <td>0.789871</td>\n",
       "      <td>0.805633</td>\n",
       "      <td>5.833333</td>\n",
       "      <td>0.168667</td>\n",
       "      <td>1.070000</td>\n",
       "      <td>3.676963</td>\n",
       "      <td>23.187397</td>\n",
       "      <td>0.188869</td>\n",
       "      <td>0.291295</td>\n",
       "      <td>20.315052</td>\n",
       "    </tr>\n",
       "    <tr>\n",
       "      <th>232</th>\n",
       "      <td>Matty Healy defends Malaysia kiss during 1975 ...</td>\n",
       "      <td>The 1975 frontman read a prepared speech from ...</td>\n",
       "      <td>2023-10-10</td>\n",
       "      <td>News</td>\n",
       "      <td>Entertainment &amp; Arts</td>\n",
       "      <td>0.211685</td>\n",
       "      <td>1.544242</td>\n",
       "      <td>0.288474</td>\n",
       "      <td>0.199613</td>\n",
       "      <td>31.462322</td>\n",
       "      <td>...</td>\n",
       "      <td>0.777329</td>\n",
       "      <td>0.792933</td>\n",
       "      <td>5.869496</td>\n",
       "      <td>0.172223</td>\n",
       "      <td>1.069221</td>\n",
       "      <td>3.796366</td>\n",
       "      <td>22.991006</td>\n",
       "      <td>0.191480</td>\n",
       "      <td>0.287544</td>\n",
       "      <td>21.224556</td>\n",
       "    </tr>\n",
       "    <tr>\n",
       "      <th>233</th>\n",
       "      <td>Israel-Gaza: Malaysia will maintain ties with ...</td>\n",
       "      <td>Analysts say Mr Anwar's stand is politically e...</td>\n",
       "      <td>2023-11-08</td>\n",
       "      <td>News</td>\n",
       "      <td>Asia</td>\n",
       "      <td>0.215843</td>\n",
       "      <td>1.570926</td>\n",
       "      <td>0.292348</td>\n",
       "      <td>0.201796</td>\n",
       "      <td>32.461904</td>\n",
       "      <td>...</td>\n",
       "      <td>0.792769</td>\n",
       "      <td>0.808566</td>\n",
       "      <td>6.150486</td>\n",
       "      <td>0.175599</td>\n",
       "      <td>1.051479</td>\n",
       "      <td>3.770818</td>\n",
       "      <td>23.413985</td>\n",
       "      <td>0.194252</td>\n",
       "      <td>0.297183</td>\n",
       "      <td>19.871575</td>\n",
       "    </tr>\n",
       "    <tr>\n",
       "      <th>234</th>\n",
       "      <td>Malaysian killer released from Australian immi...</td>\n",
       "      <td>An ex-policeman convicted in a politically cha...</td>\n",
       "      <td>2023-11-13</td>\n",
       "      <td>News</td>\n",
       "      <td>Australia</td>\n",
       "      <td>0.213220</td>\n",
       "      <td>1.531301</td>\n",
       "      <td>0.289974</td>\n",
       "      <td>0.199454</td>\n",
       "      <td>32.296160</td>\n",
       "      <td>...</td>\n",
       "      <td>0.783062</td>\n",
       "      <td>0.799680</td>\n",
       "      <td>6.079672</td>\n",
       "      <td>0.174367</td>\n",
       "      <td>1.043364</td>\n",
       "      <td>3.764691</td>\n",
       "      <td>23.064053</td>\n",
       "      <td>0.192320</td>\n",
       "      <td>0.294220</td>\n",
       "      <td>19.652451</td>\n",
       "    </tr>\n",
       "    <tr>\n",
       "      <th>235</th>\n",
       "      <td>Forest City: Inside Malaysia's Chinese-built '...</td>\n",
       "      <td>Built during the Chinese property boom, Forest...</td>\n",
       "      <td>2023-12-05</td>\n",
       "      <td>News</td>\n",
       "      <td>Business</td>\n",
       "      <td>0.214133</td>\n",
       "      <td>1.527880</td>\n",
       "      <td>0.286433</td>\n",
       "      <td>0.197580</td>\n",
       "      <td>31.547536</td>\n",
       "      <td>...</td>\n",
       "      <td>0.786167</td>\n",
       "      <td>0.802270</td>\n",
       "      <td>6.192248</td>\n",
       "      <td>0.169488</td>\n",
       "      <td>1.058480</td>\n",
       "      <td>3.737494</td>\n",
       "      <td>23.212565</td>\n",
       "      <td>0.186833</td>\n",
       "      <td>0.289914</td>\n",
       "      <td>19.585652</td>\n",
       "    </tr>\n",
       "  </tbody>\n",
       "</table>\n",
       "<p>236 rows × 29 columns</p>\n",
       "</div>"
      ],
      "text/plain": [
       "                                                 title  \\\n",
       "0    Anwar Ibrahim: The man who fulfilled his goal ...   \n",
       "1    Najib Razak: Malaysia's former PM and his down...   \n",
       "2    Malaysia Airlines plane turns back after cockp...   \n",
       "3    Malaysia Airlines plane threat foiled by 'hero...   \n",
       "4                       Malaysia airline cockpit scare   \n",
       "..                                                 ...   \n",
       "231  Private jet crashes onto Malaysia highway, kil...   \n",
       "232  Matty Healy defends Malaysia kiss during 1975 ...   \n",
       "233  Israel-Gaza: Malaysia will maintain ties with ...   \n",
       "234  Malaysian killer released from Australian immi...   \n",
       "235  Forest City: Inside Malaysia's Chinese-built '...   \n",
       "\n",
       "                                           description       date section  \\\n",
       "0    After a decades-long quest to become premier, ... 2012-01-06    News   \n",
       "1    The former PM promised to boost Malaysia's eco... 2013-05-01    News   \n",
       "2    The Malaysia Airlines jet returned to Melbourn... 2017-05-31    News   \n",
       "3    A witness tells how passengers tackled a man w... 2017-06-01    News   \n",
       "4    The moment armed police carried a man off a fl... 2017-06-01    News   \n",
       "..                                                 ...        ...     ...   \n",
       "231  Investigators are searching for the aircraft's... 2023-08-17    News   \n",
       "232  The 1975 frontman read a prepared speech from ... 2023-10-10    News   \n",
       "233  Analysts say Mr Anwar's stand is politically e... 2023-11-08    News   \n",
       "234  An ex-policeman convicted in a politically cha... 2023-11-13    News   \n",
       "235  Built during the Chinese property boom, Forest... 2023-12-05    News   \n",
       "\n",
       "                     site   myr_usd   myr_rmb   myr_sgd   myr_eur    myr_jpy  \\\n",
       "0                    Asia  0.317854  2.005181  0.410476  0.248400  24.522742   \n",
       "1                    Asia  0.329034  2.028560  0.405136  0.249868  32.004801   \n",
       "2               Australia  0.233193  1.598722  0.323112  0.208735  25.846838   \n",
       "3               Australia  0.233345  1.589360  0.322858  0.207537  25.853692   \n",
       "4                   World  0.233345  1.589360  0.322858  0.207537  25.853692   \n",
       "..                    ...       ...       ...       ...       ...        ...   \n",
       "231                  Asia  0.215054  1.565677  0.292019  0.197757  31.336343   \n",
       "232  Entertainment & Arts  0.211685  1.544242  0.288474  0.199613  31.462322   \n",
       "233                  Asia  0.215843  1.570926  0.292348  0.201796  32.461904   \n",
       "234             Australia  0.213220  1.531301  0.289974  0.199454  32.296160   \n",
       "235              Business  0.214133  1.527880  0.286433  0.197580  31.547536   \n",
       "\n",
       "     ...   myr_aed   myr_sar   myr_try   myr_gbp   myr_brl   myr_mxn  \\\n",
       "0    ...  1.167445  1.191952  0.597343  0.205044  0.585805  4.361272   \n",
       "1    ...  1.208213  1.232693  0.589336  0.211766  0.658561  4.011286   \n",
       "2    ...  0.856260  0.873470  0.828417  0.182053  0.759322  4.345626   \n",
       "3    ...  0.856820  0.874997  0.823288  0.181232  0.752561  4.350752   \n",
       "4    ...  0.856820  0.874997  0.823288  0.181232  0.752561  4.350752   \n",
       "..   ...       ...       ...       ...       ...       ...       ...   \n",
       "231  ...  0.789871  0.805633  5.833333  0.168667  1.070000  3.676963   \n",
       "232  ...  0.777329  0.792933  5.869496  0.172223  1.069221  3.796366   \n",
       "233  ...  0.792769  0.808566  6.150486  0.175599  1.051479  3.770818   \n",
       "234  ...  0.783062  0.799680  6.079672  0.174367  1.043364  3.764691   \n",
       "235  ...  0.786167  0.802270  6.192248  0.169488  1.058480  3.737494   \n",
       "\n",
       "       myr_bdt   myr_chf   myr_cad    myr_rub  \n",
       "0    25.481071  0.302629  0.324084  10.172150  \n",
       "1    25.020399  0.305784  0.331242  10.199986  \n",
       "2    18.407994  0.227559  0.314115  13.182566  \n",
       "3    18.429822  0.225876  0.314792  13.233088  \n",
       "4    18.429822  0.225876  0.314792  13.233088  \n",
       "..         ...       ...       ...        ...  \n",
       "231  23.187397  0.188869  0.291295  20.315052  \n",
       "232  22.991006  0.191480  0.287544  21.224556  \n",
       "233  23.413985  0.194252  0.297183  19.871575  \n",
       "234  23.064053  0.192320  0.294220  19.652451  \n",
       "235  23.212565  0.186833  0.289914  19.585652  \n",
       "\n",
       "[236 rows x 29 columns]"
      ]
     },
     "execution_count": 11,
     "metadata": {},
     "output_type": "execute_result"
    }
   ],
   "source": [
    "df_merged"
   ]
  },
  {
   "cell_type": "code",
   "execution_count": 12,
   "metadata": {},
   "outputs": [
    {
     "data": {
      "application/vnd.plotly.v1+json": {
       "config": {
        "plotlyServerURL": "https://plot.ly"
       },
       "data": [
        {
         "hovertemplate": "variable=myr_usd<br>Date=%{x}<br>Exchange Rate=%{y}<extra></extra>",
         "legendgroup": "myr_usd",
         "line": {
          "color": "#636efa",
          "dash": "solid"
         },
         "marker": {
          "symbol": "circle"
         },
         "mode": "markers+lines",
         "name": "USD",
         "orientation": "v",
         "showlegend": true,
         "type": "scatter",
         "x": [
          "2012-01-06T00:00:00",
          "2013-05-01T00:00:00",
          "2017-05-31T00:00:00",
          "2017-06-01T00:00:00",
          "2017-06-01T00:00:00",
          "2017-06-02T00:00:00",
          "2017-06-03T00:00:00",
          "2017-06-08T00:00:00",
          "2017-06-16T00:00:00",
          "2017-06-19T00:00:00",
          "2017-06-30T00:00:00",
          "2017-07-05T00:00:00",
          "2017-07-05T00:00:00",
          "2017-07-20T00:00:00",
          "2017-07-27T00:00:00",
          "2017-08-07T00:00:00",
          "2017-08-15T00:00:00",
          "2017-08-21T00:00:00",
          "2017-08-21T00:00:00",
          "2017-09-06T00:00:00",
          "2017-09-14T00:00:00",
          "2017-10-02T00:00:00",
          "2017-10-20T00:00:00",
          "2017-10-24T00:00:00",
          "2017-11-01T00:00:00",
          "2017-12-14T00:00:00",
          "2017-12-24T00:00:00",
          "2017-12-27T00:00:00",
          "2018-01-08T00:00:00",
          "2018-01-18T00:00:00",
          "2018-01-19T00:00:00",
          "2018-01-30T00:00:00",
          "2018-02-14T00:00:00",
          "2018-02-15T00:00:00",
          "2018-02-18T00:00:00",
          "2018-03-16T00:00:00",
          "2018-03-26T00:00:00",
          "2018-04-12T00:00:00",
          "2018-04-21T00:00:00",
          "2018-05-05T00:00:00",
          "2018-05-07T00:00:00",
          "2018-05-07T00:00:00",
          "2018-05-08T00:00:00",
          "2018-05-08T00:00:00",
          "2018-05-09T00:00:00",
          "2018-05-10T00:00:00",
          "2018-05-10T00:00:00",
          "2018-05-10T00:00:00",
          "2018-05-10T00:00:00",
          "2018-05-10T00:00:00",
          "2018-05-11T00:00:00",
          "2018-05-12T00:00:00",
          "2018-05-12T00:00:00",
          "2018-05-14T00:00:00",
          "2018-05-16T00:00:00",
          "2018-05-16T00:00:00",
          "2018-05-17T00:00:00",
          "2018-05-18T00:00:00",
          "2018-05-18T00:00:00",
          "2018-05-19T00:00:00",
          "2018-05-24T00:00:00",
          "2018-05-24T00:00:00",
          "2018-05-24T00:00:00",
          "2018-05-25T00:00:00",
          "2018-06-07T00:00:00",
          "2018-06-11T00:00:00",
          "2018-06-25T00:00:00",
          "2018-06-27T00:00:00",
          "2018-06-27T00:00:00",
          "2018-06-27T00:00:00",
          "2018-07-01T00:00:00",
          "2018-07-03T00:00:00",
          "2018-07-03T00:00:00",
          "2018-07-04T00:00:00",
          "2018-07-31T00:00:00",
          "2018-08-08T00:00:00",
          "2018-08-21T00:00:00",
          "2018-09-03T00:00:00",
          "2018-09-14T00:00:00",
          "2018-09-20T00:00:00",
          "2018-10-02T00:00:00",
          "2018-10-02T00:00:00",
          "2018-10-03T00:00:00",
          "2018-10-04T00:00:00",
          "2018-10-31T00:00:00",
          "2018-11-04T00:00:00",
          "2018-11-04T00:00:00",
          "2018-11-04T00:00:00",
          "2018-11-04T00:00:00",
          "2018-11-04T00:00:00",
          "2018-11-12T00:00:00",
          "2018-11-12T00:00:00",
          "2018-11-12T00:00:00",
          "2018-11-12T00:00:00",
          "2018-11-12T00:00:00",
          "2018-11-26T00:00:00",
          "2018-12-17T00:00:00",
          "2019-01-06T00:00:00",
          "2019-01-16T00:00:00",
          "2019-01-23T00:00:00",
          "2019-01-23T00:00:00",
          "2019-01-24T00:00:00",
          "2019-01-31T00:00:00",
          "2019-02-05T00:00:00",
          "2019-02-11T00:00:00",
          "2019-02-12T00:00:00",
          "2019-02-13T00:00:00",
          "2019-03-14T00:00:00",
          "2019-04-03T00:00:00",
          "2019-04-03T00:00:00",
          "2019-04-04T00:00:00",
          "2019-05-07T00:00:00",
          "2019-05-28T00:00:00",
          "2019-05-28T00:00:00",
          "2019-05-28T00:00:00",
          "2019-05-30T00:00:00",
          "2019-06-10T00:00:00",
          "2019-06-10T00:00:00",
          "2019-06-20T00:00:00",
          "2019-06-25T00:00:00",
          "2019-06-26T00:00:00",
          "2019-06-26T00:00:00",
          "2019-07-04T00:00:00",
          "2019-07-20T00:00:00",
          "2019-08-04T00:00:00",
          "2019-08-05T00:00:00",
          "2019-08-06T00:00:00",
          "2019-08-07T00:00:00",
          "2019-08-09T00:00:00",
          "2019-08-10T00:00:00",
          "2019-08-11T00:00:00",
          "2019-08-13T00:00:00",
          "2019-08-13T00:00:00",
          "2019-08-14T00:00:00",
          "2019-08-28T00:00:00",
          "2019-08-28T00:00:00",
          "2019-09-13T00:00:00",
          "2019-09-14T00:00:00",
          "2019-09-20T00:00:00",
          "2019-09-20T00:00:00",
          "2019-10-31T00:00:00",
          "2019-11-01T00:00:00",
          "2019-11-12T00:00:00",
          "2019-11-13T00:00:00",
          "2019-11-13T00:00:00",
          "2019-11-23T00:00:00",
          "2019-11-26T00:00:00",
          "2019-11-29T00:00:00",
          "2019-11-30T00:00:00",
          "2019-12-17T00:00:00",
          "2020-01-20T00:00:00",
          "2020-02-01T00:00:00",
          "2020-02-04T00:00:00",
          "2020-02-21T00:00:00",
          "2020-03-01T00:00:00",
          "2020-03-05T00:00:00",
          "2020-05-02T00:00:00",
          "2020-05-14T00:00:00",
          "2020-06-09T00:00:00",
          "2020-07-24T00:00:00",
          "2020-07-25T00:00:00",
          "2020-07-28T00:00:00",
          "2020-07-28T00:00:00",
          "2020-07-28T00:00:00",
          "2020-07-28T00:00:00",
          "2020-08-03T00:00:00",
          "2020-08-24T00:00:00",
          "2020-08-26T00:00:00",
          "2020-08-27T00:00:00",
          "2020-09-07T00:00:00",
          "2020-09-15T00:00:00",
          "2020-09-16T00:00:00",
          "2020-09-19T00:00:00",
          "2020-09-29T00:00:00",
          "2020-10-01T00:00:00",
          "2020-10-08T00:00:00",
          "2020-12-21T00:00:00",
          "2021-01-04T00:00:00",
          "2021-01-04T00:00:00",
          "2021-01-12T00:00:00",
          "2021-01-21T00:00:00",
          "2021-02-19T00:00:00",
          "2021-02-24T00:00:00",
          "2021-03-11T00:00:00",
          "2021-06-02T00:00:00",
          "2021-06-13T00:00:00",
          "2021-06-24T00:00:00",
          "2021-07-05T00:00:00",
          "2021-07-20T00:00:00",
          "2021-07-28T00:00:00",
          "2021-08-10T00:00:00",
          "2021-09-24T00:00:00",
          "2021-11-19T00:00:00",
          "2021-11-19T00:00:00",
          "2021-12-03T00:00:00",
          "2021-12-21T00:00:00",
          "2021-12-21T00:00:00",
          "2021-12-21T00:00:00",
          "2022-04-07T00:00:00",
          "2022-04-08T00:00:00",
          "2022-04-08T00:00:00",
          "2022-04-09T00:00:00",
          "2022-04-09T00:00:00",
          "2022-07-31T00:00:00",
          "2022-08-23T00:00:00",
          "2022-08-27T00:00:00",
          "2022-09-01T00:00:00",
          "2022-09-06T00:00:00",
          "2022-09-14T00:00:00",
          "2022-09-22T00:00:00",
          "2022-10-11T00:00:00",
          "2022-10-25T00:00:00",
          "2022-11-20T00:00:00",
          "2022-11-21T00:00:00",
          "2022-11-24T00:00:00",
          "2022-12-03T00:00:00",
          "2022-12-13T00:00:00",
          "2022-12-16T00:00:00",
          "2022-12-16T00:00:00",
          "2023-03-09T00:00:00",
          "2023-03-10T00:00:00",
          "2023-04-03T00:00:00",
          "2023-05-30T00:00:00",
          "2023-06-07T00:00:00",
          "2023-06-13T00:00:00",
          "2023-06-14T00:00:00",
          "2023-07-17T00:00:00",
          "2023-07-22T00:00:00",
          "2023-07-23T00:00:00",
          "2023-07-25T00:00:00",
          "2023-08-07T00:00:00",
          "2023-08-17T00:00:00",
          "2023-10-10T00:00:00",
          "2023-11-08T00:00:00",
          "2023-11-13T00:00:00",
          "2023-12-05T00:00:00"
         ],
         "xaxis": "x",
         "y": [
          0.3178538382053375,
          0.3290339410305023,
          0.2331926375627517,
          0.2333450019359588,
          0.2333450019359588,
          0.233781412243843,
          0.233781412243843,
          0.2347417771816253,
          0.2339728474617004,
          0.2339181303977966,
          0.2330459207296371,
          0.2328288704156875,
          0.2328288704156875,
          0.2331545799970626,
          0.2339181303977966,
          0.2336721569299698,
          0.2329102158546447,
          0.2333994507789611,
          0.2333994507789611,
          0.236071765422821,
          0.2378686964511871,
          0.2363507449626922,
          0.2368265390396118,
          0.2363507449626922,
          0.2364625185728073,
          0.2449779659509658,
          0.2453385591506958,
          0.2451581209897995,
          0.2503442168235779,
          0.2530812621116638,
          0.2540650367736816,
          0.2565089166164398,
          0.2563773691654205,
          0.2570165395736694,
          0.2569703161716461,
          0.2559836208820343,
          0.2570826113224029,
          0.2582644522190094,
          0.2572347223758697,
          0.2536783516407013,
          0.2539360225200653,
          0.2539360225200653,
          0.2537105083465576,
          0.2537105083465576,
          0.2507208287715912,
          0.2473105043172836,
          0.2473105043172836,
          0.2473105043172836,
          0.2473105043172836,
          0.2473105043172836,
          0.2532927989959717,
          0.2532927989959717,
          0.2532927989959717,
          0.2533634006977081,
          0.2529404163360595,
          0.2529404163360595,
          0.252206802368164,
          0.2519208788871765,
          0.2519208788871765,
          0.2519208788871765,
          0.2515090405941009,
          0.2515090405941009,
          0.2515090405941009,
          0.2514458000659942,
          0.251889169216156,
          0.2508780658245086,
          0.2503128945827484,
          0.2487562149763107,
          0.2487562149763107,
          0.2487562149763107,
          0.2474941164255142,
          0.2476473450660705,
          0.2476473450660705,
          0.2475553750991821,
          0.2465787231922149,
          0.2454891204833984,
          0.2441227436065673,
          0.2430429011583328,
          0.2413709759712219,
          0.241943284869194,
          0.2416918575763702,
          0.2416918575763702,
          0.2416042536497116,
          0.2416451275348663,
          0.2392344623804092,
          0.2394349426031112,
          0.2394349426031112,
          0.2394349426031112,
          0.2394349426031112,
          0.2394349426031112,
          0.2394693344831466,
          0.2394693344831466,
          0.2394693344831466,
          0.2394693344831466,
          0.2394693344831466,
          0.2385780662298202,
          0.2390914559364318,
          0.2415459007024765,
          0.2437240928411483,
          0.2419842630624771,
          0.2419842630624771,
          0.2418672144412994,
          0.2446184009313583,
          0.2448280155658722,
          0.2459419518709182,
          0.2457002401351928,
          0.2457002401351928,
          0.2447381317615509,
          0.2445884793996811,
          0.2445884793996811,
          0.2453084737062454,
          0.2412486970424652,
          0.2390000224113464,
          0.2390000224113464,
          0.2390000224113464,
          0.2384927421808242,
          0.2412254214286804,
          0.2412254214286804,
          0.2397449016571045,
          0.241721048951149,
          0.2423361092805862,
          0.2423361092805862,
          0.2418321222066879,
          0.2435994148254394,
          0.2415167242288589,
          0.2407202273607254,
          0.2394349426031112,
          0.2386464029550552,
          0.2390857338905334,
          0.2390857338905334,
          0.2390857338905334,
          0.2381292581558227,
          0.2381292581558227,
          0.2389486283063888,
          0.2380952537059784,
          0.2380952537059784,
          0.2400902658700943,
          0.2400902658700943,
          0.2388173639774322,
          0.2388173639774322,
          0.2395152300596237,
          0.2394464015960693,
          0.2414875775575637,
          0.2415459007024765,
          0.2415459007024765,
          0.2399808168411255,
          0.239463597536087,
          0.2396931946277618,
          0.2396931946277618,
          0.2415459007024765,
          0.2467551678419113,
          0.244857981801033,
          0.2431019693613052,
          0.2393432408571243,
          0.2376143634319305,
          0.2393489778041839,
          0.2329373210668563,
          0.2310536056756973,
          0.2348796129226684,
          0.2350728660821914,
          0.2350728660821914,
          0.2352941185235977,
          0.2352941185235977,
          0.2352941185235977,
          0.2352941185235977,
          0.2360160499811172,
          0.2393776327371597,
          0.2399808168411255,
          0.2399808168411255,
          0.2411381751298904,
          0.2413418740034103,
          0.242248073220253,
          0.241721048951149,
          0.2396357655525207,
          0.2408187687397003,
          0.2406738698482513,
          0.2476473450660705,
          0.2487562149763107,
          0.2487562149763107,
          0.2472187876701355,
          0.2473410665988922,
          0.2475553750991821,
          0.247463509440422,
          0.2424242496490478,
          0.2424830198287964,
          0.2428363263607025,
          0.2405002415180206,
          0.240326851606369,
          0.2368545681238174,
          0.2364066243171692,
          0.2366303950548172,
          0.2392344623804092,
          0.2392344623804092,
          0.2392344623804092,
          0.2365464270114898,
          0.2366863936185836,
          0.2366863936185836,
          0.2366863936185836,
          0.2373605668544769,
          0.237202912569046,
          0.237202912569046,
          0.237202912569046,
          0.237202912569046,
          0.2247191071510315,
          0.2230897843837738,
          0.2237136512994766,
          0.2235386222600937,
          0.2227270752191543,
          0.2220988273620605,
          0.2197802066802978,
          0.2151463031768798,
          0.211170956492424,
          0.2197174429893493,
          0.2197174429893493,
          0.2187226563692093,
          0.2271436601877212,
          0.2265262156724929,
          0.2265518754720688,
          0.2265518754720688,
          0.2212878912687301,
          0.2213858664035797,
          0.2267316579818725,
          0.2174858599901199,
          0.2171552628278732,
          0.2165674120187759,
          0.2167316973209381,
          0.2204099595546722,
          0.219130054116249,
          0.219130054116249,
          0.2187705039978027,
          0.2194667011499405,
          0.2150537520647049,
          0.2116850167512893,
          0.2158428728580474,
          0.2132196128368377,
          0.2141327559947967
         ],
         "yaxis": "y"
        },
        {
         "hovertemplate": "variable=myr_sgd<br>Date=%{x}<br>Exchange Rate=%{y}<extra></extra>",
         "legendgroup": "myr_sgd",
         "line": {
          "color": "#EF553B",
          "dash": "solid"
         },
         "marker": {
          "symbol": "circle"
         },
         "mode": "markers+lines",
         "name": "SGD",
         "orientation": "v",
         "showlegend": true,
         "type": "scatter",
         "x": [
          "2012-01-06T00:00:00",
          "2013-05-01T00:00:00",
          "2017-05-31T00:00:00",
          "2017-06-01T00:00:00",
          "2017-06-01T00:00:00",
          "2017-06-02T00:00:00",
          "2017-06-03T00:00:00",
          "2017-06-08T00:00:00",
          "2017-06-16T00:00:00",
          "2017-06-19T00:00:00",
          "2017-06-30T00:00:00",
          "2017-07-05T00:00:00",
          "2017-07-05T00:00:00",
          "2017-07-20T00:00:00",
          "2017-07-27T00:00:00",
          "2017-08-07T00:00:00",
          "2017-08-15T00:00:00",
          "2017-08-21T00:00:00",
          "2017-08-21T00:00:00",
          "2017-09-06T00:00:00",
          "2017-09-14T00:00:00",
          "2017-10-02T00:00:00",
          "2017-10-20T00:00:00",
          "2017-10-24T00:00:00",
          "2017-11-01T00:00:00",
          "2017-12-14T00:00:00",
          "2017-12-24T00:00:00",
          "2017-12-27T00:00:00",
          "2018-01-08T00:00:00",
          "2018-01-18T00:00:00",
          "2018-01-19T00:00:00",
          "2018-01-30T00:00:00",
          "2018-02-14T00:00:00",
          "2018-02-15T00:00:00",
          "2018-02-18T00:00:00",
          "2018-03-16T00:00:00",
          "2018-03-26T00:00:00",
          "2018-04-12T00:00:00",
          "2018-04-21T00:00:00",
          "2018-05-05T00:00:00",
          "2018-05-07T00:00:00",
          "2018-05-07T00:00:00",
          "2018-05-08T00:00:00",
          "2018-05-08T00:00:00",
          "2018-05-09T00:00:00",
          "2018-05-10T00:00:00",
          "2018-05-10T00:00:00",
          "2018-05-10T00:00:00",
          "2018-05-10T00:00:00",
          "2018-05-10T00:00:00",
          "2018-05-11T00:00:00",
          "2018-05-12T00:00:00",
          "2018-05-12T00:00:00",
          "2018-05-14T00:00:00",
          "2018-05-16T00:00:00",
          "2018-05-16T00:00:00",
          "2018-05-17T00:00:00",
          "2018-05-18T00:00:00",
          "2018-05-18T00:00:00",
          "2018-05-19T00:00:00",
          "2018-05-24T00:00:00",
          "2018-05-24T00:00:00",
          "2018-05-24T00:00:00",
          "2018-05-25T00:00:00",
          "2018-06-07T00:00:00",
          "2018-06-11T00:00:00",
          "2018-06-25T00:00:00",
          "2018-06-27T00:00:00",
          "2018-06-27T00:00:00",
          "2018-06-27T00:00:00",
          "2018-07-01T00:00:00",
          "2018-07-03T00:00:00",
          "2018-07-03T00:00:00",
          "2018-07-04T00:00:00",
          "2018-07-31T00:00:00",
          "2018-08-08T00:00:00",
          "2018-08-21T00:00:00",
          "2018-09-03T00:00:00",
          "2018-09-14T00:00:00",
          "2018-09-20T00:00:00",
          "2018-10-02T00:00:00",
          "2018-10-02T00:00:00",
          "2018-10-03T00:00:00",
          "2018-10-04T00:00:00",
          "2018-10-31T00:00:00",
          "2018-11-04T00:00:00",
          "2018-11-04T00:00:00",
          "2018-11-04T00:00:00",
          "2018-11-04T00:00:00",
          "2018-11-04T00:00:00",
          "2018-11-12T00:00:00",
          "2018-11-12T00:00:00",
          "2018-11-12T00:00:00",
          "2018-11-12T00:00:00",
          "2018-11-12T00:00:00",
          "2018-11-26T00:00:00",
          "2018-12-17T00:00:00",
          "2019-01-06T00:00:00",
          "2019-01-16T00:00:00",
          "2019-01-23T00:00:00",
          "2019-01-23T00:00:00",
          "2019-01-24T00:00:00",
          "2019-01-31T00:00:00",
          "2019-02-05T00:00:00",
          "2019-02-11T00:00:00",
          "2019-02-12T00:00:00",
          "2019-02-13T00:00:00",
          "2019-03-14T00:00:00",
          "2019-04-03T00:00:00",
          "2019-04-03T00:00:00",
          "2019-04-04T00:00:00",
          "2019-05-07T00:00:00",
          "2019-05-28T00:00:00",
          "2019-05-28T00:00:00",
          "2019-05-28T00:00:00",
          "2019-05-30T00:00:00",
          "2019-06-10T00:00:00",
          "2019-06-10T00:00:00",
          "2019-06-20T00:00:00",
          "2019-06-25T00:00:00",
          "2019-06-26T00:00:00",
          "2019-06-26T00:00:00",
          "2019-07-04T00:00:00",
          "2019-07-20T00:00:00",
          "2019-08-04T00:00:00",
          "2019-08-05T00:00:00",
          "2019-08-06T00:00:00",
          "2019-08-07T00:00:00",
          "2019-08-09T00:00:00",
          "2019-08-10T00:00:00",
          "2019-08-11T00:00:00",
          "2019-08-13T00:00:00",
          "2019-08-13T00:00:00",
          "2019-08-14T00:00:00",
          "2019-08-28T00:00:00",
          "2019-08-28T00:00:00",
          "2019-09-13T00:00:00",
          "2019-09-14T00:00:00",
          "2019-09-20T00:00:00",
          "2019-09-20T00:00:00",
          "2019-10-31T00:00:00",
          "2019-11-01T00:00:00",
          "2019-11-12T00:00:00",
          "2019-11-13T00:00:00",
          "2019-11-13T00:00:00",
          "2019-11-23T00:00:00",
          "2019-11-26T00:00:00",
          "2019-11-29T00:00:00",
          "2019-11-30T00:00:00",
          "2019-12-17T00:00:00",
          "2020-01-20T00:00:00",
          "2020-02-01T00:00:00",
          "2020-02-04T00:00:00",
          "2020-02-21T00:00:00",
          "2020-03-01T00:00:00",
          "2020-03-05T00:00:00",
          "2020-05-02T00:00:00",
          "2020-05-14T00:00:00",
          "2020-06-09T00:00:00",
          "2020-07-24T00:00:00",
          "2020-07-25T00:00:00",
          "2020-07-28T00:00:00",
          "2020-07-28T00:00:00",
          "2020-07-28T00:00:00",
          "2020-07-28T00:00:00",
          "2020-08-03T00:00:00",
          "2020-08-24T00:00:00",
          "2020-08-26T00:00:00",
          "2020-08-27T00:00:00",
          "2020-09-07T00:00:00",
          "2020-09-15T00:00:00",
          "2020-09-16T00:00:00",
          "2020-09-19T00:00:00",
          "2020-09-29T00:00:00",
          "2020-10-01T00:00:00",
          "2020-10-08T00:00:00",
          "2020-12-21T00:00:00",
          "2021-01-04T00:00:00",
          "2021-01-04T00:00:00",
          "2021-01-12T00:00:00",
          "2021-01-21T00:00:00",
          "2021-02-19T00:00:00",
          "2021-02-24T00:00:00",
          "2021-03-11T00:00:00",
          "2021-06-02T00:00:00",
          "2021-06-13T00:00:00",
          "2021-06-24T00:00:00",
          "2021-07-05T00:00:00",
          "2021-07-20T00:00:00",
          "2021-07-28T00:00:00",
          "2021-08-10T00:00:00",
          "2021-09-24T00:00:00",
          "2021-11-19T00:00:00",
          "2021-11-19T00:00:00",
          "2021-12-03T00:00:00",
          "2021-12-21T00:00:00",
          "2021-12-21T00:00:00",
          "2021-12-21T00:00:00",
          "2022-04-07T00:00:00",
          "2022-04-08T00:00:00",
          "2022-04-08T00:00:00",
          "2022-04-09T00:00:00",
          "2022-04-09T00:00:00",
          "2022-07-31T00:00:00",
          "2022-08-23T00:00:00",
          "2022-08-27T00:00:00",
          "2022-09-01T00:00:00",
          "2022-09-06T00:00:00",
          "2022-09-14T00:00:00",
          "2022-09-22T00:00:00",
          "2022-10-11T00:00:00",
          "2022-10-25T00:00:00",
          "2022-11-20T00:00:00",
          "2022-11-21T00:00:00",
          "2022-11-24T00:00:00",
          "2022-12-03T00:00:00",
          "2022-12-13T00:00:00",
          "2022-12-16T00:00:00",
          "2022-12-16T00:00:00",
          "2023-03-09T00:00:00",
          "2023-03-10T00:00:00",
          "2023-04-03T00:00:00",
          "2023-05-30T00:00:00",
          "2023-06-07T00:00:00",
          "2023-06-13T00:00:00",
          "2023-06-14T00:00:00",
          "2023-07-17T00:00:00",
          "2023-07-22T00:00:00",
          "2023-07-23T00:00:00",
          "2023-07-25T00:00:00",
          "2023-08-07T00:00:00",
          "2023-08-17T00:00:00",
          "2023-10-10T00:00:00",
          "2023-11-08T00:00:00",
          "2023-11-13T00:00:00",
          "2023-12-05T00:00:00"
         ],
         "xaxis": "x",
         "y": [
          0.4104764325931853,
          0.4051361955906536,
          0.3231117118018201,
          0.3228584804963859,
          0.3228584804963859,
          0.3241192282563609,
          0.3241192282563609,
          0.3245469455223784,
          0.3237365175824962,
          0.3235087781325418,
          0.3212304897105849,
          0.3216810354633086,
          0.3216810354633086,
          0.3190953607188103,
          0.3172257374534482,
          0.3179787377625267,
          0.3175800758911506,
          0.3182588204043242,
          0.3182588204043242,
          0.3193602509342312,
          0.3211465366971566,
          0.321221927019959,
          0.3212552072087504,
          0.3217040892927159,
          0.3220146472386638,
          0.3300343245603248,
          0.3297595569800933,
          0.3293650301709423,
          0.3320891088624478,
          0.3354339034994709,
          0.3355309861146338,
          0.3360420775258177,
          0.3391590689857864,
          0.3376117953477546,
          0.3362096778767913,
          0.3364572010261746,
          0.3380739152222212,
          0.3378873875670933,
          0.3373890541161373,
          0.3375190485514387,
          0.3387100274651509,
          0.3387100274651509,
          0.3386020372773828,
          0.3386020372773828,
          0.3359659189226427,
          0.3334240129109513,
          0.3334240129109513,
          0.3334240129109513,
          0.3334240129109513,
          0.3334240129109513,
          0.3388981709298946,
          0.3388981709298946,
          0.3388981709298946,
          0.3381666650381554,
          0.3402301654475934,
          0.3402301654475934,
          0.3377553547343268,
          0.3381357517836463,
          0.3381357517836463,
          0.3381357517836463,
          0.3375251343961452,
          0.3375251343961452,
          0.3375251343961452,
          0.3369348626086257,
          0.335440798429623,
          0.3348218595674126,
          0.3401251745749327,
          0.3389552107929443,
          0.3389552107929443,
          0.3389552107929443,
          0.3386461898750568,
          0.338880621461918,
          0.338880621461918,
          0.3378635700804011,
          0.335561587942994,
          0.3347489685306755,
          0.3341796094282756,
          0.3334062386436827,
          0.330794080997002,
          0.3312276149891318,
          0.3315287327466691,
          0.3315287327466691,
          0.3316912240768417,
          0.3337288405893979,
          0.3312918732831917,
          0.3295367036711294,
          0.3295367036711294,
          0.3295367036711294,
          0.3295367036711294,
          0.3295367036711294,
          0.3301563757453785,
          0.3301563757453785,
          0.3301563757453785,
          0.3301563757453785,
          0.3301563757453785,
          0.3281450377288255,
          0.3291356988792273,
          0.3294927581725559,
          0.3301486446339225,
          0.3290259939012507,
          0.3290259939012507,
          0.3283831146941942,
          0.3293297546202627,
          0.3311543685776108,
          0.3333497132628249,
          0.3342260231123219,
          0.3331449676901172,
          0.3310352424507634,
          0.3315494764531657,
          0.3315494764531657,
          0.3318508496678252,
          0.3289353508977122,
          0.3285939471096455,
          0.3285939471096455,
          0.3285939471096455,
          0.329248773465439,
          0.3287661313741381,
          0.3287661313741381,
          0.3265805102502668,
          0.3270799988455142,
          0.3282466711882978,
          0.3282466711882978,
          0.3278759991753421,
          0.330503508852189,
          0.3324960847949061,
          0.331399547521757,
          0.3316676857577647,
          0.3294442088271374,
          0.3304786381458839,
          0.3304786381458839,
          0.3304786381458839,
          0.3303329064141422,
          0.3303329064141422,
          0.3304181591658253,
          0.3307166770513703,
          0.3307166770513703,
          0.3302321598087143,
          0.3302321598087143,
          0.3292503297468911,
          0.3292503297468911,
          0.3259083762374803,
          0.3257931704486054,
          0.3285027929059492,
          0.329089375808886,
          0.329089375808886,
          0.3269498780468893,
          0.3268223101416367,
          0.3273154519860526,
          0.3273154519860526,
          0.3273671470592632,
          0.3324705175266391,
          0.3335822683308365,
          0.3330083736855709,
          0.3354299906665527,
          0.3314078744290505,
          0.3311082054410654,
          0.3286512655379301,
          0.3278419640900054,
          0.3258484904123975,
          0.3256934451960944,
          0.3256934451960944,
          0.3242376563987399,
          0.3242376563987399,
          0.3242376563987399,
          0.3242376563987399,
          0.3243332526878806,
          0.328335162741423,
          0.3282865555607372,
          0.3276049999342945,
          0.3291294935330295,
          0.3292144453565626,
          0.3297141681834272,
          0.3280517115793468,
          0.3284927118072573,
          0.3286453640073041,
          0.3271239240813628,
          0.329687955820205,
          0.3285248725868346,
          0.3285248725868346,
          0.3288603228829316,
          0.3276675415370818,
          0.3284243020143407,
          0.326540483133293,
          0.3257672956046917,
          0.3206862195342808,
          0.321345311645782,
          0.3235209110826353,
          0.3237875667562804,
          0.3229748927981042,
          0.3213924504315812,
          0.321140561337172,
          0.3226316031301852,
          0.324514368511215,
          0.324514368511215,
          0.3238959183267162,
          0.3235834491191092,
          0.3235834491191092,
          0.3235834491191092,
          0.3228863196664697,
          0.3230276662505318,
          0.3230276662505318,
          0.3230276662505318,
          0.3230276662505318,
          0.3099101128282839,
          0.3116564187846471,
          0.310782998155414,
          0.3126478283936098,
          0.3122923157017947,
          0.3121821010225289,
          0.3117362559706294,
          0.3091888923997885,
          0.3000908214264246,
          0.3021268590258401,
          0.3021136842686189,
          0.3010323673902721,
          0.3073707916079939,
          0.3068138932890711,
          0.3082056998543159,
          0.3082056998543159,
          0.2994511971162126,
          0.2982908979899115,
          0.3024396232692652,
          0.2937777299930246,
          0.2928230023143889,
          0.2909215071470985,
          0.2908864416892598,
          0.291359927763434,
          0.2916862064684267,
          0.2916862064684267,
          0.2913695070992617,
          0.2941731619516652,
          0.2920193415158874,
          0.2884737678830191,
          0.2923483764254442,
          0.2899744063247915,
          0.2864325498088291
         ],
         "yaxis": "y"
        },
        {
         "hovertemplate": "variable=myr_eur<br>Date=%{x}<br>Exchange Rate=%{y}<extra></extra>",
         "legendgroup": "myr_eur",
         "line": {
          "color": "#00cc96",
          "dash": "solid"
         },
         "marker": {
          "symbol": "circle"
         },
         "mode": "markers+lines",
         "name": "EUR",
         "orientation": "v",
         "showlegend": true,
         "type": "scatter",
         "x": [
          "2012-01-06T00:00:00",
          "2013-05-01T00:00:00",
          "2017-05-31T00:00:00",
          "2017-06-01T00:00:00",
          "2017-06-01T00:00:00",
          "2017-06-02T00:00:00",
          "2017-06-03T00:00:00",
          "2017-06-08T00:00:00",
          "2017-06-16T00:00:00",
          "2017-06-19T00:00:00",
          "2017-06-30T00:00:00",
          "2017-07-05T00:00:00",
          "2017-07-05T00:00:00",
          "2017-07-20T00:00:00",
          "2017-07-27T00:00:00",
          "2017-08-07T00:00:00",
          "2017-08-15T00:00:00",
          "2017-08-21T00:00:00",
          "2017-08-21T00:00:00",
          "2017-09-06T00:00:00",
          "2017-09-14T00:00:00",
          "2017-10-02T00:00:00",
          "2017-10-20T00:00:00",
          "2017-10-24T00:00:00",
          "2017-11-01T00:00:00",
          "2017-12-14T00:00:00",
          "2017-12-24T00:00:00",
          "2017-12-27T00:00:00",
          "2018-01-08T00:00:00",
          "2018-01-18T00:00:00",
          "2018-01-19T00:00:00",
          "2018-01-30T00:00:00",
          "2018-02-14T00:00:00",
          "2018-02-15T00:00:00",
          "2018-02-18T00:00:00",
          "2018-03-16T00:00:00",
          "2018-03-26T00:00:00",
          "2018-04-12T00:00:00",
          "2018-04-21T00:00:00",
          "2018-05-05T00:00:00",
          "2018-05-07T00:00:00",
          "2018-05-07T00:00:00",
          "2018-05-08T00:00:00",
          "2018-05-08T00:00:00",
          "2018-05-09T00:00:00",
          "2018-05-10T00:00:00",
          "2018-05-10T00:00:00",
          "2018-05-10T00:00:00",
          "2018-05-10T00:00:00",
          "2018-05-10T00:00:00",
          "2018-05-11T00:00:00",
          "2018-05-12T00:00:00",
          "2018-05-12T00:00:00",
          "2018-05-14T00:00:00",
          "2018-05-16T00:00:00",
          "2018-05-16T00:00:00",
          "2018-05-17T00:00:00",
          "2018-05-18T00:00:00",
          "2018-05-18T00:00:00",
          "2018-05-19T00:00:00",
          "2018-05-24T00:00:00",
          "2018-05-24T00:00:00",
          "2018-05-24T00:00:00",
          "2018-05-25T00:00:00",
          "2018-06-07T00:00:00",
          "2018-06-11T00:00:00",
          "2018-06-25T00:00:00",
          "2018-06-27T00:00:00",
          "2018-06-27T00:00:00",
          "2018-06-27T00:00:00",
          "2018-07-01T00:00:00",
          "2018-07-03T00:00:00",
          "2018-07-03T00:00:00",
          "2018-07-04T00:00:00",
          "2018-07-31T00:00:00",
          "2018-08-08T00:00:00",
          "2018-08-21T00:00:00",
          "2018-09-03T00:00:00",
          "2018-09-14T00:00:00",
          "2018-09-20T00:00:00",
          "2018-10-02T00:00:00",
          "2018-10-02T00:00:00",
          "2018-10-03T00:00:00",
          "2018-10-04T00:00:00",
          "2018-10-31T00:00:00",
          "2018-11-04T00:00:00",
          "2018-11-04T00:00:00",
          "2018-11-04T00:00:00",
          "2018-11-04T00:00:00",
          "2018-11-04T00:00:00",
          "2018-11-12T00:00:00",
          "2018-11-12T00:00:00",
          "2018-11-12T00:00:00",
          "2018-11-12T00:00:00",
          "2018-11-12T00:00:00",
          "2018-11-26T00:00:00",
          "2018-12-17T00:00:00",
          "2019-01-06T00:00:00",
          "2019-01-16T00:00:00",
          "2019-01-23T00:00:00",
          "2019-01-23T00:00:00",
          "2019-01-24T00:00:00",
          "2019-01-31T00:00:00",
          "2019-02-05T00:00:00",
          "2019-02-11T00:00:00",
          "2019-02-12T00:00:00",
          "2019-02-13T00:00:00",
          "2019-03-14T00:00:00",
          "2019-04-03T00:00:00",
          "2019-04-03T00:00:00",
          "2019-04-04T00:00:00",
          "2019-05-07T00:00:00",
          "2019-05-28T00:00:00",
          "2019-05-28T00:00:00",
          "2019-05-28T00:00:00",
          "2019-05-30T00:00:00",
          "2019-06-10T00:00:00",
          "2019-06-10T00:00:00",
          "2019-06-20T00:00:00",
          "2019-06-25T00:00:00",
          "2019-06-26T00:00:00",
          "2019-06-26T00:00:00",
          "2019-07-04T00:00:00",
          "2019-07-20T00:00:00",
          "2019-08-04T00:00:00",
          "2019-08-05T00:00:00",
          "2019-08-06T00:00:00",
          "2019-08-07T00:00:00",
          "2019-08-09T00:00:00",
          "2019-08-10T00:00:00",
          "2019-08-11T00:00:00",
          "2019-08-13T00:00:00",
          "2019-08-13T00:00:00",
          "2019-08-14T00:00:00",
          "2019-08-28T00:00:00",
          "2019-08-28T00:00:00",
          "2019-09-13T00:00:00",
          "2019-09-14T00:00:00",
          "2019-09-20T00:00:00",
          "2019-09-20T00:00:00",
          "2019-10-31T00:00:00",
          "2019-11-01T00:00:00",
          "2019-11-12T00:00:00",
          "2019-11-13T00:00:00",
          "2019-11-13T00:00:00",
          "2019-11-23T00:00:00",
          "2019-11-26T00:00:00",
          "2019-11-29T00:00:00",
          "2019-11-30T00:00:00",
          "2019-12-17T00:00:00",
          "2020-01-20T00:00:00",
          "2020-02-01T00:00:00",
          "2020-02-04T00:00:00",
          "2020-02-21T00:00:00",
          "2020-03-01T00:00:00",
          "2020-03-05T00:00:00",
          "2020-05-02T00:00:00",
          "2020-05-14T00:00:00",
          "2020-06-09T00:00:00",
          "2020-07-24T00:00:00",
          "2020-07-25T00:00:00",
          "2020-07-28T00:00:00",
          "2020-07-28T00:00:00",
          "2020-07-28T00:00:00",
          "2020-07-28T00:00:00",
          "2020-08-03T00:00:00",
          "2020-08-24T00:00:00",
          "2020-08-26T00:00:00",
          "2020-08-27T00:00:00",
          "2020-09-07T00:00:00",
          "2020-09-15T00:00:00",
          "2020-09-16T00:00:00",
          "2020-09-19T00:00:00",
          "2020-09-29T00:00:00",
          "2020-10-01T00:00:00",
          "2020-10-08T00:00:00",
          "2020-12-21T00:00:00",
          "2021-01-04T00:00:00",
          "2021-01-04T00:00:00",
          "2021-01-12T00:00:00",
          "2021-01-21T00:00:00",
          "2021-02-19T00:00:00",
          "2021-02-24T00:00:00",
          "2021-03-11T00:00:00",
          "2021-06-02T00:00:00",
          "2021-06-13T00:00:00",
          "2021-06-24T00:00:00",
          "2021-07-05T00:00:00",
          "2021-07-20T00:00:00",
          "2021-07-28T00:00:00",
          "2021-08-10T00:00:00",
          "2021-09-24T00:00:00",
          "2021-11-19T00:00:00",
          "2021-11-19T00:00:00",
          "2021-12-03T00:00:00",
          "2021-12-21T00:00:00",
          "2021-12-21T00:00:00",
          "2021-12-21T00:00:00",
          "2022-04-07T00:00:00",
          "2022-04-08T00:00:00",
          "2022-04-08T00:00:00",
          "2022-04-09T00:00:00",
          "2022-04-09T00:00:00",
          "2022-07-31T00:00:00",
          "2022-08-23T00:00:00",
          "2022-08-27T00:00:00",
          "2022-09-01T00:00:00",
          "2022-09-06T00:00:00",
          "2022-09-14T00:00:00",
          "2022-09-22T00:00:00",
          "2022-10-11T00:00:00",
          "2022-10-25T00:00:00",
          "2022-11-20T00:00:00",
          "2022-11-21T00:00:00",
          "2022-11-24T00:00:00",
          "2022-12-03T00:00:00",
          "2022-12-13T00:00:00",
          "2022-12-16T00:00:00",
          "2022-12-16T00:00:00",
          "2023-03-09T00:00:00",
          "2023-03-10T00:00:00",
          "2023-04-03T00:00:00",
          "2023-05-30T00:00:00",
          "2023-06-07T00:00:00",
          "2023-06-13T00:00:00",
          "2023-06-14T00:00:00",
          "2023-07-17T00:00:00",
          "2023-07-22T00:00:00",
          "2023-07-23T00:00:00",
          "2023-07-25T00:00:00",
          "2023-08-07T00:00:00",
          "2023-08-17T00:00:00",
          "2023-10-10T00:00:00",
          "2023-11-08T00:00:00",
          "2023-11-13T00:00:00",
          "2023-12-05T00:00:00"
         ],
         "xaxis": "x",
         "y": [
          0.248399604888645,
          0.2498683781447503,
          0.2087353994906191,
          0.2075370459680385,
          0.2075370459680385,
          0.2084395101441583,
          0.2084395101441583,
          0.2085633759857454,
          0.2098993777590294,
          0.2087017543347258,
          0.2036821377180766,
          0.2049522707555695,
          0.2049522707555695,
          0.2022429499123808,
          0.199452633140833,
          0.1983899957801256,
          0.1977873577026656,
          0.198531910976115,
          0.198531910976115,
          0.1979792193565828,
          0.2000475785927076,
          0.2001725428146272,
          0.1998863376213222,
          0.2009926666640638,
          0.2029415939153782,
          0.2069794332691596,
          0.2069087289158986,
          0.2067467495577144,
          0.2079709484193017,
          0.2077164453954338,
          0.2076270223934671,
          0.207177124541932,
          0.2075297884755418,
          0.2061529671028594,
          0.2055171491470311,
          0.2079610893567895,
          0.2080903788966672,
          0.2087551614575886,
          0.208362701578304,
          0.2115880346785914,
          0.2124098667625453,
          0.2124098667625453,
          0.2125992587935457,
          0.2125992587935457,
          0.2112598779233643,
          0.2087498433896542,
          0.2087498433896542,
          0.2087498433896542,
          0.2087498433896542,
          0.2087498433896542,
          0.2125379884588198,
          0.2125379884588198,
          0.2125379884588198,
          0.2119815517693712,
          0.213977479920203,
          0.213977479920203,
          0.2134274804096776,
          0.2135785252528563,
          0.2135785252528563,
          0.2135785252528563,
          0.2147786546786765,
          0.2147786546786765,
          0.2147786546786765,
          0.214495838115674,
          0.2137279634429916,
          0.2128976314054806,
          0.2146508159472695,
          0.2135198918820799,
          0.2135198918820799,
          0.2135198918820799,
          0.2140403409379132,
          0.2127166917207645,
          0.2127166917207645,
          0.2123257638988462,
          0.210617684868529,
          0.2115748042010636,
          0.2124404952869696,
          0.2095005442874651,
          0.2064445979810223,
          0.2072389381124644,
          0.2087589315768117,
          0.2087589315768117,
          0.2091495603812907,
          0.2105598992828472,
          0.2108469074991035,
          0.2099700814343599,
          0.2099700814343599,
          0.2099700814343599,
          0.2099700814343599,
          0.2099700814343599,
          0.2114514262310063,
          0.2114514262310063,
          0.2114514262310063,
          0.2114514262310063,
          0.2114514262310063,
          0.2104354032163939,
          0.2114740049987062,
          0.2120483098077858,
          0.2134779257373695,
          0.2129388953779303,
          0.2129388953779303,
          0.2123835956726001,
          0.2129403248926928,
          0.2140800586327262,
          0.2171814947277184,
          0.2178378372153133,
          0.216769039553931,
          0.2159887370563566,
          0.2183074452355171,
          0.2183074452355171,
          0.2181111223187297,
          0.2153651172137287,
          0.2135106712519885,
          0.2135106712519885,
          0.2135106712519885,
          0.2141378675843332,
          0.2130937117740465,
          0.2130937117740465,
          0.2133250163982012,
          0.212030458866308,
          0.213137027946634,
          0.213137027946634,
          0.214239082044493,
          0.2163114045481506,
          0.2179978298568867,
          0.2167083889285139,
          0.2129486440278682,
          0.2129441876782234,
          0.2137139581175304,
          0.2137139581175304,
          0.2137139581175304,
          0.2122684158602084,
          0.2122684158602084,
          0.2137849428040157,
          0.2146928649840038,
          0.2146928649840038,
          0.217113621289986,
          0.217113621289986,
          0.2161535932662737,
          0.2161535932662737,
          0.2147254016926769,
          0.2146134163049993,
          0.2188288007070671,
          0.2193405927726894,
          0.2193405927726894,
          0.216865870929972,
          0.2174089944024082,
          0.2176701782774959,
          0.2176701782774959,
          0.2168864794325475,
          0.2224103049028727,
          0.2220102838834616,
          0.2197447308884976,
          0.2218606526798376,
          0.2160674922035887,
          0.2148731528769722,
          0.212816194135712,
          0.2134704281787858,
          0.2077557138738868,
          0.2027174369381157,
          0.2027174369381157,
          0.1999223520209421,
          0.1999223520209421,
          0.1999223520209421,
          0.1999223520209421,
          0.2003139086323662,
          0.2028964774901425,
          0.2027717960647024,
          0.2026397990171702,
          0.2037593502272905,
          0.2033208695431616,
          0.2045252043488368,
          0.204014981427969,
          0.2051881213976649,
          0.205370248783101,
          0.204524652347704,
          0.2027216365747115,
          0.2030547249922971,
          0.2030547249922971,
          0.2032932001307976,
          0.20415037630036,
          0.2047283006370293,
          0.2036377212341245,
          0.2032727388793773,
          0.1984675056584706,
          0.1994948917638161,
          0.2015392022774218,
          0.2027012788158533,
          0.2008289820100737,
          0.1999527187216365,
          0.2015854291692331,
          0.2037727341386181,
          0.2104378171296863,
          0.2104378171296863,
          0.2092182149781933,
          0.2098745593512552,
          0.2098745593512552,
          0.2098745593512552,
          0.2177973109535038,
          0.2183215662934223,
          0.2183215662934223,
          0.2183215662934223,
          0.2183215662934223,
          0.2204786584820439,
          0.2244484112041966,
          0.224357941520422,
          0.2226690619525575,
          0.2237961567263244,
          0.2224985921614575,
          0.2235648262995937,
          0.2215705760246464,
          0.213595193538806,
          0.2120471019544147,
          0.2126798962826157,
          0.209982493171827,
          0.2157433262602239,
          0.2148850352075859,
          0.2129134580132792,
          0.2129134580132792,
          0.209063953587127,
          0.2072193854964759,
          0.2098718889449884,
          0.2026315738446165,
          0.2028078102265551,
          0.201214946144332,
          0.2008756079281948,
          0.1961362080562008,
          0.1969650543459602,
          0.1969650543459602,
          0.197746664530598,
          0.1994579191638097,
          0.1977569849757943,
          0.1996126155583431,
          0.2017958214878046,
          0.1994541554576603,
          0.197580291362895
         ],
         "yaxis": "y"
        },
        {
         "hovertemplate": "variable=myr_gbp<br>Date=%{x}<br>Exchange Rate=%{y}<extra></extra>",
         "legendgroup": "myr_gbp",
         "line": {
          "color": "#ab63fa",
          "dash": "solid"
         },
         "marker": {
          "symbol": "circle"
         },
         "mode": "markers+lines",
         "name": "GBP",
         "orientation": "v",
         "showlegend": true,
         "type": "scatter",
         "x": [
          "2012-01-06T00:00:00",
          "2013-05-01T00:00:00",
          "2017-05-31T00:00:00",
          "2017-06-01T00:00:00",
          "2017-06-01T00:00:00",
          "2017-06-02T00:00:00",
          "2017-06-03T00:00:00",
          "2017-06-08T00:00:00",
          "2017-06-16T00:00:00",
          "2017-06-19T00:00:00",
          "2017-06-30T00:00:00",
          "2017-07-05T00:00:00",
          "2017-07-05T00:00:00",
          "2017-07-20T00:00:00",
          "2017-07-27T00:00:00",
          "2017-08-07T00:00:00",
          "2017-08-15T00:00:00",
          "2017-08-21T00:00:00",
          "2017-08-21T00:00:00",
          "2017-09-06T00:00:00",
          "2017-09-14T00:00:00",
          "2017-10-02T00:00:00",
          "2017-10-20T00:00:00",
          "2017-10-24T00:00:00",
          "2017-11-01T00:00:00",
          "2017-12-14T00:00:00",
          "2017-12-24T00:00:00",
          "2017-12-27T00:00:00",
          "2018-01-08T00:00:00",
          "2018-01-18T00:00:00",
          "2018-01-19T00:00:00",
          "2018-01-30T00:00:00",
          "2018-02-14T00:00:00",
          "2018-02-15T00:00:00",
          "2018-02-18T00:00:00",
          "2018-03-16T00:00:00",
          "2018-03-26T00:00:00",
          "2018-04-12T00:00:00",
          "2018-04-21T00:00:00",
          "2018-05-05T00:00:00",
          "2018-05-07T00:00:00",
          "2018-05-07T00:00:00",
          "2018-05-08T00:00:00",
          "2018-05-08T00:00:00",
          "2018-05-09T00:00:00",
          "2018-05-10T00:00:00",
          "2018-05-10T00:00:00",
          "2018-05-10T00:00:00",
          "2018-05-10T00:00:00",
          "2018-05-10T00:00:00",
          "2018-05-11T00:00:00",
          "2018-05-12T00:00:00",
          "2018-05-12T00:00:00",
          "2018-05-14T00:00:00",
          "2018-05-16T00:00:00",
          "2018-05-16T00:00:00",
          "2018-05-17T00:00:00",
          "2018-05-18T00:00:00",
          "2018-05-18T00:00:00",
          "2018-05-19T00:00:00",
          "2018-05-24T00:00:00",
          "2018-05-24T00:00:00",
          "2018-05-24T00:00:00",
          "2018-05-25T00:00:00",
          "2018-06-07T00:00:00",
          "2018-06-11T00:00:00",
          "2018-06-25T00:00:00",
          "2018-06-27T00:00:00",
          "2018-06-27T00:00:00",
          "2018-06-27T00:00:00",
          "2018-07-01T00:00:00",
          "2018-07-03T00:00:00",
          "2018-07-03T00:00:00",
          "2018-07-04T00:00:00",
          "2018-07-31T00:00:00",
          "2018-08-08T00:00:00",
          "2018-08-21T00:00:00",
          "2018-09-03T00:00:00",
          "2018-09-14T00:00:00",
          "2018-09-20T00:00:00",
          "2018-10-02T00:00:00",
          "2018-10-02T00:00:00",
          "2018-10-03T00:00:00",
          "2018-10-04T00:00:00",
          "2018-10-31T00:00:00",
          "2018-11-04T00:00:00",
          "2018-11-04T00:00:00",
          "2018-11-04T00:00:00",
          "2018-11-04T00:00:00",
          "2018-11-04T00:00:00",
          "2018-11-12T00:00:00",
          "2018-11-12T00:00:00",
          "2018-11-12T00:00:00",
          "2018-11-12T00:00:00",
          "2018-11-12T00:00:00",
          "2018-11-26T00:00:00",
          "2018-12-17T00:00:00",
          "2019-01-06T00:00:00",
          "2019-01-16T00:00:00",
          "2019-01-23T00:00:00",
          "2019-01-23T00:00:00",
          "2019-01-24T00:00:00",
          "2019-01-31T00:00:00",
          "2019-02-05T00:00:00",
          "2019-02-11T00:00:00",
          "2019-02-12T00:00:00",
          "2019-02-13T00:00:00",
          "2019-03-14T00:00:00",
          "2019-04-03T00:00:00",
          "2019-04-03T00:00:00",
          "2019-04-04T00:00:00",
          "2019-05-07T00:00:00",
          "2019-05-28T00:00:00",
          "2019-05-28T00:00:00",
          "2019-05-28T00:00:00",
          "2019-05-30T00:00:00",
          "2019-06-10T00:00:00",
          "2019-06-10T00:00:00",
          "2019-06-20T00:00:00",
          "2019-06-25T00:00:00",
          "2019-06-26T00:00:00",
          "2019-06-26T00:00:00",
          "2019-07-04T00:00:00",
          "2019-07-20T00:00:00",
          "2019-08-04T00:00:00",
          "2019-08-05T00:00:00",
          "2019-08-06T00:00:00",
          "2019-08-07T00:00:00",
          "2019-08-09T00:00:00",
          "2019-08-10T00:00:00",
          "2019-08-11T00:00:00",
          "2019-08-13T00:00:00",
          "2019-08-13T00:00:00",
          "2019-08-14T00:00:00",
          "2019-08-28T00:00:00",
          "2019-08-28T00:00:00",
          "2019-09-13T00:00:00",
          "2019-09-14T00:00:00",
          "2019-09-20T00:00:00",
          "2019-09-20T00:00:00",
          "2019-10-31T00:00:00",
          "2019-11-01T00:00:00",
          "2019-11-12T00:00:00",
          "2019-11-13T00:00:00",
          "2019-11-13T00:00:00",
          "2019-11-23T00:00:00",
          "2019-11-26T00:00:00",
          "2019-11-29T00:00:00",
          "2019-11-30T00:00:00",
          "2019-12-17T00:00:00",
          "2020-01-20T00:00:00",
          "2020-02-01T00:00:00",
          "2020-02-04T00:00:00",
          "2020-02-21T00:00:00",
          "2020-03-01T00:00:00",
          "2020-03-05T00:00:00",
          "2020-05-02T00:00:00",
          "2020-05-14T00:00:00",
          "2020-06-09T00:00:00",
          "2020-07-24T00:00:00",
          "2020-07-25T00:00:00",
          "2020-07-28T00:00:00",
          "2020-07-28T00:00:00",
          "2020-07-28T00:00:00",
          "2020-07-28T00:00:00",
          "2020-08-03T00:00:00",
          "2020-08-24T00:00:00",
          "2020-08-26T00:00:00",
          "2020-08-27T00:00:00",
          "2020-09-07T00:00:00",
          "2020-09-15T00:00:00",
          "2020-09-16T00:00:00",
          "2020-09-19T00:00:00",
          "2020-09-29T00:00:00",
          "2020-10-01T00:00:00",
          "2020-10-08T00:00:00",
          "2020-12-21T00:00:00",
          "2021-01-04T00:00:00",
          "2021-01-04T00:00:00",
          "2021-01-12T00:00:00",
          "2021-01-21T00:00:00",
          "2021-02-19T00:00:00",
          "2021-02-24T00:00:00",
          "2021-03-11T00:00:00",
          "2021-06-02T00:00:00",
          "2021-06-13T00:00:00",
          "2021-06-24T00:00:00",
          "2021-07-05T00:00:00",
          "2021-07-20T00:00:00",
          "2021-07-28T00:00:00",
          "2021-08-10T00:00:00",
          "2021-09-24T00:00:00",
          "2021-11-19T00:00:00",
          "2021-11-19T00:00:00",
          "2021-12-03T00:00:00",
          "2021-12-21T00:00:00",
          "2021-12-21T00:00:00",
          "2021-12-21T00:00:00",
          "2022-04-07T00:00:00",
          "2022-04-08T00:00:00",
          "2022-04-08T00:00:00",
          "2022-04-09T00:00:00",
          "2022-04-09T00:00:00",
          "2022-07-31T00:00:00",
          "2022-08-23T00:00:00",
          "2022-08-27T00:00:00",
          "2022-09-01T00:00:00",
          "2022-09-06T00:00:00",
          "2022-09-14T00:00:00",
          "2022-09-22T00:00:00",
          "2022-10-11T00:00:00",
          "2022-10-25T00:00:00",
          "2022-11-20T00:00:00",
          "2022-11-21T00:00:00",
          "2022-11-24T00:00:00",
          "2022-12-03T00:00:00",
          "2022-12-13T00:00:00",
          "2022-12-16T00:00:00",
          "2022-12-16T00:00:00",
          "2023-03-09T00:00:00",
          "2023-03-10T00:00:00",
          "2023-04-03T00:00:00",
          "2023-05-30T00:00:00",
          "2023-06-07T00:00:00",
          "2023-06-13T00:00:00",
          "2023-06-14T00:00:00",
          "2023-07-17T00:00:00",
          "2023-07-22T00:00:00",
          "2023-07-23T00:00:00",
          "2023-07-25T00:00:00",
          "2023-08-07T00:00:00",
          "2023-08-17T00:00:00",
          "2023-10-10T00:00:00",
          "2023-11-08T00:00:00",
          "2023-11-13T00:00:00",
          "2023-12-05T00:00:00"
         ],
         "xaxis": "x",
         "y": [
          0.2050443273831881,
          0.2117662401796707,
          0.1820534986612623,
          0.181232057775631,
          0.181232057775631,
          0.1813909992314766,
          0.1813909992314766,
          0.1810985918612377,
          0.1833879192239109,
          0.1830409437287272,
          0.1791121046686816,
          0.1800000040260005,
          0.1800000040260005,
          0.1788995114997522,
          0.1783625716397985,
          0.1791003617437292,
          0.1796436536423407,
          0.1813000275396277,
          0.1813000275396277,
          0.1810198265067804,
          0.1801213091618319,
          0.1764594596299584,
          0.1800876425938824,
          0.1789647847168751,
          0.1778954799837118,
          0.1826874143479608,
          0.1833562233768759,
          0.1832998259637781,
          0.1844035455521826,
          0.1830207718754941,
          0.182850601587063,
          0.1822239305970789,
          0.1846173398440616,
          0.1833761595569285,
          0.1821945251530046,
          0.1836503279868928,
          0.1817137085159004,
          0.1820170453744705,
          0.18261093495882,
          0.186907673058565,
          0.1876561835246182,
          0.1876561835246182,
          0.1869592664870367,
          0.1869592664870367,
          0.1849868492200279,
          0.1825893516347436,
          0.1825893516347436,
          0.1825893516347436,
          0.1825893516347436,
          0.1825893516347436,
          0.187299890981194,
          0.187299890981194,
          0.187299890981194,
          0.1869315175663466,
          0.1873605514615377,
          0.1873605514615377,
          0.1861538388797043,
          0.1863962565107684,
          0.1863962565107684,
          0.1863962565107684,
          0.1880960732361298,
          0.1880960732361298,
          0.1880960732361298,
          0.187877787006002,
          0.1876750584266062,
          0.1870296051302222,
          0.1887384310727622,
          0.1881517403096397,
          0.1881517403096397,
          0.1881517403096397,
          0.1892859815420129,
          0.1884101011182011,
          0.1884101011182011,
          0.1876222186932352,
          0.1877203887152045,
          0.1896158019524136,
          0.1906574226374857,
          0.1880690344008275,
          0.1840936485064723,
          0.184111580628576,
          0.1852954734997425,
          0.1852954734997425,
          0.1861077496048961,
          0.1867336824717558,
          0.1882416308833399,
          0.184127866978593,
          0.184127866978593,
          0.184127866978593,
          0.184127866978593,
          0.184127866978593,
          0.1850834471596218,
          0.1850834471596218,
          0.1850834471596218,
          0.1850834471596218,
          0.1850834471596218,
          0.1862101794409829,
          0.1899725108634165,
          0.1912657100803381,
          0.1893419389992452,
          0.1867489398513209,
          0.1867489398513209,
          0.1848833000106395,
          0.1864872784511764,
          0.1878810255894691,
          0.1901106665058272,
          0.1909975440936122,
          0.1905823032927074,
          0.1842119486108142,
          0.1863152699840675,
          0.1863152699840675,
          0.1861645974438426,
          0.1841692597166062,
          0.1884515202925207,
          0.1884515202925207,
          0.1884515202925207,
          0.1888385585354868,
          0.1895983534033831,
          0.1895983534033831,
          0.1894224416320469,
          0.1897389417080397,
          0.1909560122488427,
          0.1909560122488427,
          0.1921936659363465,
          0.1942291267474161,
          0.1992005791978357,
          0.1980886744293917,
          0.1969328404065997,
          0.1960981335053926,
          0.1968799284386406,
          0.1968799284386406,
          0.1968799284386406,
          0.1971472110331333,
          0.1971472110331333,
          0.1980645131265515,
          0.1938381066710039,
          0.1938381066710039,
          0.1947300179336375,
          0.1947300179336375,
          0.1906717797782935,
          0.1906717797782935,
          0.1856458546782313,
          0.1850489670949855,
          0.187804890747711,
          0.1879420311751687,
          0.1879420311751687,
          0.1857451496031004,
          0.1856704921629237,
          0.1856232092880603,
          0.1856232092880603,
          0.1819903488524641,
          0.1897053780257316,
          0.187071497745717,
          0.1870377867234989,
          0.1857782227087545,
          0.1843554827633031,
          0.1859023558083379,
          0.1851432440139548,
          0.1887453802400962,
          0.1844321759938196,
          0.1846497339536403,
          0.1846497339536403,
          0.1825435308637075,
          0.1825435308637075,
          0.1825435308637075,
          0.1825435308637075,
          0.1801416119381844,
          0.1828127001303059,
          0.1824646195999335,
          0.1815310852143525,
          0.1820496768202444,
          0.1878194893722158,
          0.1880111505221338,
          0.186289580499932,
          0.1861466717992286,
          0.1864274417148301,
          0.1863152696869541,
          0.1847845357533764,
          0.1817835771970184,
          0.1817835771970184,
          0.1827985151727311,
          0.1809571977674391,
          0.1772372738241756,
          0.1752536519105163,
          0.1740121315305884,
          0.1712803016405217,
          0.1713720223799608,
          0.1721861508506208,
          0.1737563113048725,
          0.1732662247540135,
          0.1702884163996287,
          0.1708637043203147,
          0.1743373352506809,
          0.1772153271381453,
          0.1772153271381453,
          0.1778545251997929,
          0.1791720724048584,
          0.1791720724048584,
          0.1791720724048584,
          0.1815784534191031,
          0.1814958110631845,
          0.1814958110631845,
          0.1814958110631845,
          0.1814958110631845,
          0.1845977596976382,
          0.1895973208794696,
          0.189202907932831,
          0.1927305281293279,
          0.1925631522396624,
          0.1930260852262222,
          0.195257128091697,
          0.1942383835218777,
          0.1867490357567129,
          0.1852569534350543,
          0.1848482871337751,
          0.1811592283530787,
          0.18528335690167,
          0.1846052687042814,
          0.1858631585508625,
          0.1858631585508625,
          0.1856052198568303,
          0.1832765028626006,
          0.1845300973748393,
          0.1752240026616496,
          0.1744799168974911,
          0.1730416918948334,
          0.1719159133896877,
          0.1686158229991683,
          0.1704831814755056,
          0.1704831814755056,
          0.1707460089104984,
          0.171699774460925,
          0.1686666640406491,
          0.1722226909663389,
          0.1755989682256142,
          0.1743667387922727,
          0.169488214683259
         ],
         "yaxis": "y"
        }
       ],
       "layout": {
        "legend": {
         "title": {
          "text": "variable"
         },
         "tracegroupgap": 0
        },
        "template": {
         "data": {
          "bar": [
           {
            "error_x": {
             "color": "#2a3f5f"
            },
            "error_y": {
             "color": "#2a3f5f"
            },
            "marker": {
             "line": {
              "color": "#E5ECF6",
              "width": 0.5
             },
             "pattern": {
              "fillmode": "overlay",
              "size": 10,
              "solidity": 0.2
             }
            },
            "type": "bar"
           }
          ],
          "barpolar": [
           {
            "marker": {
             "line": {
              "color": "#E5ECF6",
              "width": 0.5
             },
             "pattern": {
              "fillmode": "overlay",
              "size": 10,
              "solidity": 0.2
             }
            },
            "type": "barpolar"
           }
          ],
          "carpet": [
           {
            "aaxis": {
             "endlinecolor": "#2a3f5f",
             "gridcolor": "white",
             "linecolor": "white",
             "minorgridcolor": "white",
             "startlinecolor": "#2a3f5f"
            },
            "baxis": {
             "endlinecolor": "#2a3f5f",
             "gridcolor": "white",
             "linecolor": "white",
             "minorgridcolor": "white",
             "startlinecolor": "#2a3f5f"
            },
            "type": "carpet"
           }
          ],
          "choropleth": [
           {
            "colorbar": {
             "outlinewidth": 0,
             "ticks": ""
            },
            "type": "choropleth"
           }
          ],
          "contour": [
           {
            "colorbar": {
             "outlinewidth": 0,
             "ticks": ""
            },
            "colorscale": [
             [
              0,
              "#0d0887"
             ],
             [
              0.1111111111111111,
              "#46039f"
             ],
             [
              0.2222222222222222,
              "#7201a8"
             ],
             [
              0.3333333333333333,
              "#9c179e"
             ],
             [
              0.4444444444444444,
              "#bd3786"
             ],
             [
              0.5555555555555556,
              "#d8576b"
             ],
             [
              0.6666666666666666,
              "#ed7953"
             ],
             [
              0.7777777777777778,
              "#fb9f3a"
             ],
             [
              0.8888888888888888,
              "#fdca26"
             ],
             [
              1,
              "#f0f921"
             ]
            ],
            "type": "contour"
           }
          ],
          "contourcarpet": [
           {
            "colorbar": {
             "outlinewidth": 0,
             "ticks": ""
            },
            "type": "contourcarpet"
           }
          ],
          "heatmap": [
           {
            "colorbar": {
             "outlinewidth": 0,
             "ticks": ""
            },
            "colorscale": [
             [
              0,
              "#0d0887"
             ],
             [
              0.1111111111111111,
              "#46039f"
             ],
             [
              0.2222222222222222,
              "#7201a8"
             ],
             [
              0.3333333333333333,
              "#9c179e"
             ],
             [
              0.4444444444444444,
              "#bd3786"
             ],
             [
              0.5555555555555556,
              "#d8576b"
             ],
             [
              0.6666666666666666,
              "#ed7953"
             ],
             [
              0.7777777777777778,
              "#fb9f3a"
             ],
             [
              0.8888888888888888,
              "#fdca26"
             ],
             [
              1,
              "#f0f921"
             ]
            ],
            "type": "heatmap"
           }
          ],
          "heatmapgl": [
           {
            "colorbar": {
             "outlinewidth": 0,
             "ticks": ""
            },
            "colorscale": [
             [
              0,
              "#0d0887"
             ],
             [
              0.1111111111111111,
              "#46039f"
             ],
             [
              0.2222222222222222,
              "#7201a8"
             ],
             [
              0.3333333333333333,
              "#9c179e"
             ],
             [
              0.4444444444444444,
              "#bd3786"
             ],
             [
              0.5555555555555556,
              "#d8576b"
             ],
             [
              0.6666666666666666,
              "#ed7953"
             ],
             [
              0.7777777777777778,
              "#fb9f3a"
             ],
             [
              0.8888888888888888,
              "#fdca26"
             ],
             [
              1,
              "#f0f921"
             ]
            ],
            "type": "heatmapgl"
           }
          ],
          "histogram": [
           {
            "marker": {
             "pattern": {
              "fillmode": "overlay",
              "size": 10,
              "solidity": 0.2
             }
            },
            "type": "histogram"
           }
          ],
          "histogram2d": [
           {
            "colorbar": {
             "outlinewidth": 0,
             "ticks": ""
            },
            "colorscale": [
             [
              0,
              "#0d0887"
             ],
             [
              0.1111111111111111,
              "#46039f"
             ],
             [
              0.2222222222222222,
              "#7201a8"
             ],
             [
              0.3333333333333333,
              "#9c179e"
             ],
             [
              0.4444444444444444,
              "#bd3786"
             ],
             [
              0.5555555555555556,
              "#d8576b"
             ],
             [
              0.6666666666666666,
              "#ed7953"
             ],
             [
              0.7777777777777778,
              "#fb9f3a"
             ],
             [
              0.8888888888888888,
              "#fdca26"
             ],
             [
              1,
              "#f0f921"
             ]
            ],
            "type": "histogram2d"
           }
          ],
          "histogram2dcontour": [
           {
            "colorbar": {
             "outlinewidth": 0,
             "ticks": ""
            },
            "colorscale": [
             [
              0,
              "#0d0887"
             ],
             [
              0.1111111111111111,
              "#46039f"
             ],
             [
              0.2222222222222222,
              "#7201a8"
             ],
             [
              0.3333333333333333,
              "#9c179e"
             ],
             [
              0.4444444444444444,
              "#bd3786"
             ],
             [
              0.5555555555555556,
              "#d8576b"
             ],
             [
              0.6666666666666666,
              "#ed7953"
             ],
             [
              0.7777777777777778,
              "#fb9f3a"
             ],
             [
              0.8888888888888888,
              "#fdca26"
             ],
             [
              1,
              "#f0f921"
             ]
            ],
            "type": "histogram2dcontour"
           }
          ],
          "mesh3d": [
           {
            "colorbar": {
             "outlinewidth": 0,
             "ticks": ""
            },
            "type": "mesh3d"
           }
          ],
          "parcoords": [
           {
            "line": {
             "colorbar": {
              "outlinewidth": 0,
              "ticks": ""
             }
            },
            "type": "parcoords"
           }
          ],
          "pie": [
           {
            "automargin": true,
            "type": "pie"
           }
          ],
          "scatter": [
           {
            "fillpattern": {
             "fillmode": "overlay",
             "size": 10,
             "solidity": 0.2
            },
            "type": "scatter"
           }
          ],
          "scatter3d": [
           {
            "line": {
             "colorbar": {
              "outlinewidth": 0,
              "ticks": ""
             }
            },
            "marker": {
             "colorbar": {
              "outlinewidth": 0,
              "ticks": ""
             }
            },
            "type": "scatter3d"
           }
          ],
          "scattercarpet": [
           {
            "marker": {
             "colorbar": {
              "outlinewidth": 0,
              "ticks": ""
             }
            },
            "type": "scattercarpet"
           }
          ],
          "scattergeo": [
           {
            "marker": {
             "colorbar": {
              "outlinewidth": 0,
              "ticks": ""
             }
            },
            "type": "scattergeo"
           }
          ],
          "scattergl": [
           {
            "marker": {
             "colorbar": {
              "outlinewidth": 0,
              "ticks": ""
             }
            },
            "type": "scattergl"
           }
          ],
          "scattermapbox": [
           {
            "marker": {
             "colorbar": {
              "outlinewidth": 0,
              "ticks": ""
             }
            },
            "type": "scattermapbox"
           }
          ],
          "scatterpolar": [
           {
            "marker": {
             "colorbar": {
              "outlinewidth": 0,
              "ticks": ""
             }
            },
            "type": "scatterpolar"
           }
          ],
          "scatterpolargl": [
           {
            "marker": {
             "colorbar": {
              "outlinewidth": 0,
              "ticks": ""
             }
            },
            "type": "scatterpolargl"
           }
          ],
          "scatterternary": [
           {
            "marker": {
             "colorbar": {
              "outlinewidth": 0,
              "ticks": ""
             }
            },
            "type": "scatterternary"
           }
          ],
          "surface": [
           {
            "colorbar": {
             "outlinewidth": 0,
             "ticks": ""
            },
            "colorscale": [
             [
              0,
              "#0d0887"
             ],
             [
              0.1111111111111111,
              "#46039f"
             ],
             [
              0.2222222222222222,
              "#7201a8"
             ],
             [
              0.3333333333333333,
              "#9c179e"
             ],
             [
              0.4444444444444444,
              "#bd3786"
             ],
             [
              0.5555555555555556,
              "#d8576b"
             ],
             [
              0.6666666666666666,
              "#ed7953"
             ],
             [
              0.7777777777777778,
              "#fb9f3a"
             ],
             [
              0.8888888888888888,
              "#fdca26"
             ],
             [
              1,
              "#f0f921"
             ]
            ],
            "type": "surface"
           }
          ],
          "table": [
           {
            "cells": {
             "fill": {
              "color": "#EBF0F8"
             },
             "line": {
              "color": "white"
             }
            },
            "header": {
             "fill": {
              "color": "#C8D4E3"
             },
             "line": {
              "color": "white"
             }
            },
            "type": "table"
           }
          ]
         },
         "layout": {
          "annotationdefaults": {
           "arrowcolor": "#2a3f5f",
           "arrowhead": 0,
           "arrowwidth": 1
          },
          "autotypenumbers": "strict",
          "coloraxis": {
           "colorbar": {
            "outlinewidth": 0,
            "ticks": ""
           }
          },
          "colorscale": {
           "diverging": [
            [
             0,
             "#8e0152"
            ],
            [
             0.1,
             "#c51b7d"
            ],
            [
             0.2,
             "#de77ae"
            ],
            [
             0.3,
             "#f1b6da"
            ],
            [
             0.4,
             "#fde0ef"
            ],
            [
             0.5,
             "#f7f7f7"
            ],
            [
             0.6,
             "#e6f5d0"
            ],
            [
             0.7,
             "#b8e186"
            ],
            [
             0.8,
             "#7fbc41"
            ],
            [
             0.9,
             "#4d9221"
            ],
            [
             1,
             "#276419"
            ]
           ],
           "sequential": [
            [
             0,
             "#0d0887"
            ],
            [
             0.1111111111111111,
             "#46039f"
            ],
            [
             0.2222222222222222,
             "#7201a8"
            ],
            [
             0.3333333333333333,
             "#9c179e"
            ],
            [
             0.4444444444444444,
             "#bd3786"
            ],
            [
             0.5555555555555556,
             "#d8576b"
            ],
            [
             0.6666666666666666,
             "#ed7953"
            ],
            [
             0.7777777777777778,
             "#fb9f3a"
            ],
            [
             0.8888888888888888,
             "#fdca26"
            ],
            [
             1,
             "#f0f921"
            ]
           ],
           "sequentialminus": [
            [
             0,
             "#0d0887"
            ],
            [
             0.1111111111111111,
             "#46039f"
            ],
            [
             0.2222222222222222,
             "#7201a8"
            ],
            [
             0.3333333333333333,
             "#9c179e"
            ],
            [
             0.4444444444444444,
             "#bd3786"
            ],
            [
             0.5555555555555556,
             "#d8576b"
            ],
            [
             0.6666666666666666,
             "#ed7953"
            ],
            [
             0.7777777777777778,
             "#fb9f3a"
            ],
            [
             0.8888888888888888,
             "#fdca26"
            ],
            [
             1,
             "#f0f921"
            ]
           ]
          },
          "colorway": [
           "#636efa",
           "#EF553B",
           "#00cc96",
           "#ab63fa",
           "#FFA15A",
           "#19d3f3",
           "#FF6692",
           "#B6E880",
           "#FF97FF",
           "#FECB52"
          ],
          "font": {
           "color": "#2a3f5f"
          },
          "geo": {
           "bgcolor": "white",
           "lakecolor": "white",
           "landcolor": "#E5ECF6",
           "showlakes": true,
           "showland": true,
           "subunitcolor": "white"
          },
          "hoverlabel": {
           "align": "left"
          },
          "hovermode": "closest",
          "mapbox": {
           "style": "light"
          },
          "paper_bgcolor": "white",
          "plot_bgcolor": "#E5ECF6",
          "polar": {
           "angularaxis": {
            "gridcolor": "white",
            "linecolor": "white",
            "ticks": ""
           },
           "bgcolor": "#E5ECF6",
           "radialaxis": {
            "gridcolor": "white",
            "linecolor": "white",
            "ticks": ""
           }
          },
          "scene": {
           "xaxis": {
            "backgroundcolor": "#E5ECF6",
            "gridcolor": "white",
            "gridwidth": 2,
            "linecolor": "white",
            "showbackground": true,
            "ticks": "",
            "zerolinecolor": "white"
           },
           "yaxis": {
            "backgroundcolor": "#E5ECF6",
            "gridcolor": "white",
            "gridwidth": 2,
            "linecolor": "white",
            "showbackground": true,
            "ticks": "",
            "zerolinecolor": "white"
           },
           "zaxis": {
            "backgroundcolor": "#E5ECF6",
            "gridcolor": "white",
            "gridwidth": 2,
            "linecolor": "white",
            "showbackground": true,
            "ticks": "",
            "zerolinecolor": "white"
           }
          },
          "shapedefaults": {
           "line": {
            "color": "#2a3f5f"
           }
          },
          "ternary": {
           "aaxis": {
            "gridcolor": "white",
            "linecolor": "white",
            "ticks": ""
           },
           "baxis": {
            "gridcolor": "white",
            "linecolor": "white",
            "ticks": ""
           },
           "bgcolor": "#E5ECF6",
           "caxis": {
            "gridcolor": "white",
            "linecolor": "white",
            "ticks": ""
           }
          },
          "title": {
           "x": 0.05
          },
          "xaxis": {
           "automargin": true,
           "gridcolor": "white",
           "linecolor": "white",
           "ticks": "",
           "title": {
            "standoff": 15
           },
           "zerolinecolor": "white",
           "zerolinewidth": 2
          },
          "yaxis": {
           "automargin": true,
           "gridcolor": "white",
           "linecolor": "white",
           "ticks": "",
           "title": {
            "standoff": 15
           },
           "zerolinecolor": "white",
           "zerolinewidth": 2
          }
         }
        },
        "title": {
         "text": "MYR and Other Currencies: How BBC News Affects Their Values"
        },
        "xaxis": {
         "anchor": "y",
         "domain": [
          0,
          1
         ],
         "title": {
          "text": "Date"
         }
        },
        "yaxis": {
         "anchor": "x",
         "domain": [
          0,
          1
         ],
         "title": {
          "text": "Exchange Rate"
         }
        }
       }
      }
     },
     "metadata": {},
     "output_type": "display_data"
    }
   ],
   "source": [
    "fig = px.line(df_merged,x='date',y=['myr_usd','myr_sgd','myr_eur','myr_gbp'],\n",
    "              labels={\"value\": 'Exchange Rate','date':'Date'},\n",
    "              markers=True,title=\"MYR and Other Currencies: How BBC News Affects Their Values\",\n",
    "              )\n",
    "fig.for_each_trace(lambda x : x.update(name =x.name.split('_')[1].upper()))\n",
    "fig.show()"
   ]
  },
  {
   "cell_type": "code",
   "execution_count": 13,
   "metadata": {},
   "outputs": [],
   "source": [
    "df_merged = df_merged.loc[:,['title','description','date','site','section','myr_usd','myr_sgd','myr_eur','myr_gbp']]"
   ]
  },
  {
   "cell_type": "code",
   "execution_count": 14,
   "metadata": {},
   "outputs": [
    {
     "data": {
      "text/html": [
       "<div>\n",
       "<style scoped>\n",
       "    .dataframe tbody tr th:only-of-type {\n",
       "        vertical-align: middle;\n",
       "    }\n",
       "\n",
       "    .dataframe tbody tr th {\n",
       "        vertical-align: top;\n",
       "    }\n",
       "\n",
       "    .dataframe thead th {\n",
       "        text-align: right;\n",
       "    }\n",
       "</style>\n",
       "<table border=\"1\" class=\"dataframe\">\n",
       "  <thead>\n",
       "    <tr style=\"text-align: right;\">\n",
       "      <th></th>\n",
       "      <th>title</th>\n",
       "      <th>description</th>\n",
       "      <th>date</th>\n",
       "      <th>site</th>\n",
       "      <th>section</th>\n",
       "      <th>myr_usd</th>\n",
       "      <th>myr_sgd</th>\n",
       "      <th>myr_eur</th>\n",
       "      <th>myr_gbp</th>\n",
       "    </tr>\n",
       "  </thead>\n",
       "  <tbody>\n",
       "    <tr>\n",
       "      <th>0</th>\n",
       "      <td>Anwar Ibrahim: The man who fulfilled his goal ...</td>\n",
       "      <td>After a decades-long quest to become premier, ...</td>\n",
       "      <td>2012-01-06</td>\n",
       "      <td>Asia</td>\n",
       "      <td>News</td>\n",
       "      <td>0.317854</td>\n",
       "      <td>0.410476</td>\n",
       "      <td>0.248400</td>\n",
       "      <td>0.205044</td>\n",
       "    </tr>\n",
       "    <tr>\n",
       "      <th>1</th>\n",
       "      <td>Najib Razak: Malaysia's former PM and his down...</td>\n",
       "      <td>The former PM promised to boost Malaysia's eco...</td>\n",
       "      <td>2013-05-01</td>\n",
       "      <td>Asia</td>\n",
       "      <td>News</td>\n",
       "      <td>0.329034</td>\n",
       "      <td>0.405136</td>\n",
       "      <td>0.249868</td>\n",
       "      <td>0.211766</td>\n",
       "    </tr>\n",
       "    <tr>\n",
       "      <th>2</th>\n",
       "      <td>Malaysia Airlines plane turns back after cockp...</td>\n",
       "      <td>The Malaysia Airlines jet returned to Melbourn...</td>\n",
       "      <td>2017-05-31</td>\n",
       "      <td>Australia</td>\n",
       "      <td>News</td>\n",
       "      <td>0.233193</td>\n",
       "      <td>0.323112</td>\n",
       "      <td>0.208735</td>\n",
       "      <td>0.182053</td>\n",
       "    </tr>\n",
       "    <tr>\n",
       "      <th>3</th>\n",
       "      <td>Malaysia Airlines plane threat foiled by 'hero...</td>\n",
       "      <td>A witness tells how passengers tackled a man w...</td>\n",
       "      <td>2017-06-01</td>\n",
       "      <td>Australia</td>\n",
       "      <td>News</td>\n",
       "      <td>0.233345</td>\n",
       "      <td>0.322858</td>\n",
       "      <td>0.207537</td>\n",
       "      <td>0.181232</td>\n",
       "    </tr>\n",
       "    <tr>\n",
       "      <th>4</th>\n",
       "      <td>Malaysia airline cockpit scare</td>\n",
       "      <td>The moment armed police carried a man off a fl...</td>\n",
       "      <td>2017-06-01</td>\n",
       "      <td>World</td>\n",
       "      <td>News</td>\n",
       "      <td>0.233345</td>\n",
       "      <td>0.322858</td>\n",
       "      <td>0.207537</td>\n",
       "      <td>0.181232</td>\n",
       "    </tr>\n",
       "    <tr>\n",
       "      <th>...</th>\n",
       "      <td>...</td>\n",
       "      <td>...</td>\n",
       "      <td>...</td>\n",
       "      <td>...</td>\n",
       "      <td>...</td>\n",
       "      <td>...</td>\n",
       "      <td>...</td>\n",
       "      <td>...</td>\n",
       "      <td>...</td>\n",
       "    </tr>\n",
       "    <tr>\n",
       "      <th>231</th>\n",
       "      <td>Private jet crashes onto Malaysia highway, kil...</td>\n",
       "      <td>Investigators are searching for the aircraft's...</td>\n",
       "      <td>2023-08-17</td>\n",
       "      <td>Asia</td>\n",
       "      <td>News</td>\n",
       "      <td>0.215054</td>\n",
       "      <td>0.292019</td>\n",
       "      <td>0.197757</td>\n",
       "      <td>0.168667</td>\n",
       "    </tr>\n",
       "    <tr>\n",
       "      <th>232</th>\n",
       "      <td>Matty Healy defends Malaysia kiss during 1975 ...</td>\n",
       "      <td>The 1975 frontman read a prepared speech from ...</td>\n",
       "      <td>2023-10-10</td>\n",
       "      <td>Entertainment &amp; Arts</td>\n",
       "      <td>News</td>\n",
       "      <td>0.211685</td>\n",
       "      <td>0.288474</td>\n",
       "      <td>0.199613</td>\n",
       "      <td>0.172223</td>\n",
       "    </tr>\n",
       "    <tr>\n",
       "      <th>233</th>\n",
       "      <td>Israel-Gaza: Malaysia will maintain ties with ...</td>\n",
       "      <td>Analysts say Mr Anwar's stand is politically e...</td>\n",
       "      <td>2023-11-08</td>\n",
       "      <td>Asia</td>\n",
       "      <td>News</td>\n",
       "      <td>0.215843</td>\n",
       "      <td>0.292348</td>\n",
       "      <td>0.201796</td>\n",
       "      <td>0.175599</td>\n",
       "    </tr>\n",
       "    <tr>\n",
       "      <th>234</th>\n",
       "      <td>Malaysian killer released from Australian immi...</td>\n",
       "      <td>An ex-policeman convicted in a politically cha...</td>\n",
       "      <td>2023-11-13</td>\n",
       "      <td>Australia</td>\n",
       "      <td>News</td>\n",
       "      <td>0.213220</td>\n",
       "      <td>0.289974</td>\n",
       "      <td>0.199454</td>\n",
       "      <td>0.174367</td>\n",
       "    </tr>\n",
       "    <tr>\n",
       "      <th>235</th>\n",
       "      <td>Forest City: Inside Malaysia's Chinese-built '...</td>\n",
       "      <td>Built during the Chinese property boom, Forest...</td>\n",
       "      <td>2023-12-05</td>\n",
       "      <td>Business</td>\n",
       "      <td>News</td>\n",
       "      <td>0.214133</td>\n",
       "      <td>0.286433</td>\n",
       "      <td>0.197580</td>\n",
       "      <td>0.169488</td>\n",
       "    </tr>\n",
       "  </tbody>\n",
       "</table>\n",
       "<p>236 rows × 9 columns</p>\n",
       "</div>"
      ],
      "text/plain": [
       "                                                 title  \\\n",
       "0    Anwar Ibrahim: The man who fulfilled his goal ...   \n",
       "1    Najib Razak: Malaysia's former PM and his down...   \n",
       "2    Malaysia Airlines plane turns back after cockp...   \n",
       "3    Malaysia Airlines plane threat foiled by 'hero...   \n",
       "4                       Malaysia airline cockpit scare   \n",
       "..                                                 ...   \n",
       "231  Private jet crashes onto Malaysia highway, kil...   \n",
       "232  Matty Healy defends Malaysia kiss during 1975 ...   \n",
       "233  Israel-Gaza: Malaysia will maintain ties with ...   \n",
       "234  Malaysian killer released from Australian immi...   \n",
       "235  Forest City: Inside Malaysia's Chinese-built '...   \n",
       "\n",
       "                                           description       date  \\\n",
       "0    After a decades-long quest to become premier, ... 2012-01-06   \n",
       "1    The former PM promised to boost Malaysia's eco... 2013-05-01   \n",
       "2    The Malaysia Airlines jet returned to Melbourn... 2017-05-31   \n",
       "3    A witness tells how passengers tackled a man w... 2017-06-01   \n",
       "4    The moment armed police carried a man off a fl... 2017-06-01   \n",
       "..                                                 ...        ...   \n",
       "231  Investigators are searching for the aircraft's... 2023-08-17   \n",
       "232  The 1975 frontman read a prepared speech from ... 2023-10-10   \n",
       "233  Analysts say Mr Anwar's stand is politically e... 2023-11-08   \n",
       "234  An ex-policeman convicted in a politically cha... 2023-11-13   \n",
       "235  Built during the Chinese property boom, Forest... 2023-12-05   \n",
       "\n",
       "                     site section   myr_usd   myr_sgd   myr_eur   myr_gbp  \n",
       "0                    Asia    News  0.317854  0.410476  0.248400  0.205044  \n",
       "1                    Asia    News  0.329034  0.405136  0.249868  0.211766  \n",
       "2               Australia    News  0.233193  0.323112  0.208735  0.182053  \n",
       "3               Australia    News  0.233345  0.322858  0.207537  0.181232  \n",
       "4                   World    News  0.233345  0.322858  0.207537  0.181232  \n",
       "..                    ...     ...       ...       ...       ...       ...  \n",
       "231                  Asia    News  0.215054  0.292019  0.197757  0.168667  \n",
       "232  Entertainment & Arts    News  0.211685  0.288474  0.199613  0.172223  \n",
       "233                  Asia    News  0.215843  0.292348  0.201796  0.175599  \n",
       "234             Australia    News  0.213220  0.289974  0.199454  0.174367  \n",
       "235              Business    News  0.214133  0.286433  0.197580  0.169488  \n",
       "\n",
       "[236 rows x 9 columns]"
      ]
     },
     "execution_count": 14,
     "metadata": {},
     "output_type": "execute_result"
    }
   ],
   "source": [
    "df_merged"
   ]
  },
  {
   "cell_type": "code",
   "execution_count": 15,
   "metadata": {},
   "outputs": [
    {
     "data": {
      "text/html": [
       "<div>\n",
       "<style scoped>\n",
       "    .dataframe tbody tr th:only-of-type {\n",
       "        vertical-align: middle;\n",
       "    }\n",
       "\n",
       "    .dataframe tbody tr th {\n",
       "        vertical-align: top;\n",
       "    }\n",
       "\n",
       "    .dataframe thead th {\n",
       "        text-align: right;\n",
       "    }\n",
       "</style>\n",
       "<table border=\"1\" class=\"dataframe\">\n",
       "  <thead>\n",
       "    <tr style=\"text-align: right;\">\n",
       "      <th></th>\n",
       "      <th>title</th>\n",
       "      <th>description</th>\n",
       "      <th>date</th>\n",
       "      <th>site</th>\n",
       "      <th>section</th>\n",
       "      <th>myr_usd</th>\n",
       "      <th>myr_sgd</th>\n",
       "      <th>myr_eur</th>\n",
       "      <th>myr_gbp</th>\n",
       "      <th>myr_usd_diff_pct</th>\n",
       "      <th>myr_sgd_diff_pct</th>\n",
       "      <th>myr_gbp_diff_pct</th>\n",
       "      <th>myr_eur_diff_pct</th>\n",
       "    </tr>\n",
       "  </thead>\n",
       "  <tbody>\n",
       "    <tr>\n",
       "      <th>0</th>\n",
       "      <td>Anwar Ibrahim: The man who fulfilled his goal ...</td>\n",
       "      <td>After a decades-long quest to become premier, ...</td>\n",
       "      <td>2012-01-06</td>\n",
       "      <td>Asia</td>\n",
       "      <td>News</td>\n",
       "      <td>0.317854</td>\n",
       "      <td>0.410476</td>\n",
       "      <td>0.248400</td>\n",
       "      <td>0.205044</td>\n",
       "      <td>NaN</td>\n",
       "      <td>NaN</td>\n",
       "      <td>NaN</td>\n",
       "      <td>NaN</td>\n",
       "    </tr>\n",
       "    <tr>\n",
       "      <th>1</th>\n",
       "      <td>Najib Razak: Malaysia's former PM and his down...</td>\n",
       "      <td>The former PM promised to boost Malaysia's eco...</td>\n",
       "      <td>2013-05-01</td>\n",
       "      <td>Asia</td>\n",
       "      <td>News</td>\n",
       "      <td>0.329034</td>\n",
       "      <td>0.405136</td>\n",
       "      <td>0.249868</td>\n",
       "      <td>0.211766</td>\n",
       "      <td>3.517372</td>\n",
       "      <td>-1.300985</td>\n",
       "      <td>3.278273</td>\n",
       "      <td>0.591295</td>\n",
       "    </tr>\n",
       "    <tr>\n",
       "      <th>2</th>\n",
       "      <td>Malaysia Airlines plane turns back after cockp...</td>\n",
       "      <td>The Malaysia Airlines jet returned to Melbourn...</td>\n",
       "      <td>2017-05-31</td>\n",
       "      <td>Australia</td>\n",
       "      <td>News</td>\n",
       "      <td>0.233193</td>\n",
       "      <td>0.323112</td>\n",
       "      <td>0.208735</td>\n",
       "      <td>0.182053</td>\n",
       "      <td>-29.128090</td>\n",
       "      <td>-20.246150</td>\n",
       "      <td>-14.030915</td>\n",
       "      <td>-16.461858</td>\n",
       "    </tr>\n",
       "    <tr>\n",
       "      <th>3</th>\n",
       "      <td>Malaysia Airlines plane threat foiled by 'hero...</td>\n",
       "      <td>A witness tells how passengers tackled a man w...</td>\n",
       "      <td>2017-06-01</td>\n",
       "      <td>Australia</td>\n",
       "      <td>News</td>\n",
       "      <td>0.233345</td>\n",
       "      <td>0.322858</td>\n",
       "      <td>0.207537</td>\n",
       "      <td>0.181232</td>\n",
       "      <td>0.065338</td>\n",
       "      <td>-0.078373</td>\n",
       "      <td>-0.451209</td>\n",
       "      <td>-0.574102</td>\n",
       "    </tr>\n",
       "    <tr>\n",
       "      <th>4</th>\n",
       "      <td>Malaysia airline cockpit scare</td>\n",
       "      <td>The moment armed police carried a man off a fl...</td>\n",
       "      <td>2017-06-01</td>\n",
       "      <td>World</td>\n",
       "      <td>News</td>\n",
       "      <td>0.233345</td>\n",
       "      <td>0.322858</td>\n",
       "      <td>0.207537</td>\n",
       "      <td>0.181232</td>\n",
       "      <td>0.000000</td>\n",
       "      <td>0.000000</td>\n",
       "      <td>0.000000</td>\n",
       "      <td>0.000000</td>\n",
       "    </tr>\n",
       "    <tr>\n",
       "      <th>...</th>\n",
       "      <td>...</td>\n",
       "      <td>...</td>\n",
       "      <td>...</td>\n",
       "      <td>...</td>\n",
       "      <td>...</td>\n",
       "      <td>...</td>\n",
       "      <td>...</td>\n",
       "      <td>...</td>\n",
       "      <td>...</td>\n",
       "      <td>...</td>\n",
       "      <td>...</td>\n",
       "      <td>...</td>\n",
       "      <td>...</td>\n",
       "    </tr>\n",
       "    <tr>\n",
       "      <th>231</th>\n",
       "      <td>Private jet crashes onto Malaysia highway, kil...</td>\n",
       "      <td>Investigators are searching for the aircraft's...</td>\n",
       "      <td>2023-08-17</td>\n",
       "      <td>Asia</td>\n",
       "      <td>News</td>\n",
       "      <td>0.215054</td>\n",
       "      <td>0.292019</td>\n",
       "      <td>0.197757</td>\n",
       "      <td>0.168667</td>\n",
       "      <td>-2.010760</td>\n",
       "      <td>-0.732161</td>\n",
       "      <td>-1.766520</td>\n",
       "      <td>-0.852778</td>\n",
       "    </tr>\n",
       "    <tr>\n",
       "      <th>232</th>\n",
       "      <td>Matty Healy defends Malaysia kiss during 1975 ...</td>\n",
       "      <td>The 1975 frontman read a prepared speech from ...</td>\n",
       "      <td>2023-10-10</td>\n",
       "      <td>Entertainment &amp; Arts</td>\n",
       "      <td>News</td>\n",
       "      <td>0.211685</td>\n",
       "      <td>0.288474</td>\n",
       "      <td>0.199613</td>\n",
       "      <td>0.172223</td>\n",
       "      <td>-1.566462</td>\n",
       "      <td>-1.214157</td>\n",
       "      <td>2.108316</td>\n",
       "      <td>0.938339</td>\n",
       "    </tr>\n",
       "    <tr>\n",
       "      <th>233</th>\n",
       "      <td>Israel-Gaza: Malaysia will maintain ties with ...</td>\n",
       "      <td>Analysts say Mr Anwar's stand is politically e...</td>\n",
       "      <td>2023-11-08</td>\n",
       "      <td>Asia</td>\n",
       "      <td>News</td>\n",
       "      <td>0.215843</td>\n",
       "      <td>0.292348</td>\n",
       "      <td>0.201796</td>\n",
       "      <td>0.175599</td>\n",
       "      <td>1.964171</td>\n",
       "      <td>1.343141</td>\n",
       "      <td>1.960414</td>\n",
       "      <td>1.093721</td>\n",
       "    </tr>\n",
       "    <tr>\n",
       "      <th>234</th>\n",
       "      <td>Malaysian killer released from Australian immi...</td>\n",
       "      <td>An ex-policeman convicted in a politically cha...</td>\n",
       "      <td>2023-11-13</td>\n",
       "      <td>Australia</td>\n",
       "      <td>News</td>\n",
       "      <td>0.213220</td>\n",
       "      <td>0.289974</td>\n",
       "      <td>0.199454</td>\n",
       "      <td>0.174367</td>\n",
       "      <td>-1.215356</td>\n",
       "      <td>-0.812035</td>\n",
       "      <td>-0.701729</td>\n",
       "      <td>-1.160414</td>\n",
       "    </tr>\n",
       "    <tr>\n",
       "      <th>235</th>\n",
       "      <td>Forest City: Inside Malaysia's Chinese-built '...</td>\n",
       "      <td>Built during the Chinese property boom, Forest...</td>\n",
       "      <td>2023-12-05</td>\n",
       "      <td>Business</td>\n",
       "      <td>News</td>\n",
       "      <td>0.214133</td>\n",
       "      <td>0.286433</td>\n",
       "      <td>0.197580</td>\n",
       "      <td>0.169488</td>\n",
       "      <td>0.428264</td>\n",
       "      <td>-1.221438</td>\n",
       "      <td>-2.797852</td>\n",
       "      <td>-0.939496</td>\n",
       "    </tr>\n",
       "  </tbody>\n",
       "</table>\n",
       "<p>236 rows × 13 columns</p>\n",
       "</div>"
      ],
      "text/plain": [
       "                                                 title  \\\n",
       "0    Anwar Ibrahim: The man who fulfilled his goal ...   \n",
       "1    Najib Razak: Malaysia's former PM and his down...   \n",
       "2    Malaysia Airlines plane turns back after cockp...   \n",
       "3    Malaysia Airlines plane threat foiled by 'hero...   \n",
       "4                       Malaysia airline cockpit scare   \n",
       "..                                                 ...   \n",
       "231  Private jet crashes onto Malaysia highway, kil...   \n",
       "232  Matty Healy defends Malaysia kiss during 1975 ...   \n",
       "233  Israel-Gaza: Malaysia will maintain ties with ...   \n",
       "234  Malaysian killer released from Australian immi...   \n",
       "235  Forest City: Inside Malaysia's Chinese-built '...   \n",
       "\n",
       "                                           description       date  \\\n",
       "0    After a decades-long quest to become premier, ... 2012-01-06   \n",
       "1    The former PM promised to boost Malaysia's eco... 2013-05-01   \n",
       "2    The Malaysia Airlines jet returned to Melbourn... 2017-05-31   \n",
       "3    A witness tells how passengers tackled a man w... 2017-06-01   \n",
       "4    The moment armed police carried a man off a fl... 2017-06-01   \n",
       "..                                                 ...        ...   \n",
       "231  Investigators are searching for the aircraft's... 2023-08-17   \n",
       "232  The 1975 frontman read a prepared speech from ... 2023-10-10   \n",
       "233  Analysts say Mr Anwar's stand is politically e... 2023-11-08   \n",
       "234  An ex-policeman convicted in a politically cha... 2023-11-13   \n",
       "235  Built during the Chinese property boom, Forest... 2023-12-05   \n",
       "\n",
       "                     site section   myr_usd   myr_sgd   myr_eur   myr_gbp  \\\n",
       "0                    Asia    News  0.317854  0.410476  0.248400  0.205044   \n",
       "1                    Asia    News  0.329034  0.405136  0.249868  0.211766   \n",
       "2               Australia    News  0.233193  0.323112  0.208735  0.182053   \n",
       "3               Australia    News  0.233345  0.322858  0.207537  0.181232   \n",
       "4                   World    News  0.233345  0.322858  0.207537  0.181232   \n",
       "..                    ...     ...       ...       ...       ...       ...   \n",
       "231                  Asia    News  0.215054  0.292019  0.197757  0.168667   \n",
       "232  Entertainment & Arts    News  0.211685  0.288474  0.199613  0.172223   \n",
       "233                  Asia    News  0.215843  0.292348  0.201796  0.175599   \n",
       "234             Australia    News  0.213220  0.289974  0.199454  0.174367   \n",
       "235              Business    News  0.214133  0.286433  0.197580  0.169488   \n",
       "\n",
       "     myr_usd_diff_pct  myr_sgd_diff_pct  myr_gbp_diff_pct  myr_eur_diff_pct  \n",
       "0                 NaN               NaN               NaN               NaN  \n",
       "1            3.517372         -1.300985          3.278273          0.591295  \n",
       "2          -29.128090        -20.246150        -14.030915        -16.461858  \n",
       "3            0.065338         -0.078373         -0.451209         -0.574102  \n",
       "4            0.000000          0.000000          0.000000          0.000000  \n",
       "..                ...               ...               ...               ...  \n",
       "231         -2.010760         -0.732161         -1.766520         -0.852778  \n",
       "232         -1.566462         -1.214157          2.108316          0.938339  \n",
       "233          1.964171          1.343141          1.960414          1.093721  \n",
       "234         -1.215356         -0.812035         -0.701729         -1.160414  \n",
       "235          0.428264         -1.221438         -2.797852         -0.939496  \n",
       "\n",
       "[236 rows x 13 columns]"
      ]
     },
     "execution_count": 15,
     "metadata": {},
     "output_type": "execute_result"
    }
   ],
   "source": [
    "df_merged['myr_usd_diff_pct'] =df_merged['myr_usd'].pct_change() * 100\n",
    "df_merged['myr_sgd_diff_pct'] =df_merged['myr_sgd'].pct_change() * 100\n",
    "df_merged['myr_gbp_diff_pct'] =df_merged['myr_gbp'].pct_change() * 100\n",
    "df_merged['myr_eur_diff_pct'] =df_merged['myr_eur'].pct_change() * 100\n",
    "df_merged"
   ]
  },
  {
   "cell_type": "code",
   "execution_count": 16,
   "metadata": {},
   "outputs": [
    {
     "data": {
      "application/vnd.plotly.v1+json": {
       "config": {
        "plotlyServerURL": "https://plot.ly"
       },
       "data": [
        {
         "customdata": [
          [
           "Anwar Ibrahim: The man who fulfilled his goal to lead Malaysia"
          ],
          [
           "Najib Razak: Malaysia's former PM and his downfall over alleged corruption"
          ],
          [
           "Malaysia Airlines plane turns back after cockpit entry bid"
          ],
          [
           "Malaysia Airlines plane threat foiled by 'heroes', witness says"
          ],
          [
           "Malaysia airline cockpit scare"
          ],
          [
           "Man accused of Malaysia Airlines threat does not appear in court"
          ],
          [
           "Malaysia gay 'prevention' competition seeks videos"
          ],
          [
           "Malaysia drops gay 'prevention' category from video competition"
          ],
          [
           "US looks to seize $540m in 'stolen' assets from Malaysia fund 1MDB"
          ],
          [
           "Baby elephant killed on Malaysia highway"
          ],
          [
           "The 'blackface' ad that got Malaysia talking"
          ],
          [
           "Chinese deities flown on business class to Malaysia"
          ],
          [
           "Shell withdraws Malaysia cardboard cutouts after 'distasteful' groping"
          ],
          [
           "Despacito censored: Malaysia bans 'unsuitable' hit from state stations"
          ],
          [
           "Malaysia MP: 'Denying husbands sex is abuse'"
          ],
          [
           "Malaysia detains hundreds in counter-terrorism raids"
          ],
          [
           "Malaysia princess Tunku Aminah weds Dutchman in lavish ceremony"
          ],
          [
           "Malaysia sites hacked after blunder over Indonesian flag"
          ],
          [
           "The online abuse hurled at Malaysia's Muslim women"
          ],
          [
           "Malaysia to name firms lacking board diversity"
          ],
          [
           "Malaysia fire: Students and teachers killed in dormitory"
          ],
          [
           "Kim Jong-nam murder: Women plead not guilty in Malaysia trial"
          ],
          [
           "MH370: Malaysia in talks with US firm to restart plane search"
          ],
          [
           "Kim Jong-nam murder: Suspects revisit Malaysia airport"
          ],
          [
           "Miss Universe Malaysia to wear nasi lemak dress"
          ],
          [
           "Fake baby milk formula scare hits Malaysia"
          ],
          [
           "Ivana Smit: Model's death in Malaysia casts a long shadow"
          ],
          [
           "Malaysia court clears 'drug mule' grandmother who faced hanging"
          ],
          [
           "Mahathir Mohamad: Ex-Malaysia PM, 92, to run for office"
          ],
          [
           "100 Women: National Union of Journalists Malaysia sorry for 'sexy outfit' advice"
          ],
          [
           "'Shaking' Malaysia Airlines flight turns back to Australia"
          ],
          [
           "Malaysia defends 'hideous' tourism logo despite criticism"
          ],
          [
           "100 Women: Maid dies in Malaysia after being left to 'sleep outside with dog'"
          ],
          [
           "Pop star Denise Ho denied Malaysia permit 'over LGBT views'"
          ],
          [
           "Malaysia wishes wrong New Year with a barking rooster"
          ],
          [
           "Nerve agent attacks: How Malaysia responded compared to the UK"
          ],
          [
           "Malaysia seeks 10 year-jail terms for 'fake news'"
          ],
          [
           "Syria man 'stranded at Malaysia airport for weeks'"
          ],
          [
           "Palestinian lecturer and Hamas member killed in Malaysia"
          ],
          [
           "Malaysia's youth have power they won't use"
          ],
          [
           "Malaysia's election: A battle of old allies"
          ],
          [
           "Malaysia elections: Could Mahathir Mohamad make a comeback?"
          ],
          [
           "Malaysia election: What does politics mean to multi-racial voters?"
          ],
          [
           "Mahathir Mohamad: The man who dominated Malaysian politics"
          ],
          [
           "Malaysia election: Opposition scores historic victory"
          ],
          [
           "Malaysia's Mahathir hopes to get back lost 1MDB funds"
          ],
          [
           "Malaysia election: Why did young voters pick a 92-year-old?"
          ],
          [
           "Malaysia's Mahathir Mohamad sworn in after shock comeback victory"
          ],
          [
           "Malaysia election: What just happened?"
          ],
          [
           "Business Matters: Opposition Claims Victory in Malaysia"
          ],
          [
           "Corruption, money and Malaysia's election"
          ],
          [
           "Former Malaysia PM Najib Razak banned from leaving country"
          ],
          [
           "The Cultural Frontline: Truth and Taboo from Malaysia to the Middle East"
          ],
          [
           "Malaysia to review not revoke fake news law, says Mahathir"
          ],
          [
           "Malaysia's freed Anwar Ibrahim hails 'new dawn' after poll win"
          ],
          [
           "Malaysia's Najib Razak has home searched by police"
          ],
          [
           "Malaysia's political drama is worthy of Shakespeare"
          ],
          [
           "Malaysia police seize cash and luxury goods in Najib-linked raids"
          ],
          [
           "Malaysia politics: $4 sandals vs luxury Birkin bags"
          ],
          [
           "Najib Razak: Scandal-hit ex-Malaysia PM condemns police raids"
          ],
          [
           "From Our Own Correspondent Podcast: Malaysiaâs Political Drama"
          ],
          [
           "From Our Own Correspondent: Malaysia's Political Drama"
          ],
          [
           "Australian woman sentenced to death in Malaysia over drugs"
          ],
          [
           "Police find $28m cash in raids linked to Malaysia ex-PM Najib"
          ],
          [
           "Australia jails man over Malaysia Airlines plane bomb threat"
          ],
          [
           "Malaysia's Anwar Ibrahim on Mahathir: 'We have to move on'"
          ],
          [
           "Malaysia mosque bans tourists after provocative dance"
          ],
          [
           "World Business Report: Malaysia 1MDB: Seized Cash and Goods 'Worth $273m'"
          ],
          [
           "Malaysia 1MDB: Seized tiaras, cash and Hermes bags 'worth $273m'"
          ],
          [
           "World Business Report: Malaysia 1MDB: Seized Cash and Goods 'Worth $273m'"
          ],
          [
           "Child marriage involving bride of 11 sparks outrage in Malaysia"
          ],
          [
           "1MDB: Malaysia's global corruption scandal"
          ],
          [
           "Malaysia 1MDB: Ex-PM Najib arrested by anti-corruption officials"
          ],
          [
           "Malaysia's ex-PM Najib charged with corruption over 1MDB"
          ],
          [
           "Missing Malaysia flight MH370: Aviation chief quits over failings"
          ],
          [
           "Malaysia ex-PM Najib charged with money laundering"
          ],
          [
           "Radioactive device goes missing in Malaysia"
          ],
          [
           "LGBT rights: Malaysia women caned for attempting to have lesbian sex"
          ],
          [
           "Laundrette cat killers arrested in Malaysia"
          ],
          [
           "Ex-Malaysia PM Najib hit with 25 charges of money laundering and abuse of power"
          ],
          [
           "Syrian Hassan al-Kontar removed from Malaysia airport after months"
          ],
          [
           "South China Sea: Battleships may lead to war - Malaysia PM"
          ],
          [
           "HARDtalk: Mahathir Mohamad, Prime Minister of Malaysia"
          ],
          [
           "Six rescue divers drown trying to save teen in Malaysia"
          ],
          [
           "Wife charged with murder of ex firefighter in Malaysia"
          ],
          [
           "From Our Own Correspondent: Italy and Malaysia"
          ],
          [
           "From Our Own Correspondent: Malaysia and Hungary"
          ],
          [
           "From Our Own Correspondent: North Korea and Malaysia"
          ],
          [
           "A bitter winter in Afghanistan: Malaysia and Macedonia"
          ],
          [
           "From Our Own Correspondent: Malaysia, the USA and Zimbabwe"
          ],
          [
           "From Our Own Correspondent: Syria and Malaysia"
          ],
          [
           "Medical cannabis: Death sentence prompts Malaysia to re-think harsh laws"
          ],
          [
           "World Have Your Say: WHYS 30: Malaysia's internet black-out day"
          ],
          [
           "From Our Own Correspondent: Malaysia and Mexico"
          ],
          [
           "From Our Own Correspondent: Honduras and Malaysia"
          ],
          [
           "Syrian man stranded in Malaysia airport arrives in Canada"
          ],
          [
           "1MDB: Malaysia charges Goldman Sachs and two bankers"
          ],
          [
           "Malaysia king: Sultan Muhammad V abdicates in historic first"
          ],
          [
           "Malaysia revises 'victim-shaming' school text book"
          ],
          [
           "Malaysia defends ban on Israeli Paralympic athletes"
          ],
          [
           "HARDtalk: Malaysia's Minister for Youth and Sport - Syed Saddiq"
          ],
          [
           "Malaysia elects new king after unprecedented abdication"
          ],
          [
           "Sultan Abdullah crowned Malaysia's new king"
          ],
          [
           "Russians detained over baby swinging street act in Malaysia"
          ],
          [
           "'Competent' oil worker crushed by machine on ship off Malaysia"
          ],
          [
           "Lowestoft oil worker's injuries on ship off Malaysia 'non-survivable'"
          ],
          [
           "Malaysia plastic pollution: 'We saved our town from your Western rubbish'"
          ],
          [
           "Kim Jong-nam murder: Malaysia rejects suspect's release plea"
          ],
          [
           "Najib 1MDB trial: Malaysia ex-PM faces court in global financial scandal"
          ],
          [
           "Newsday: Malaysia: former Prime Minister Najib Razak goes on trial"
          ],
          [
           "Business Matters: Malaysia: ex-PM faces court in global financial scandal"
          ],
          [
           "1MDB: US to return $200m in funds to Malaysia as part of probe"
          ],
          [
           "Malaysia bans 'recycled' waste"
          ],
          [
           "Malaysia orders tonnes of imported waste to be returned"
          ],
          [
           "Last male Sumatran rhino in Malaysia dies"
          ],
          [
           "Beyond Today: Why is Malaysia sending our rubbish back?"
          ],
          [
           "Plastic waste: Milton Keynes Council launches probe after Malaysia find"
          ],
          [
           "Hugh Fearnley-Whittingstall finds UK plastic waste abandoned in Malaysia"
          ],
          [
           "MH17 crash: Malaysia PM Mahathir denounces murder charges"
          ],
          [
           "Malaysia air pollution: Schools shut after illness hits children"
          ],
          [
           "Thousands of turtles seized at Malaysia airport"
          ],
          [
           "Malaysia seizes thousands of smuggled turtles at airport"
          ],
          [
           "Wolf of Wall Street producer arrested in Malaysia for money laundering"
          ],
          [
           "CÃ©sar Pelli: Architect of Malaysia's Petronas Towers dies at 92"
          ],
          [
           "London girl Nora Quoirin, 15, vanishes on Malaysia holiday"
          ],
          [
           "Nora Quoirin: Malaysia jungle search for holiday teen"
          ],
          [
           "Nora Quoirin: Family say teen missing in Malaysia was abducted"
          ],
          [
           "Missing Nora Quoirin: Malaysia police 'rule nothing out' in search"
          ],
          [
           "Goldman bosses charged in Malaysia bond scandal"
          ],
          [
           "Missing Nora Quoirin's mother Meabh thanks search teams in Malaysia"
          ],
          [
           "The mystery of screaming schoolgirls in Malaysia"
          ],
          [
           "Nora Quoirin: Body found in Malaysia is missing girl"
          ],
          [
           "Missing Nora Quoirin: Malaysia police say a body has been found nearby"
          ],
          [
           "Nora Quoirin: Family 'heartbroken' after body found in Malaysia"
          ],
          [
           "Najib Razak 1MDB: Malaysia's former PM faces biggest trial yet"
          ],
          [
           "Najib Razak : Ex-Malaysia PM's second fraud trial begins"
          ],
          [
           "Rainforest fires trigger smog alerts in Indonesia and Malaysia"
          ],
          [
           "Malaysia queen denounces arrest of online critics"
          ],
          [
           "Plastic waste: Milton Keynes Council cleared after Malaysia waste find"
          ],
          [
           "Jennifer Lopez stripper film Hustlers banned in Malaysia"
          ],
          [
           "Outlook: The rebel lawyer transforming Malaysia"
          ],
          [
           "The Outlook Podcast Archive: The rebel lawyer transforming Malaysia"
          ],
          [
           "'I woke up to thousands of messages from Malaysia'"
          ],
          [
           "HARDtalk: Minister for Islamic Affairs in Malaysia -Mujahid Yusof Rawa"
          ],
          [
           "Mujahid Yusof Rawa: Malaysia needs a new narrative of Islam"
          ],
          [
           "Malaysia's last known Sumatran rhino dies"
          ],
          [
           "Malaysia grants reprieve to Australian 'love scam' drug mule"
          ],
          [
           "Inside Malaysia's straight edge punk scene"
          ],
          [
           "Malaysia's straight edge punk scene"
          ],
          [
           "Nora Quoirin: Parents determined to find answers over Malaysia death"
          ],
          [
           "Malaysia returns 42 containers of 'illegal' plastic waste to UK"
          ],
          [
           "The Documentary: Shifting Cultures: Polygamous marriage in modern Malaysia"
          ],
          [
           "The Documentary Podcast: Polygamous marriage in modern Malaysia"
          ],
          [
           "Fireball meteor lights up night sky over Malaysia"
          ],
          [
           "Malaysia gets new PM, Muhyiddin Yassin, after week of turmoil"
          ],
          [
           "How Malaysiaâs government collapsed in two years"
          ],
          [
           "Malaysia migrant raids 'to reduce Covid-19 spread'"
          ],
          [
           "1MDB: Malaysia drops charges against Wolf of Wall Street producer"
          ],
          [
           "Malaysia detains 270 Rohingya refugees who had drifted at sea for weeks"
          ],
          [
           "Goldman Sachs settles 1MDB scandal with Malaysia for $3.9bn"
          ],
          [
           "Malaysia arrests Bangladeshi migrant who criticised government on TV"
          ],
          [
           "Najib Razak: Malaysian ex-PM gets 12-year jail term in 1MDB corruption trial"
          ],
          [
           "Newsday: Najib Razak â former Malaysia PM â handed guilty verdict"
          ],
          [
           "Newsday: Guilty verdict for former Malaysian prime minister"
          ],
          [
           "Newsday: Former Malaysian PM guilty of abuse of power"
          ],
          [
           "Samantha Jones avoids death for husband's Malaysia murder"
          ],
          [
           "NÃ³ra Quoirin: Malaysia opens inquest into death of London teenager"
          ],
          [
           "NÃ³ra Quoirin: Site of Malaysian body find 'searched several times'"
          ],
          [
           "NÃ³ra Quoirin: Window in Malaysian resort was broken, inquest hears"
          ],
          [
           "Go Jetters: Series 3: Funky Fireflies, Selangor River, Malaysia"
          ],
          [
           "Malaysian man 'finds' monkey selfies on lost phone"
          ],
          [
           "Chinese and Malaysian hackers charged by US over attacks"
          ],
          [
           "Cooking with Paula McIntyre: Malaysian Chicken Curry with Tomato Rice"
          ],
          [
           "Philips sells Suffolk factory to Malaysia's Guan Chong Berhad"
          ],
          [
           "US bans Malaysian palm oil producer over forced labour"
          ],
          [
           "Gareth Huntley: Backpacker's Malaysia death 'mysterious'"
          ],
          [
           "Covid-19: Couple holds 10,000 people drive-thru wedding in Malaysia"
          ],
          [
           "NÃ³ra Quoirin: 'Misadventure' verdict for girl found in Malaysian jungle"
          ],
          [
           "NÃ³ra Quoirin death: The schoolgirl who vanished into a Malaysian jungle"
          ],
          [
           "Malaysia declares Covid state of emergency amid political challenges"
          ],
          [
           "Scoff the Ball: A Taste of Malaysia in Scotland"
          ],
          [
           "Malaysiakini: The upstart that changed Malaysia's media landscape"
          ],
          [
           "Malaysia deports Myanmar nationals despite court order"
          ],
          [
           "Malaysia High Court rules Christians can use 'Allah'"
          ],
          [
           "South China Sea dispute: Malaysia accuses China of breaching airspace"
          ],
          [
           "Malaysia deports French conspiracy theorist wanted for abduction"
          ],
          [
           "Malaysian casino giant Genting makes $4.3bn bet on Las Vegas"
          ],
          [
           "Malaysians in Covid lockdown fly white flags to ask for help"
          ],
          [
           "Bitcoin mining machines steamrolled by Malaysia police"
          ],
          [
           "Anger as Covid-ravaged Malaysia lifts pandemic measures"
          ],
          [
           "Malaysian singer dies of Covid days after giving birth"
          ],
          [
           "British and Malaysian men jailed in Somalia for terror offences"
          ],
          [
           "'I had to run away', says Malaysian transgender woman"
          ],
          [
           "Malaysian transgender woman Nur Sajat: 'I had to run away'"
          ],
          [
           "MH370: Could missing Malaysian Airlines plane finally be found?"
          ],
          [
           "Malaysia: Death toll rises after massive floods"
          ],
          [
           "Malaysia hit by the worst floods in decades"
          ],
          [
           "Malaysia hit by the worst floods in decades"
          ],
          [
           "British man and son missing after Malaysia diving trip"
          ],
          [
           "World Business Report: 1MDB: Ex-Goldman Malaysia boss convicted"
          ],
          [
           "1MDB scandal: Ex-Goldman Malaysia boss found guilty"
          ],
          [
           "Malaysia: Boy, 14, believed dead after diving trip"
          ],
          [
           "World Business Report: 1MDB: Ex-Goldman Malaysia boss convicted"
          ],
          [
           "Chinese rocket debris falls back to Earth over Malaysia"
          ],
          [
           "Najib Razak: Malaysia's ex-PM starts jail term after final appeal fails"
          ],
          [
           "Najib Razak: The verdict that sent Malaysia's untouchable ex-PM to prison"
          ],
          [
           "Rosmah Mansor: Wife of ex-Malaysian PM Najib gets 10 years jail for bribery"
          ],
          [
           "Fat Leonard: Malaysian businessman linked to US Navy scandal escapes"
          ],
          [
           "Queen Elizabeth II: What her death means to Malaysia"
          ],
          [
           "Fat Leonard: Malaysian criminal in US Navy scandal recaptured after jail break"
          ],
          [
           "Mahathir Mohamad: Former Malaysia PM to run for office aged 97"
          ],
          [
           "Why is Malaysia deporting Myanmar asylum seekers?"
          ],
          [
           "Malaysia elects first ever hung parliament"
          ],
          [
           "Malaysia election: Why isn't there a government yet?"
          ],
          [
           "Anwar Ibrahim sworn in as Malaysian PM after post-election deadlock"
          ],
          [
           "Anwar Ibrahim: Honeymoon as Malaysian PM will be brutally short"
          ],
          [
           "Tamil Nadu: Indian man's search for father's lost grave ends in Malaysia"
          ],
          [
           "Malaysia authorities searching for survivors after deadly landslide"
          ],
          [
           "Malaysia landslide: At least 21 campers dead and more missing"
          ],
          [
           "Ex-Goldman Sachs Malaysia boss gets 10 years for 1MDB scheme"
          ],
          [
           "Muhyiddin Yassin: Ex-Malaysia PM charged with corruption over Covid spending"
          ],
          [
           "Malaysia ends mandatory death penalty for serious crimes"
          ],
          [
           "Malaysia detains Chinese ship suspected of looting British WW2 wrecks"
          ],
          [
           "Your Place or Mine with Shaun Keaveny: Craig Parkinson: Penang, Malaysia"
          ],
          [
           "MH370 joke: Malaysia asks Interpol to track down comedian"
          ],
          [
           "Jocelyn Chia: US comedian calls Malaysia's reaction to MH370 joke 'ridiculous'"
          ],
          [
           "Swatch sues Malaysia over Pride watch seizures"
          ],
          [
           "Matty Healy: Malaysia festival cancelled after The 1975 singer attacks anti-LGBT law"
          ],
          [
           "The 1975 cancels Indonesia and Taiwan shows after Malaysia LGBT row"
          ],
          [
           "Matty Healy: Malaysia LGBT community angry at 1975 'white saviour stunt'"
          ],
          [
           "Matty Healy: The 1975 threatened with legal action after Malaysia festival cancellation"
          ],
          [
           "Private jet crashes onto Malaysia highway, killing 10"
          ],
          [
           "Matty Healy defends Malaysia kiss during 1975 concert in Dallas"
          ],
          [
           "Israel-Gaza: Malaysia will maintain ties with Hamas says PM Anwar Ibrahim"
          ],
          [
           "Malaysian killer released from Australian immigration detention"
          ],
          [
           "Forest City: Inside Malaysia's Chinese-built 'ghost city'"
          ]
         ],
         "hovertemplate": "Date: %{x}<br>Exchange Rate: %{y}<br>Title: %{customdata[0]}",
         "legendgroup": "myr_usd_diff_pct",
         "line": {
          "color": "#636efa",
          "dash": "solid"
         },
         "marker": {
          "symbol": "circle"
         },
         "mode": "markers+lines",
         "name": "USD",
         "orientation": "v",
         "showlegend": true,
         "type": "scatter",
         "x": [
          "2012-01-06T00:00:00",
          "2013-05-01T00:00:00",
          "2017-05-31T00:00:00",
          "2017-06-01T00:00:00",
          "2017-06-01T00:00:00",
          "2017-06-02T00:00:00",
          "2017-06-03T00:00:00",
          "2017-06-08T00:00:00",
          "2017-06-16T00:00:00",
          "2017-06-19T00:00:00",
          "2017-06-30T00:00:00",
          "2017-07-05T00:00:00",
          "2017-07-05T00:00:00",
          "2017-07-20T00:00:00",
          "2017-07-27T00:00:00",
          "2017-08-07T00:00:00",
          "2017-08-15T00:00:00",
          "2017-08-21T00:00:00",
          "2017-08-21T00:00:00",
          "2017-09-06T00:00:00",
          "2017-09-14T00:00:00",
          "2017-10-02T00:00:00",
          "2017-10-20T00:00:00",
          "2017-10-24T00:00:00",
          "2017-11-01T00:00:00",
          "2017-12-14T00:00:00",
          "2017-12-24T00:00:00",
          "2017-12-27T00:00:00",
          "2018-01-08T00:00:00",
          "2018-01-18T00:00:00",
          "2018-01-19T00:00:00",
          "2018-01-30T00:00:00",
          "2018-02-14T00:00:00",
          "2018-02-15T00:00:00",
          "2018-02-18T00:00:00",
          "2018-03-16T00:00:00",
          "2018-03-26T00:00:00",
          "2018-04-12T00:00:00",
          "2018-04-21T00:00:00",
          "2018-05-05T00:00:00",
          "2018-05-07T00:00:00",
          "2018-05-07T00:00:00",
          "2018-05-08T00:00:00",
          "2018-05-08T00:00:00",
          "2018-05-09T00:00:00",
          "2018-05-10T00:00:00",
          "2018-05-10T00:00:00",
          "2018-05-10T00:00:00",
          "2018-05-10T00:00:00",
          "2018-05-10T00:00:00",
          "2018-05-11T00:00:00",
          "2018-05-12T00:00:00",
          "2018-05-12T00:00:00",
          "2018-05-14T00:00:00",
          "2018-05-16T00:00:00",
          "2018-05-16T00:00:00",
          "2018-05-17T00:00:00",
          "2018-05-18T00:00:00",
          "2018-05-18T00:00:00",
          "2018-05-19T00:00:00",
          "2018-05-24T00:00:00",
          "2018-05-24T00:00:00",
          "2018-05-24T00:00:00",
          "2018-05-25T00:00:00",
          "2018-06-07T00:00:00",
          "2018-06-11T00:00:00",
          "2018-06-25T00:00:00",
          "2018-06-27T00:00:00",
          "2018-06-27T00:00:00",
          "2018-06-27T00:00:00",
          "2018-07-01T00:00:00",
          "2018-07-03T00:00:00",
          "2018-07-03T00:00:00",
          "2018-07-04T00:00:00",
          "2018-07-31T00:00:00",
          "2018-08-08T00:00:00",
          "2018-08-21T00:00:00",
          "2018-09-03T00:00:00",
          "2018-09-14T00:00:00",
          "2018-09-20T00:00:00",
          "2018-10-02T00:00:00",
          "2018-10-02T00:00:00",
          "2018-10-03T00:00:00",
          "2018-10-04T00:00:00",
          "2018-10-31T00:00:00",
          "2018-11-04T00:00:00",
          "2018-11-04T00:00:00",
          "2018-11-04T00:00:00",
          "2018-11-04T00:00:00",
          "2018-11-04T00:00:00",
          "2018-11-12T00:00:00",
          "2018-11-12T00:00:00",
          "2018-11-12T00:00:00",
          "2018-11-12T00:00:00",
          "2018-11-12T00:00:00",
          "2018-11-26T00:00:00",
          "2018-12-17T00:00:00",
          "2019-01-06T00:00:00",
          "2019-01-16T00:00:00",
          "2019-01-23T00:00:00",
          "2019-01-23T00:00:00",
          "2019-01-24T00:00:00",
          "2019-01-31T00:00:00",
          "2019-02-05T00:00:00",
          "2019-02-11T00:00:00",
          "2019-02-12T00:00:00",
          "2019-02-13T00:00:00",
          "2019-03-14T00:00:00",
          "2019-04-03T00:00:00",
          "2019-04-03T00:00:00",
          "2019-04-04T00:00:00",
          "2019-05-07T00:00:00",
          "2019-05-28T00:00:00",
          "2019-05-28T00:00:00",
          "2019-05-28T00:00:00",
          "2019-05-30T00:00:00",
          "2019-06-10T00:00:00",
          "2019-06-10T00:00:00",
          "2019-06-20T00:00:00",
          "2019-06-25T00:00:00",
          "2019-06-26T00:00:00",
          "2019-06-26T00:00:00",
          "2019-07-04T00:00:00",
          "2019-07-20T00:00:00",
          "2019-08-04T00:00:00",
          "2019-08-05T00:00:00",
          "2019-08-06T00:00:00",
          "2019-08-07T00:00:00",
          "2019-08-09T00:00:00",
          "2019-08-10T00:00:00",
          "2019-08-11T00:00:00",
          "2019-08-13T00:00:00",
          "2019-08-13T00:00:00",
          "2019-08-14T00:00:00",
          "2019-08-28T00:00:00",
          "2019-08-28T00:00:00",
          "2019-09-13T00:00:00",
          "2019-09-14T00:00:00",
          "2019-09-20T00:00:00",
          "2019-09-20T00:00:00",
          "2019-10-31T00:00:00",
          "2019-11-01T00:00:00",
          "2019-11-12T00:00:00",
          "2019-11-13T00:00:00",
          "2019-11-13T00:00:00",
          "2019-11-23T00:00:00",
          "2019-11-26T00:00:00",
          "2019-11-29T00:00:00",
          "2019-11-30T00:00:00",
          "2019-12-17T00:00:00",
          "2020-01-20T00:00:00",
          "2020-02-01T00:00:00",
          "2020-02-04T00:00:00",
          "2020-02-21T00:00:00",
          "2020-03-01T00:00:00",
          "2020-03-05T00:00:00",
          "2020-05-02T00:00:00",
          "2020-05-14T00:00:00",
          "2020-06-09T00:00:00",
          "2020-07-24T00:00:00",
          "2020-07-25T00:00:00",
          "2020-07-28T00:00:00",
          "2020-07-28T00:00:00",
          "2020-07-28T00:00:00",
          "2020-07-28T00:00:00",
          "2020-08-03T00:00:00",
          "2020-08-24T00:00:00",
          "2020-08-26T00:00:00",
          "2020-08-27T00:00:00",
          "2020-09-07T00:00:00",
          "2020-09-15T00:00:00",
          "2020-09-16T00:00:00",
          "2020-09-19T00:00:00",
          "2020-09-29T00:00:00",
          "2020-10-01T00:00:00",
          "2020-10-08T00:00:00",
          "2020-12-21T00:00:00",
          "2021-01-04T00:00:00",
          "2021-01-04T00:00:00",
          "2021-01-12T00:00:00",
          "2021-01-21T00:00:00",
          "2021-02-19T00:00:00",
          "2021-02-24T00:00:00",
          "2021-03-11T00:00:00",
          "2021-06-02T00:00:00",
          "2021-06-13T00:00:00",
          "2021-06-24T00:00:00",
          "2021-07-05T00:00:00",
          "2021-07-20T00:00:00",
          "2021-07-28T00:00:00",
          "2021-08-10T00:00:00",
          "2021-09-24T00:00:00",
          "2021-11-19T00:00:00",
          "2021-11-19T00:00:00",
          "2021-12-03T00:00:00",
          "2021-12-21T00:00:00",
          "2021-12-21T00:00:00",
          "2021-12-21T00:00:00",
          "2022-04-07T00:00:00",
          "2022-04-08T00:00:00",
          "2022-04-08T00:00:00",
          "2022-04-09T00:00:00",
          "2022-04-09T00:00:00",
          "2022-07-31T00:00:00",
          "2022-08-23T00:00:00",
          "2022-08-27T00:00:00",
          "2022-09-01T00:00:00",
          "2022-09-06T00:00:00",
          "2022-09-14T00:00:00",
          "2022-09-22T00:00:00",
          "2022-10-11T00:00:00",
          "2022-10-25T00:00:00",
          "2022-11-20T00:00:00",
          "2022-11-21T00:00:00",
          "2022-11-24T00:00:00",
          "2022-12-03T00:00:00",
          "2022-12-13T00:00:00",
          "2022-12-16T00:00:00",
          "2022-12-16T00:00:00",
          "2023-03-09T00:00:00",
          "2023-03-10T00:00:00",
          "2023-04-03T00:00:00",
          "2023-05-30T00:00:00",
          "2023-06-07T00:00:00",
          "2023-06-13T00:00:00",
          "2023-06-14T00:00:00",
          "2023-07-17T00:00:00",
          "2023-07-22T00:00:00",
          "2023-07-23T00:00:00",
          "2023-07-25T00:00:00",
          "2023-08-07T00:00:00",
          "2023-08-17T00:00:00",
          "2023-10-10T00:00:00",
          "2023-11-08T00:00:00",
          "2023-11-13T00:00:00",
          "2023-12-05T00:00:00"
         ],
         "xaxis": "x",
         "y": [
          null,
          3.5173722891910897,
          -29.12809030204756,
          0.065338414968652,
          0,
          0.18702363635967334,
          0,
          0.41079610588570237,
          -0.3275640702549376,
          -0.023386074280595803,
          -0.37286963036009535,
          -0.09313628544538322,
          0,
          0.1398922654194834,
          0.3274867689682992,
          -0.10515365671250887,
          -0.326072684626022,
          0.21005301228251838,
          0,
          1.1449532700017695,
          0.761179984886251,
          -0.6381468058393347,
          0.2013084735547066,
          -0.20090403670510737,
          0.04729141434809403,
          3.6011827284739617,
          0.14719413573798246,
          -0.07354659680114395,
          2.115408542388919,
          1.093312768640775,
          0.38871888570861657,
          0.961911120787251,
          -0.05128377319375543,
          0.24930843558055304,
          -0.017984602119358595,
          -0.3839724775653641,
          0.4293206091006363,
          0.4597124988451107,
          -0.39871141161405,
          -1.3825391464733383,
          0.10157385433069432,
          0,
          -0.08880747649336884,
          0,
          -1.178382241417708,
          -1.3602078738398027,
          0,
          0,
          0,
          0,
          2.418940794772384,
          0,
          0,
          0.02787355266957725,
          -0.16694769666169007,
          0,
          -0.2900343007741446,
          -0.11336866345504903,
          0,
          0,
          -0.16347922208546084,
          0,
          0,
          -0.02514443534805677,
          0.1763279203889745,
          -0.40140804576623834,
          -0.22527726363912315,
          -0.6218934941536136,
          0,
          0,
          -0.5073636254341207,
          0.06191203361491926,
          0,
          -0.03713747339543216,
          -0.39451856239272054,
          -0.4418883732993928,
          -0.5565936584645992,
          -0.4423358644431774,
          -0.6879136066688551,
          0.23710758746748883,
          -0.1039199302265148,
          0,
          -0.03624612245405334,
          0.016917700966456728,
          -0.9976055296663344,
          0.08380072866893684,
          0,
          0,
          0,
          0,
          0.014363768154090906,
          0,
          0,
          0,
          0,
          -0.37218471218875004,
          0.21518730314338264,
          1.0265715085600036,
          0.9017715193414766,
          -0.7138521917917862,
          0,
          -0.048370344292791856,
          1.137478056467467,
          0.08569046061777108,
          0.45498727033805864,
          -0.0982799940744794,
          0,
          -0.39157811694140454,
          -0.06114795467002665,
          0,
          0.29436967282001625,
          -1.6549679684696672,
          -0.932098145476401,
          0,
          0,
          -0.2122511225748469,
          1.145812330751883,
          0,
          -0.6137494807998967,
          0.8242708313651148,
          0.25445046350163203,
          0,
          -0.20797027541394897,
          0.7307931645412324,
          -0.8549653528818757,
          -0.3297895293490005,
          -0.5339330108259488,
          -0.329333571567747,
          0.18409283778768604,
          0,
          0,
          -0.40005554457239745,
          0,
          0.3440862987235116,
          -0.35713726689243774,
          0,
          0.8379050539913502,
          0,
          -0.5301763851395913,
          0,
          0.2922174797379551,
          -0.028736570754706037,
          0.8524563108439187,
          0.0241516128915098,
          0,
          -0.6479446998683747,
          -0.2155252706639854,
          0.0958797470835604,
          0,
          0.7729489681974178,
          2.1566365333814064,
          -0.7688536201575169,
          -0.7171554820519122,
          -1.5461530460062156,
          -0.7223422809027102,
          0.7300124231548466,
          -2.6787901064583175,
          -0.808679082652608,
          1.6558959276061769,
          0.0822775366147388,
          0,
          0.09412079118009675,
          0,
          0,
          0,
          0.30682086830278177,
          1.4243026083655907,
          0.251980144121533,
          0,
          0.48227116817054494,
          0.08447392181274438,
          0.3754836248722748,
          -0.2175556082234853,
          -0.8626817596880887,
          0.49366720549912646,
          -0.060169268453336144,
          2.897479158088956,
          0.447761678989278,
          0,
          -0.6180457868446121,
          0.04946182687373124,
          0.08664493253658367,
          -0.03710913516755676,
          -2.036364796882273,
          0.02424269842380422,
          0.14570361757930694,
          -0.9619997459572538,
          -0.07209552495963667,
          -1.4448171144183508,
          -0.18912187769755118,
          0.09465502005046034,
          1.1004787973196706,
          0,
          0,
          -1.1235987249383572,
          0.05917088195417364,
          0,
          0,
          0.28483818845106423,
          -0.06641974592500599,
          0,
          0,
          0,
          -5.262922483879984,
          -0.7250486119823485,
          0.2796483565691066,
          -0.07823797893701245,
          -0.3630455590779902,
          -0.28207071658244987,
          -1.043958993076055,
          -2.1084262197271886,
          -1.8477411072164718,
          4.047188419697245,
          0,
          -0.4527572352042375,
          3.8500830038828093,
          -0.27182995762153883,
          0.011327518759673971,
          0,
          -2.3235226776957996,
          0.04427496429555422,
          2.414694156016073,
          -4.077859295895858,
          -0.15200857759751774,
          -0.27070530156261263,
          0.07585873637718787,
          1.6971501073455464,
          -0.580693105252228,
          0,
          -0.16408069623145005,
          0.31823172658813625,
          -2.010760202852213,
          -1.5664620036027088,
          1.9641711872518508,
          -1.2153563314249105,
          0.4282641478472904
         ],
         "yaxis": "y"
        },
        {
         "customdata": [
          [
           "Anwar Ibrahim: The man who fulfilled his goal to lead Malaysia"
          ],
          [
           "Najib Razak: Malaysia's former PM and his downfall over alleged corruption"
          ],
          [
           "Malaysia Airlines plane turns back after cockpit entry bid"
          ],
          [
           "Malaysia Airlines plane threat foiled by 'heroes', witness says"
          ],
          [
           "Malaysia airline cockpit scare"
          ],
          [
           "Man accused of Malaysia Airlines threat does not appear in court"
          ],
          [
           "Malaysia gay 'prevention' competition seeks videos"
          ],
          [
           "Malaysia drops gay 'prevention' category from video competition"
          ],
          [
           "US looks to seize $540m in 'stolen' assets from Malaysia fund 1MDB"
          ],
          [
           "Baby elephant killed on Malaysia highway"
          ],
          [
           "The 'blackface' ad that got Malaysia talking"
          ],
          [
           "Chinese deities flown on business class to Malaysia"
          ],
          [
           "Shell withdraws Malaysia cardboard cutouts after 'distasteful' groping"
          ],
          [
           "Despacito censored: Malaysia bans 'unsuitable' hit from state stations"
          ],
          [
           "Malaysia MP: 'Denying husbands sex is abuse'"
          ],
          [
           "Malaysia detains hundreds in counter-terrorism raids"
          ],
          [
           "Malaysia princess Tunku Aminah weds Dutchman in lavish ceremony"
          ],
          [
           "Malaysia sites hacked after blunder over Indonesian flag"
          ],
          [
           "The online abuse hurled at Malaysia's Muslim women"
          ],
          [
           "Malaysia to name firms lacking board diversity"
          ],
          [
           "Malaysia fire: Students and teachers killed in dormitory"
          ],
          [
           "Kim Jong-nam murder: Women plead not guilty in Malaysia trial"
          ],
          [
           "MH370: Malaysia in talks with US firm to restart plane search"
          ],
          [
           "Kim Jong-nam murder: Suspects revisit Malaysia airport"
          ],
          [
           "Miss Universe Malaysia to wear nasi lemak dress"
          ],
          [
           "Fake baby milk formula scare hits Malaysia"
          ],
          [
           "Ivana Smit: Model's death in Malaysia casts a long shadow"
          ],
          [
           "Malaysia court clears 'drug mule' grandmother who faced hanging"
          ],
          [
           "Mahathir Mohamad: Ex-Malaysia PM, 92, to run for office"
          ],
          [
           "100 Women: National Union of Journalists Malaysia sorry for 'sexy outfit' advice"
          ],
          [
           "'Shaking' Malaysia Airlines flight turns back to Australia"
          ],
          [
           "Malaysia defends 'hideous' tourism logo despite criticism"
          ],
          [
           "100 Women: Maid dies in Malaysia after being left to 'sleep outside with dog'"
          ],
          [
           "Pop star Denise Ho denied Malaysia permit 'over LGBT views'"
          ],
          [
           "Malaysia wishes wrong New Year with a barking rooster"
          ],
          [
           "Nerve agent attacks: How Malaysia responded compared to the UK"
          ],
          [
           "Malaysia seeks 10 year-jail terms for 'fake news'"
          ],
          [
           "Syria man 'stranded at Malaysia airport for weeks'"
          ],
          [
           "Palestinian lecturer and Hamas member killed in Malaysia"
          ],
          [
           "Malaysia's youth have power they won't use"
          ],
          [
           "Malaysia's election: A battle of old allies"
          ],
          [
           "Malaysia elections: Could Mahathir Mohamad make a comeback?"
          ],
          [
           "Malaysia election: What does politics mean to multi-racial voters?"
          ],
          [
           "Mahathir Mohamad: The man who dominated Malaysian politics"
          ],
          [
           "Malaysia election: Opposition scores historic victory"
          ],
          [
           "Malaysia's Mahathir hopes to get back lost 1MDB funds"
          ],
          [
           "Malaysia election: Why did young voters pick a 92-year-old?"
          ],
          [
           "Malaysia's Mahathir Mohamad sworn in after shock comeback victory"
          ],
          [
           "Malaysia election: What just happened?"
          ],
          [
           "Business Matters: Opposition Claims Victory in Malaysia"
          ],
          [
           "Corruption, money and Malaysia's election"
          ],
          [
           "Former Malaysia PM Najib Razak banned from leaving country"
          ],
          [
           "The Cultural Frontline: Truth and Taboo from Malaysia to the Middle East"
          ],
          [
           "Malaysia to review not revoke fake news law, says Mahathir"
          ],
          [
           "Malaysia's freed Anwar Ibrahim hails 'new dawn' after poll win"
          ],
          [
           "Malaysia's Najib Razak has home searched by police"
          ],
          [
           "Malaysia's political drama is worthy of Shakespeare"
          ],
          [
           "Malaysia police seize cash and luxury goods in Najib-linked raids"
          ],
          [
           "Malaysia politics: $4 sandals vs luxury Birkin bags"
          ],
          [
           "Najib Razak: Scandal-hit ex-Malaysia PM condemns police raids"
          ],
          [
           "From Our Own Correspondent Podcast: Malaysiaâs Political Drama"
          ],
          [
           "From Our Own Correspondent: Malaysia's Political Drama"
          ],
          [
           "Australian woman sentenced to death in Malaysia over drugs"
          ],
          [
           "Police find $28m cash in raids linked to Malaysia ex-PM Najib"
          ],
          [
           "Australia jails man over Malaysia Airlines plane bomb threat"
          ],
          [
           "Malaysia's Anwar Ibrahim on Mahathir: 'We have to move on'"
          ],
          [
           "Malaysia mosque bans tourists after provocative dance"
          ],
          [
           "World Business Report: Malaysia 1MDB: Seized Cash and Goods 'Worth $273m'"
          ],
          [
           "Malaysia 1MDB: Seized tiaras, cash and Hermes bags 'worth $273m'"
          ],
          [
           "World Business Report: Malaysia 1MDB: Seized Cash and Goods 'Worth $273m'"
          ],
          [
           "Child marriage involving bride of 11 sparks outrage in Malaysia"
          ],
          [
           "1MDB: Malaysia's global corruption scandal"
          ],
          [
           "Malaysia 1MDB: Ex-PM Najib arrested by anti-corruption officials"
          ],
          [
           "Malaysia's ex-PM Najib charged with corruption over 1MDB"
          ],
          [
           "Missing Malaysia flight MH370: Aviation chief quits over failings"
          ],
          [
           "Malaysia ex-PM Najib charged with money laundering"
          ],
          [
           "Radioactive device goes missing in Malaysia"
          ],
          [
           "LGBT rights: Malaysia women caned for attempting to have lesbian sex"
          ],
          [
           "Laundrette cat killers arrested in Malaysia"
          ],
          [
           "Ex-Malaysia PM Najib hit with 25 charges of money laundering and abuse of power"
          ],
          [
           "Syrian Hassan al-Kontar removed from Malaysia airport after months"
          ],
          [
           "South China Sea: Battleships may lead to war - Malaysia PM"
          ],
          [
           "HARDtalk: Mahathir Mohamad, Prime Minister of Malaysia"
          ],
          [
           "Six rescue divers drown trying to save teen in Malaysia"
          ],
          [
           "Wife charged with murder of ex firefighter in Malaysia"
          ],
          [
           "From Our Own Correspondent: Italy and Malaysia"
          ],
          [
           "From Our Own Correspondent: Malaysia and Hungary"
          ],
          [
           "From Our Own Correspondent: North Korea and Malaysia"
          ],
          [
           "A bitter winter in Afghanistan: Malaysia and Macedonia"
          ],
          [
           "From Our Own Correspondent: Malaysia, the USA and Zimbabwe"
          ],
          [
           "From Our Own Correspondent: Syria and Malaysia"
          ],
          [
           "Medical cannabis: Death sentence prompts Malaysia to re-think harsh laws"
          ],
          [
           "World Have Your Say: WHYS 30: Malaysia's internet black-out day"
          ],
          [
           "From Our Own Correspondent: Malaysia and Mexico"
          ],
          [
           "From Our Own Correspondent: Honduras and Malaysia"
          ],
          [
           "Syrian man stranded in Malaysia airport arrives in Canada"
          ],
          [
           "1MDB: Malaysia charges Goldman Sachs and two bankers"
          ],
          [
           "Malaysia king: Sultan Muhammad V abdicates in historic first"
          ],
          [
           "Malaysia revises 'victim-shaming' school text book"
          ],
          [
           "Malaysia defends ban on Israeli Paralympic athletes"
          ],
          [
           "HARDtalk: Malaysia's Minister for Youth and Sport - Syed Saddiq"
          ],
          [
           "Malaysia elects new king after unprecedented abdication"
          ],
          [
           "Sultan Abdullah crowned Malaysia's new king"
          ],
          [
           "Russians detained over baby swinging street act in Malaysia"
          ],
          [
           "'Competent' oil worker crushed by machine on ship off Malaysia"
          ],
          [
           "Lowestoft oil worker's injuries on ship off Malaysia 'non-survivable'"
          ],
          [
           "Malaysia plastic pollution: 'We saved our town from your Western rubbish'"
          ],
          [
           "Kim Jong-nam murder: Malaysia rejects suspect's release plea"
          ],
          [
           "Najib 1MDB trial: Malaysia ex-PM faces court in global financial scandal"
          ],
          [
           "Newsday: Malaysia: former Prime Minister Najib Razak goes on trial"
          ],
          [
           "Business Matters: Malaysia: ex-PM faces court in global financial scandal"
          ],
          [
           "1MDB: US to return $200m in funds to Malaysia as part of probe"
          ],
          [
           "Malaysia bans 'recycled' waste"
          ],
          [
           "Malaysia orders tonnes of imported waste to be returned"
          ],
          [
           "Last male Sumatran rhino in Malaysia dies"
          ],
          [
           "Beyond Today: Why is Malaysia sending our rubbish back?"
          ],
          [
           "Plastic waste: Milton Keynes Council launches probe after Malaysia find"
          ],
          [
           "Hugh Fearnley-Whittingstall finds UK plastic waste abandoned in Malaysia"
          ],
          [
           "MH17 crash: Malaysia PM Mahathir denounces murder charges"
          ],
          [
           "Malaysia air pollution: Schools shut after illness hits children"
          ],
          [
           "Thousands of turtles seized at Malaysia airport"
          ],
          [
           "Malaysia seizes thousands of smuggled turtles at airport"
          ],
          [
           "Wolf of Wall Street producer arrested in Malaysia for money laundering"
          ],
          [
           "CÃ©sar Pelli: Architect of Malaysia's Petronas Towers dies at 92"
          ],
          [
           "London girl Nora Quoirin, 15, vanishes on Malaysia holiday"
          ],
          [
           "Nora Quoirin: Malaysia jungle search for holiday teen"
          ],
          [
           "Nora Quoirin: Family say teen missing in Malaysia was abducted"
          ],
          [
           "Missing Nora Quoirin: Malaysia police 'rule nothing out' in search"
          ],
          [
           "Goldman bosses charged in Malaysia bond scandal"
          ],
          [
           "Missing Nora Quoirin's mother Meabh thanks search teams in Malaysia"
          ],
          [
           "The mystery of screaming schoolgirls in Malaysia"
          ],
          [
           "Nora Quoirin: Body found in Malaysia is missing girl"
          ],
          [
           "Missing Nora Quoirin: Malaysia police say a body has been found nearby"
          ],
          [
           "Nora Quoirin: Family 'heartbroken' after body found in Malaysia"
          ],
          [
           "Najib Razak 1MDB: Malaysia's former PM faces biggest trial yet"
          ],
          [
           "Najib Razak : Ex-Malaysia PM's second fraud trial begins"
          ],
          [
           "Rainforest fires trigger smog alerts in Indonesia and Malaysia"
          ],
          [
           "Malaysia queen denounces arrest of online critics"
          ],
          [
           "Plastic waste: Milton Keynes Council cleared after Malaysia waste find"
          ],
          [
           "Jennifer Lopez stripper film Hustlers banned in Malaysia"
          ],
          [
           "Outlook: The rebel lawyer transforming Malaysia"
          ],
          [
           "The Outlook Podcast Archive: The rebel lawyer transforming Malaysia"
          ],
          [
           "'I woke up to thousands of messages from Malaysia'"
          ],
          [
           "HARDtalk: Minister for Islamic Affairs in Malaysia -Mujahid Yusof Rawa"
          ],
          [
           "Mujahid Yusof Rawa: Malaysia needs a new narrative of Islam"
          ],
          [
           "Malaysia's last known Sumatran rhino dies"
          ],
          [
           "Malaysia grants reprieve to Australian 'love scam' drug mule"
          ],
          [
           "Inside Malaysia's straight edge punk scene"
          ],
          [
           "Malaysia's straight edge punk scene"
          ],
          [
           "Nora Quoirin: Parents determined to find answers over Malaysia death"
          ],
          [
           "Malaysia returns 42 containers of 'illegal' plastic waste to UK"
          ],
          [
           "The Documentary: Shifting Cultures: Polygamous marriage in modern Malaysia"
          ],
          [
           "The Documentary Podcast: Polygamous marriage in modern Malaysia"
          ],
          [
           "Fireball meteor lights up night sky over Malaysia"
          ],
          [
           "Malaysia gets new PM, Muhyiddin Yassin, after week of turmoil"
          ],
          [
           "How Malaysiaâs government collapsed in two years"
          ],
          [
           "Malaysia migrant raids 'to reduce Covid-19 spread'"
          ],
          [
           "1MDB: Malaysia drops charges against Wolf of Wall Street producer"
          ],
          [
           "Malaysia detains 270 Rohingya refugees who had drifted at sea for weeks"
          ],
          [
           "Goldman Sachs settles 1MDB scandal with Malaysia for $3.9bn"
          ],
          [
           "Malaysia arrests Bangladeshi migrant who criticised government on TV"
          ],
          [
           "Najib Razak: Malaysian ex-PM gets 12-year jail term in 1MDB corruption trial"
          ],
          [
           "Newsday: Najib Razak â former Malaysia PM â handed guilty verdict"
          ],
          [
           "Newsday: Guilty verdict for former Malaysian prime minister"
          ],
          [
           "Newsday: Former Malaysian PM guilty of abuse of power"
          ],
          [
           "Samantha Jones avoids death for husband's Malaysia murder"
          ],
          [
           "NÃ³ra Quoirin: Malaysia opens inquest into death of London teenager"
          ],
          [
           "NÃ³ra Quoirin: Site of Malaysian body find 'searched several times'"
          ],
          [
           "NÃ³ra Quoirin: Window in Malaysian resort was broken, inquest hears"
          ],
          [
           "Go Jetters: Series 3: Funky Fireflies, Selangor River, Malaysia"
          ],
          [
           "Malaysian man 'finds' monkey selfies on lost phone"
          ],
          [
           "Chinese and Malaysian hackers charged by US over attacks"
          ],
          [
           "Cooking with Paula McIntyre: Malaysian Chicken Curry with Tomato Rice"
          ],
          [
           "Philips sells Suffolk factory to Malaysia's Guan Chong Berhad"
          ],
          [
           "US bans Malaysian palm oil producer over forced labour"
          ],
          [
           "Gareth Huntley: Backpacker's Malaysia death 'mysterious'"
          ],
          [
           "Covid-19: Couple holds 10,000 people drive-thru wedding in Malaysia"
          ],
          [
           "NÃ³ra Quoirin: 'Misadventure' verdict for girl found in Malaysian jungle"
          ],
          [
           "NÃ³ra Quoirin death: The schoolgirl who vanished into a Malaysian jungle"
          ],
          [
           "Malaysia declares Covid state of emergency amid political challenges"
          ],
          [
           "Scoff the Ball: A Taste of Malaysia in Scotland"
          ],
          [
           "Malaysiakini: The upstart that changed Malaysia's media landscape"
          ],
          [
           "Malaysia deports Myanmar nationals despite court order"
          ],
          [
           "Malaysia High Court rules Christians can use 'Allah'"
          ],
          [
           "South China Sea dispute: Malaysia accuses China of breaching airspace"
          ],
          [
           "Malaysia deports French conspiracy theorist wanted for abduction"
          ],
          [
           "Malaysian casino giant Genting makes $4.3bn bet on Las Vegas"
          ],
          [
           "Malaysians in Covid lockdown fly white flags to ask for help"
          ],
          [
           "Bitcoin mining machines steamrolled by Malaysia police"
          ],
          [
           "Anger as Covid-ravaged Malaysia lifts pandemic measures"
          ],
          [
           "Malaysian singer dies of Covid days after giving birth"
          ],
          [
           "British and Malaysian men jailed in Somalia for terror offences"
          ],
          [
           "'I had to run away', says Malaysian transgender woman"
          ],
          [
           "Malaysian transgender woman Nur Sajat: 'I had to run away'"
          ],
          [
           "MH370: Could missing Malaysian Airlines plane finally be found?"
          ],
          [
           "Malaysia: Death toll rises after massive floods"
          ],
          [
           "Malaysia hit by the worst floods in decades"
          ],
          [
           "Malaysia hit by the worst floods in decades"
          ],
          [
           "British man and son missing after Malaysia diving trip"
          ],
          [
           "World Business Report: 1MDB: Ex-Goldman Malaysia boss convicted"
          ],
          [
           "1MDB scandal: Ex-Goldman Malaysia boss found guilty"
          ],
          [
           "Malaysia: Boy, 14, believed dead after diving trip"
          ],
          [
           "World Business Report: 1MDB: Ex-Goldman Malaysia boss convicted"
          ],
          [
           "Chinese rocket debris falls back to Earth over Malaysia"
          ],
          [
           "Najib Razak: Malaysia's ex-PM starts jail term after final appeal fails"
          ],
          [
           "Najib Razak: The verdict that sent Malaysia's untouchable ex-PM to prison"
          ],
          [
           "Rosmah Mansor: Wife of ex-Malaysian PM Najib gets 10 years jail for bribery"
          ],
          [
           "Fat Leonard: Malaysian businessman linked to US Navy scandal escapes"
          ],
          [
           "Queen Elizabeth II: What her death means to Malaysia"
          ],
          [
           "Fat Leonard: Malaysian criminal in US Navy scandal recaptured after jail break"
          ],
          [
           "Mahathir Mohamad: Former Malaysia PM to run for office aged 97"
          ],
          [
           "Why is Malaysia deporting Myanmar asylum seekers?"
          ],
          [
           "Malaysia elects first ever hung parliament"
          ],
          [
           "Malaysia election: Why isn't there a government yet?"
          ],
          [
           "Anwar Ibrahim sworn in as Malaysian PM after post-election deadlock"
          ],
          [
           "Anwar Ibrahim: Honeymoon as Malaysian PM will be brutally short"
          ],
          [
           "Tamil Nadu: Indian man's search for father's lost grave ends in Malaysia"
          ],
          [
           "Malaysia authorities searching for survivors after deadly landslide"
          ],
          [
           "Malaysia landslide: At least 21 campers dead and more missing"
          ],
          [
           "Ex-Goldman Sachs Malaysia boss gets 10 years for 1MDB scheme"
          ],
          [
           "Muhyiddin Yassin: Ex-Malaysia PM charged with corruption over Covid spending"
          ],
          [
           "Malaysia ends mandatory death penalty for serious crimes"
          ],
          [
           "Malaysia detains Chinese ship suspected of looting British WW2 wrecks"
          ],
          [
           "Your Place or Mine with Shaun Keaveny: Craig Parkinson: Penang, Malaysia"
          ],
          [
           "MH370 joke: Malaysia asks Interpol to track down comedian"
          ],
          [
           "Jocelyn Chia: US comedian calls Malaysia's reaction to MH370 joke 'ridiculous'"
          ],
          [
           "Swatch sues Malaysia over Pride watch seizures"
          ],
          [
           "Matty Healy: Malaysia festival cancelled after The 1975 singer attacks anti-LGBT law"
          ],
          [
           "The 1975 cancels Indonesia and Taiwan shows after Malaysia LGBT row"
          ],
          [
           "Matty Healy: Malaysia LGBT community angry at 1975 'white saviour stunt'"
          ],
          [
           "Matty Healy: The 1975 threatened with legal action after Malaysia festival cancellation"
          ],
          [
           "Private jet crashes onto Malaysia highway, killing 10"
          ],
          [
           "Matty Healy defends Malaysia kiss during 1975 concert in Dallas"
          ],
          [
           "Israel-Gaza: Malaysia will maintain ties with Hamas says PM Anwar Ibrahim"
          ],
          [
           "Malaysian killer released from Australian immigration detention"
          ],
          [
           "Forest City: Inside Malaysia's Chinese-built 'ghost city'"
          ]
         ],
         "hovertemplate": "Date: %{x}<br>Exchange Rate: %{y}<br>Title: %{customdata[0]}",
         "legendgroup": "myr_sgd_diff_pct",
         "line": {
          "color": "#EF553B",
          "dash": "solid"
         },
         "marker": {
          "symbol": "circle"
         },
         "mode": "markers+lines",
         "name": "SGD",
         "orientation": "v",
         "showlegend": true,
         "type": "scatter",
         "x": [
          "2012-01-06T00:00:00",
          "2013-05-01T00:00:00",
          "2017-05-31T00:00:00",
          "2017-06-01T00:00:00",
          "2017-06-01T00:00:00",
          "2017-06-02T00:00:00",
          "2017-06-03T00:00:00",
          "2017-06-08T00:00:00",
          "2017-06-16T00:00:00",
          "2017-06-19T00:00:00",
          "2017-06-30T00:00:00",
          "2017-07-05T00:00:00",
          "2017-07-05T00:00:00",
          "2017-07-20T00:00:00",
          "2017-07-27T00:00:00",
          "2017-08-07T00:00:00",
          "2017-08-15T00:00:00",
          "2017-08-21T00:00:00",
          "2017-08-21T00:00:00",
          "2017-09-06T00:00:00",
          "2017-09-14T00:00:00",
          "2017-10-02T00:00:00",
          "2017-10-20T00:00:00",
          "2017-10-24T00:00:00",
          "2017-11-01T00:00:00",
          "2017-12-14T00:00:00",
          "2017-12-24T00:00:00",
          "2017-12-27T00:00:00",
          "2018-01-08T00:00:00",
          "2018-01-18T00:00:00",
          "2018-01-19T00:00:00",
          "2018-01-30T00:00:00",
          "2018-02-14T00:00:00",
          "2018-02-15T00:00:00",
          "2018-02-18T00:00:00",
          "2018-03-16T00:00:00",
          "2018-03-26T00:00:00",
          "2018-04-12T00:00:00",
          "2018-04-21T00:00:00",
          "2018-05-05T00:00:00",
          "2018-05-07T00:00:00",
          "2018-05-07T00:00:00",
          "2018-05-08T00:00:00",
          "2018-05-08T00:00:00",
          "2018-05-09T00:00:00",
          "2018-05-10T00:00:00",
          "2018-05-10T00:00:00",
          "2018-05-10T00:00:00",
          "2018-05-10T00:00:00",
          "2018-05-10T00:00:00",
          "2018-05-11T00:00:00",
          "2018-05-12T00:00:00",
          "2018-05-12T00:00:00",
          "2018-05-14T00:00:00",
          "2018-05-16T00:00:00",
          "2018-05-16T00:00:00",
          "2018-05-17T00:00:00",
          "2018-05-18T00:00:00",
          "2018-05-18T00:00:00",
          "2018-05-19T00:00:00",
          "2018-05-24T00:00:00",
          "2018-05-24T00:00:00",
          "2018-05-24T00:00:00",
          "2018-05-25T00:00:00",
          "2018-06-07T00:00:00",
          "2018-06-11T00:00:00",
          "2018-06-25T00:00:00",
          "2018-06-27T00:00:00",
          "2018-06-27T00:00:00",
          "2018-06-27T00:00:00",
          "2018-07-01T00:00:00",
          "2018-07-03T00:00:00",
          "2018-07-03T00:00:00",
          "2018-07-04T00:00:00",
          "2018-07-31T00:00:00",
          "2018-08-08T00:00:00",
          "2018-08-21T00:00:00",
          "2018-09-03T00:00:00",
          "2018-09-14T00:00:00",
          "2018-09-20T00:00:00",
          "2018-10-02T00:00:00",
          "2018-10-02T00:00:00",
          "2018-10-03T00:00:00",
          "2018-10-04T00:00:00",
          "2018-10-31T00:00:00",
          "2018-11-04T00:00:00",
          "2018-11-04T00:00:00",
          "2018-11-04T00:00:00",
          "2018-11-04T00:00:00",
          "2018-11-04T00:00:00",
          "2018-11-12T00:00:00",
          "2018-11-12T00:00:00",
          "2018-11-12T00:00:00",
          "2018-11-12T00:00:00",
          "2018-11-12T00:00:00",
          "2018-11-26T00:00:00",
          "2018-12-17T00:00:00",
          "2019-01-06T00:00:00",
          "2019-01-16T00:00:00",
          "2019-01-23T00:00:00",
          "2019-01-23T00:00:00",
          "2019-01-24T00:00:00",
          "2019-01-31T00:00:00",
          "2019-02-05T00:00:00",
          "2019-02-11T00:00:00",
          "2019-02-12T00:00:00",
          "2019-02-13T00:00:00",
          "2019-03-14T00:00:00",
          "2019-04-03T00:00:00",
          "2019-04-03T00:00:00",
          "2019-04-04T00:00:00",
          "2019-05-07T00:00:00",
          "2019-05-28T00:00:00",
          "2019-05-28T00:00:00",
          "2019-05-28T00:00:00",
          "2019-05-30T00:00:00",
          "2019-06-10T00:00:00",
          "2019-06-10T00:00:00",
          "2019-06-20T00:00:00",
          "2019-06-25T00:00:00",
          "2019-06-26T00:00:00",
          "2019-06-26T00:00:00",
          "2019-07-04T00:00:00",
          "2019-07-20T00:00:00",
          "2019-08-04T00:00:00",
          "2019-08-05T00:00:00",
          "2019-08-06T00:00:00",
          "2019-08-07T00:00:00",
          "2019-08-09T00:00:00",
          "2019-08-10T00:00:00",
          "2019-08-11T00:00:00",
          "2019-08-13T00:00:00",
          "2019-08-13T00:00:00",
          "2019-08-14T00:00:00",
          "2019-08-28T00:00:00",
          "2019-08-28T00:00:00",
          "2019-09-13T00:00:00",
          "2019-09-14T00:00:00",
          "2019-09-20T00:00:00",
          "2019-09-20T00:00:00",
          "2019-10-31T00:00:00",
          "2019-11-01T00:00:00",
          "2019-11-12T00:00:00",
          "2019-11-13T00:00:00",
          "2019-11-13T00:00:00",
          "2019-11-23T00:00:00",
          "2019-11-26T00:00:00",
          "2019-11-29T00:00:00",
          "2019-11-30T00:00:00",
          "2019-12-17T00:00:00",
          "2020-01-20T00:00:00",
          "2020-02-01T00:00:00",
          "2020-02-04T00:00:00",
          "2020-02-21T00:00:00",
          "2020-03-01T00:00:00",
          "2020-03-05T00:00:00",
          "2020-05-02T00:00:00",
          "2020-05-14T00:00:00",
          "2020-06-09T00:00:00",
          "2020-07-24T00:00:00",
          "2020-07-25T00:00:00",
          "2020-07-28T00:00:00",
          "2020-07-28T00:00:00",
          "2020-07-28T00:00:00",
          "2020-07-28T00:00:00",
          "2020-08-03T00:00:00",
          "2020-08-24T00:00:00",
          "2020-08-26T00:00:00",
          "2020-08-27T00:00:00",
          "2020-09-07T00:00:00",
          "2020-09-15T00:00:00",
          "2020-09-16T00:00:00",
          "2020-09-19T00:00:00",
          "2020-09-29T00:00:00",
          "2020-10-01T00:00:00",
          "2020-10-08T00:00:00",
          "2020-12-21T00:00:00",
          "2021-01-04T00:00:00",
          "2021-01-04T00:00:00",
          "2021-01-12T00:00:00",
          "2021-01-21T00:00:00",
          "2021-02-19T00:00:00",
          "2021-02-24T00:00:00",
          "2021-03-11T00:00:00",
          "2021-06-02T00:00:00",
          "2021-06-13T00:00:00",
          "2021-06-24T00:00:00",
          "2021-07-05T00:00:00",
          "2021-07-20T00:00:00",
          "2021-07-28T00:00:00",
          "2021-08-10T00:00:00",
          "2021-09-24T00:00:00",
          "2021-11-19T00:00:00",
          "2021-11-19T00:00:00",
          "2021-12-03T00:00:00",
          "2021-12-21T00:00:00",
          "2021-12-21T00:00:00",
          "2021-12-21T00:00:00",
          "2022-04-07T00:00:00",
          "2022-04-08T00:00:00",
          "2022-04-08T00:00:00",
          "2022-04-09T00:00:00",
          "2022-04-09T00:00:00",
          "2022-07-31T00:00:00",
          "2022-08-23T00:00:00",
          "2022-08-27T00:00:00",
          "2022-09-01T00:00:00",
          "2022-09-06T00:00:00",
          "2022-09-14T00:00:00",
          "2022-09-22T00:00:00",
          "2022-10-11T00:00:00",
          "2022-10-25T00:00:00",
          "2022-11-20T00:00:00",
          "2022-11-21T00:00:00",
          "2022-11-24T00:00:00",
          "2022-12-03T00:00:00",
          "2022-12-13T00:00:00",
          "2022-12-16T00:00:00",
          "2022-12-16T00:00:00",
          "2023-03-09T00:00:00",
          "2023-03-10T00:00:00",
          "2023-04-03T00:00:00",
          "2023-05-30T00:00:00",
          "2023-06-07T00:00:00",
          "2023-06-13T00:00:00",
          "2023-06-14T00:00:00",
          "2023-07-17T00:00:00",
          "2023-07-22T00:00:00",
          "2023-07-23T00:00:00",
          "2023-07-25T00:00:00",
          "2023-08-07T00:00:00",
          "2023-08-17T00:00:00",
          "2023-10-10T00:00:00",
          "2023-11-08T00:00:00",
          "2023-11-13T00:00:00",
          "2023-12-05T00:00:00"
         ],
         "xaxis": "x",
         "y": [
          null,
          -1.30098504530326,
          -20.246150475212144,
          -0.07837267922665703,
          0,
          0.390495475923891,
          0,
          0.13196294101971429,
          -0.24971054297792117,
          -0.07034716122081841,
          -0.7042431538050953,
          0.14025622322764164,
          0,
          -0.803800802485688,
          -0.5859136469895665,
          0.23737049683398848,
          -0.12537375114490823,
          0.21372389664842117,
          0,
          0.34608012701979884,
          0.5593325273574035,
          0.023475365351210975,
          0.010360497211436837,
          0.13972756671110087,
          0.09653528080126872,
          2.4904697318681723,
          -0.08325424350862365,
          -0.1196407506014463,
          0.8270697985428788,
          1.0071979320491753,
          0.028942397935938224,
          0.15232316308615435,
          0.927559870751371,
          -0.4562088351813043,
          -0.41530464583414695,
          0.07362166102606871,
          0.4805110995145023,
          -0.05517363118809904,
          -0.14748507026088875,
          0.03852953547707205,
          0.3528627254739014,
          0,
          -0.031882784391201735,
          0,
          -0.7785299745791452,
          -0.7565963892536054,
          0,
          0,
          0,
          0,
          1.64180077228131,
          0,
          0,
          -0.2158482855578847,
          0.610202193999565,
          0,
          -0.727393089913364,
          0.11262502399664864,
          0,
          0,
          -0.18058350360178332,
          0,
          0,
          -0.17488232056421804,
          -0.4434281948253571,
          -0.18451508138185302,
          1.583921376690256,
          -0.3439803547180986,
          0,
          0,
          -0.09116865829104093,
          0.06922611087036845,
          0,
          -0.30012084406874084,
          -0.6813348171450628,
          -0.2421669945299465,
          -0.1700853941085989,
          -0.23142369036700527,
          -0.7834759353355425,
          0.13105856997897014,
          0.09090961740831904,
          0,
          0.04901274433330993,
          0.6143112523484096,
          -0.730223765468474,
          -0.529795552987189,
          0,
          0,
          0,
          0,
          0.18804341590656914,
          0,
          0,
          0,
          0,
          -0.6092076859070539,
          0.3018973430951144,
          0.10848391546236513,
          0.19905944670963738,
          -0.34004402287237667,
          0,
          -0.19538857688230493,
          0.28827302126970267,
          0.5540385986234408,
          0.6629369543405428,
          0.26288003697969575,
          -0.3234504040522945,
          -0.6332754338094104,
          0.15534116506605855,
          0,
          0.09089841367977414,
          -0.8785569701061036,
          -0.10379054338031102,
          0,
          0,
          0.1992813201683763,
          -0.14658888056618968,
          0,
          -0.6647950975777639,
          0.15294501036349217,
          0.3566932698121583,
          0,
          -0.11292483534222075,
          0.8013729835228744,
          0.6028910100341012,
          -0.32978952934904493,
          0.08091086364265809,
          -0.6703929945865217,
          0.3139922606104406,
          0,
          0,
          -0.04409717147205727,
          0,
          0.02580813174459795,
          0.09034548412794052,
          0,
          -0.14650523432199192,
          0,
          -0.2973150956563142,
          0,
          -1.0150190318654828,
          -0.035349134074103006,
          0.8317002021904774,
          0.1785625314621564,
          0,
          -0.6501266583698984,
          -0.039017572361443875,
          0.1508898961647409,
          0,
          0.015793654988449646,
          1.558913444192389,
          0.3343907942478852,
          -0.1720399133135042,
          0.7271940204327532,
          -1.199092612294328,
          -0.09042301378667794,
          -0.7420353415471648,
          -0.24624930215926266,
          -0.608059338328204,
          -0.047581996193035714,
          0,
          -0.44698130061474606,
          0,
          0,
          0,
          0.02948340121948778,
          1.2338882986486777,
          -0.014804134982049355,
          -0.20760997211066723,
          0.46534503412365424,
          0.025811063791691957,
          0.15179249693111352,
          -0.5042114548003074,
          0.13443009511744375,
          0.046470498297201956,
          -0.4629427621889337,
          0.7838105225848491,
          -0.35278305222793405,
          0,
          0.10210803628218912,
          -0.3627015066437256,
          0.23095375077708535,
          -0.5735930226519748,
          -0.23678152282443632,
          -1.5597256504767842,
          0.20552554844994742,
          0.6770285291267886,
          0.08242301023224652,
          -0.2509898592826132,
          -0.4899583223988202,
          -0.0783743034632467,
          0.46429569245465263,
          0.5835650825161354,
          0,
          -0.19057713448439317,
          -0.0964721041318728,
          0,
          0,
          -0.21544039243579505,
          0.04377595935565193,
          0,
          0,
          0,
          -4.06081422514265,
          0.5634878902228024,
          -0.28025112803361507,
          0.6000425535708453,
          -0.11371027063955541,
          -0.03529215216779846,
          -0.14281569969553098,
          -0.8171534500885591,
          -2.9425607442585044,
          0.6784737999441459,
          -0.0043606706347287805,
          -0.35791721284142985,
          2.1055623595134465,
          -0.18118127490560632,
          0.4536321840984847,
          0,
          -2.8404739893653552,
          -0.3874752004583981,
          1.3908320057067325,
          -2.86400742819628,
          -0.3249829994459996,
          -0.649366734259782,
          -0.0120532366900572,
          0.16277351100468795,
          0.11198475627629545,
          0,
          -0.10857536700120685,
          0.9622334472523919,
          -0.7321607523570473,
          -1.2141571220806946,
          1.3431406851510674,
          -0.8120346449942195,
          -1.2214376299111263
         ],
         "yaxis": "y"
        },
        {
         "customdata": [
          [
           "Anwar Ibrahim: The man who fulfilled his goal to lead Malaysia"
          ],
          [
           "Najib Razak: Malaysia's former PM and his downfall over alleged corruption"
          ],
          [
           "Malaysia Airlines plane turns back after cockpit entry bid"
          ],
          [
           "Malaysia Airlines plane threat foiled by 'heroes', witness says"
          ],
          [
           "Malaysia airline cockpit scare"
          ],
          [
           "Man accused of Malaysia Airlines threat does not appear in court"
          ],
          [
           "Malaysia gay 'prevention' competition seeks videos"
          ],
          [
           "Malaysia drops gay 'prevention' category from video competition"
          ],
          [
           "US looks to seize $540m in 'stolen' assets from Malaysia fund 1MDB"
          ],
          [
           "Baby elephant killed on Malaysia highway"
          ],
          [
           "The 'blackface' ad that got Malaysia talking"
          ],
          [
           "Chinese deities flown on business class to Malaysia"
          ],
          [
           "Shell withdraws Malaysia cardboard cutouts after 'distasteful' groping"
          ],
          [
           "Despacito censored: Malaysia bans 'unsuitable' hit from state stations"
          ],
          [
           "Malaysia MP: 'Denying husbands sex is abuse'"
          ],
          [
           "Malaysia detains hundreds in counter-terrorism raids"
          ],
          [
           "Malaysia princess Tunku Aminah weds Dutchman in lavish ceremony"
          ],
          [
           "Malaysia sites hacked after blunder over Indonesian flag"
          ],
          [
           "The online abuse hurled at Malaysia's Muslim women"
          ],
          [
           "Malaysia to name firms lacking board diversity"
          ],
          [
           "Malaysia fire: Students and teachers killed in dormitory"
          ],
          [
           "Kim Jong-nam murder: Women plead not guilty in Malaysia trial"
          ],
          [
           "MH370: Malaysia in talks with US firm to restart plane search"
          ],
          [
           "Kim Jong-nam murder: Suspects revisit Malaysia airport"
          ],
          [
           "Miss Universe Malaysia to wear nasi lemak dress"
          ],
          [
           "Fake baby milk formula scare hits Malaysia"
          ],
          [
           "Ivana Smit: Model's death in Malaysia casts a long shadow"
          ],
          [
           "Malaysia court clears 'drug mule' grandmother who faced hanging"
          ],
          [
           "Mahathir Mohamad: Ex-Malaysia PM, 92, to run for office"
          ],
          [
           "100 Women: National Union of Journalists Malaysia sorry for 'sexy outfit' advice"
          ],
          [
           "'Shaking' Malaysia Airlines flight turns back to Australia"
          ],
          [
           "Malaysia defends 'hideous' tourism logo despite criticism"
          ],
          [
           "100 Women: Maid dies in Malaysia after being left to 'sleep outside with dog'"
          ],
          [
           "Pop star Denise Ho denied Malaysia permit 'over LGBT views'"
          ],
          [
           "Malaysia wishes wrong New Year with a barking rooster"
          ],
          [
           "Nerve agent attacks: How Malaysia responded compared to the UK"
          ],
          [
           "Malaysia seeks 10 year-jail terms for 'fake news'"
          ],
          [
           "Syria man 'stranded at Malaysia airport for weeks'"
          ],
          [
           "Palestinian lecturer and Hamas member killed in Malaysia"
          ],
          [
           "Malaysia's youth have power they won't use"
          ],
          [
           "Malaysia's election: A battle of old allies"
          ],
          [
           "Malaysia elections: Could Mahathir Mohamad make a comeback?"
          ],
          [
           "Malaysia election: What does politics mean to multi-racial voters?"
          ],
          [
           "Mahathir Mohamad: The man who dominated Malaysian politics"
          ],
          [
           "Malaysia election: Opposition scores historic victory"
          ],
          [
           "Malaysia's Mahathir hopes to get back lost 1MDB funds"
          ],
          [
           "Malaysia election: Why did young voters pick a 92-year-old?"
          ],
          [
           "Malaysia's Mahathir Mohamad sworn in after shock comeback victory"
          ],
          [
           "Malaysia election: What just happened?"
          ],
          [
           "Business Matters: Opposition Claims Victory in Malaysia"
          ],
          [
           "Corruption, money and Malaysia's election"
          ],
          [
           "Former Malaysia PM Najib Razak banned from leaving country"
          ],
          [
           "The Cultural Frontline: Truth and Taboo from Malaysia to the Middle East"
          ],
          [
           "Malaysia to review not revoke fake news law, says Mahathir"
          ],
          [
           "Malaysia's freed Anwar Ibrahim hails 'new dawn' after poll win"
          ],
          [
           "Malaysia's Najib Razak has home searched by police"
          ],
          [
           "Malaysia's political drama is worthy of Shakespeare"
          ],
          [
           "Malaysia police seize cash and luxury goods in Najib-linked raids"
          ],
          [
           "Malaysia politics: $4 sandals vs luxury Birkin bags"
          ],
          [
           "Najib Razak: Scandal-hit ex-Malaysia PM condemns police raids"
          ],
          [
           "From Our Own Correspondent Podcast: Malaysiaâs Political Drama"
          ],
          [
           "From Our Own Correspondent: Malaysia's Political Drama"
          ],
          [
           "Australian woman sentenced to death in Malaysia over drugs"
          ],
          [
           "Police find $28m cash in raids linked to Malaysia ex-PM Najib"
          ],
          [
           "Australia jails man over Malaysia Airlines plane bomb threat"
          ],
          [
           "Malaysia's Anwar Ibrahim on Mahathir: 'We have to move on'"
          ],
          [
           "Malaysia mosque bans tourists after provocative dance"
          ],
          [
           "World Business Report: Malaysia 1MDB: Seized Cash and Goods 'Worth $273m'"
          ],
          [
           "Malaysia 1MDB: Seized tiaras, cash and Hermes bags 'worth $273m'"
          ],
          [
           "World Business Report: Malaysia 1MDB: Seized Cash and Goods 'Worth $273m'"
          ],
          [
           "Child marriage involving bride of 11 sparks outrage in Malaysia"
          ],
          [
           "1MDB: Malaysia's global corruption scandal"
          ],
          [
           "Malaysia 1MDB: Ex-PM Najib arrested by anti-corruption officials"
          ],
          [
           "Malaysia's ex-PM Najib charged with corruption over 1MDB"
          ],
          [
           "Missing Malaysia flight MH370: Aviation chief quits over failings"
          ],
          [
           "Malaysia ex-PM Najib charged with money laundering"
          ],
          [
           "Radioactive device goes missing in Malaysia"
          ],
          [
           "LGBT rights: Malaysia women caned for attempting to have lesbian sex"
          ],
          [
           "Laundrette cat killers arrested in Malaysia"
          ],
          [
           "Ex-Malaysia PM Najib hit with 25 charges of money laundering and abuse of power"
          ],
          [
           "Syrian Hassan al-Kontar removed from Malaysia airport after months"
          ],
          [
           "South China Sea: Battleships may lead to war - Malaysia PM"
          ],
          [
           "HARDtalk: Mahathir Mohamad, Prime Minister of Malaysia"
          ],
          [
           "Six rescue divers drown trying to save teen in Malaysia"
          ],
          [
           "Wife charged with murder of ex firefighter in Malaysia"
          ],
          [
           "From Our Own Correspondent: Italy and Malaysia"
          ],
          [
           "From Our Own Correspondent: Malaysia and Hungary"
          ],
          [
           "From Our Own Correspondent: North Korea and Malaysia"
          ],
          [
           "A bitter winter in Afghanistan: Malaysia and Macedonia"
          ],
          [
           "From Our Own Correspondent: Malaysia, the USA and Zimbabwe"
          ],
          [
           "From Our Own Correspondent: Syria and Malaysia"
          ],
          [
           "Medical cannabis: Death sentence prompts Malaysia to re-think harsh laws"
          ],
          [
           "World Have Your Say: WHYS 30: Malaysia's internet black-out day"
          ],
          [
           "From Our Own Correspondent: Malaysia and Mexico"
          ],
          [
           "From Our Own Correspondent: Honduras and Malaysia"
          ],
          [
           "Syrian man stranded in Malaysia airport arrives in Canada"
          ],
          [
           "1MDB: Malaysia charges Goldman Sachs and two bankers"
          ],
          [
           "Malaysia king: Sultan Muhammad V abdicates in historic first"
          ],
          [
           "Malaysia revises 'victim-shaming' school text book"
          ],
          [
           "Malaysia defends ban on Israeli Paralympic athletes"
          ],
          [
           "HARDtalk: Malaysia's Minister for Youth and Sport - Syed Saddiq"
          ],
          [
           "Malaysia elects new king after unprecedented abdication"
          ],
          [
           "Sultan Abdullah crowned Malaysia's new king"
          ],
          [
           "Russians detained over baby swinging street act in Malaysia"
          ],
          [
           "'Competent' oil worker crushed by machine on ship off Malaysia"
          ],
          [
           "Lowestoft oil worker's injuries on ship off Malaysia 'non-survivable'"
          ],
          [
           "Malaysia plastic pollution: 'We saved our town from your Western rubbish'"
          ],
          [
           "Kim Jong-nam murder: Malaysia rejects suspect's release plea"
          ],
          [
           "Najib 1MDB trial: Malaysia ex-PM faces court in global financial scandal"
          ],
          [
           "Newsday: Malaysia: former Prime Minister Najib Razak goes on trial"
          ],
          [
           "Business Matters: Malaysia: ex-PM faces court in global financial scandal"
          ],
          [
           "1MDB: US to return $200m in funds to Malaysia as part of probe"
          ],
          [
           "Malaysia bans 'recycled' waste"
          ],
          [
           "Malaysia orders tonnes of imported waste to be returned"
          ],
          [
           "Last male Sumatran rhino in Malaysia dies"
          ],
          [
           "Beyond Today: Why is Malaysia sending our rubbish back?"
          ],
          [
           "Plastic waste: Milton Keynes Council launches probe after Malaysia find"
          ],
          [
           "Hugh Fearnley-Whittingstall finds UK plastic waste abandoned in Malaysia"
          ],
          [
           "MH17 crash: Malaysia PM Mahathir denounces murder charges"
          ],
          [
           "Malaysia air pollution: Schools shut after illness hits children"
          ],
          [
           "Thousands of turtles seized at Malaysia airport"
          ],
          [
           "Malaysia seizes thousands of smuggled turtles at airport"
          ],
          [
           "Wolf of Wall Street producer arrested in Malaysia for money laundering"
          ],
          [
           "CÃ©sar Pelli: Architect of Malaysia's Petronas Towers dies at 92"
          ],
          [
           "London girl Nora Quoirin, 15, vanishes on Malaysia holiday"
          ],
          [
           "Nora Quoirin: Malaysia jungle search for holiday teen"
          ],
          [
           "Nora Quoirin: Family say teen missing in Malaysia was abducted"
          ],
          [
           "Missing Nora Quoirin: Malaysia police 'rule nothing out' in search"
          ],
          [
           "Goldman bosses charged in Malaysia bond scandal"
          ],
          [
           "Missing Nora Quoirin's mother Meabh thanks search teams in Malaysia"
          ],
          [
           "The mystery of screaming schoolgirls in Malaysia"
          ],
          [
           "Nora Quoirin: Body found in Malaysia is missing girl"
          ],
          [
           "Missing Nora Quoirin: Malaysia police say a body has been found nearby"
          ],
          [
           "Nora Quoirin: Family 'heartbroken' after body found in Malaysia"
          ],
          [
           "Najib Razak 1MDB: Malaysia's former PM faces biggest trial yet"
          ],
          [
           "Najib Razak : Ex-Malaysia PM's second fraud trial begins"
          ],
          [
           "Rainforest fires trigger smog alerts in Indonesia and Malaysia"
          ],
          [
           "Malaysia queen denounces arrest of online critics"
          ],
          [
           "Plastic waste: Milton Keynes Council cleared after Malaysia waste find"
          ],
          [
           "Jennifer Lopez stripper film Hustlers banned in Malaysia"
          ],
          [
           "Outlook: The rebel lawyer transforming Malaysia"
          ],
          [
           "The Outlook Podcast Archive: The rebel lawyer transforming Malaysia"
          ],
          [
           "'I woke up to thousands of messages from Malaysia'"
          ],
          [
           "HARDtalk: Minister for Islamic Affairs in Malaysia -Mujahid Yusof Rawa"
          ],
          [
           "Mujahid Yusof Rawa: Malaysia needs a new narrative of Islam"
          ],
          [
           "Malaysia's last known Sumatran rhino dies"
          ],
          [
           "Malaysia grants reprieve to Australian 'love scam' drug mule"
          ],
          [
           "Inside Malaysia's straight edge punk scene"
          ],
          [
           "Malaysia's straight edge punk scene"
          ],
          [
           "Nora Quoirin: Parents determined to find answers over Malaysia death"
          ],
          [
           "Malaysia returns 42 containers of 'illegal' plastic waste to UK"
          ],
          [
           "The Documentary: Shifting Cultures: Polygamous marriage in modern Malaysia"
          ],
          [
           "The Documentary Podcast: Polygamous marriage in modern Malaysia"
          ],
          [
           "Fireball meteor lights up night sky over Malaysia"
          ],
          [
           "Malaysia gets new PM, Muhyiddin Yassin, after week of turmoil"
          ],
          [
           "How Malaysiaâs government collapsed in two years"
          ],
          [
           "Malaysia migrant raids 'to reduce Covid-19 spread'"
          ],
          [
           "1MDB: Malaysia drops charges against Wolf of Wall Street producer"
          ],
          [
           "Malaysia detains 270 Rohingya refugees who had drifted at sea for weeks"
          ],
          [
           "Goldman Sachs settles 1MDB scandal with Malaysia for $3.9bn"
          ],
          [
           "Malaysia arrests Bangladeshi migrant who criticised government on TV"
          ],
          [
           "Najib Razak: Malaysian ex-PM gets 12-year jail term in 1MDB corruption trial"
          ],
          [
           "Newsday: Najib Razak â former Malaysia PM â handed guilty verdict"
          ],
          [
           "Newsday: Guilty verdict for former Malaysian prime minister"
          ],
          [
           "Newsday: Former Malaysian PM guilty of abuse of power"
          ],
          [
           "Samantha Jones avoids death for husband's Malaysia murder"
          ],
          [
           "NÃ³ra Quoirin: Malaysia opens inquest into death of London teenager"
          ],
          [
           "NÃ³ra Quoirin: Site of Malaysian body find 'searched several times'"
          ],
          [
           "NÃ³ra Quoirin: Window in Malaysian resort was broken, inquest hears"
          ],
          [
           "Go Jetters: Series 3: Funky Fireflies, Selangor River, Malaysia"
          ],
          [
           "Malaysian man 'finds' monkey selfies on lost phone"
          ],
          [
           "Chinese and Malaysian hackers charged by US over attacks"
          ],
          [
           "Cooking with Paula McIntyre: Malaysian Chicken Curry with Tomato Rice"
          ],
          [
           "Philips sells Suffolk factory to Malaysia's Guan Chong Berhad"
          ],
          [
           "US bans Malaysian palm oil producer over forced labour"
          ],
          [
           "Gareth Huntley: Backpacker's Malaysia death 'mysterious'"
          ],
          [
           "Covid-19: Couple holds 10,000 people drive-thru wedding in Malaysia"
          ],
          [
           "NÃ³ra Quoirin: 'Misadventure' verdict for girl found in Malaysian jungle"
          ],
          [
           "NÃ³ra Quoirin death: The schoolgirl who vanished into a Malaysian jungle"
          ],
          [
           "Malaysia declares Covid state of emergency amid political challenges"
          ],
          [
           "Scoff the Ball: A Taste of Malaysia in Scotland"
          ],
          [
           "Malaysiakini: The upstart that changed Malaysia's media landscape"
          ],
          [
           "Malaysia deports Myanmar nationals despite court order"
          ],
          [
           "Malaysia High Court rules Christians can use 'Allah'"
          ],
          [
           "South China Sea dispute: Malaysia accuses China of breaching airspace"
          ],
          [
           "Malaysia deports French conspiracy theorist wanted for abduction"
          ],
          [
           "Malaysian casino giant Genting makes $4.3bn bet on Las Vegas"
          ],
          [
           "Malaysians in Covid lockdown fly white flags to ask for help"
          ],
          [
           "Bitcoin mining machines steamrolled by Malaysia police"
          ],
          [
           "Anger as Covid-ravaged Malaysia lifts pandemic measures"
          ],
          [
           "Malaysian singer dies of Covid days after giving birth"
          ],
          [
           "British and Malaysian men jailed in Somalia for terror offences"
          ],
          [
           "'I had to run away', says Malaysian transgender woman"
          ],
          [
           "Malaysian transgender woman Nur Sajat: 'I had to run away'"
          ],
          [
           "MH370: Could missing Malaysian Airlines plane finally be found?"
          ],
          [
           "Malaysia: Death toll rises after massive floods"
          ],
          [
           "Malaysia hit by the worst floods in decades"
          ],
          [
           "Malaysia hit by the worst floods in decades"
          ],
          [
           "British man and son missing after Malaysia diving trip"
          ],
          [
           "World Business Report: 1MDB: Ex-Goldman Malaysia boss convicted"
          ],
          [
           "1MDB scandal: Ex-Goldman Malaysia boss found guilty"
          ],
          [
           "Malaysia: Boy, 14, believed dead after diving trip"
          ],
          [
           "World Business Report: 1MDB: Ex-Goldman Malaysia boss convicted"
          ],
          [
           "Chinese rocket debris falls back to Earth over Malaysia"
          ],
          [
           "Najib Razak: Malaysia's ex-PM starts jail term after final appeal fails"
          ],
          [
           "Najib Razak: The verdict that sent Malaysia's untouchable ex-PM to prison"
          ],
          [
           "Rosmah Mansor: Wife of ex-Malaysian PM Najib gets 10 years jail for bribery"
          ],
          [
           "Fat Leonard: Malaysian businessman linked to US Navy scandal escapes"
          ],
          [
           "Queen Elizabeth II: What her death means to Malaysia"
          ],
          [
           "Fat Leonard: Malaysian criminal in US Navy scandal recaptured after jail break"
          ],
          [
           "Mahathir Mohamad: Former Malaysia PM to run for office aged 97"
          ],
          [
           "Why is Malaysia deporting Myanmar asylum seekers?"
          ],
          [
           "Malaysia elects first ever hung parliament"
          ],
          [
           "Malaysia election: Why isn't there a government yet?"
          ],
          [
           "Anwar Ibrahim sworn in as Malaysian PM after post-election deadlock"
          ],
          [
           "Anwar Ibrahim: Honeymoon as Malaysian PM will be brutally short"
          ],
          [
           "Tamil Nadu: Indian man's search for father's lost grave ends in Malaysia"
          ],
          [
           "Malaysia authorities searching for survivors after deadly landslide"
          ],
          [
           "Malaysia landslide: At least 21 campers dead and more missing"
          ],
          [
           "Ex-Goldman Sachs Malaysia boss gets 10 years for 1MDB scheme"
          ],
          [
           "Muhyiddin Yassin: Ex-Malaysia PM charged with corruption over Covid spending"
          ],
          [
           "Malaysia ends mandatory death penalty for serious crimes"
          ],
          [
           "Malaysia detains Chinese ship suspected of looting British WW2 wrecks"
          ],
          [
           "Your Place or Mine with Shaun Keaveny: Craig Parkinson: Penang, Malaysia"
          ],
          [
           "MH370 joke: Malaysia asks Interpol to track down comedian"
          ],
          [
           "Jocelyn Chia: US comedian calls Malaysia's reaction to MH370 joke 'ridiculous'"
          ],
          [
           "Swatch sues Malaysia over Pride watch seizures"
          ],
          [
           "Matty Healy: Malaysia festival cancelled after The 1975 singer attacks anti-LGBT law"
          ],
          [
           "The 1975 cancels Indonesia and Taiwan shows after Malaysia LGBT row"
          ],
          [
           "Matty Healy: Malaysia LGBT community angry at 1975 'white saviour stunt'"
          ],
          [
           "Matty Healy: The 1975 threatened with legal action after Malaysia festival cancellation"
          ],
          [
           "Private jet crashes onto Malaysia highway, killing 10"
          ],
          [
           "Matty Healy defends Malaysia kiss during 1975 concert in Dallas"
          ],
          [
           "Israel-Gaza: Malaysia will maintain ties with Hamas says PM Anwar Ibrahim"
          ],
          [
           "Malaysian killer released from Australian immigration detention"
          ],
          [
           "Forest City: Inside Malaysia's Chinese-built 'ghost city'"
          ]
         ],
         "hovertemplate": "Date: %{x}<br>Exchange Rate: %{y}<br>Title: %{customdata[0]}",
         "legendgroup": "myr_eur_diff_pct",
         "line": {
          "color": "#00cc96",
          "dash": "solid"
         },
         "marker": {
          "symbol": "circle"
         },
         "mode": "markers+lines",
         "name": "EUR",
         "orientation": "v",
         "showlegend": true,
         "type": "scatter",
         "x": [
          "2012-01-06T00:00:00",
          "2013-05-01T00:00:00",
          "2017-05-31T00:00:00",
          "2017-06-01T00:00:00",
          "2017-06-01T00:00:00",
          "2017-06-02T00:00:00",
          "2017-06-03T00:00:00",
          "2017-06-08T00:00:00",
          "2017-06-16T00:00:00",
          "2017-06-19T00:00:00",
          "2017-06-30T00:00:00",
          "2017-07-05T00:00:00",
          "2017-07-05T00:00:00",
          "2017-07-20T00:00:00",
          "2017-07-27T00:00:00",
          "2017-08-07T00:00:00",
          "2017-08-15T00:00:00",
          "2017-08-21T00:00:00",
          "2017-08-21T00:00:00",
          "2017-09-06T00:00:00",
          "2017-09-14T00:00:00",
          "2017-10-02T00:00:00",
          "2017-10-20T00:00:00",
          "2017-10-24T00:00:00",
          "2017-11-01T00:00:00",
          "2017-12-14T00:00:00",
          "2017-12-24T00:00:00",
          "2017-12-27T00:00:00",
          "2018-01-08T00:00:00",
          "2018-01-18T00:00:00",
          "2018-01-19T00:00:00",
          "2018-01-30T00:00:00",
          "2018-02-14T00:00:00",
          "2018-02-15T00:00:00",
          "2018-02-18T00:00:00",
          "2018-03-16T00:00:00",
          "2018-03-26T00:00:00",
          "2018-04-12T00:00:00",
          "2018-04-21T00:00:00",
          "2018-05-05T00:00:00",
          "2018-05-07T00:00:00",
          "2018-05-07T00:00:00",
          "2018-05-08T00:00:00",
          "2018-05-08T00:00:00",
          "2018-05-09T00:00:00",
          "2018-05-10T00:00:00",
          "2018-05-10T00:00:00",
          "2018-05-10T00:00:00",
          "2018-05-10T00:00:00",
          "2018-05-10T00:00:00",
          "2018-05-11T00:00:00",
          "2018-05-12T00:00:00",
          "2018-05-12T00:00:00",
          "2018-05-14T00:00:00",
          "2018-05-16T00:00:00",
          "2018-05-16T00:00:00",
          "2018-05-17T00:00:00",
          "2018-05-18T00:00:00",
          "2018-05-18T00:00:00",
          "2018-05-19T00:00:00",
          "2018-05-24T00:00:00",
          "2018-05-24T00:00:00",
          "2018-05-24T00:00:00",
          "2018-05-25T00:00:00",
          "2018-06-07T00:00:00",
          "2018-06-11T00:00:00",
          "2018-06-25T00:00:00",
          "2018-06-27T00:00:00",
          "2018-06-27T00:00:00",
          "2018-06-27T00:00:00",
          "2018-07-01T00:00:00",
          "2018-07-03T00:00:00",
          "2018-07-03T00:00:00",
          "2018-07-04T00:00:00",
          "2018-07-31T00:00:00",
          "2018-08-08T00:00:00",
          "2018-08-21T00:00:00",
          "2018-09-03T00:00:00",
          "2018-09-14T00:00:00",
          "2018-09-20T00:00:00",
          "2018-10-02T00:00:00",
          "2018-10-02T00:00:00",
          "2018-10-03T00:00:00",
          "2018-10-04T00:00:00",
          "2018-10-31T00:00:00",
          "2018-11-04T00:00:00",
          "2018-11-04T00:00:00",
          "2018-11-04T00:00:00",
          "2018-11-04T00:00:00",
          "2018-11-04T00:00:00",
          "2018-11-12T00:00:00",
          "2018-11-12T00:00:00",
          "2018-11-12T00:00:00",
          "2018-11-12T00:00:00",
          "2018-11-12T00:00:00",
          "2018-11-26T00:00:00",
          "2018-12-17T00:00:00",
          "2019-01-06T00:00:00",
          "2019-01-16T00:00:00",
          "2019-01-23T00:00:00",
          "2019-01-23T00:00:00",
          "2019-01-24T00:00:00",
          "2019-01-31T00:00:00",
          "2019-02-05T00:00:00",
          "2019-02-11T00:00:00",
          "2019-02-12T00:00:00",
          "2019-02-13T00:00:00",
          "2019-03-14T00:00:00",
          "2019-04-03T00:00:00",
          "2019-04-03T00:00:00",
          "2019-04-04T00:00:00",
          "2019-05-07T00:00:00",
          "2019-05-28T00:00:00",
          "2019-05-28T00:00:00",
          "2019-05-28T00:00:00",
          "2019-05-30T00:00:00",
          "2019-06-10T00:00:00",
          "2019-06-10T00:00:00",
          "2019-06-20T00:00:00",
          "2019-06-25T00:00:00",
          "2019-06-26T00:00:00",
          "2019-06-26T00:00:00",
          "2019-07-04T00:00:00",
          "2019-07-20T00:00:00",
          "2019-08-04T00:00:00",
          "2019-08-05T00:00:00",
          "2019-08-06T00:00:00",
          "2019-08-07T00:00:00",
          "2019-08-09T00:00:00",
          "2019-08-10T00:00:00",
          "2019-08-11T00:00:00",
          "2019-08-13T00:00:00",
          "2019-08-13T00:00:00",
          "2019-08-14T00:00:00",
          "2019-08-28T00:00:00",
          "2019-08-28T00:00:00",
          "2019-09-13T00:00:00",
          "2019-09-14T00:00:00",
          "2019-09-20T00:00:00",
          "2019-09-20T00:00:00",
          "2019-10-31T00:00:00",
          "2019-11-01T00:00:00",
          "2019-11-12T00:00:00",
          "2019-11-13T00:00:00",
          "2019-11-13T00:00:00",
          "2019-11-23T00:00:00",
          "2019-11-26T00:00:00",
          "2019-11-29T00:00:00",
          "2019-11-30T00:00:00",
          "2019-12-17T00:00:00",
          "2020-01-20T00:00:00",
          "2020-02-01T00:00:00",
          "2020-02-04T00:00:00",
          "2020-02-21T00:00:00",
          "2020-03-01T00:00:00",
          "2020-03-05T00:00:00",
          "2020-05-02T00:00:00",
          "2020-05-14T00:00:00",
          "2020-06-09T00:00:00",
          "2020-07-24T00:00:00",
          "2020-07-25T00:00:00",
          "2020-07-28T00:00:00",
          "2020-07-28T00:00:00",
          "2020-07-28T00:00:00",
          "2020-07-28T00:00:00",
          "2020-08-03T00:00:00",
          "2020-08-24T00:00:00",
          "2020-08-26T00:00:00",
          "2020-08-27T00:00:00",
          "2020-09-07T00:00:00",
          "2020-09-15T00:00:00",
          "2020-09-16T00:00:00",
          "2020-09-19T00:00:00",
          "2020-09-29T00:00:00",
          "2020-10-01T00:00:00",
          "2020-10-08T00:00:00",
          "2020-12-21T00:00:00",
          "2021-01-04T00:00:00",
          "2021-01-04T00:00:00",
          "2021-01-12T00:00:00",
          "2021-01-21T00:00:00",
          "2021-02-19T00:00:00",
          "2021-02-24T00:00:00",
          "2021-03-11T00:00:00",
          "2021-06-02T00:00:00",
          "2021-06-13T00:00:00",
          "2021-06-24T00:00:00",
          "2021-07-05T00:00:00",
          "2021-07-20T00:00:00",
          "2021-07-28T00:00:00",
          "2021-08-10T00:00:00",
          "2021-09-24T00:00:00",
          "2021-11-19T00:00:00",
          "2021-11-19T00:00:00",
          "2021-12-03T00:00:00",
          "2021-12-21T00:00:00",
          "2021-12-21T00:00:00",
          "2021-12-21T00:00:00",
          "2022-04-07T00:00:00",
          "2022-04-08T00:00:00",
          "2022-04-08T00:00:00",
          "2022-04-09T00:00:00",
          "2022-04-09T00:00:00",
          "2022-07-31T00:00:00",
          "2022-08-23T00:00:00",
          "2022-08-27T00:00:00",
          "2022-09-01T00:00:00",
          "2022-09-06T00:00:00",
          "2022-09-14T00:00:00",
          "2022-09-22T00:00:00",
          "2022-10-11T00:00:00",
          "2022-10-25T00:00:00",
          "2022-11-20T00:00:00",
          "2022-11-21T00:00:00",
          "2022-11-24T00:00:00",
          "2022-12-03T00:00:00",
          "2022-12-13T00:00:00",
          "2022-12-16T00:00:00",
          "2022-12-16T00:00:00",
          "2023-03-09T00:00:00",
          "2023-03-10T00:00:00",
          "2023-04-03T00:00:00",
          "2023-05-30T00:00:00",
          "2023-06-07T00:00:00",
          "2023-06-13T00:00:00",
          "2023-06-14T00:00:00",
          "2023-07-17T00:00:00",
          "2023-07-22T00:00:00",
          "2023-07-23T00:00:00",
          "2023-07-25T00:00:00",
          "2023-08-07T00:00:00",
          "2023-08-17T00:00:00",
          "2023-10-10T00:00:00",
          "2023-11-08T00:00:00",
          "2023-11-13T00:00:00",
          "2023-12-05T00:00:00"
         ],
         "xaxis": "x",
         "y": [
          null,
          0.5912945218909504,
          -16.46185842303848,
          -0.5741017218473421,
          0,
          0.4348448595817178,
          0,
          0.05942531792626493,
          0.6405735268570467,
          -0.5705702594690387,
          -2.4051626363420398,
          0.6235858734215061,
          0,
          -1.3219277020940612,
          -1.379685557769339,
          -0.5327768021779367,
          -0.30376434814177733,
          0.3764412862872213,
          0,
          -0.27838931122698973,
          1.0447355246913315,
          0.06246725044047885,
          -0.14297924644441906,
          0.5534790701090753,
          0.9696509249125018,
          1.989655878757457,
          -0.03416008641258239,
          -0.07828541552252766,
          0.5921248407562141,
          -0.12237431516385344,
          -0.04305051619599709,
          -0.21668559629127726,
          0.17022339430066147,
          -0.6634331306344721,
          -0.30842047279924234,
          1.189166071980674,
          0.062170062812039184,
          0.319468187066696,
          -0.18800008418682346,
          1.5479416785519673,
          0.38841141712113725,
          0,
          0.08916348090934889,
          0,
          -0.6300026057391217,
          -1.1881264717101825,
          0,
          0,
          0,
          0,
          1.8146816340813388,
          0,
          0,
          -0.2618057569300891,
          0.9415574771352242,
          0,
          -0.2570361660164,
          0.0707710379604265,
          0,
          0,
          0.561914838769173,
          0,
          0,
          -0.1316781518282628,
          -0.35799047637851134,
          -0.3884994851094836,
          0.8234871051476578,
          -0.5268668838731227,
          0,
          0,
          0.2437473395315859,
          -0.6184110954731925,
          0,
          -0.18377863004350736,
          -0.8044615024349722,
          0.454434456979258,
          0.4091654907468767,
          -1.3838938736859707,
          -1.4586817981005251,
          0.38477157513956417,
          0.733449745589021,
          0,
          0.18711956491082038,
          0.6743207583058686,
          0.13630715878656385,
          -0.4158591060897221,
          0,
          0,
          0,
          0,
          0.7055027966493821,
          0,
          0,
          0,
          0,
          -0.4804994852588118,
          0.4935489781841884,
          0.27157229517789094,
          0.6741935037726021,
          -0.25249934276687647,
          0,
          -0.26077889825840694,
          0.26213381420989723,
          0.5352362172865721,
          1.4487272260668593,
          0.30220921373516063,
          -0.4906391263542864,
          -0.35996953217125593,
          1.0735319863255155,
          0,
          -0.08992955626208055,
          -1.2589936156434112,
          -0.8610707182908572,
          0,
          0,
          0.29375409138425734,
          -0.487609138012679,
          0,
          0.10854596422815721,
          -0.6068475014091801,
          0.5218915651282519,
          0,
          0.5170636507772386,
          0.9672943348530749,
          0.7796284769445494,
          -0.5914925525723369,
          -1.7349327911278745,
          -0.002092687495214296,
          0.36148929336836666,
          0,
          0,
          -0.6763911304880965,
          0,
          0.7144383386768371,
          0.4246894884549546,
          0,
          1.127543901453154,
          0,
          -0.4421777030884866,
          0,
          -0.6607299707654946,
          -0.05215283650411573,
          1.9641756208181649,
          0.23387783690658193,
          0,
          -1.128255290748692,
          0.25044211433877805,
          0.12013480666042131,
          0,
          -0.3600396026456676,
          2.546874053549808,
          -0.1798572325980019,
          -1.020472094956304,
          0.9628998987983195,
          -2.611170753476899,
          -0.5527621552117279,
          -0.9572897840978367,
          0.30741741516935317,
          -2.677051970923494,
          -2.425096687751982,
          0,
          -1.37880833508508,
          0,
          0,
          0,
          0.19585434418212255,
          1.2892608782928194,
          -0.0614507590188107,
          -0.06509635466762642,
          0.5524833796471729,
          -0.21519536828116248,
          0.5923321144461147,
          -0.24946701434291896,
          0.5750263835943237,
          0.08876117398781691,
          -0.41174242150822105,
          -0.8815640326464202,
          0.16430827178273155,
          0,
          0.11744377704558939,
          0.4216452734331133,
          0.2830875686552714,
          -0.5326959680275634,
          -0.17923121145495546,
          -2.3639339182408237,
          0.5176596047483217,
          1.0247432881770102,
          0.5766007433292586,
          -0.9236729125327803,
          -0.43632312411624463,
          0.8165482610264396,
          1.0850511261648377,
          3.2708414200960823,
          0,
          -0.579554648555114,
          0.31371282520995525,
          0,
          0,
          3.774993799505122,
          0.2407079029687509,
          0,
          0,
          0,
          0.9880344050493317,
          1.800515636970812,
          -0.040307562566033184,
          -0.75276121559118,
          0.5061748425594148,
          -0.579797519245906,
          0.47920938635084287,
          -0.8920232703667264,
          -3.5994772541247833,
          -0.7247782867876307,
          0.29842158764188387,
          -1.2682924704854548,
          2.7434825643692484,
          -0.39782971159106895,
          -0.9175032558233154,
          0,
          -1.8080136700011296,
          -0.8822984828335767,
          1.2800459967378996,
          -3.4498736999835855,
          0.08697380106901242,
          -0.7854056904631701,
          -0.1686446373092898,
          -2.359370518339965,
          0.42258708780680276,
          0,
          0.39682683165964683,
          0.8653772427837492,
          -0.8527784683336925,
          0.938338831761576,
          1.0937214180350097,
          -1.1604135372475066,
          -0.939496141589824
         ],
         "yaxis": "y"
        },
        {
         "customdata": [
          [
           "Anwar Ibrahim: The man who fulfilled his goal to lead Malaysia"
          ],
          [
           "Najib Razak: Malaysia's former PM and his downfall over alleged corruption"
          ],
          [
           "Malaysia Airlines plane turns back after cockpit entry bid"
          ],
          [
           "Malaysia Airlines plane threat foiled by 'heroes', witness says"
          ],
          [
           "Malaysia airline cockpit scare"
          ],
          [
           "Man accused of Malaysia Airlines threat does not appear in court"
          ],
          [
           "Malaysia gay 'prevention' competition seeks videos"
          ],
          [
           "Malaysia drops gay 'prevention' category from video competition"
          ],
          [
           "US looks to seize $540m in 'stolen' assets from Malaysia fund 1MDB"
          ],
          [
           "Baby elephant killed on Malaysia highway"
          ],
          [
           "The 'blackface' ad that got Malaysia talking"
          ],
          [
           "Chinese deities flown on business class to Malaysia"
          ],
          [
           "Shell withdraws Malaysia cardboard cutouts after 'distasteful' groping"
          ],
          [
           "Despacito censored: Malaysia bans 'unsuitable' hit from state stations"
          ],
          [
           "Malaysia MP: 'Denying husbands sex is abuse'"
          ],
          [
           "Malaysia detains hundreds in counter-terrorism raids"
          ],
          [
           "Malaysia princess Tunku Aminah weds Dutchman in lavish ceremony"
          ],
          [
           "Malaysia sites hacked after blunder over Indonesian flag"
          ],
          [
           "The online abuse hurled at Malaysia's Muslim women"
          ],
          [
           "Malaysia to name firms lacking board diversity"
          ],
          [
           "Malaysia fire: Students and teachers killed in dormitory"
          ],
          [
           "Kim Jong-nam murder: Women plead not guilty in Malaysia trial"
          ],
          [
           "MH370: Malaysia in talks with US firm to restart plane search"
          ],
          [
           "Kim Jong-nam murder: Suspects revisit Malaysia airport"
          ],
          [
           "Miss Universe Malaysia to wear nasi lemak dress"
          ],
          [
           "Fake baby milk formula scare hits Malaysia"
          ],
          [
           "Ivana Smit: Model's death in Malaysia casts a long shadow"
          ],
          [
           "Malaysia court clears 'drug mule' grandmother who faced hanging"
          ],
          [
           "Mahathir Mohamad: Ex-Malaysia PM, 92, to run for office"
          ],
          [
           "100 Women: National Union of Journalists Malaysia sorry for 'sexy outfit' advice"
          ],
          [
           "'Shaking' Malaysia Airlines flight turns back to Australia"
          ],
          [
           "Malaysia defends 'hideous' tourism logo despite criticism"
          ],
          [
           "100 Women: Maid dies in Malaysia after being left to 'sleep outside with dog'"
          ],
          [
           "Pop star Denise Ho denied Malaysia permit 'over LGBT views'"
          ],
          [
           "Malaysia wishes wrong New Year with a barking rooster"
          ],
          [
           "Nerve agent attacks: How Malaysia responded compared to the UK"
          ],
          [
           "Malaysia seeks 10 year-jail terms for 'fake news'"
          ],
          [
           "Syria man 'stranded at Malaysia airport for weeks'"
          ],
          [
           "Palestinian lecturer and Hamas member killed in Malaysia"
          ],
          [
           "Malaysia's youth have power they won't use"
          ],
          [
           "Malaysia's election: A battle of old allies"
          ],
          [
           "Malaysia elections: Could Mahathir Mohamad make a comeback?"
          ],
          [
           "Malaysia election: What does politics mean to multi-racial voters?"
          ],
          [
           "Mahathir Mohamad: The man who dominated Malaysian politics"
          ],
          [
           "Malaysia election: Opposition scores historic victory"
          ],
          [
           "Malaysia's Mahathir hopes to get back lost 1MDB funds"
          ],
          [
           "Malaysia election: Why did young voters pick a 92-year-old?"
          ],
          [
           "Malaysia's Mahathir Mohamad sworn in after shock comeback victory"
          ],
          [
           "Malaysia election: What just happened?"
          ],
          [
           "Business Matters: Opposition Claims Victory in Malaysia"
          ],
          [
           "Corruption, money and Malaysia's election"
          ],
          [
           "Former Malaysia PM Najib Razak banned from leaving country"
          ],
          [
           "The Cultural Frontline: Truth and Taboo from Malaysia to the Middle East"
          ],
          [
           "Malaysia to review not revoke fake news law, says Mahathir"
          ],
          [
           "Malaysia's freed Anwar Ibrahim hails 'new dawn' after poll win"
          ],
          [
           "Malaysia's Najib Razak has home searched by police"
          ],
          [
           "Malaysia's political drama is worthy of Shakespeare"
          ],
          [
           "Malaysia police seize cash and luxury goods in Najib-linked raids"
          ],
          [
           "Malaysia politics: $4 sandals vs luxury Birkin bags"
          ],
          [
           "Najib Razak: Scandal-hit ex-Malaysia PM condemns police raids"
          ],
          [
           "From Our Own Correspondent Podcast: Malaysiaâs Political Drama"
          ],
          [
           "From Our Own Correspondent: Malaysia's Political Drama"
          ],
          [
           "Australian woman sentenced to death in Malaysia over drugs"
          ],
          [
           "Police find $28m cash in raids linked to Malaysia ex-PM Najib"
          ],
          [
           "Australia jails man over Malaysia Airlines plane bomb threat"
          ],
          [
           "Malaysia's Anwar Ibrahim on Mahathir: 'We have to move on'"
          ],
          [
           "Malaysia mosque bans tourists after provocative dance"
          ],
          [
           "World Business Report: Malaysia 1MDB: Seized Cash and Goods 'Worth $273m'"
          ],
          [
           "Malaysia 1MDB: Seized tiaras, cash and Hermes bags 'worth $273m'"
          ],
          [
           "World Business Report: Malaysia 1MDB: Seized Cash and Goods 'Worth $273m'"
          ],
          [
           "Child marriage involving bride of 11 sparks outrage in Malaysia"
          ],
          [
           "1MDB: Malaysia's global corruption scandal"
          ],
          [
           "Malaysia 1MDB: Ex-PM Najib arrested by anti-corruption officials"
          ],
          [
           "Malaysia's ex-PM Najib charged with corruption over 1MDB"
          ],
          [
           "Missing Malaysia flight MH370: Aviation chief quits over failings"
          ],
          [
           "Malaysia ex-PM Najib charged with money laundering"
          ],
          [
           "Radioactive device goes missing in Malaysia"
          ],
          [
           "LGBT rights: Malaysia women caned for attempting to have lesbian sex"
          ],
          [
           "Laundrette cat killers arrested in Malaysia"
          ],
          [
           "Ex-Malaysia PM Najib hit with 25 charges of money laundering and abuse of power"
          ],
          [
           "Syrian Hassan al-Kontar removed from Malaysia airport after months"
          ],
          [
           "South China Sea: Battleships may lead to war - Malaysia PM"
          ],
          [
           "HARDtalk: Mahathir Mohamad, Prime Minister of Malaysia"
          ],
          [
           "Six rescue divers drown trying to save teen in Malaysia"
          ],
          [
           "Wife charged with murder of ex firefighter in Malaysia"
          ],
          [
           "From Our Own Correspondent: Italy and Malaysia"
          ],
          [
           "From Our Own Correspondent: Malaysia and Hungary"
          ],
          [
           "From Our Own Correspondent: North Korea and Malaysia"
          ],
          [
           "A bitter winter in Afghanistan: Malaysia and Macedonia"
          ],
          [
           "From Our Own Correspondent: Malaysia, the USA and Zimbabwe"
          ],
          [
           "From Our Own Correspondent: Syria and Malaysia"
          ],
          [
           "Medical cannabis: Death sentence prompts Malaysia to re-think harsh laws"
          ],
          [
           "World Have Your Say: WHYS 30: Malaysia's internet black-out day"
          ],
          [
           "From Our Own Correspondent: Malaysia and Mexico"
          ],
          [
           "From Our Own Correspondent: Honduras and Malaysia"
          ],
          [
           "Syrian man stranded in Malaysia airport arrives in Canada"
          ],
          [
           "1MDB: Malaysia charges Goldman Sachs and two bankers"
          ],
          [
           "Malaysia king: Sultan Muhammad V abdicates in historic first"
          ],
          [
           "Malaysia revises 'victim-shaming' school text book"
          ],
          [
           "Malaysia defends ban on Israeli Paralympic athletes"
          ],
          [
           "HARDtalk: Malaysia's Minister for Youth and Sport - Syed Saddiq"
          ],
          [
           "Malaysia elects new king after unprecedented abdication"
          ],
          [
           "Sultan Abdullah crowned Malaysia's new king"
          ],
          [
           "Russians detained over baby swinging street act in Malaysia"
          ],
          [
           "'Competent' oil worker crushed by machine on ship off Malaysia"
          ],
          [
           "Lowestoft oil worker's injuries on ship off Malaysia 'non-survivable'"
          ],
          [
           "Malaysia plastic pollution: 'We saved our town from your Western rubbish'"
          ],
          [
           "Kim Jong-nam murder: Malaysia rejects suspect's release plea"
          ],
          [
           "Najib 1MDB trial: Malaysia ex-PM faces court in global financial scandal"
          ],
          [
           "Newsday: Malaysia: former Prime Minister Najib Razak goes on trial"
          ],
          [
           "Business Matters: Malaysia: ex-PM faces court in global financial scandal"
          ],
          [
           "1MDB: US to return $200m in funds to Malaysia as part of probe"
          ],
          [
           "Malaysia bans 'recycled' waste"
          ],
          [
           "Malaysia orders tonnes of imported waste to be returned"
          ],
          [
           "Last male Sumatran rhino in Malaysia dies"
          ],
          [
           "Beyond Today: Why is Malaysia sending our rubbish back?"
          ],
          [
           "Plastic waste: Milton Keynes Council launches probe after Malaysia find"
          ],
          [
           "Hugh Fearnley-Whittingstall finds UK plastic waste abandoned in Malaysia"
          ],
          [
           "MH17 crash: Malaysia PM Mahathir denounces murder charges"
          ],
          [
           "Malaysia air pollution: Schools shut after illness hits children"
          ],
          [
           "Thousands of turtles seized at Malaysia airport"
          ],
          [
           "Malaysia seizes thousands of smuggled turtles at airport"
          ],
          [
           "Wolf of Wall Street producer arrested in Malaysia for money laundering"
          ],
          [
           "CÃ©sar Pelli: Architect of Malaysia's Petronas Towers dies at 92"
          ],
          [
           "London girl Nora Quoirin, 15, vanishes on Malaysia holiday"
          ],
          [
           "Nora Quoirin: Malaysia jungle search for holiday teen"
          ],
          [
           "Nora Quoirin: Family say teen missing in Malaysia was abducted"
          ],
          [
           "Missing Nora Quoirin: Malaysia police 'rule nothing out' in search"
          ],
          [
           "Goldman bosses charged in Malaysia bond scandal"
          ],
          [
           "Missing Nora Quoirin's mother Meabh thanks search teams in Malaysia"
          ],
          [
           "The mystery of screaming schoolgirls in Malaysia"
          ],
          [
           "Nora Quoirin: Body found in Malaysia is missing girl"
          ],
          [
           "Missing Nora Quoirin: Malaysia police say a body has been found nearby"
          ],
          [
           "Nora Quoirin: Family 'heartbroken' after body found in Malaysia"
          ],
          [
           "Najib Razak 1MDB: Malaysia's former PM faces biggest trial yet"
          ],
          [
           "Najib Razak : Ex-Malaysia PM's second fraud trial begins"
          ],
          [
           "Rainforest fires trigger smog alerts in Indonesia and Malaysia"
          ],
          [
           "Malaysia queen denounces arrest of online critics"
          ],
          [
           "Plastic waste: Milton Keynes Council cleared after Malaysia waste find"
          ],
          [
           "Jennifer Lopez stripper film Hustlers banned in Malaysia"
          ],
          [
           "Outlook: The rebel lawyer transforming Malaysia"
          ],
          [
           "The Outlook Podcast Archive: The rebel lawyer transforming Malaysia"
          ],
          [
           "'I woke up to thousands of messages from Malaysia'"
          ],
          [
           "HARDtalk: Minister for Islamic Affairs in Malaysia -Mujahid Yusof Rawa"
          ],
          [
           "Mujahid Yusof Rawa: Malaysia needs a new narrative of Islam"
          ],
          [
           "Malaysia's last known Sumatran rhino dies"
          ],
          [
           "Malaysia grants reprieve to Australian 'love scam' drug mule"
          ],
          [
           "Inside Malaysia's straight edge punk scene"
          ],
          [
           "Malaysia's straight edge punk scene"
          ],
          [
           "Nora Quoirin: Parents determined to find answers over Malaysia death"
          ],
          [
           "Malaysia returns 42 containers of 'illegal' plastic waste to UK"
          ],
          [
           "The Documentary: Shifting Cultures: Polygamous marriage in modern Malaysia"
          ],
          [
           "The Documentary Podcast: Polygamous marriage in modern Malaysia"
          ],
          [
           "Fireball meteor lights up night sky over Malaysia"
          ],
          [
           "Malaysia gets new PM, Muhyiddin Yassin, after week of turmoil"
          ],
          [
           "How Malaysiaâs government collapsed in two years"
          ],
          [
           "Malaysia migrant raids 'to reduce Covid-19 spread'"
          ],
          [
           "1MDB: Malaysia drops charges against Wolf of Wall Street producer"
          ],
          [
           "Malaysia detains 270 Rohingya refugees who had drifted at sea for weeks"
          ],
          [
           "Goldman Sachs settles 1MDB scandal with Malaysia for $3.9bn"
          ],
          [
           "Malaysia arrests Bangladeshi migrant who criticised government on TV"
          ],
          [
           "Najib Razak: Malaysian ex-PM gets 12-year jail term in 1MDB corruption trial"
          ],
          [
           "Newsday: Najib Razak â former Malaysia PM â handed guilty verdict"
          ],
          [
           "Newsday: Guilty verdict for former Malaysian prime minister"
          ],
          [
           "Newsday: Former Malaysian PM guilty of abuse of power"
          ],
          [
           "Samantha Jones avoids death for husband's Malaysia murder"
          ],
          [
           "NÃ³ra Quoirin: Malaysia opens inquest into death of London teenager"
          ],
          [
           "NÃ³ra Quoirin: Site of Malaysian body find 'searched several times'"
          ],
          [
           "NÃ³ra Quoirin: Window in Malaysian resort was broken, inquest hears"
          ],
          [
           "Go Jetters: Series 3: Funky Fireflies, Selangor River, Malaysia"
          ],
          [
           "Malaysian man 'finds' monkey selfies on lost phone"
          ],
          [
           "Chinese and Malaysian hackers charged by US over attacks"
          ],
          [
           "Cooking with Paula McIntyre: Malaysian Chicken Curry with Tomato Rice"
          ],
          [
           "Philips sells Suffolk factory to Malaysia's Guan Chong Berhad"
          ],
          [
           "US bans Malaysian palm oil producer over forced labour"
          ],
          [
           "Gareth Huntley: Backpacker's Malaysia death 'mysterious'"
          ],
          [
           "Covid-19: Couple holds 10,000 people drive-thru wedding in Malaysia"
          ],
          [
           "NÃ³ra Quoirin: 'Misadventure' verdict for girl found in Malaysian jungle"
          ],
          [
           "NÃ³ra Quoirin death: The schoolgirl who vanished into a Malaysian jungle"
          ],
          [
           "Malaysia declares Covid state of emergency amid political challenges"
          ],
          [
           "Scoff the Ball: A Taste of Malaysia in Scotland"
          ],
          [
           "Malaysiakini: The upstart that changed Malaysia's media landscape"
          ],
          [
           "Malaysia deports Myanmar nationals despite court order"
          ],
          [
           "Malaysia High Court rules Christians can use 'Allah'"
          ],
          [
           "South China Sea dispute: Malaysia accuses China of breaching airspace"
          ],
          [
           "Malaysia deports French conspiracy theorist wanted for abduction"
          ],
          [
           "Malaysian casino giant Genting makes $4.3bn bet on Las Vegas"
          ],
          [
           "Malaysians in Covid lockdown fly white flags to ask for help"
          ],
          [
           "Bitcoin mining machines steamrolled by Malaysia police"
          ],
          [
           "Anger as Covid-ravaged Malaysia lifts pandemic measures"
          ],
          [
           "Malaysian singer dies of Covid days after giving birth"
          ],
          [
           "British and Malaysian men jailed in Somalia for terror offences"
          ],
          [
           "'I had to run away', says Malaysian transgender woman"
          ],
          [
           "Malaysian transgender woman Nur Sajat: 'I had to run away'"
          ],
          [
           "MH370: Could missing Malaysian Airlines plane finally be found?"
          ],
          [
           "Malaysia: Death toll rises after massive floods"
          ],
          [
           "Malaysia hit by the worst floods in decades"
          ],
          [
           "Malaysia hit by the worst floods in decades"
          ],
          [
           "British man and son missing after Malaysia diving trip"
          ],
          [
           "World Business Report: 1MDB: Ex-Goldman Malaysia boss convicted"
          ],
          [
           "1MDB scandal: Ex-Goldman Malaysia boss found guilty"
          ],
          [
           "Malaysia: Boy, 14, believed dead after diving trip"
          ],
          [
           "World Business Report: 1MDB: Ex-Goldman Malaysia boss convicted"
          ],
          [
           "Chinese rocket debris falls back to Earth over Malaysia"
          ],
          [
           "Najib Razak: Malaysia's ex-PM starts jail term after final appeal fails"
          ],
          [
           "Najib Razak: The verdict that sent Malaysia's untouchable ex-PM to prison"
          ],
          [
           "Rosmah Mansor: Wife of ex-Malaysian PM Najib gets 10 years jail for bribery"
          ],
          [
           "Fat Leonard: Malaysian businessman linked to US Navy scandal escapes"
          ],
          [
           "Queen Elizabeth II: What her death means to Malaysia"
          ],
          [
           "Fat Leonard: Malaysian criminal in US Navy scandal recaptured after jail break"
          ],
          [
           "Mahathir Mohamad: Former Malaysia PM to run for office aged 97"
          ],
          [
           "Why is Malaysia deporting Myanmar asylum seekers?"
          ],
          [
           "Malaysia elects first ever hung parliament"
          ],
          [
           "Malaysia election: Why isn't there a government yet?"
          ],
          [
           "Anwar Ibrahim sworn in as Malaysian PM after post-election deadlock"
          ],
          [
           "Anwar Ibrahim: Honeymoon as Malaysian PM will be brutally short"
          ],
          [
           "Tamil Nadu: Indian man's search for father's lost grave ends in Malaysia"
          ],
          [
           "Malaysia authorities searching for survivors after deadly landslide"
          ],
          [
           "Malaysia landslide: At least 21 campers dead and more missing"
          ],
          [
           "Ex-Goldman Sachs Malaysia boss gets 10 years for 1MDB scheme"
          ],
          [
           "Muhyiddin Yassin: Ex-Malaysia PM charged with corruption over Covid spending"
          ],
          [
           "Malaysia ends mandatory death penalty for serious crimes"
          ],
          [
           "Malaysia detains Chinese ship suspected of looting British WW2 wrecks"
          ],
          [
           "Your Place or Mine with Shaun Keaveny: Craig Parkinson: Penang, Malaysia"
          ],
          [
           "MH370 joke: Malaysia asks Interpol to track down comedian"
          ],
          [
           "Jocelyn Chia: US comedian calls Malaysia's reaction to MH370 joke 'ridiculous'"
          ],
          [
           "Swatch sues Malaysia over Pride watch seizures"
          ],
          [
           "Matty Healy: Malaysia festival cancelled after The 1975 singer attacks anti-LGBT law"
          ],
          [
           "The 1975 cancels Indonesia and Taiwan shows after Malaysia LGBT row"
          ],
          [
           "Matty Healy: Malaysia LGBT community angry at 1975 'white saviour stunt'"
          ],
          [
           "Matty Healy: The 1975 threatened with legal action after Malaysia festival cancellation"
          ],
          [
           "Private jet crashes onto Malaysia highway, killing 10"
          ],
          [
           "Matty Healy defends Malaysia kiss during 1975 concert in Dallas"
          ],
          [
           "Israel-Gaza: Malaysia will maintain ties with Hamas says PM Anwar Ibrahim"
          ],
          [
           "Malaysian killer released from Australian immigration detention"
          ],
          [
           "Forest City: Inside Malaysia's Chinese-built 'ghost city'"
          ]
         ],
         "hovertemplate": "Date: %{x}<br>Exchange Rate: %{y}<br>Title: %{customdata[0]}",
         "legendgroup": "myr_gbp_diff_pct",
         "line": {
          "color": "#ab63fa",
          "dash": "solid"
         },
         "marker": {
          "symbol": "circle"
         },
         "mode": "markers+lines",
         "name": "GBP",
         "orientation": "v",
         "showlegend": true,
         "type": "scatter",
         "x": [
          "2012-01-06T00:00:00",
          "2013-05-01T00:00:00",
          "2017-05-31T00:00:00",
          "2017-06-01T00:00:00",
          "2017-06-01T00:00:00",
          "2017-06-02T00:00:00",
          "2017-06-03T00:00:00",
          "2017-06-08T00:00:00",
          "2017-06-16T00:00:00",
          "2017-06-19T00:00:00",
          "2017-06-30T00:00:00",
          "2017-07-05T00:00:00",
          "2017-07-05T00:00:00",
          "2017-07-20T00:00:00",
          "2017-07-27T00:00:00",
          "2017-08-07T00:00:00",
          "2017-08-15T00:00:00",
          "2017-08-21T00:00:00",
          "2017-08-21T00:00:00",
          "2017-09-06T00:00:00",
          "2017-09-14T00:00:00",
          "2017-10-02T00:00:00",
          "2017-10-20T00:00:00",
          "2017-10-24T00:00:00",
          "2017-11-01T00:00:00",
          "2017-12-14T00:00:00",
          "2017-12-24T00:00:00",
          "2017-12-27T00:00:00",
          "2018-01-08T00:00:00",
          "2018-01-18T00:00:00",
          "2018-01-19T00:00:00",
          "2018-01-30T00:00:00",
          "2018-02-14T00:00:00",
          "2018-02-15T00:00:00",
          "2018-02-18T00:00:00",
          "2018-03-16T00:00:00",
          "2018-03-26T00:00:00",
          "2018-04-12T00:00:00",
          "2018-04-21T00:00:00",
          "2018-05-05T00:00:00",
          "2018-05-07T00:00:00",
          "2018-05-07T00:00:00",
          "2018-05-08T00:00:00",
          "2018-05-08T00:00:00",
          "2018-05-09T00:00:00",
          "2018-05-10T00:00:00",
          "2018-05-10T00:00:00",
          "2018-05-10T00:00:00",
          "2018-05-10T00:00:00",
          "2018-05-10T00:00:00",
          "2018-05-11T00:00:00",
          "2018-05-12T00:00:00",
          "2018-05-12T00:00:00",
          "2018-05-14T00:00:00",
          "2018-05-16T00:00:00",
          "2018-05-16T00:00:00",
          "2018-05-17T00:00:00",
          "2018-05-18T00:00:00",
          "2018-05-18T00:00:00",
          "2018-05-19T00:00:00",
          "2018-05-24T00:00:00",
          "2018-05-24T00:00:00",
          "2018-05-24T00:00:00",
          "2018-05-25T00:00:00",
          "2018-06-07T00:00:00",
          "2018-06-11T00:00:00",
          "2018-06-25T00:00:00",
          "2018-06-27T00:00:00",
          "2018-06-27T00:00:00",
          "2018-06-27T00:00:00",
          "2018-07-01T00:00:00",
          "2018-07-03T00:00:00",
          "2018-07-03T00:00:00",
          "2018-07-04T00:00:00",
          "2018-07-31T00:00:00",
          "2018-08-08T00:00:00",
          "2018-08-21T00:00:00",
          "2018-09-03T00:00:00",
          "2018-09-14T00:00:00",
          "2018-09-20T00:00:00",
          "2018-10-02T00:00:00",
          "2018-10-02T00:00:00",
          "2018-10-03T00:00:00",
          "2018-10-04T00:00:00",
          "2018-10-31T00:00:00",
          "2018-11-04T00:00:00",
          "2018-11-04T00:00:00",
          "2018-11-04T00:00:00",
          "2018-11-04T00:00:00",
          "2018-11-04T00:00:00",
          "2018-11-12T00:00:00",
          "2018-11-12T00:00:00",
          "2018-11-12T00:00:00",
          "2018-11-12T00:00:00",
          "2018-11-12T00:00:00",
          "2018-11-26T00:00:00",
          "2018-12-17T00:00:00",
          "2019-01-06T00:00:00",
          "2019-01-16T00:00:00",
          "2019-01-23T00:00:00",
          "2019-01-23T00:00:00",
          "2019-01-24T00:00:00",
          "2019-01-31T00:00:00",
          "2019-02-05T00:00:00",
          "2019-02-11T00:00:00",
          "2019-02-12T00:00:00",
          "2019-02-13T00:00:00",
          "2019-03-14T00:00:00",
          "2019-04-03T00:00:00",
          "2019-04-03T00:00:00",
          "2019-04-04T00:00:00",
          "2019-05-07T00:00:00",
          "2019-05-28T00:00:00",
          "2019-05-28T00:00:00",
          "2019-05-28T00:00:00",
          "2019-05-30T00:00:00",
          "2019-06-10T00:00:00",
          "2019-06-10T00:00:00",
          "2019-06-20T00:00:00",
          "2019-06-25T00:00:00",
          "2019-06-26T00:00:00",
          "2019-06-26T00:00:00",
          "2019-07-04T00:00:00",
          "2019-07-20T00:00:00",
          "2019-08-04T00:00:00",
          "2019-08-05T00:00:00",
          "2019-08-06T00:00:00",
          "2019-08-07T00:00:00",
          "2019-08-09T00:00:00",
          "2019-08-10T00:00:00",
          "2019-08-11T00:00:00",
          "2019-08-13T00:00:00",
          "2019-08-13T00:00:00",
          "2019-08-14T00:00:00",
          "2019-08-28T00:00:00",
          "2019-08-28T00:00:00",
          "2019-09-13T00:00:00",
          "2019-09-14T00:00:00",
          "2019-09-20T00:00:00",
          "2019-09-20T00:00:00",
          "2019-10-31T00:00:00",
          "2019-11-01T00:00:00",
          "2019-11-12T00:00:00",
          "2019-11-13T00:00:00",
          "2019-11-13T00:00:00",
          "2019-11-23T00:00:00",
          "2019-11-26T00:00:00",
          "2019-11-29T00:00:00",
          "2019-11-30T00:00:00",
          "2019-12-17T00:00:00",
          "2020-01-20T00:00:00",
          "2020-02-01T00:00:00",
          "2020-02-04T00:00:00",
          "2020-02-21T00:00:00",
          "2020-03-01T00:00:00",
          "2020-03-05T00:00:00",
          "2020-05-02T00:00:00",
          "2020-05-14T00:00:00",
          "2020-06-09T00:00:00",
          "2020-07-24T00:00:00",
          "2020-07-25T00:00:00",
          "2020-07-28T00:00:00",
          "2020-07-28T00:00:00",
          "2020-07-28T00:00:00",
          "2020-07-28T00:00:00",
          "2020-08-03T00:00:00",
          "2020-08-24T00:00:00",
          "2020-08-26T00:00:00",
          "2020-08-27T00:00:00",
          "2020-09-07T00:00:00",
          "2020-09-15T00:00:00",
          "2020-09-16T00:00:00",
          "2020-09-19T00:00:00",
          "2020-09-29T00:00:00",
          "2020-10-01T00:00:00",
          "2020-10-08T00:00:00",
          "2020-12-21T00:00:00",
          "2021-01-04T00:00:00",
          "2021-01-04T00:00:00",
          "2021-01-12T00:00:00",
          "2021-01-21T00:00:00",
          "2021-02-19T00:00:00",
          "2021-02-24T00:00:00",
          "2021-03-11T00:00:00",
          "2021-06-02T00:00:00",
          "2021-06-13T00:00:00",
          "2021-06-24T00:00:00",
          "2021-07-05T00:00:00",
          "2021-07-20T00:00:00",
          "2021-07-28T00:00:00",
          "2021-08-10T00:00:00",
          "2021-09-24T00:00:00",
          "2021-11-19T00:00:00",
          "2021-11-19T00:00:00",
          "2021-12-03T00:00:00",
          "2021-12-21T00:00:00",
          "2021-12-21T00:00:00",
          "2021-12-21T00:00:00",
          "2022-04-07T00:00:00",
          "2022-04-08T00:00:00",
          "2022-04-08T00:00:00",
          "2022-04-09T00:00:00",
          "2022-04-09T00:00:00",
          "2022-07-31T00:00:00",
          "2022-08-23T00:00:00",
          "2022-08-27T00:00:00",
          "2022-09-01T00:00:00",
          "2022-09-06T00:00:00",
          "2022-09-14T00:00:00",
          "2022-09-22T00:00:00",
          "2022-10-11T00:00:00",
          "2022-10-25T00:00:00",
          "2022-11-20T00:00:00",
          "2022-11-21T00:00:00",
          "2022-11-24T00:00:00",
          "2022-12-03T00:00:00",
          "2022-12-13T00:00:00",
          "2022-12-16T00:00:00",
          "2022-12-16T00:00:00",
          "2023-03-09T00:00:00",
          "2023-03-10T00:00:00",
          "2023-04-03T00:00:00",
          "2023-05-30T00:00:00",
          "2023-06-07T00:00:00",
          "2023-06-13T00:00:00",
          "2023-06-14T00:00:00",
          "2023-07-17T00:00:00",
          "2023-07-22T00:00:00",
          "2023-07-23T00:00:00",
          "2023-07-25T00:00:00",
          "2023-08-07T00:00:00",
          "2023-08-17T00:00:00",
          "2023-10-10T00:00:00",
          "2023-11-08T00:00:00",
          "2023-11-13T00:00:00",
          "2023-12-05T00:00:00"
         ],
         "xaxis": "x",
         "y": [
          null,
          3.278272987245656,
          -14.030915170047376,
          -0.4512085138005051,
          0,
          0.08770051932114331,
          0,
          -0.16120280029207068,
          1.2641331658875377,
          -0.18920302746880946,
          -2.146426356863773,
          0.4957226977826634,
          0,
          -0.6113847231299707,
          -0.30013489441778063,
          0.41364625837569946,
          0.3033449476717909,
          0.9220330714185598,
          0,
          -0.15455101504938673,
          -0.49636405154483976,
          -2.0329907376941514,
          2.0561000082015557,
          -0.6235063443744804,
          -0.5974944930394854,
          2.6936796621745307,
          0.3660947478523413,
          -0.03075838499458916,
          0.6021389178092251,
          -0.7498628470227642,
          -0.09297867487240152,
          -0.3427229577288138,
          1.3134439802392484,
          -0.6722988686661102,
          -0.6443773316983648,
          0.7990376399431343,
          -1.054514572460008,
          0.16693119140405166,
          0.32628240016074894,
          2.352946772171105,
          0.40047069967996674,
          0,
          -0.3713797352646542,
          0,
          -1.0549983983519584,
          -1.296036769853115,
          0,
          0,
          0,
          0,
          2.579854358579192,
          0,
          0,
          -0.1966757230437488,
          0.22951394220551702,
          0,
          -0.6440590468058782,
          0.13022435235447993,
          0,
          0,
          0.9119371586001845,
          0,
          0,
          -0.11605039189402921,
          -0.10790449612295694,
          -0.34392065828843243,
          0.9136660163240995,
          -0.3108485960108043,
          0,
          0,
          0.6028332400787706,
          -0.46272862716850716,
          0,
          -0.41817419569857295,
          0.05232323903481273,
          1.009700251625123,
          0.5493322151143953,
          -1.3576120986276696,
          -2.1137907721068716,
          0.00974076088402498,
          0.6430300946440148,
          0,
          0.43836802368228955,
          0.33632821211828645,
          0.8075395888003101,
          -2.185363506171667,
          0,
          0,
          0,
          0,
          0.5189764030340216,
          0,
          0,
          0,
          0,
          0.6087698811819475,
          2.020475697799329,
          0.6807296545400687,
          -1.0058107542041173,
          -1.3694795572652518,
          0,
          -0.9990096019643957,
          0.8675626411063675,
          0.7473684799671698,
          1.1867302242803301,
          0.46650595891619684,
          -0.2174063561263817,
          -3.3425740857529918,
          1.141794215367109,
          0,
          -0.08086966797611339,
          -1.0718137361419133,
          2.3251766242118332,
          0,
          0,
          0.205378148377533,
          0.4023515503342123,
          0,
          -0.09278127588056018,
          0.16708689491373718,
          0.6414447818918312,
          0,
          0.6481354909585013,
          1.0590675822499396,
          2.559581322159099,
          -0.5581835017355652,
          -0.5834932391372116,
          -0.4238535835281221,
          0.3986753567068124,
          0,
          0,
          0.13575918917301255,
          0,
          0.4652878874680244,
          -2.133853454529311,
          0,
          0.46013205450228245,
          0,
          -2.0840331646901133,
          0,
          -2.635904015741697,
          -0.321519478191612,
          1.4892942641019369,
          0.07302282007231042,
          0,
          -1.16891445640529,
          -0.04019348033379444,
          -0.025466014719177643,
          0,
          -1.957115411122179,
          4.239251818524692,
          -1.3884056991032345,
          -0.01802039467493355,
          -0.6734275660599254,
          -0.765827083878301,
          0.8390708113741541,
          -0.40833898585218575,
          1.9455942048146824,
          -2.2851972539883803,
          0.11796095700131737,
          0,
          -1.1406477793580727,
          0,
          0,
          0,
          -1.3158061061700699,
          1.482771339382749,
          -0.19040281672132453,
          -0.5116248769914011,
          0.28567647534281093,
          3.169361601047216,
          0.1020454003781035,
          -0.9156744253842164,
          -0.07671320119990721,
          0.15083262724371327,
          -0.060169268453291735,
          -0.8215826518941038,
          -1.624031223242206,
          0,
          0.5583221495375712,
          -1.0072934145838652,
          -2.0556927213496334,
          -1.1191900387878317,
          -0.7084134147240628,
          -1.5699077219719526,
          0.05355008051750598,
          0.47506498397675845,
          0.9118970640175972,
          -0.2820539565893121,
          -1.7186317521561967,
          0.33783150542425755,
          2.032983508220254,
          1.6508178717577149,
          0,
          0.36069005540886323,
          0.740800496127636,
          0,
          0,
          1.3430558579504481,
          -0.0455133053302581,
          0,
          0,
          0,
          1.7091020538065216,
          2.708354202142238,
          -0.20802664552909134,
          1.864464048168446,
          -0.08684451357554579,
          0.24040579995472378,
          1.1558245419835744,
          -0.5217451366696824,
          -3.855750665429758,
          -0.7989772560873631,
          -0.22059431168529597,
          -1.9957224586163558,
          2.2765213707762966,
          -0.36597361399731687,
          0.681394336906016,
          0,
          -0.13877881772983436,
          -1.2546613699905507,
          0.6839908513414317,
          -5.043131091122799,
          -0.4246483089393349,
          -0.8242925766079212,
          -0.6505822341530854,
          -1.919595647343575,
          1.1074633703543446,
          0,
          0.15416619558485944,
          0.5585873172160305,
          -1.7665197463414106,
          2.1083163919295878,
          1.9604137180362358,
          -0.7017293129867763,
          -2.797852470490725
         ],
         "yaxis": "y"
        }
       ],
       "layout": {
        "annotations": [
         {
          "showarrow": false,
          "text": "0",
          "x": 1,
          "xanchor": "right",
          "xref": "x domain",
          "y": 0,
          "yanchor": "bottom",
          "yref": "y"
         },
         {
          "showarrow": false,
          "text": "decline",
          "x": 0,
          "xanchor": "left",
          "xref": "x domain",
          "y": 0,
          "yanchor": "top",
          "yref": "y"
         }
        ],
        "legend": {
         "title": {
          "text": "variable"
         },
         "tracegroupgap": 0
        },
        "shapes": [
         {
          "line": {
           "color": "black",
           "dash": "dot"
          },
          "opacity": 0.5,
          "type": "line",
          "x0": 0,
          "x1": 1,
          "xref": "x domain",
          "y0": 0,
          "y1": 0,
          "yref": "y"
         },
         {
          "fillcolor": "red",
          "line": {
           "width": 0
          },
          "opacity": 0.25,
          "type": "rect",
          "x0": 0,
          "x1": 1,
          "xref": "x domain",
          "y0": 0,
          "y1": -30,
          "yref": "y"
         }
        ],
        "template": {
         "data": {
          "bar": [
           {
            "error_x": {
             "color": "#2a3f5f"
            },
            "error_y": {
             "color": "#2a3f5f"
            },
            "marker": {
             "line": {
              "color": "#E5ECF6",
              "width": 0.5
             },
             "pattern": {
              "fillmode": "overlay",
              "size": 10,
              "solidity": 0.2
             }
            },
            "type": "bar"
           }
          ],
          "barpolar": [
           {
            "marker": {
             "line": {
              "color": "#E5ECF6",
              "width": 0.5
             },
             "pattern": {
              "fillmode": "overlay",
              "size": 10,
              "solidity": 0.2
             }
            },
            "type": "barpolar"
           }
          ],
          "carpet": [
           {
            "aaxis": {
             "endlinecolor": "#2a3f5f",
             "gridcolor": "white",
             "linecolor": "white",
             "minorgridcolor": "white",
             "startlinecolor": "#2a3f5f"
            },
            "baxis": {
             "endlinecolor": "#2a3f5f",
             "gridcolor": "white",
             "linecolor": "white",
             "minorgridcolor": "white",
             "startlinecolor": "#2a3f5f"
            },
            "type": "carpet"
           }
          ],
          "choropleth": [
           {
            "colorbar": {
             "outlinewidth": 0,
             "ticks": ""
            },
            "type": "choropleth"
           }
          ],
          "contour": [
           {
            "colorbar": {
             "outlinewidth": 0,
             "ticks": ""
            },
            "colorscale": [
             [
              0,
              "#0d0887"
             ],
             [
              0.1111111111111111,
              "#46039f"
             ],
             [
              0.2222222222222222,
              "#7201a8"
             ],
             [
              0.3333333333333333,
              "#9c179e"
             ],
             [
              0.4444444444444444,
              "#bd3786"
             ],
             [
              0.5555555555555556,
              "#d8576b"
             ],
             [
              0.6666666666666666,
              "#ed7953"
             ],
             [
              0.7777777777777778,
              "#fb9f3a"
             ],
             [
              0.8888888888888888,
              "#fdca26"
             ],
             [
              1,
              "#f0f921"
             ]
            ],
            "type": "contour"
           }
          ],
          "contourcarpet": [
           {
            "colorbar": {
             "outlinewidth": 0,
             "ticks": ""
            },
            "type": "contourcarpet"
           }
          ],
          "heatmap": [
           {
            "colorbar": {
             "outlinewidth": 0,
             "ticks": ""
            },
            "colorscale": [
             [
              0,
              "#0d0887"
             ],
             [
              0.1111111111111111,
              "#46039f"
             ],
             [
              0.2222222222222222,
              "#7201a8"
             ],
             [
              0.3333333333333333,
              "#9c179e"
             ],
             [
              0.4444444444444444,
              "#bd3786"
             ],
             [
              0.5555555555555556,
              "#d8576b"
             ],
             [
              0.6666666666666666,
              "#ed7953"
             ],
             [
              0.7777777777777778,
              "#fb9f3a"
             ],
             [
              0.8888888888888888,
              "#fdca26"
             ],
             [
              1,
              "#f0f921"
             ]
            ],
            "type": "heatmap"
           }
          ],
          "heatmapgl": [
           {
            "colorbar": {
             "outlinewidth": 0,
             "ticks": ""
            },
            "colorscale": [
             [
              0,
              "#0d0887"
             ],
             [
              0.1111111111111111,
              "#46039f"
             ],
             [
              0.2222222222222222,
              "#7201a8"
             ],
             [
              0.3333333333333333,
              "#9c179e"
             ],
             [
              0.4444444444444444,
              "#bd3786"
             ],
             [
              0.5555555555555556,
              "#d8576b"
             ],
             [
              0.6666666666666666,
              "#ed7953"
             ],
             [
              0.7777777777777778,
              "#fb9f3a"
             ],
             [
              0.8888888888888888,
              "#fdca26"
             ],
             [
              1,
              "#f0f921"
             ]
            ],
            "type": "heatmapgl"
           }
          ],
          "histogram": [
           {
            "marker": {
             "pattern": {
              "fillmode": "overlay",
              "size": 10,
              "solidity": 0.2
             }
            },
            "type": "histogram"
           }
          ],
          "histogram2d": [
           {
            "colorbar": {
             "outlinewidth": 0,
             "ticks": ""
            },
            "colorscale": [
             [
              0,
              "#0d0887"
             ],
             [
              0.1111111111111111,
              "#46039f"
             ],
             [
              0.2222222222222222,
              "#7201a8"
             ],
             [
              0.3333333333333333,
              "#9c179e"
             ],
             [
              0.4444444444444444,
              "#bd3786"
             ],
             [
              0.5555555555555556,
              "#d8576b"
             ],
             [
              0.6666666666666666,
              "#ed7953"
             ],
             [
              0.7777777777777778,
              "#fb9f3a"
             ],
             [
              0.8888888888888888,
              "#fdca26"
             ],
             [
              1,
              "#f0f921"
             ]
            ],
            "type": "histogram2d"
           }
          ],
          "histogram2dcontour": [
           {
            "colorbar": {
             "outlinewidth": 0,
             "ticks": ""
            },
            "colorscale": [
             [
              0,
              "#0d0887"
             ],
             [
              0.1111111111111111,
              "#46039f"
             ],
             [
              0.2222222222222222,
              "#7201a8"
             ],
             [
              0.3333333333333333,
              "#9c179e"
             ],
             [
              0.4444444444444444,
              "#bd3786"
             ],
             [
              0.5555555555555556,
              "#d8576b"
             ],
             [
              0.6666666666666666,
              "#ed7953"
             ],
             [
              0.7777777777777778,
              "#fb9f3a"
             ],
             [
              0.8888888888888888,
              "#fdca26"
             ],
             [
              1,
              "#f0f921"
             ]
            ],
            "type": "histogram2dcontour"
           }
          ],
          "mesh3d": [
           {
            "colorbar": {
             "outlinewidth": 0,
             "ticks": ""
            },
            "type": "mesh3d"
           }
          ],
          "parcoords": [
           {
            "line": {
             "colorbar": {
              "outlinewidth": 0,
              "ticks": ""
             }
            },
            "type": "parcoords"
           }
          ],
          "pie": [
           {
            "automargin": true,
            "type": "pie"
           }
          ],
          "scatter": [
           {
            "fillpattern": {
             "fillmode": "overlay",
             "size": 10,
             "solidity": 0.2
            },
            "type": "scatter"
           }
          ],
          "scatter3d": [
           {
            "line": {
             "colorbar": {
              "outlinewidth": 0,
              "ticks": ""
             }
            },
            "marker": {
             "colorbar": {
              "outlinewidth": 0,
              "ticks": ""
             }
            },
            "type": "scatter3d"
           }
          ],
          "scattercarpet": [
           {
            "marker": {
             "colorbar": {
              "outlinewidth": 0,
              "ticks": ""
             }
            },
            "type": "scattercarpet"
           }
          ],
          "scattergeo": [
           {
            "marker": {
             "colorbar": {
              "outlinewidth": 0,
              "ticks": ""
             }
            },
            "type": "scattergeo"
           }
          ],
          "scattergl": [
           {
            "marker": {
             "colorbar": {
              "outlinewidth": 0,
              "ticks": ""
             }
            },
            "type": "scattergl"
           }
          ],
          "scattermapbox": [
           {
            "marker": {
             "colorbar": {
              "outlinewidth": 0,
              "ticks": ""
             }
            },
            "type": "scattermapbox"
           }
          ],
          "scatterpolar": [
           {
            "marker": {
             "colorbar": {
              "outlinewidth": 0,
              "ticks": ""
             }
            },
            "type": "scatterpolar"
           }
          ],
          "scatterpolargl": [
           {
            "marker": {
             "colorbar": {
              "outlinewidth": 0,
              "ticks": ""
             }
            },
            "type": "scatterpolargl"
           }
          ],
          "scatterternary": [
           {
            "marker": {
             "colorbar": {
              "outlinewidth": 0,
              "ticks": ""
             }
            },
            "type": "scatterternary"
           }
          ],
          "surface": [
           {
            "colorbar": {
             "outlinewidth": 0,
             "ticks": ""
            },
            "colorscale": [
             [
              0,
              "#0d0887"
             ],
             [
              0.1111111111111111,
              "#46039f"
             ],
             [
              0.2222222222222222,
              "#7201a8"
             ],
             [
              0.3333333333333333,
              "#9c179e"
             ],
             [
              0.4444444444444444,
              "#bd3786"
             ],
             [
              0.5555555555555556,
              "#d8576b"
             ],
             [
              0.6666666666666666,
              "#ed7953"
             ],
             [
              0.7777777777777778,
              "#fb9f3a"
             ],
             [
              0.8888888888888888,
              "#fdca26"
             ],
             [
              1,
              "#f0f921"
             ]
            ],
            "type": "surface"
           }
          ],
          "table": [
           {
            "cells": {
             "fill": {
              "color": "#EBF0F8"
             },
             "line": {
              "color": "white"
             }
            },
            "header": {
             "fill": {
              "color": "#C8D4E3"
             },
             "line": {
              "color": "white"
             }
            },
            "type": "table"
           }
          ]
         },
         "layout": {
          "annotationdefaults": {
           "arrowcolor": "#2a3f5f",
           "arrowhead": 0,
           "arrowwidth": 1
          },
          "autotypenumbers": "strict",
          "coloraxis": {
           "colorbar": {
            "outlinewidth": 0,
            "ticks": ""
           }
          },
          "colorscale": {
           "diverging": [
            [
             0,
             "#8e0152"
            ],
            [
             0.1,
             "#c51b7d"
            ],
            [
             0.2,
             "#de77ae"
            ],
            [
             0.3,
             "#f1b6da"
            ],
            [
             0.4,
             "#fde0ef"
            ],
            [
             0.5,
             "#f7f7f7"
            ],
            [
             0.6,
             "#e6f5d0"
            ],
            [
             0.7,
             "#b8e186"
            ],
            [
             0.8,
             "#7fbc41"
            ],
            [
             0.9,
             "#4d9221"
            ],
            [
             1,
             "#276419"
            ]
           ],
           "sequential": [
            [
             0,
             "#0d0887"
            ],
            [
             0.1111111111111111,
             "#46039f"
            ],
            [
             0.2222222222222222,
             "#7201a8"
            ],
            [
             0.3333333333333333,
             "#9c179e"
            ],
            [
             0.4444444444444444,
             "#bd3786"
            ],
            [
             0.5555555555555556,
             "#d8576b"
            ],
            [
             0.6666666666666666,
             "#ed7953"
            ],
            [
             0.7777777777777778,
             "#fb9f3a"
            ],
            [
             0.8888888888888888,
             "#fdca26"
            ],
            [
             1,
             "#f0f921"
            ]
           ],
           "sequentialminus": [
            [
             0,
             "#0d0887"
            ],
            [
             0.1111111111111111,
             "#46039f"
            ],
            [
             0.2222222222222222,
             "#7201a8"
            ],
            [
             0.3333333333333333,
             "#9c179e"
            ],
            [
             0.4444444444444444,
             "#bd3786"
            ],
            [
             0.5555555555555556,
             "#d8576b"
            ],
            [
             0.6666666666666666,
             "#ed7953"
            ],
            [
             0.7777777777777778,
             "#fb9f3a"
            ],
            [
             0.8888888888888888,
             "#fdca26"
            ],
            [
             1,
             "#f0f921"
            ]
           ]
          },
          "colorway": [
           "#636efa",
           "#EF553B",
           "#00cc96",
           "#ab63fa",
           "#FFA15A",
           "#19d3f3",
           "#FF6692",
           "#B6E880",
           "#FF97FF",
           "#FECB52"
          ],
          "font": {
           "color": "#2a3f5f"
          },
          "geo": {
           "bgcolor": "white",
           "lakecolor": "white",
           "landcolor": "#E5ECF6",
           "showlakes": true,
           "showland": true,
           "subunitcolor": "white"
          },
          "hoverlabel": {
           "align": "left"
          },
          "hovermode": "closest",
          "mapbox": {
           "style": "light"
          },
          "paper_bgcolor": "white",
          "plot_bgcolor": "#E5ECF6",
          "polar": {
           "angularaxis": {
            "gridcolor": "white",
            "linecolor": "white",
            "ticks": ""
           },
           "bgcolor": "#E5ECF6",
           "radialaxis": {
            "gridcolor": "white",
            "linecolor": "white",
            "ticks": ""
           }
          },
          "scene": {
           "xaxis": {
            "backgroundcolor": "#E5ECF6",
            "gridcolor": "white",
            "gridwidth": 2,
            "linecolor": "white",
            "showbackground": true,
            "ticks": "",
            "zerolinecolor": "white"
           },
           "yaxis": {
            "backgroundcolor": "#E5ECF6",
            "gridcolor": "white",
            "gridwidth": 2,
            "linecolor": "white",
            "showbackground": true,
            "ticks": "",
            "zerolinecolor": "white"
           },
           "zaxis": {
            "backgroundcolor": "#E5ECF6",
            "gridcolor": "white",
            "gridwidth": 2,
            "linecolor": "white",
            "showbackground": true,
            "ticks": "",
            "zerolinecolor": "white"
           }
          },
          "shapedefaults": {
           "line": {
            "color": "#2a3f5f"
           }
          },
          "ternary": {
           "aaxis": {
            "gridcolor": "white",
            "linecolor": "white",
            "ticks": ""
           },
           "baxis": {
            "gridcolor": "white",
            "linecolor": "white",
            "ticks": ""
           },
           "bgcolor": "#E5ECF6",
           "caxis": {
            "gridcolor": "white",
            "linecolor": "white",
            "ticks": ""
           }
          },
          "title": {
           "x": 0.05
          },
          "xaxis": {
           "automargin": true,
           "gridcolor": "white",
           "linecolor": "white",
           "ticks": "",
           "title": {
            "standoff": 15
           },
           "zerolinecolor": "white",
           "zerolinewidth": 2
          },
          "yaxis": {
           "automargin": true,
           "gridcolor": "white",
           "linecolor": "white",
           "ticks": "",
           "title": {
            "standoff": 15
           },
           "zerolinecolor": "white",
           "zerolinewidth": 2
          }
         }
        },
        "title": {
         "text": "MYR and Other Currencies: How BBC News Affects Their Values (PCT Change)"
        },
        "xaxis": {
         "anchor": "y",
         "domain": [
          0,
          1
         ],
         "title": {
          "text": "Date"
         }
        },
        "yaxis": {
         "anchor": "x",
         "domain": [
          0,
          1
         ],
         "title": {
          "text": "Exchange Rate"
         }
        }
       }
      }
     },
     "metadata": {},
     "output_type": "display_data"
    }
   ],
   "source": [
    "fig = px.line(df_merged,x='date',y=['myr_usd_diff_pct','myr_sgd_diff_pct','myr_eur_diff_pct','myr_gbp_diff_pct'],\n",
    "              labels={\"value\": 'Exchange Rate','date':'Date'},\n",
    "              custom_data='title',\n",
    "              markers=True,title=\"MYR and Other Currencies: How BBC News Affects Their Values (PCT Change)\",\n",
    "              )\n",
    "fig.add_hline(y=0,line_color='black',line_dash=\"dot\",annotation_text=\"0\",opacity=0.5)\n",
    "fig.add_hrect(y0=0, y1=-30, \n",
    "              annotation_text=\"decline\", annotation_position=\"top left\",\n",
    "              fillcolor=\"red\", opacity=0.25, line_width=0)\n",
    "fig.for_each_trace(lambda x : x.update(name =x.name.split('_')[1].upper()))\n",
    "fig.update_traces(hovertemplate='<br>'.join([\n",
    "    'Date: %{x}',\n",
    "    'Exchange Rate: %{y}',\n",
    "    'Title: %{customdata[0]}'\n",
    "]))\n",
    "fig.show()"
   ]
  },
  {
   "cell_type": "code",
   "execution_count": 17,
   "metadata": {},
   "outputs": [],
   "source": [
    "df_merged['myr_eur_diff_grad'] = df_merged['myr_eur_diff_pct'].diff()\n",
    "df_merged['myr_usd_diff_grad'] = df_merged['myr_usd_diff_pct'].diff()\n",
    "df_merged['myr_sgd_diff_grad'] = df_merged['myr_sgd_diff_pct'].diff()\n",
    "df_merged['myr_gbp_diff_grad'] = df_merged['myr_gbp_diff_pct'].diff()"
   ]
  },
  {
   "cell_type": "code",
   "execution_count": 18,
   "metadata": {},
   "outputs": [
    {
     "data": {
      "text/html": [
       "<div>\n",
       "<style scoped>\n",
       "    .dataframe tbody tr th:only-of-type {\n",
       "        vertical-align: middle;\n",
       "    }\n",
       "\n",
       "    .dataframe tbody tr th {\n",
       "        vertical-align: top;\n",
       "    }\n",
       "\n",
       "    .dataframe thead th {\n",
       "        text-align: right;\n",
       "    }\n",
       "</style>\n",
       "<table border=\"1\" class=\"dataframe\">\n",
       "  <thead>\n",
       "    <tr style=\"text-align: right;\">\n",
       "      <th></th>\n",
       "      <th>title</th>\n",
       "      <th>description</th>\n",
       "      <th>date</th>\n",
       "      <th>site</th>\n",
       "      <th>section</th>\n",
       "      <th>myr_usd</th>\n",
       "      <th>myr_sgd</th>\n",
       "      <th>myr_eur</th>\n",
       "      <th>myr_gbp</th>\n",
       "      <th>myr_usd_diff_pct</th>\n",
       "      <th>myr_sgd_diff_pct</th>\n",
       "      <th>myr_gbp_diff_pct</th>\n",
       "      <th>myr_eur_diff_pct</th>\n",
       "      <th>myr_eur_diff_grad</th>\n",
       "      <th>myr_usd_diff_grad</th>\n",
       "      <th>myr_sgd_diff_grad</th>\n",
       "      <th>myr_gbp_diff_grad</th>\n",
       "    </tr>\n",
       "  </thead>\n",
       "  <tbody>\n",
       "    <tr>\n",
       "      <th>0</th>\n",
       "      <td>Anwar Ibrahim: The man who fulfilled his goal ...</td>\n",
       "      <td>After a decades-long quest to become premier, ...</td>\n",
       "      <td>2012-01-06</td>\n",
       "      <td>Asia</td>\n",
       "      <td>News</td>\n",
       "      <td>0.317854</td>\n",
       "      <td>0.410476</td>\n",
       "      <td>0.248400</td>\n",
       "      <td>0.205044</td>\n",
       "      <td>NaN</td>\n",
       "      <td>NaN</td>\n",
       "      <td>NaN</td>\n",
       "      <td>NaN</td>\n",
       "      <td>NaN</td>\n",
       "      <td>NaN</td>\n",
       "      <td>NaN</td>\n",
       "      <td>NaN</td>\n",
       "    </tr>\n",
       "    <tr>\n",
       "      <th>1</th>\n",
       "      <td>Najib Razak: Malaysia's former PM and his down...</td>\n",
       "      <td>The former PM promised to boost Malaysia's eco...</td>\n",
       "      <td>2013-05-01</td>\n",
       "      <td>Asia</td>\n",
       "      <td>News</td>\n",
       "      <td>0.329034</td>\n",
       "      <td>0.405136</td>\n",
       "      <td>0.249868</td>\n",
       "      <td>0.211766</td>\n",
       "      <td>3.517372</td>\n",
       "      <td>-1.300985</td>\n",
       "      <td>3.278273</td>\n",
       "      <td>0.591295</td>\n",
       "      <td>NaN</td>\n",
       "      <td>NaN</td>\n",
       "      <td>NaN</td>\n",
       "      <td>NaN</td>\n",
       "    </tr>\n",
       "    <tr>\n",
       "      <th>2</th>\n",
       "      <td>Malaysia Airlines plane turns back after cockp...</td>\n",
       "      <td>The Malaysia Airlines jet returned to Melbourn...</td>\n",
       "      <td>2017-05-31</td>\n",
       "      <td>Australia</td>\n",
       "      <td>News</td>\n",
       "      <td>0.233193</td>\n",
       "      <td>0.323112</td>\n",
       "      <td>0.208735</td>\n",
       "      <td>0.182053</td>\n",
       "      <td>-29.128090</td>\n",
       "      <td>-20.246150</td>\n",
       "      <td>-14.030915</td>\n",
       "      <td>-16.461858</td>\n",
       "      <td>-17.053153</td>\n",
       "      <td>-32.645463</td>\n",
       "      <td>-18.945165</td>\n",
       "      <td>-17.309188</td>\n",
       "    </tr>\n",
       "    <tr>\n",
       "      <th>3</th>\n",
       "      <td>Malaysia Airlines plane threat foiled by 'hero...</td>\n",
       "      <td>A witness tells how passengers tackled a man w...</td>\n",
       "      <td>2017-06-01</td>\n",
       "      <td>Australia</td>\n",
       "      <td>News</td>\n",
       "      <td>0.233345</td>\n",
       "      <td>0.322858</td>\n",
       "      <td>0.207537</td>\n",
       "      <td>0.181232</td>\n",
       "      <td>0.065338</td>\n",
       "      <td>-0.078373</td>\n",
       "      <td>-0.451209</td>\n",
       "      <td>-0.574102</td>\n",
       "      <td>15.887757</td>\n",
       "      <td>29.193429</td>\n",
       "      <td>20.167778</td>\n",
       "      <td>13.579707</td>\n",
       "    </tr>\n",
       "    <tr>\n",
       "      <th>4</th>\n",
       "      <td>Malaysia airline cockpit scare</td>\n",
       "      <td>The moment armed police carried a man off a fl...</td>\n",
       "      <td>2017-06-01</td>\n",
       "      <td>World</td>\n",
       "      <td>News</td>\n",
       "      <td>0.233345</td>\n",
       "      <td>0.322858</td>\n",
       "      <td>0.207537</td>\n",
       "      <td>0.181232</td>\n",
       "      <td>0.000000</td>\n",
       "      <td>0.000000</td>\n",
       "      <td>0.000000</td>\n",
       "      <td>0.000000</td>\n",
       "      <td>0.574102</td>\n",
       "      <td>-0.065338</td>\n",
       "      <td>0.078373</td>\n",
       "      <td>0.451209</td>\n",
       "    </tr>\n",
       "    <tr>\n",
       "      <th>...</th>\n",
       "      <td>...</td>\n",
       "      <td>...</td>\n",
       "      <td>...</td>\n",
       "      <td>...</td>\n",
       "      <td>...</td>\n",
       "      <td>...</td>\n",
       "      <td>...</td>\n",
       "      <td>...</td>\n",
       "      <td>...</td>\n",
       "      <td>...</td>\n",
       "      <td>...</td>\n",
       "      <td>...</td>\n",
       "      <td>...</td>\n",
       "      <td>...</td>\n",
       "      <td>...</td>\n",
       "      <td>...</td>\n",
       "      <td>...</td>\n",
       "    </tr>\n",
       "    <tr>\n",
       "      <th>231</th>\n",
       "      <td>Private jet crashes onto Malaysia highway, kil...</td>\n",
       "      <td>Investigators are searching for the aircraft's...</td>\n",
       "      <td>2023-08-17</td>\n",
       "      <td>Asia</td>\n",
       "      <td>News</td>\n",
       "      <td>0.215054</td>\n",
       "      <td>0.292019</td>\n",
       "      <td>0.197757</td>\n",
       "      <td>0.168667</td>\n",
       "      <td>-2.010760</td>\n",
       "      <td>-0.732161</td>\n",
       "      <td>-1.766520</td>\n",
       "      <td>-0.852778</td>\n",
       "      <td>-1.718156</td>\n",
       "      <td>-2.328992</td>\n",
       "      <td>-1.694394</td>\n",
       "      <td>-2.325107</td>\n",
       "    </tr>\n",
       "    <tr>\n",
       "      <th>232</th>\n",
       "      <td>Matty Healy defends Malaysia kiss during 1975 ...</td>\n",
       "      <td>The 1975 frontman read a prepared speech from ...</td>\n",
       "      <td>2023-10-10</td>\n",
       "      <td>Entertainment &amp; Arts</td>\n",
       "      <td>News</td>\n",
       "      <td>0.211685</td>\n",
       "      <td>0.288474</td>\n",
       "      <td>0.199613</td>\n",
       "      <td>0.172223</td>\n",
       "      <td>-1.566462</td>\n",
       "      <td>-1.214157</td>\n",
       "      <td>2.108316</td>\n",
       "      <td>0.938339</td>\n",
       "      <td>1.791117</td>\n",
       "      <td>0.444298</td>\n",
       "      <td>-0.481996</td>\n",
       "      <td>3.874836</td>\n",
       "    </tr>\n",
       "    <tr>\n",
       "      <th>233</th>\n",
       "      <td>Israel-Gaza: Malaysia will maintain ties with ...</td>\n",
       "      <td>Analysts say Mr Anwar's stand is politically e...</td>\n",
       "      <td>2023-11-08</td>\n",
       "      <td>Asia</td>\n",
       "      <td>News</td>\n",
       "      <td>0.215843</td>\n",
       "      <td>0.292348</td>\n",
       "      <td>0.201796</td>\n",
       "      <td>0.175599</td>\n",
       "      <td>1.964171</td>\n",
       "      <td>1.343141</td>\n",
       "      <td>1.960414</td>\n",
       "      <td>1.093721</td>\n",
       "      <td>0.155383</td>\n",
       "      <td>3.530633</td>\n",
       "      <td>2.557298</td>\n",
       "      <td>-0.147903</td>\n",
       "    </tr>\n",
       "    <tr>\n",
       "      <th>234</th>\n",
       "      <td>Malaysian killer released from Australian immi...</td>\n",
       "      <td>An ex-policeman convicted in a politically cha...</td>\n",
       "      <td>2023-11-13</td>\n",
       "      <td>Australia</td>\n",
       "      <td>News</td>\n",
       "      <td>0.213220</td>\n",
       "      <td>0.289974</td>\n",
       "      <td>0.199454</td>\n",
       "      <td>0.174367</td>\n",
       "      <td>-1.215356</td>\n",
       "      <td>-0.812035</td>\n",
       "      <td>-0.701729</td>\n",
       "      <td>-1.160414</td>\n",
       "      <td>-2.254135</td>\n",
       "      <td>-3.179528</td>\n",
       "      <td>-2.155175</td>\n",
       "      <td>-2.662143</td>\n",
       "    </tr>\n",
       "    <tr>\n",
       "      <th>235</th>\n",
       "      <td>Forest City: Inside Malaysia's Chinese-built '...</td>\n",
       "      <td>Built during the Chinese property boom, Forest...</td>\n",
       "      <td>2023-12-05</td>\n",
       "      <td>Business</td>\n",
       "      <td>News</td>\n",
       "      <td>0.214133</td>\n",
       "      <td>0.286433</td>\n",
       "      <td>0.197580</td>\n",
       "      <td>0.169488</td>\n",
       "      <td>0.428264</td>\n",
       "      <td>-1.221438</td>\n",
       "      <td>-2.797852</td>\n",
       "      <td>-0.939496</td>\n",
       "      <td>0.220917</td>\n",
       "      <td>1.643620</td>\n",
       "      <td>-0.409403</td>\n",
       "      <td>-2.096123</td>\n",
       "    </tr>\n",
       "  </tbody>\n",
       "</table>\n",
       "<p>236 rows × 17 columns</p>\n",
       "</div>"
      ],
      "text/plain": [
       "                                                 title  \\\n",
       "0    Anwar Ibrahim: The man who fulfilled his goal ...   \n",
       "1    Najib Razak: Malaysia's former PM and his down...   \n",
       "2    Malaysia Airlines plane turns back after cockp...   \n",
       "3    Malaysia Airlines plane threat foiled by 'hero...   \n",
       "4                       Malaysia airline cockpit scare   \n",
       "..                                                 ...   \n",
       "231  Private jet crashes onto Malaysia highway, kil...   \n",
       "232  Matty Healy defends Malaysia kiss during 1975 ...   \n",
       "233  Israel-Gaza: Malaysia will maintain ties with ...   \n",
       "234  Malaysian killer released from Australian immi...   \n",
       "235  Forest City: Inside Malaysia's Chinese-built '...   \n",
       "\n",
       "                                           description       date  \\\n",
       "0    After a decades-long quest to become premier, ... 2012-01-06   \n",
       "1    The former PM promised to boost Malaysia's eco... 2013-05-01   \n",
       "2    The Malaysia Airlines jet returned to Melbourn... 2017-05-31   \n",
       "3    A witness tells how passengers tackled a man w... 2017-06-01   \n",
       "4    The moment armed police carried a man off a fl... 2017-06-01   \n",
       "..                                                 ...        ...   \n",
       "231  Investigators are searching for the aircraft's... 2023-08-17   \n",
       "232  The 1975 frontman read a prepared speech from ... 2023-10-10   \n",
       "233  Analysts say Mr Anwar's stand is politically e... 2023-11-08   \n",
       "234  An ex-policeman convicted in a politically cha... 2023-11-13   \n",
       "235  Built during the Chinese property boom, Forest... 2023-12-05   \n",
       "\n",
       "                     site section   myr_usd   myr_sgd   myr_eur   myr_gbp  \\\n",
       "0                    Asia    News  0.317854  0.410476  0.248400  0.205044   \n",
       "1                    Asia    News  0.329034  0.405136  0.249868  0.211766   \n",
       "2               Australia    News  0.233193  0.323112  0.208735  0.182053   \n",
       "3               Australia    News  0.233345  0.322858  0.207537  0.181232   \n",
       "4                   World    News  0.233345  0.322858  0.207537  0.181232   \n",
       "..                    ...     ...       ...       ...       ...       ...   \n",
       "231                  Asia    News  0.215054  0.292019  0.197757  0.168667   \n",
       "232  Entertainment & Arts    News  0.211685  0.288474  0.199613  0.172223   \n",
       "233                  Asia    News  0.215843  0.292348  0.201796  0.175599   \n",
       "234             Australia    News  0.213220  0.289974  0.199454  0.174367   \n",
       "235              Business    News  0.214133  0.286433  0.197580  0.169488   \n",
       "\n",
       "     myr_usd_diff_pct  myr_sgd_diff_pct  myr_gbp_diff_pct  myr_eur_diff_pct  \\\n",
       "0                 NaN               NaN               NaN               NaN   \n",
       "1            3.517372         -1.300985          3.278273          0.591295   \n",
       "2          -29.128090        -20.246150        -14.030915        -16.461858   \n",
       "3            0.065338         -0.078373         -0.451209         -0.574102   \n",
       "4            0.000000          0.000000          0.000000          0.000000   \n",
       "..                ...               ...               ...               ...   \n",
       "231         -2.010760         -0.732161         -1.766520         -0.852778   \n",
       "232         -1.566462         -1.214157          2.108316          0.938339   \n",
       "233          1.964171          1.343141          1.960414          1.093721   \n",
       "234         -1.215356         -0.812035         -0.701729         -1.160414   \n",
       "235          0.428264         -1.221438         -2.797852         -0.939496   \n",
       "\n",
       "     myr_eur_diff_grad  myr_usd_diff_grad  myr_sgd_diff_grad  \\\n",
       "0                  NaN                NaN                NaN   \n",
       "1                  NaN                NaN                NaN   \n",
       "2           -17.053153         -32.645463         -18.945165   \n",
       "3            15.887757          29.193429          20.167778   \n",
       "4             0.574102          -0.065338           0.078373   \n",
       "..                 ...                ...                ...   \n",
       "231          -1.718156          -2.328992          -1.694394   \n",
       "232           1.791117           0.444298          -0.481996   \n",
       "233           0.155383           3.530633           2.557298   \n",
       "234          -2.254135          -3.179528          -2.155175   \n",
       "235           0.220917           1.643620          -0.409403   \n",
       "\n",
       "     myr_gbp_diff_grad  \n",
       "0                  NaN  \n",
       "1                  NaN  \n",
       "2           -17.309188  \n",
       "3            13.579707  \n",
       "4             0.451209  \n",
       "..                 ...  \n",
       "231          -2.325107  \n",
       "232           3.874836  \n",
       "233          -0.147903  \n",
       "234          -2.662143  \n",
       "235          -2.096123  \n",
       "\n",
       "[236 rows x 17 columns]"
      ]
     },
     "execution_count": 18,
     "metadata": {},
     "output_type": "execute_result"
    }
   ],
   "source": [
    "df_merged"
   ]
  },
  {
   "cell_type": "code",
   "execution_count": 21,
   "metadata": {},
   "outputs": [
    {
     "data": {
      "application/vnd.plotly.v1+json": {
       "config": {
        "plotlyServerURL": "https://plot.ly"
       },
       "data": [
        {
         "customdata": [
          [
           "Anwar Ibrahim: The man who fulfilled his goal to lead Malaysia"
          ],
          [
           "Najib Razak: Malaysia's former PM and his downfall over alleged corruption"
          ],
          [
           "Malaysia Airlines plane turns back after cockpit entry bid"
          ],
          [
           "Malaysia Airlines plane threat foiled by 'heroes', witness says"
          ],
          [
           "Malaysia airline cockpit scare"
          ],
          [
           "Man accused of Malaysia Airlines threat does not appear in court"
          ],
          [
           "Malaysia gay 'prevention' competition seeks videos"
          ],
          [
           "Malaysia drops gay 'prevention' category from video competition"
          ],
          [
           "US looks to seize $540m in 'stolen' assets from Malaysia fund 1MDB"
          ],
          [
           "Baby elephant killed on Malaysia highway"
          ],
          [
           "The 'blackface' ad that got Malaysia talking"
          ],
          [
           "Chinese deities flown on business class to Malaysia"
          ],
          [
           "Shell withdraws Malaysia cardboard cutouts after 'distasteful' groping"
          ],
          [
           "Despacito censored: Malaysia bans 'unsuitable' hit from state stations"
          ],
          [
           "Malaysia MP: 'Denying husbands sex is abuse'"
          ],
          [
           "Malaysia detains hundreds in counter-terrorism raids"
          ],
          [
           "Malaysia princess Tunku Aminah weds Dutchman in lavish ceremony"
          ],
          [
           "Malaysia sites hacked after blunder over Indonesian flag"
          ],
          [
           "The online abuse hurled at Malaysia's Muslim women"
          ],
          [
           "Malaysia to name firms lacking board diversity"
          ],
          [
           "Malaysia fire: Students and teachers killed in dormitory"
          ],
          [
           "Kim Jong-nam murder: Women plead not guilty in Malaysia trial"
          ],
          [
           "MH370: Malaysia in talks with US firm to restart plane search"
          ],
          [
           "Kim Jong-nam murder: Suspects revisit Malaysia airport"
          ],
          [
           "Miss Universe Malaysia to wear nasi lemak dress"
          ],
          [
           "Fake baby milk formula scare hits Malaysia"
          ],
          [
           "Ivana Smit: Model's death in Malaysia casts a long shadow"
          ],
          [
           "Malaysia court clears 'drug mule' grandmother who faced hanging"
          ],
          [
           "Mahathir Mohamad: Ex-Malaysia PM, 92, to run for office"
          ],
          [
           "100 Women: National Union of Journalists Malaysia sorry for 'sexy outfit' advice"
          ],
          [
           "'Shaking' Malaysia Airlines flight turns back to Australia"
          ],
          [
           "Malaysia defends 'hideous' tourism logo despite criticism"
          ],
          [
           "100 Women: Maid dies in Malaysia after being left to 'sleep outside with dog'"
          ],
          [
           "Pop star Denise Ho denied Malaysia permit 'over LGBT views'"
          ],
          [
           "Malaysia wishes wrong New Year with a barking rooster"
          ],
          [
           "Nerve agent attacks: How Malaysia responded compared to the UK"
          ],
          [
           "Malaysia seeks 10 year-jail terms for 'fake news'"
          ],
          [
           "Syria man 'stranded at Malaysia airport for weeks'"
          ],
          [
           "Palestinian lecturer and Hamas member killed in Malaysia"
          ],
          [
           "Malaysia's youth have power they won't use"
          ],
          [
           "Malaysia's election: A battle of old allies"
          ],
          [
           "Malaysia elections: Could Mahathir Mohamad make a comeback?"
          ],
          [
           "Malaysia election: What does politics mean to multi-racial voters?"
          ],
          [
           "Mahathir Mohamad: The man who dominated Malaysian politics"
          ],
          [
           "Malaysia election: Opposition scores historic victory"
          ],
          [
           "Malaysia's Mahathir hopes to get back lost 1MDB funds"
          ],
          [
           "Malaysia election: Why did young voters pick a 92-year-old?"
          ],
          [
           "Malaysia's Mahathir Mohamad sworn in after shock comeback victory"
          ],
          [
           "Malaysia election: What just happened?"
          ],
          [
           "Business Matters: Opposition Claims Victory in Malaysia"
          ],
          [
           "Corruption, money and Malaysia's election"
          ],
          [
           "Former Malaysia PM Najib Razak banned from leaving country"
          ],
          [
           "The Cultural Frontline: Truth and Taboo from Malaysia to the Middle East"
          ],
          [
           "Malaysia to review not revoke fake news law, says Mahathir"
          ],
          [
           "Malaysia's freed Anwar Ibrahim hails 'new dawn' after poll win"
          ],
          [
           "Malaysia's Najib Razak has home searched by police"
          ],
          [
           "Malaysia's political drama is worthy of Shakespeare"
          ],
          [
           "Malaysia police seize cash and luxury goods in Najib-linked raids"
          ],
          [
           "Malaysia politics: $4 sandals vs luxury Birkin bags"
          ],
          [
           "Najib Razak: Scandal-hit ex-Malaysia PM condemns police raids"
          ],
          [
           "From Our Own Correspondent Podcast: Malaysiaâs Political Drama"
          ],
          [
           "From Our Own Correspondent: Malaysia's Political Drama"
          ],
          [
           "Australian woman sentenced to death in Malaysia over drugs"
          ],
          [
           "Police find $28m cash in raids linked to Malaysia ex-PM Najib"
          ],
          [
           "Australia jails man over Malaysia Airlines plane bomb threat"
          ],
          [
           "Malaysia's Anwar Ibrahim on Mahathir: 'We have to move on'"
          ],
          [
           "Malaysia mosque bans tourists after provocative dance"
          ],
          [
           "World Business Report: Malaysia 1MDB: Seized Cash and Goods 'Worth $273m'"
          ],
          [
           "Malaysia 1MDB: Seized tiaras, cash and Hermes bags 'worth $273m'"
          ],
          [
           "World Business Report: Malaysia 1MDB: Seized Cash and Goods 'Worth $273m'"
          ],
          [
           "Child marriage involving bride of 11 sparks outrage in Malaysia"
          ],
          [
           "1MDB: Malaysia's global corruption scandal"
          ],
          [
           "Malaysia 1MDB: Ex-PM Najib arrested by anti-corruption officials"
          ],
          [
           "Malaysia's ex-PM Najib charged with corruption over 1MDB"
          ],
          [
           "Missing Malaysia flight MH370: Aviation chief quits over failings"
          ],
          [
           "Malaysia ex-PM Najib charged with money laundering"
          ],
          [
           "Radioactive device goes missing in Malaysia"
          ],
          [
           "LGBT rights: Malaysia women caned for attempting to have lesbian sex"
          ],
          [
           "Laundrette cat killers arrested in Malaysia"
          ],
          [
           "Ex-Malaysia PM Najib hit with 25 charges of money laundering and abuse of power"
          ],
          [
           "Syrian Hassan al-Kontar removed from Malaysia airport after months"
          ],
          [
           "South China Sea: Battleships may lead to war - Malaysia PM"
          ],
          [
           "HARDtalk: Mahathir Mohamad, Prime Minister of Malaysia"
          ],
          [
           "Six rescue divers drown trying to save teen in Malaysia"
          ],
          [
           "Wife charged with murder of ex firefighter in Malaysia"
          ],
          [
           "From Our Own Correspondent: Italy and Malaysia"
          ],
          [
           "From Our Own Correspondent: Malaysia and Hungary"
          ],
          [
           "From Our Own Correspondent: North Korea and Malaysia"
          ],
          [
           "A bitter winter in Afghanistan: Malaysia and Macedonia"
          ],
          [
           "From Our Own Correspondent: Malaysia, the USA and Zimbabwe"
          ],
          [
           "From Our Own Correspondent: Syria and Malaysia"
          ],
          [
           "Medical cannabis: Death sentence prompts Malaysia to re-think harsh laws"
          ],
          [
           "World Have Your Say: WHYS 30: Malaysia's internet black-out day"
          ],
          [
           "From Our Own Correspondent: Malaysia and Mexico"
          ],
          [
           "From Our Own Correspondent: Honduras and Malaysia"
          ],
          [
           "Syrian man stranded in Malaysia airport arrives in Canada"
          ],
          [
           "1MDB: Malaysia charges Goldman Sachs and two bankers"
          ],
          [
           "Malaysia king: Sultan Muhammad V abdicates in historic first"
          ],
          [
           "Malaysia revises 'victim-shaming' school text book"
          ],
          [
           "Malaysia defends ban on Israeli Paralympic athletes"
          ],
          [
           "HARDtalk: Malaysia's Minister for Youth and Sport - Syed Saddiq"
          ],
          [
           "Malaysia elects new king after unprecedented abdication"
          ],
          [
           "Sultan Abdullah crowned Malaysia's new king"
          ],
          [
           "Russians detained over baby swinging street act in Malaysia"
          ],
          [
           "'Competent' oil worker crushed by machine on ship off Malaysia"
          ],
          [
           "Lowestoft oil worker's injuries on ship off Malaysia 'non-survivable'"
          ],
          [
           "Malaysia plastic pollution: 'We saved our town from your Western rubbish'"
          ],
          [
           "Kim Jong-nam murder: Malaysia rejects suspect's release plea"
          ],
          [
           "Najib 1MDB trial: Malaysia ex-PM faces court in global financial scandal"
          ],
          [
           "Newsday: Malaysia: former Prime Minister Najib Razak goes on trial"
          ],
          [
           "Business Matters: Malaysia: ex-PM faces court in global financial scandal"
          ],
          [
           "1MDB: US to return $200m in funds to Malaysia as part of probe"
          ],
          [
           "Malaysia bans 'recycled' waste"
          ],
          [
           "Malaysia orders tonnes of imported waste to be returned"
          ],
          [
           "Last male Sumatran rhino in Malaysia dies"
          ],
          [
           "Beyond Today: Why is Malaysia sending our rubbish back?"
          ],
          [
           "Plastic waste: Milton Keynes Council launches probe after Malaysia find"
          ],
          [
           "Hugh Fearnley-Whittingstall finds UK plastic waste abandoned in Malaysia"
          ],
          [
           "MH17 crash: Malaysia PM Mahathir denounces murder charges"
          ],
          [
           "Malaysia air pollution: Schools shut after illness hits children"
          ],
          [
           "Thousands of turtles seized at Malaysia airport"
          ],
          [
           "Malaysia seizes thousands of smuggled turtles at airport"
          ],
          [
           "Wolf of Wall Street producer arrested in Malaysia for money laundering"
          ],
          [
           "CÃ©sar Pelli: Architect of Malaysia's Petronas Towers dies at 92"
          ],
          [
           "London girl Nora Quoirin, 15, vanishes on Malaysia holiday"
          ],
          [
           "Nora Quoirin: Malaysia jungle search for holiday teen"
          ],
          [
           "Nora Quoirin: Family say teen missing in Malaysia was abducted"
          ],
          [
           "Missing Nora Quoirin: Malaysia police 'rule nothing out' in search"
          ],
          [
           "Goldman bosses charged in Malaysia bond scandal"
          ],
          [
           "Missing Nora Quoirin's mother Meabh thanks search teams in Malaysia"
          ],
          [
           "The mystery of screaming schoolgirls in Malaysia"
          ],
          [
           "Nora Quoirin: Body found in Malaysia is missing girl"
          ],
          [
           "Missing Nora Quoirin: Malaysia police say a body has been found nearby"
          ],
          [
           "Nora Quoirin: Family 'heartbroken' after body found in Malaysia"
          ],
          [
           "Najib Razak 1MDB: Malaysia's former PM faces biggest trial yet"
          ],
          [
           "Najib Razak : Ex-Malaysia PM's second fraud trial begins"
          ],
          [
           "Rainforest fires trigger smog alerts in Indonesia and Malaysia"
          ],
          [
           "Malaysia queen denounces arrest of online critics"
          ],
          [
           "Plastic waste: Milton Keynes Council cleared after Malaysia waste find"
          ],
          [
           "Jennifer Lopez stripper film Hustlers banned in Malaysia"
          ],
          [
           "Outlook: The rebel lawyer transforming Malaysia"
          ],
          [
           "The Outlook Podcast Archive: The rebel lawyer transforming Malaysia"
          ],
          [
           "'I woke up to thousands of messages from Malaysia'"
          ],
          [
           "HARDtalk: Minister for Islamic Affairs in Malaysia -Mujahid Yusof Rawa"
          ],
          [
           "Mujahid Yusof Rawa: Malaysia needs a new narrative of Islam"
          ],
          [
           "Malaysia's last known Sumatran rhino dies"
          ],
          [
           "Malaysia grants reprieve to Australian 'love scam' drug mule"
          ],
          [
           "Inside Malaysia's straight edge punk scene"
          ],
          [
           "Malaysia's straight edge punk scene"
          ],
          [
           "Nora Quoirin: Parents determined to find answers over Malaysia death"
          ],
          [
           "Malaysia returns 42 containers of 'illegal' plastic waste to UK"
          ],
          [
           "The Documentary: Shifting Cultures: Polygamous marriage in modern Malaysia"
          ],
          [
           "The Documentary Podcast: Polygamous marriage in modern Malaysia"
          ],
          [
           "Fireball meteor lights up night sky over Malaysia"
          ],
          [
           "Malaysia gets new PM, Muhyiddin Yassin, after week of turmoil"
          ],
          [
           "How Malaysiaâs government collapsed in two years"
          ],
          [
           "Malaysia migrant raids 'to reduce Covid-19 spread'"
          ],
          [
           "1MDB: Malaysia drops charges against Wolf of Wall Street producer"
          ],
          [
           "Malaysia detains 270 Rohingya refugees who had drifted at sea for weeks"
          ],
          [
           "Goldman Sachs settles 1MDB scandal with Malaysia for $3.9bn"
          ],
          [
           "Malaysia arrests Bangladeshi migrant who criticised government on TV"
          ],
          [
           "Najib Razak: Malaysian ex-PM gets 12-year jail term in 1MDB corruption trial"
          ],
          [
           "Newsday: Najib Razak â former Malaysia PM â handed guilty verdict"
          ],
          [
           "Newsday: Guilty verdict for former Malaysian prime minister"
          ],
          [
           "Newsday: Former Malaysian PM guilty of abuse of power"
          ],
          [
           "Samantha Jones avoids death for husband's Malaysia murder"
          ],
          [
           "NÃ³ra Quoirin: Malaysia opens inquest into death of London teenager"
          ],
          [
           "NÃ³ra Quoirin: Site of Malaysian body find 'searched several times'"
          ],
          [
           "NÃ³ra Quoirin: Window in Malaysian resort was broken, inquest hears"
          ],
          [
           "Go Jetters: Series 3: Funky Fireflies, Selangor River, Malaysia"
          ],
          [
           "Malaysian man 'finds' monkey selfies on lost phone"
          ],
          [
           "Chinese and Malaysian hackers charged by US over attacks"
          ],
          [
           "Cooking with Paula McIntyre: Malaysian Chicken Curry with Tomato Rice"
          ],
          [
           "Philips sells Suffolk factory to Malaysia's Guan Chong Berhad"
          ],
          [
           "US bans Malaysian palm oil producer over forced labour"
          ],
          [
           "Gareth Huntley: Backpacker's Malaysia death 'mysterious'"
          ],
          [
           "Covid-19: Couple holds 10,000 people drive-thru wedding in Malaysia"
          ],
          [
           "NÃ³ra Quoirin: 'Misadventure' verdict for girl found in Malaysian jungle"
          ],
          [
           "NÃ³ra Quoirin death: The schoolgirl who vanished into a Malaysian jungle"
          ],
          [
           "Malaysia declares Covid state of emergency amid political challenges"
          ],
          [
           "Scoff the Ball: A Taste of Malaysia in Scotland"
          ],
          [
           "Malaysiakini: The upstart that changed Malaysia's media landscape"
          ],
          [
           "Malaysia deports Myanmar nationals despite court order"
          ],
          [
           "Malaysia High Court rules Christians can use 'Allah'"
          ],
          [
           "South China Sea dispute: Malaysia accuses China of breaching airspace"
          ],
          [
           "Malaysia deports French conspiracy theorist wanted for abduction"
          ],
          [
           "Malaysian casino giant Genting makes $4.3bn bet on Las Vegas"
          ],
          [
           "Malaysians in Covid lockdown fly white flags to ask for help"
          ],
          [
           "Bitcoin mining machines steamrolled by Malaysia police"
          ],
          [
           "Anger as Covid-ravaged Malaysia lifts pandemic measures"
          ],
          [
           "Malaysian singer dies of Covid days after giving birth"
          ],
          [
           "British and Malaysian men jailed in Somalia for terror offences"
          ],
          [
           "'I had to run away', says Malaysian transgender woman"
          ],
          [
           "Malaysian transgender woman Nur Sajat: 'I had to run away'"
          ],
          [
           "MH370: Could missing Malaysian Airlines plane finally be found?"
          ],
          [
           "Malaysia: Death toll rises after massive floods"
          ],
          [
           "Malaysia hit by the worst floods in decades"
          ],
          [
           "Malaysia hit by the worst floods in decades"
          ],
          [
           "British man and son missing after Malaysia diving trip"
          ],
          [
           "World Business Report: 1MDB: Ex-Goldman Malaysia boss convicted"
          ],
          [
           "1MDB scandal: Ex-Goldman Malaysia boss found guilty"
          ],
          [
           "Malaysia: Boy, 14, believed dead after diving trip"
          ],
          [
           "World Business Report: 1MDB: Ex-Goldman Malaysia boss convicted"
          ],
          [
           "Chinese rocket debris falls back to Earth over Malaysia"
          ],
          [
           "Najib Razak: Malaysia's ex-PM starts jail term after final appeal fails"
          ],
          [
           "Najib Razak: The verdict that sent Malaysia's untouchable ex-PM to prison"
          ],
          [
           "Rosmah Mansor: Wife of ex-Malaysian PM Najib gets 10 years jail for bribery"
          ],
          [
           "Fat Leonard: Malaysian businessman linked to US Navy scandal escapes"
          ],
          [
           "Queen Elizabeth II: What her death means to Malaysia"
          ],
          [
           "Fat Leonard: Malaysian criminal in US Navy scandal recaptured after jail break"
          ],
          [
           "Mahathir Mohamad: Former Malaysia PM to run for office aged 97"
          ],
          [
           "Why is Malaysia deporting Myanmar asylum seekers?"
          ],
          [
           "Malaysia elects first ever hung parliament"
          ],
          [
           "Malaysia election: Why isn't there a government yet?"
          ],
          [
           "Anwar Ibrahim sworn in as Malaysian PM after post-election deadlock"
          ],
          [
           "Anwar Ibrahim: Honeymoon as Malaysian PM will be brutally short"
          ],
          [
           "Tamil Nadu: Indian man's search for father's lost grave ends in Malaysia"
          ],
          [
           "Malaysia authorities searching for survivors after deadly landslide"
          ],
          [
           "Malaysia landslide: At least 21 campers dead and more missing"
          ],
          [
           "Ex-Goldman Sachs Malaysia boss gets 10 years for 1MDB scheme"
          ],
          [
           "Muhyiddin Yassin: Ex-Malaysia PM charged with corruption over Covid spending"
          ],
          [
           "Malaysia ends mandatory death penalty for serious crimes"
          ],
          [
           "Malaysia detains Chinese ship suspected of looting British WW2 wrecks"
          ],
          [
           "Your Place or Mine with Shaun Keaveny: Craig Parkinson: Penang, Malaysia"
          ],
          [
           "MH370 joke: Malaysia asks Interpol to track down comedian"
          ],
          [
           "Jocelyn Chia: US comedian calls Malaysia's reaction to MH370 joke 'ridiculous'"
          ],
          [
           "Swatch sues Malaysia over Pride watch seizures"
          ],
          [
           "Matty Healy: Malaysia festival cancelled after The 1975 singer attacks anti-LGBT law"
          ],
          [
           "The 1975 cancels Indonesia and Taiwan shows after Malaysia LGBT row"
          ],
          [
           "Matty Healy: Malaysia LGBT community angry at 1975 'white saviour stunt'"
          ],
          [
           "Matty Healy: The 1975 threatened with legal action after Malaysia festival cancellation"
          ],
          [
           "Private jet crashes onto Malaysia highway, killing 10"
          ],
          [
           "Matty Healy defends Malaysia kiss during 1975 concert in Dallas"
          ],
          [
           "Israel-Gaza: Malaysia will maintain ties with Hamas says PM Anwar Ibrahim"
          ],
          [
           "Malaysian killer released from Australian immigration detention"
          ],
          [
           "Forest City: Inside Malaysia's Chinese-built 'ghost city'"
          ]
         ],
         "hovertemplate": "Date: %{x}<br>Exchange Rate: %{y}<br>Title: %{customdata[0]}",
         "legendgroup": "myr_usd_diff_grad",
         "line": {
          "color": "#636efa",
          "dash": "solid"
         },
         "marker": {
          "symbol": "circle"
         },
         "mode": "markers+lines",
         "name": "USD",
         "orientation": "v",
         "showlegend": true,
         "type": "scatter",
         "x": [
          "2012-01-06T00:00:00",
          "2013-05-01T00:00:00",
          "2017-05-31T00:00:00",
          "2017-06-01T00:00:00",
          "2017-06-01T00:00:00",
          "2017-06-02T00:00:00",
          "2017-06-03T00:00:00",
          "2017-06-08T00:00:00",
          "2017-06-16T00:00:00",
          "2017-06-19T00:00:00",
          "2017-06-30T00:00:00",
          "2017-07-05T00:00:00",
          "2017-07-05T00:00:00",
          "2017-07-20T00:00:00",
          "2017-07-27T00:00:00",
          "2017-08-07T00:00:00",
          "2017-08-15T00:00:00",
          "2017-08-21T00:00:00",
          "2017-08-21T00:00:00",
          "2017-09-06T00:00:00",
          "2017-09-14T00:00:00",
          "2017-10-02T00:00:00",
          "2017-10-20T00:00:00",
          "2017-10-24T00:00:00",
          "2017-11-01T00:00:00",
          "2017-12-14T00:00:00",
          "2017-12-24T00:00:00",
          "2017-12-27T00:00:00",
          "2018-01-08T00:00:00",
          "2018-01-18T00:00:00",
          "2018-01-19T00:00:00",
          "2018-01-30T00:00:00",
          "2018-02-14T00:00:00",
          "2018-02-15T00:00:00",
          "2018-02-18T00:00:00",
          "2018-03-16T00:00:00",
          "2018-03-26T00:00:00",
          "2018-04-12T00:00:00",
          "2018-04-21T00:00:00",
          "2018-05-05T00:00:00",
          "2018-05-07T00:00:00",
          "2018-05-07T00:00:00",
          "2018-05-08T00:00:00",
          "2018-05-08T00:00:00",
          "2018-05-09T00:00:00",
          "2018-05-10T00:00:00",
          "2018-05-10T00:00:00",
          "2018-05-10T00:00:00",
          "2018-05-10T00:00:00",
          "2018-05-10T00:00:00",
          "2018-05-11T00:00:00",
          "2018-05-12T00:00:00",
          "2018-05-12T00:00:00",
          "2018-05-14T00:00:00",
          "2018-05-16T00:00:00",
          "2018-05-16T00:00:00",
          "2018-05-17T00:00:00",
          "2018-05-18T00:00:00",
          "2018-05-18T00:00:00",
          "2018-05-19T00:00:00",
          "2018-05-24T00:00:00",
          "2018-05-24T00:00:00",
          "2018-05-24T00:00:00",
          "2018-05-25T00:00:00",
          "2018-06-07T00:00:00",
          "2018-06-11T00:00:00",
          "2018-06-25T00:00:00",
          "2018-06-27T00:00:00",
          "2018-06-27T00:00:00",
          "2018-06-27T00:00:00",
          "2018-07-01T00:00:00",
          "2018-07-03T00:00:00",
          "2018-07-03T00:00:00",
          "2018-07-04T00:00:00",
          "2018-07-31T00:00:00",
          "2018-08-08T00:00:00",
          "2018-08-21T00:00:00",
          "2018-09-03T00:00:00",
          "2018-09-14T00:00:00",
          "2018-09-20T00:00:00",
          "2018-10-02T00:00:00",
          "2018-10-02T00:00:00",
          "2018-10-03T00:00:00",
          "2018-10-04T00:00:00",
          "2018-10-31T00:00:00",
          "2018-11-04T00:00:00",
          "2018-11-04T00:00:00",
          "2018-11-04T00:00:00",
          "2018-11-04T00:00:00",
          "2018-11-04T00:00:00",
          "2018-11-12T00:00:00",
          "2018-11-12T00:00:00",
          "2018-11-12T00:00:00",
          "2018-11-12T00:00:00",
          "2018-11-12T00:00:00",
          "2018-11-26T00:00:00",
          "2018-12-17T00:00:00",
          "2019-01-06T00:00:00",
          "2019-01-16T00:00:00",
          "2019-01-23T00:00:00",
          "2019-01-23T00:00:00",
          "2019-01-24T00:00:00",
          "2019-01-31T00:00:00",
          "2019-02-05T00:00:00",
          "2019-02-11T00:00:00",
          "2019-02-12T00:00:00",
          "2019-02-13T00:00:00",
          "2019-03-14T00:00:00",
          "2019-04-03T00:00:00",
          "2019-04-03T00:00:00",
          "2019-04-04T00:00:00",
          "2019-05-07T00:00:00",
          "2019-05-28T00:00:00",
          "2019-05-28T00:00:00",
          "2019-05-28T00:00:00",
          "2019-05-30T00:00:00",
          "2019-06-10T00:00:00",
          "2019-06-10T00:00:00",
          "2019-06-20T00:00:00",
          "2019-06-25T00:00:00",
          "2019-06-26T00:00:00",
          "2019-06-26T00:00:00",
          "2019-07-04T00:00:00",
          "2019-07-20T00:00:00",
          "2019-08-04T00:00:00",
          "2019-08-05T00:00:00",
          "2019-08-06T00:00:00",
          "2019-08-07T00:00:00",
          "2019-08-09T00:00:00",
          "2019-08-10T00:00:00",
          "2019-08-11T00:00:00",
          "2019-08-13T00:00:00",
          "2019-08-13T00:00:00",
          "2019-08-14T00:00:00",
          "2019-08-28T00:00:00",
          "2019-08-28T00:00:00",
          "2019-09-13T00:00:00",
          "2019-09-14T00:00:00",
          "2019-09-20T00:00:00",
          "2019-09-20T00:00:00",
          "2019-10-31T00:00:00",
          "2019-11-01T00:00:00",
          "2019-11-12T00:00:00",
          "2019-11-13T00:00:00",
          "2019-11-13T00:00:00",
          "2019-11-23T00:00:00",
          "2019-11-26T00:00:00",
          "2019-11-29T00:00:00",
          "2019-11-30T00:00:00",
          "2019-12-17T00:00:00",
          "2020-01-20T00:00:00",
          "2020-02-01T00:00:00",
          "2020-02-04T00:00:00",
          "2020-02-21T00:00:00",
          "2020-03-01T00:00:00",
          "2020-03-05T00:00:00",
          "2020-05-02T00:00:00",
          "2020-05-14T00:00:00",
          "2020-06-09T00:00:00",
          "2020-07-24T00:00:00",
          "2020-07-25T00:00:00",
          "2020-07-28T00:00:00",
          "2020-07-28T00:00:00",
          "2020-07-28T00:00:00",
          "2020-07-28T00:00:00",
          "2020-08-03T00:00:00",
          "2020-08-24T00:00:00",
          "2020-08-26T00:00:00",
          "2020-08-27T00:00:00",
          "2020-09-07T00:00:00",
          "2020-09-15T00:00:00",
          "2020-09-16T00:00:00",
          "2020-09-19T00:00:00",
          "2020-09-29T00:00:00",
          "2020-10-01T00:00:00",
          "2020-10-08T00:00:00",
          "2020-12-21T00:00:00",
          "2021-01-04T00:00:00",
          "2021-01-04T00:00:00",
          "2021-01-12T00:00:00",
          "2021-01-21T00:00:00",
          "2021-02-19T00:00:00",
          "2021-02-24T00:00:00",
          "2021-03-11T00:00:00",
          "2021-06-02T00:00:00",
          "2021-06-13T00:00:00",
          "2021-06-24T00:00:00",
          "2021-07-05T00:00:00",
          "2021-07-20T00:00:00",
          "2021-07-28T00:00:00",
          "2021-08-10T00:00:00",
          "2021-09-24T00:00:00",
          "2021-11-19T00:00:00",
          "2021-11-19T00:00:00",
          "2021-12-03T00:00:00",
          "2021-12-21T00:00:00",
          "2021-12-21T00:00:00",
          "2021-12-21T00:00:00",
          "2022-04-07T00:00:00",
          "2022-04-08T00:00:00",
          "2022-04-08T00:00:00",
          "2022-04-09T00:00:00",
          "2022-04-09T00:00:00",
          "2022-07-31T00:00:00",
          "2022-08-23T00:00:00",
          "2022-08-27T00:00:00",
          "2022-09-01T00:00:00",
          "2022-09-06T00:00:00",
          "2022-09-14T00:00:00",
          "2022-09-22T00:00:00",
          "2022-10-11T00:00:00",
          "2022-10-25T00:00:00",
          "2022-11-20T00:00:00",
          "2022-11-21T00:00:00",
          "2022-11-24T00:00:00",
          "2022-12-03T00:00:00",
          "2022-12-13T00:00:00",
          "2022-12-16T00:00:00",
          "2022-12-16T00:00:00",
          "2023-03-09T00:00:00",
          "2023-03-10T00:00:00",
          "2023-04-03T00:00:00",
          "2023-05-30T00:00:00",
          "2023-06-07T00:00:00",
          "2023-06-13T00:00:00",
          "2023-06-14T00:00:00",
          "2023-07-17T00:00:00",
          "2023-07-22T00:00:00",
          "2023-07-23T00:00:00",
          "2023-07-25T00:00:00",
          "2023-08-07T00:00:00",
          "2023-08-17T00:00:00",
          "2023-10-10T00:00:00",
          "2023-11-08T00:00:00",
          "2023-11-13T00:00:00",
          "2023-12-05T00:00:00"
         ],
         "xaxis": "x",
         "y": [
          null,
          null,
          -32.64546259123865,
          29.19342871701621,
          -0.065338414968652,
          0.18702363635967334,
          -0.18702363635967334,
          0.41079610588570237,
          -0.73836017614064,
          0.3041779959743418,
          -0.34948355607949955,
          0.27973334491471213,
          0.09313628544538322,
          0.1398922654194834,
          0.1875945035488158,
          -0.43264042568080807,
          -0.22091902791351314,
          0.5361256969085404,
          -0.21005301228251838,
          1.1449532700017695,
          -0.38377328511551845,
          -1.3993267907255857,
          0.8394552793940413,
          -0.40221251025981397,
          0.2481954510532014,
          3.5538913141258677,
          -3.4539885927359792,
          -0.2207407325391264,
          2.188955139190063,
          -1.022095773748144,
          -0.7045938829321585,
          0.5731922350786345,
          -1.0131948939810065,
          0.3005922087743085,
          -0.26729303769991164,
          -0.36598787544600553,
          0.8132930866660004,
          0.030391889744474376,
          -0.8584239104591607,
          -0.9838277348592883,
          1.4841130008040326,
          -0.10157385433069432,
          -0.08880747649336884,
          0.08880747649336884,
          -1.178382241417708,
          -0.1818256324220946,
          1.3602078738398027,
          0,
          0,
          0,
          2.418940794772384,
          -2.418940794772384,
          0,
          0.02787355266957725,
          -0.19482124933126732,
          0.16694769666169007,
          -0.2900343007741446,
          0.17666563731909557,
          0.11336866345504903,
          0,
          -0.16347922208546084,
          0.16347922208546084,
          0,
          -0.02514443534805677,
          0.20147235573703126,
          -0.5777359661552128,
          0.1761307821271152,
          -0.39661623051449046,
          0.6218934941536136,
          0,
          -0.5073636254341207,
          0.56927565904904,
          -0.06191203361491926,
          -0.03713747339543216,
          -0.3573810889972884,
          -0.04736981090667225,
          -0.1147052851652064,
          0.11425779402142178,
          -0.24557774222567774,
          0.925021194136344,
          -0.34102751769400363,
          0.1039199302265148,
          -0.03624612245405334,
          0.05316382342051007,
          -1.0145232306327912,
          1.0814062583352713,
          -0.08380072866893684,
          0,
          0,
          0,
          0.014363768154090906,
          -0.014363768154090906,
          0,
          0,
          0,
          -0.37218471218875004,
          0.5873720153321327,
          0.8113842054166209,
          -0.12479998921852697,
          -1.6156237111332628,
          0.7138521917917862,
          -0.048370344292791856,
          1.1858484007602588,
          -1.0517875958496958,
          0.36929680972028756,
          -0.553267264412538,
          0.0982799940744794,
          -0.39157811694140454,
          0.3304301622713779,
          0.06114795467002665,
          0.29436967282001625,
          -1.9493376412896835,
          0.7228698229932662,
          0.932098145476401,
          0,
          -0.2122511225748469,
          1.35806345332673,
          -1.145812330751883,
          -0.6137494807998967,
          1.4380203121650115,
          -0.5698203678634828,
          -0.25445046350163203,
          -0.20797027541394897,
          0.9387634399551814,
          -1.5857585174231081,
          0.5251758235328752,
          -0.20414348147694827,
          0.2045994392582018,
          0.513426409355433,
          -0.18409283778768604,
          0,
          -0.40005554457239745,
          0.40005554457239745,
          0.3440862987235116,
          -0.7012235656159493,
          0.35713726689243774,
          0.8379050539913502,
          -0.8379050539913502,
          -0.5301763851395913,
          0.5301763851395913,
          0.2922174797379551,
          -0.3209540504926611,
          0.8811928815986247,
          -0.8283046979524089,
          -0.0241516128915098,
          -0.6479446998683747,
          0.43241942920438925,
          0.3114050177475458,
          -0.0958797470835604,
          0.7729489681974178,
          1.3836875651839886,
          -2.9254901535389233,
          0.05169813810560475,
          -0.8289975639543035,
          0.8238107651035054,
          1.4523547040575568,
          -3.408802529613164,
          1.8701110238057095,
          2.464575010258785,
          -1.573618390991438,
          -0.0822775366147388,
          0.09412079118009675,
          -0.09412079118009675,
          0,
          0,
          0.30682086830278177,
          1.117481740062809,
          -1.1723224642440577,
          -0.251980144121533,
          0.48227116817054494,
          -0.39779724635780056,
          0.29100970305953044,
          -0.5930392330957601,
          -0.6451261514646034,
          1.3563489651872151,
          -0.5538364739524626,
          2.957648426542292,
          -2.449717479099678,
          -0.447761678989278,
          -0.6180457868446121,
          0.6675076137183433,
          0.037183105662852434,
          -0.12375406770414044,
          -1.9992556617147161,
          2.060607495306077,
          0.12146091915550272,
          -1.1077033635365607,
          0.8899042209976171,
          -1.3727215894587141,
          1.2556952367207996,
          0.2837768977480115,
          1.0058237772692102,
          -1.1004787973196706,
          0,
          -1.1235987249383572,
          1.1827696068925309,
          -0.05917088195417364,
          0,
          0.28483818845106423,
          -0.3512579343760702,
          0.06641974592500599,
          0,
          0,
          -5.262922483879984,
          4.537873871897635,
          1.004696968551455,
          -0.35788633550611904,
          -0.28480758014097773,
          0.08097484249554032,
          -0.7618882764936052,
          -1.0644672266511335,
          0.2606851125107168,
          5.894929526913717,
          -4.047188419697245,
          -0.4527572352042375,
          4.302840239087047,
          -4.121912961504348,
          0.2831574763812128,
          -0.011327518759673971,
          -2.3235226776957996,
          2.367797641991354,
          2.3704191917205186,
          -6.492553451911931,
          3.9258507182983404,
          -0.1186967239650949,
          0.3465640379398005,
          1.6212913709683585,
          -2.2778432125977743,
          0.580693105252228,
          -0.16408069623145005,
          0.4823124228195863,
          -2.3289919294403494,
          0.4442981992495043,
          3.5306331908545596,
          -3.1795275186767613,
          1.643620479272201
         ],
         "yaxis": "y"
        },
        {
         "customdata": [
          [
           "Anwar Ibrahim: The man who fulfilled his goal to lead Malaysia"
          ],
          [
           "Najib Razak: Malaysia's former PM and his downfall over alleged corruption"
          ],
          [
           "Malaysia Airlines plane turns back after cockpit entry bid"
          ],
          [
           "Malaysia Airlines plane threat foiled by 'heroes', witness says"
          ],
          [
           "Malaysia airline cockpit scare"
          ],
          [
           "Man accused of Malaysia Airlines threat does not appear in court"
          ],
          [
           "Malaysia gay 'prevention' competition seeks videos"
          ],
          [
           "Malaysia drops gay 'prevention' category from video competition"
          ],
          [
           "US looks to seize $540m in 'stolen' assets from Malaysia fund 1MDB"
          ],
          [
           "Baby elephant killed on Malaysia highway"
          ],
          [
           "The 'blackface' ad that got Malaysia talking"
          ],
          [
           "Chinese deities flown on business class to Malaysia"
          ],
          [
           "Shell withdraws Malaysia cardboard cutouts after 'distasteful' groping"
          ],
          [
           "Despacito censored: Malaysia bans 'unsuitable' hit from state stations"
          ],
          [
           "Malaysia MP: 'Denying husbands sex is abuse'"
          ],
          [
           "Malaysia detains hundreds in counter-terrorism raids"
          ],
          [
           "Malaysia princess Tunku Aminah weds Dutchman in lavish ceremony"
          ],
          [
           "Malaysia sites hacked after blunder over Indonesian flag"
          ],
          [
           "The online abuse hurled at Malaysia's Muslim women"
          ],
          [
           "Malaysia to name firms lacking board diversity"
          ],
          [
           "Malaysia fire: Students and teachers killed in dormitory"
          ],
          [
           "Kim Jong-nam murder: Women plead not guilty in Malaysia trial"
          ],
          [
           "MH370: Malaysia in talks with US firm to restart plane search"
          ],
          [
           "Kim Jong-nam murder: Suspects revisit Malaysia airport"
          ],
          [
           "Miss Universe Malaysia to wear nasi lemak dress"
          ],
          [
           "Fake baby milk formula scare hits Malaysia"
          ],
          [
           "Ivana Smit: Model's death in Malaysia casts a long shadow"
          ],
          [
           "Malaysia court clears 'drug mule' grandmother who faced hanging"
          ],
          [
           "Mahathir Mohamad: Ex-Malaysia PM, 92, to run for office"
          ],
          [
           "100 Women: National Union of Journalists Malaysia sorry for 'sexy outfit' advice"
          ],
          [
           "'Shaking' Malaysia Airlines flight turns back to Australia"
          ],
          [
           "Malaysia defends 'hideous' tourism logo despite criticism"
          ],
          [
           "100 Women: Maid dies in Malaysia after being left to 'sleep outside with dog'"
          ],
          [
           "Pop star Denise Ho denied Malaysia permit 'over LGBT views'"
          ],
          [
           "Malaysia wishes wrong New Year with a barking rooster"
          ],
          [
           "Nerve agent attacks: How Malaysia responded compared to the UK"
          ],
          [
           "Malaysia seeks 10 year-jail terms for 'fake news'"
          ],
          [
           "Syria man 'stranded at Malaysia airport for weeks'"
          ],
          [
           "Palestinian lecturer and Hamas member killed in Malaysia"
          ],
          [
           "Malaysia's youth have power they won't use"
          ],
          [
           "Malaysia's election: A battle of old allies"
          ],
          [
           "Malaysia elections: Could Mahathir Mohamad make a comeback?"
          ],
          [
           "Malaysia election: What does politics mean to multi-racial voters?"
          ],
          [
           "Mahathir Mohamad: The man who dominated Malaysian politics"
          ],
          [
           "Malaysia election: Opposition scores historic victory"
          ],
          [
           "Malaysia's Mahathir hopes to get back lost 1MDB funds"
          ],
          [
           "Malaysia election: Why did young voters pick a 92-year-old?"
          ],
          [
           "Malaysia's Mahathir Mohamad sworn in after shock comeback victory"
          ],
          [
           "Malaysia election: What just happened?"
          ],
          [
           "Business Matters: Opposition Claims Victory in Malaysia"
          ],
          [
           "Corruption, money and Malaysia's election"
          ],
          [
           "Former Malaysia PM Najib Razak banned from leaving country"
          ],
          [
           "The Cultural Frontline: Truth and Taboo from Malaysia to the Middle East"
          ],
          [
           "Malaysia to review not revoke fake news law, says Mahathir"
          ],
          [
           "Malaysia's freed Anwar Ibrahim hails 'new dawn' after poll win"
          ],
          [
           "Malaysia's Najib Razak has home searched by police"
          ],
          [
           "Malaysia's political drama is worthy of Shakespeare"
          ],
          [
           "Malaysia police seize cash and luxury goods in Najib-linked raids"
          ],
          [
           "Malaysia politics: $4 sandals vs luxury Birkin bags"
          ],
          [
           "Najib Razak: Scandal-hit ex-Malaysia PM condemns police raids"
          ],
          [
           "From Our Own Correspondent Podcast: Malaysiaâs Political Drama"
          ],
          [
           "From Our Own Correspondent: Malaysia's Political Drama"
          ],
          [
           "Australian woman sentenced to death in Malaysia over drugs"
          ],
          [
           "Police find $28m cash in raids linked to Malaysia ex-PM Najib"
          ],
          [
           "Australia jails man over Malaysia Airlines plane bomb threat"
          ],
          [
           "Malaysia's Anwar Ibrahim on Mahathir: 'We have to move on'"
          ],
          [
           "Malaysia mosque bans tourists after provocative dance"
          ],
          [
           "World Business Report: Malaysia 1MDB: Seized Cash and Goods 'Worth $273m'"
          ],
          [
           "Malaysia 1MDB: Seized tiaras, cash and Hermes bags 'worth $273m'"
          ],
          [
           "World Business Report: Malaysia 1MDB: Seized Cash and Goods 'Worth $273m'"
          ],
          [
           "Child marriage involving bride of 11 sparks outrage in Malaysia"
          ],
          [
           "1MDB: Malaysia's global corruption scandal"
          ],
          [
           "Malaysia 1MDB: Ex-PM Najib arrested by anti-corruption officials"
          ],
          [
           "Malaysia's ex-PM Najib charged with corruption over 1MDB"
          ],
          [
           "Missing Malaysia flight MH370: Aviation chief quits over failings"
          ],
          [
           "Malaysia ex-PM Najib charged with money laundering"
          ],
          [
           "Radioactive device goes missing in Malaysia"
          ],
          [
           "LGBT rights: Malaysia women caned for attempting to have lesbian sex"
          ],
          [
           "Laundrette cat killers arrested in Malaysia"
          ],
          [
           "Ex-Malaysia PM Najib hit with 25 charges of money laundering and abuse of power"
          ],
          [
           "Syrian Hassan al-Kontar removed from Malaysia airport after months"
          ],
          [
           "South China Sea: Battleships may lead to war - Malaysia PM"
          ],
          [
           "HARDtalk: Mahathir Mohamad, Prime Minister of Malaysia"
          ],
          [
           "Six rescue divers drown trying to save teen in Malaysia"
          ],
          [
           "Wife charged with murder of ex firefighter in Malaysia"
          ],
          [
           "From Our Own Correspondent: Italy and Malaysia"
          ],
          [
           "From Our Own Correspondent: Malaysia and Hungary"
          ],
          [
           "From Our Own Correspondent: North Korea and Malaysia"
          ],
          [
           "A bitter winter in Afghanistan: Malaysia and Macedonia"
          ],
          [
           "From Our Own Correspondent: Malaysia, the USA and Zimbabwe"
          ],
          [
           "From Our Own Correspondent: Syria and Malaysia"
          ],
          [
           "Medical cannabis: Death sentence prompts Malaysia to re-think harsh laws"
          ],
          [
           "World Have Your Say: WHYS 30: Malaysia's internet black-out day"
          ],
          [
           "From Our Own Correspondent: Malaysia and Mexico"
          ],
          [
           "From Our Own Correspondent: Honduras and Malaysia"
          ],
          [
           "Syrian man stranded in Malaysia airport arrives in Canada"
          ],
          [
           "1MDB: Malaysia charges Goldman Sachs and two bankers"
          ],
          [
           "Malaysia king: Sultan Muhammad V abdicates in historic first"
          ],
          [
           "Malaysia revises 'victim-shaming' school text book"
          ],
          [
           "Malaysia defends ban on Israeli Paralympic athletes"
          ],
          [
           "HARDtalk: Malaysia's Minister for Youth and Sport - Syed Saddiq"
          ],
          [
           "Malaysia elects new king after unprecedented abdication"
          ],
          [
           "Sultan Abdullah crowned Malaysia's new king"
          ],
          [
           "Russians detained over baby swinging street act in Malaysia"
          ],
          [
           "'Competent' oil worker crushed by machine on ship off Malaysia"
          ],
          [
           "Lowestoft oil worker's injuries on ship off Malaysia 'non-survivable'"
          ],
          [
           "Malaysia plastic pollution: 'We saved our town from your Western rubbish'"
          ],
          [
           "Kim Jong-nam murder: Malaysia rejects suspect's release plea"
          ],
          [
           "Najib 1MDB trial: Malaysia ex-PM faces court in global financial scandal"
          ],
          [
           "Newsday: Malaysia: former Prime Minister Najib Razak goes on trial"
          ],
          [
           "Business Matters: Malaysia: ex-PM faces court in global financial scandal"
          ],
          [
           "1MDB: US to return $200m in funds to Malaysia as part of probe"
          ],
          [
           "Malaysia bans 'recycled' waste"
          ],
          [
           "Malaysia orders tonnes of imported waste to be returned"
          ],
          [
           "Last male Sumatran rhino in Malaysia dies"
          ],
          [
           "Beyond Today: Why is Malaysia sending our rubbish back?"
          ],
          [
           "Plastic waste: Milton Keynes Council launches probe after Malaysia find"
          ],
          [
           "Hugh Fearnley-Whittingstall finds UK plastic waste abandoned in Malaysia"
          ],
          [
           "MH17 crash: Malaysia PM Mahathir denounces murder charges"
          ],
          [
           "Malaysia air pollution: Schools shut after illness hits children"
          ],
          [
           "Thousands of turtles seized at Malaysia airport"
          ],
          [
           "Malaysia seizes thousands of smuggled turtles at airport"
          ],
          [
           "Wolf of Wall Street producer arrested in Malaysia for money laundering"
          ],
          [
           "CÃ©sar Pelli: Architect of Malaysia's Petronas Towers dies at 92"
          ],
          [
           "London girl Nora Quoirin, 15, vanishes on Malaysia holiday"
          ],
          [
           "Nora Quoirin: Malaysia jungle search for holiday teen"
          ],
          [
           "Nora Quoirin: Family say teen missing in Malaysia was abducted"
          ],
          [
           "Missing Nora Quoirin: Malaysia police 'rule nothing out' in search"
          ],
          [
           "Goldman bosses charged in Malaysia bond scandal"
          ],
          [
           "Missing Nora Quoirin's mother Meabh thanks search teams in Malaysia"
          ],
          [
           "The mystery of screaming schoolgirls in Malaysia"
          ],
          [
           "Nora Quoirin: Body found in Malaysia is missing girl"
          ],
          [
           "Missing Nora Quoirin: Malaysia police say a body has been found nearby"
          ],
          [
           "Nora Quoirin: Family 'heartbroken' after body found in Malaysia"
          ],
          [
           "Najib Razak 1MDB: Malaysia's former PM faces biggest trial yet"
          ],
          [
           "Najib Razak : Ex-Malaysia PM's second fraud trial begins"
          ],
          [
           "Rainforest fires trigger smog alerts in Indonesia and Malaysia"
          ],
          [
           "Malaysia queen denounces arrest of online critics"
          ],
          [
           "Plastic waste: Milton Keynes Council cleared after Malaysia waste find"
          ],
          [
           "Jennifer Lopez stripper film Hustlers banned in Malaysia"
          ],
          [
           "Outlook: The rebel lawyer transforming Malaysia"
          ],
          [
           "The Outlook Podcast Archive: The rebel lawyer transforming Malaysia"
          ],
          [
           "'I woke up to thousands of messages from Malaysia'"
          ],
          [
           "HARDtalk: Minister for Islamic Affairs in Malaysia -Mujahid Yusof Rawa"
          ],
          [
           "Mujahid Yusof Rawa: Malaysia needs a new narrative of Islam"
          ],
          [
           "Malaysia's last known Sumatran rhino dies"
          ],
          [
           "Malaysia grants reprieve to Australian 'love scam' drug mule"
          ],
          [
           "Inside Malaysia's straight edge punk scene"
          ],
          [
           "Malaysia's straight edge punk scene"
          ],
          [
           "Nora Quoirin: Parents determined to find answers over Malaysia death"
          ],
          [
           "Malaysia returns 42 containers of 'illegal' plastic waste to UK"
          ],
          [
           "The Documentary: Shifting Cultures: Polygamous marriage in modern Malaysia"
          ],
          [
           "The Documentary Podcast: Polygamous marriage in modern Malaysia"
          ],
          [
           "Fireball meteor lights up night sky over Malaysia"
          ],
          [
           "Malaysia gets new PM, Muhyiddin Yassin, after week of turmoil"
          ],
          [
           "How Malaysiaâs government collapsed in two years"
          ],
          [
           "Malaysia migrant raids 'to reduce Covid-19 spread'"
          ],
          [
           "1MDB: Malaysia drops charges against Wolf of Wall Street producer"
          ],
          [
           "Malaysia detains 270 Rohingya refugees who had drifted at sea for weeks"
          ],
          [
           "Goldman Sachs settles 1MDB scandal with Malaysia for $3.9bn"
          ],
          [
           "Malaysia arrests Bangladeshi migrant who criticised government on TV"
          ],
          [
           "Najib Razak: Malaysian ex-PM gets 12-year jail term in 1MDB corruption trial"
          ],
          [
           "Newsday: Najib Razak â former Malaysia PM â handed guilty verdict"
          ],
          [
           "Newsday: Guilty verdict for former Malaysian prime minister"
          ],
          [
           "Newsday: Former Malaysian PM guilty of abuse of power"
          ],
          [
           "Samantha Jones avoids death for husband's Malaysia murder"
          ],
          [
           "NÃ³ra Quoirin: Malaysia opens inquest into death of London teenager"
          ],
          [
           "NÃ³ra Quoirin: Site of Malaysian body find 'searched several times'"
          ],
          [
           "NÃ³ra Quoirin: Window in Malaysian resort was broken, inquest hears"
          ],
          [
           "Go Jetters: Series 3: Funky Fireflies, Selangor River, Malaysia"
          ],
          [
           "Malaysian man 'finds' monkey selfies on lost phone"
          ],
          [
           "Chinese and Malaysian hackers charged by US over attacks"
          ],
          [
           "Cooking with Paula McIntyre: Malaysian Chicken Curry with Tomato Rice"
          ],
          [
           "Philips sells Suffolk factory to Malaysia's Guan Chong Berhad"
          ],
          [
           "US bans Malaysian palm oil producer over forced labour"
          ],
          [
           "Gareth Huntley: Backpacker's Malaysia death 'mysterious'"
          ],
          [
           "Covid-19: Couple holds 10,000 people drive-thru wedding in Malaysia"
          ],
          [
           "NÃ³ra Quoirin: 'Misadventure' verdict for girl found in Malaysian jungle"
          ],
          [
           "NÃ³ra Quoirin death: The schoolgirl who vanished into a Malaysian jungle"
          ],
          [
           "Malaysia declares Covid state of emergency amid political challenges"
          ],
          [
           "Scoff the Ball: A Taste of Malaysia in Scotland"
          ],
          [
           "Malaysiakini: The upstart that changed Malaysia's media landscape"
          ],
          [
           "Malaysia deports Myanmar nationals despite court order"
          ],
          [
           "Malaysia High Court rules Christians can use 'Allah'"
          ],
          [
           "South China Sea dispute: Malaysia accuses China of breaching airspace"
          ],
          [
           "Malaysia deports French conspiracy theorist wanted for abduction"
          ],
          [
           "Malaysian casino giant Genting makes $4.3bn bet on Las Vegas"
          ],
          [
           "Malaysians in Covid lockdown fly white flags to ask for help"
          ],
          [
           "Bitcoin mining machines steamrolled by Malaysia police"
          ],
          [
           "Anger as Covid-ravaged Malaysia lifts pandemic measures"
          ],
          [
           "Malaysian singer dies of Covid days after giving birth"
          ],
          [
           "British and Malaysian men jailed in Somalia for terror offences"
          ],
          [
           "'I had to run away', says Malaysian transgender woman"
          ],
          [
           "Malaysian transgender woman Nur Sajat: 'I had to run away'"
          ],
          [
           "MH370: Could missing Malaysian Airlines plane finally be found?"
          ],
          [
           "Malaysia: Death toll rises after massive floods"
          ],
          [
           "Malaysia hit by the worst floods in decades"
          ],
          [
           "Malaysia hit by the worst floods in decades"
          ],
          [
           "British man and son missing after Malaysia diving trip"
          ],
          [
           "World Business Report: 1MDB: Ex-Goldman Malaysia boss convicted"
          ],
          [
           "1MDB scandal: Ex-Goldman Malaysia boss found guilty"
          ],
          [
           "Malaysia: Boy, 14, believed dead after diving trip"
          ],
          [
           "World Business Report: 1MDB: Ex-Goldman Malaysia boss convicted"
          ],
          [
           "Chinese rocket debris falls back to Earth over Malaysia"
          ],
          [
           "Najib Razak: Malaysia's ex-PM starts jail term after final appeal fails"
          ],
          [
           "Najib Razak: The verdict that sent Malaysia's untouchable ex-PM to prison"
          ],
          [
           "Rosmah Mansor: Wife of ex-Malaysian PM Najib gets 10 years jail for bribery"
          ],
          [
           "Fat Leonard: Malaysian businessman linked to US Navy scandal escapes"
          ],
          [
           "Queen Elizabeth II: What her death means to Malaysia"
          ],
          [
           "Fat Leonard: Malaysian criminal in US Navy scandal recaptured after jail break"
          ],
          [
           "Mahathir Mohamad: Former Malaysia PM to run for office aged 97"
          ],
          [
           "Why is Malaysia deporting Myanmar asylum seekers?"
          ],
          [
           "Malaysia elects first ever hung parliament"
          ],
          [
           "Malaysia election: Why isn't there a government yet?"
          ],
          [
           "Anwar Ibrahim sworn in as Malaysian PM after post-election deadlock"
          ],
          [
           "Anwar Ibrahim: Honeymoon as Malaysian PM will be brutally short"
          ],
          [
           "Tamil Nadu: Indian man's search for father's lost grave ends in Malaysia"
          ],
          [
           "Malaysia authorities searching for survivors after deadly landslide"
          ],
          [
           "Malaysia landslide: At least 21 campers dead and more missing"
          ],
          [
           "Ex-Goldman Sachs Malaysia boss gets 10 years for 1MDB scheme"
          ],
          [
           "Muhyiddin Yassin: Ex-Malaysia PM charged with corruption over Covid spending"
          ],
          [
           "Malaysia ends mandatory death penalty for serious crimes"
          ],
          [
           "Malaysia detains Chinese ship suspected of looting British WW2 wrecks"
          ],
          [
           "Your Place or Mine with Shaun Keaveny: Craig Parkinson: Penang, Malaysia"
          ],
          [
           "MH370 joke: Malaysia asks Interpol to track down comedian"
          ],
          [
           "Jocelyn Chia: US comedian calls Malaysia's reaction to MH370 joke 'ridiculous'"
          ],
          [
           "Swatch sues Malaysia over Pride watch seizures"
          ],
          [
           "Matty Healy: Malaysia festival cancelled after The 1975 singer attacks anti-LGBT law"
          ],
          [
           "The 1975 cancels Indonesia and Taiwan shows after Malaysia LGBT row"
          ],
          [
           "Matty Healy: Malaysia LGBT community angry at 1975 'white saviour stunt'"
          ],
          [
           "Matty Healy: The 1975 threatened with legal action after Malaysia festival cancellation"
          ],
          [
           "Private jet crashes onto Malaysia highway, killing 10"
          ],
          [
           "Matty Healy defends Malaysia kiss during 1975 concert in Dallas"
          ],
          [
           "Israel-Gaza: Malaysia will maintain ties with Hamas says PM Anwar Ibrahim"
          ],
          [
           "Malaysian killer released from Australian immigration detention"
          ],
          [
           "Forest City: Inside Malaysia's Chinese-built 'ghost city'"
          ]
         ],
         "hovertemplate": "Date: %{x}<br>Exchange Rate: %{y}<br>Title: %{customdata[0]}",
         "legendgroup": "myr_sgd_diff_grad",
         "line": {
          "color": "#EF553B",
          "dash": "solid"
         },
         "marker": {
          "symbol": "circle"
         },
         "mode": "markers+lines",
         "name": "SGD",
         "orientation": "v",
         "showlegend": true,
         "type": "scatter",
         "x": [
          "2012-01-06T00:00:00",
          "2013-05-01T00:00:00",
          "2017-05-31T00:00:00",
          "2017-06-01T00:00:00",
          "2017-06-01T00:00:00",
          "2017-06-02T00:00:00",
          "2017-06-03T00:00:00",
          "2017-06-08T00:00:00",
          "2017-06-16T00:00:00",
          "2017-06-19T00:00:00",
          "2017-06-30T00:00:00",
          "2017-07-05T00:00:00",
          "2017-07-05T00:00:00",
          "2017-07-20T00:00:00",
          "2017-07-27T00:00:00",
          "2017-08-07T00:00:00",
          "2017-08-15T00:00:00",
          "2017-08-21T00:00:00",
          "2017-08-21T00:00:00",
          "2017-09-06T00:00:00",
          "2017-09-14T00:00:00",
          "2017-10-02T00:00:00",
          "2017-10-20T00:00:00",
          "2017-10-24T00:00:00",
          "2017-11-01T00:00:00",
          "2017-12-14T00:00:00",
          "2017-12-24T00:00:00",
          "2017-12-27T00:00:00",
          "2018-01-08T00:00:00",
          "2018-01-18T00:00:00",
          "2018-01-19T00:00:00",
          "2018-01-30T00:00:00",
          "2018-02-14T00:00:00",
          "2018-02-15T00:00:00",
          "2018-02-18T00:00:00",
          "2018-03-16T00:00:00",
          "2018-03-26T00:00:00",
          "2018-04-12T00:00:00",
          "2018-04-21T00:00:00",
          "2018-05-05T00:00:00",
          "2018-05-07T00:00:00",
          "2018-05-07T00:00:00",
          "2018-05-08T00:00:00",
          "2018-05-08T00:00:00",
          "2018-05-09T00:00:00",
          "2018-05-10T00:00:00",
          "2018-05-10T00:00:00",
          "2018-05-10T00:00:00",
          "2018-05-10T00:00:00",
          "2018-05-10T00:00:00",
          "2018-05-11T00:00:00",
          "2018-05-12T00:00:00",
          "2018-05-12T00:00:00",
          "2018-05-14T00:00:00",
          "2018-05-16T00:00:00",
          "2018-05-16T00:00:00",
          "2018-05-17T00:00:00",
          "2018-05-18T00:00:00",
          "2018-05-18T00:00:00",
          "2018-05-19T00:00:00",
          "2018-05-24T00:00:00",
          "2018-05-24T00:00:00",
          "2018-05-24T00:00:00",
          "2018-05-25T00:00:00",
          "2018-06-07T00:00:00",
          "2018-06-11T00:00:00",
          "2018-06-25T00:00:00",
          "2018-06-27T00:00:00",
          "2018-06-27T00:00:00",
          "2018-06-27T00:00:00",
          "2018-07-01T00:00:00",
          "2018-07-03T00:00:00",
          "2018-07-03T00:00:00",
          "2018-07-04T00:00:00",
          "2018-07-31T00:00:00",
          "2018-08-08T00:00:00",
          "2018-08-21T00:00:00",
          "2018-09-03T00:00:00",
          "2018-09-14T00:00:00",
          "2018-09-20T00:00:00",
          "2018-10-02T00:00:00",
          "2018-10-02T00:00:00",
          "2018-10-03T00:00:00",
          "2018-10-04T00:00:00",
          "2018-10-31T00:00:00",
          "2018-11-04T00:00:00",
          "2018-11-04T00:00:00",
          "2018-11-04T00:00:00",
          "2018-11-04T00:00:00",
          "2018-11-04T00:00:00",
          "2018-11-12T00:00:00",
          "2018-11-12T00:00:00",
          "2018-11-12T00:00:00",
          "2018-11-12T00:00:00",
          "2018-11-12T00:00:00",
          "2018-11-26T00:00:00",
          "2018-12-17T00:00:00",
          "2019-01-06T00:00:00",
          "2019-01-16T00:00:00",
          "2019-01-23T00:00:00",
          "2019-01-23T00:00:00",
          "2019-01-24T00:00:00",
          "2019-01-31T00:00:00",
          "2019-02-05T00:00:00",
          "2019-02-11T00:00:00",
          "2019-02-12T00:00:00",
          "2019-02-13T00:00:00",
          "2019-03-14T00:00:00",
          "2019-04-03T00:00:00",
          "2019-04-03T00:00:00",
          "2019-04-04T00:00:00",
          "2019-05-07T00:00:00",
          "2019-05-28T00:00:00",
          "2019-05-28T00:00:00",
          "2019-05-28T00:00:00",
          "2019-05-30T00:00:00",
          "2019-06-10T00:00:00",
          "2019-06-10T00:00:00",
          "2019-06-20T00:00:00",
          "2019-06-25T00:00:00",
          "2019-06-26T00:00:00",
          "2019-06-26T00:00:00",
          "2019-07-04T00:00:00",
          "2019-07-20T00:00:00",
          "2019-08-04T00:00:00",
          "2019-08-05T00:00:00",
          "2019-08-06T00:00:00",
          "2019-08-07T00:00:00",
          "2019-08-09T00:00:00",
          "2019-08-10T00:00:00",
          "2019-08-11T00:00:00",
          "2019-08-13T00:00:00",
          "2019-08-13T00:00:00",
          "2019-08-14T00:00:00",
          "2019-08-28T00:00:00",
          "2019-08-28T00:00:00",
          "2019-09-13T00:00:00",
          "2019-09-14T00:00:00",
          "2019-09-20T00:00:00",
          "2019-09-20T00:00:00",
          "2019-10-31T00:00:00",
          "2019-11-01T00:00:00",
          "2019-11-12T00:00:00",
          "2019-11-13T00:00:00",
          "2019-11-13T00:00:00",
          "2019-11-23T00:00:00",
          "2019-11-26T00:00:00",
          "2019-11-29T00:00:00",
          "2019-11-30T00:00:00",
          "2019-12-17T00:00:00",
          "2020-01-20T00:00:00",
          "2020-02-01T00:00:00",
          "2020-02-04T00:00:00",
          "2020-02-21T00:00:00",
          "2020-03-01T00:00:00",
          "2020-03-05T00:00:00",
          "2020-05-02T00:00:00",
          "2020-05-14T00:00:00",
          "2020-06-09T00:00:00",
          "2020-07-24T00:00:00",
          "2020-07-25T00:00:00",
          "2020-07-28T00:00:00",
          "2020-07-28T00:00:00",
          "2020-07-28T00:00:00",
          "2020-07-28T00:00:00",
          "2020-08-03T00:00:00",
          "2020-08-24T00:00:00",
          "2020-08-26T00:00:00",
          "2020-08-27T00:00:00",
          "2020-09-07T00:00:00",
          "2020-09-15T00:00:00",
          "2020-09-16T00:00:00",
          "2020-09-19T00:00:00",
          "2020-09-29T00:00:00",
          "2020-10-01T00:00:00",
          "2020-10-08T00:00:00",
          "2020-12-21T00:00:00",
          "2021-01-04T00:00:00",
          "2021-01-04T00:00:00",
          "2021-01-12T00:00:00",
          "2021-01-21T00:00:00",
          "2021-02-19T00:00:00",
          "2021-02-24T00:00:00",
          "2021-03-11T00:00:00",
          "2021-06-02T00:00:00",
          "2021-06-13T00:00:00",
          "2021-06-24T00:00:00",
          "2021-07-05T00:00:00",
          "2021-07-20T00:00:00",
          "2021-07-28T00:00:00",
          "2021-08-10T00:00:00",
          "2021-09-24T00:00:00",
          "2021-11-19T00:00:00",
          "2021-11-19T00:00:00",
          "2021-12-03T00:00:00",
          "2021-12-21T00:00:00",
          "2021-12-21T00:00:00",
          "2021-12-21T00:00:00",
          "2022-04-07T00:00:00",
          "2022-04-08T00:00:00",
          "2022-04-08T00:00:00",
          "2022-04-09T00:00:00",
          "2022-04-09T00:00:00",
          "2022-07-31T00:00:00",
          "2022-08-23T00:00:00",
          "2022-08-27T00:00:00",
          "2022-09-01T00:00:00",
          "2022-09-06T00:00:00",
          "2022-09-14T00:00:00",
          "2022-09-22T00:00:00",
          "2022-10-11T00:00:00",
          "2022-10-25T00:00:00",
          "2022-11-20T00:00:00",
          "2022-11-21T00:00:00",
          "2022-11-24T00:00:00",
          "2022-12-03T00:00:00",
          "2022-12-13T00:00:00",
          "2022-12-16T00:00:00",
          "2022-12-16T00:00:00",
          "2023-03-09T00:00:00",
          "2023-03-10T00:00:00",
          "2023-04-03T00:00:00",
          "2023-05-30T00:00:00",
          "2023-06-07T00:00:00",
          "2023-06-13T00:00:00",
          "2023-06-14T00:00:00",
          "2023-07-17T00:00:00",
          "2023-07-22T00:00:00",
          "2023-07-23T00:00:00",
          "2023-07-25T00:00:00",
          "2023-08-07T00:00:00",
          "2023-08-17T00:00:00",
          "2023-10-10T00:00:00",
          "2023-11-08T00:00:00",
          "2023-11-13T00:00:00",
          "2023-12-05T00:00:00"
         ],
         "xaxis": "x",
         "y": [
          null,
          null,
          -18.945165429908883,
          20.167777795985486,
          0.07837267922665703,
          0.390495475923891,
          -0.390495475923891,
          0.13196294101971429,
          -0.38167348399763545,
          0.17936338175710276,
          -0.6338959925842769,
          0.8444993770327369,
          -0.14025622322764164,
          -0.803800802485688,
          0.21788715549612148,
          0.823284143823555,
          -0.3627442479788967,
          0.3390976477933294,
          -0.21372389664842117,
          0.34608012701979884,
          0.21325240033760462,
          -0.5358571620061925,
          -0.013114868139774138,
          0.12936706949966403,
          -0.04319228590983215,
          2.3939344510669036,
          -2.573723975376796,
          -0.03638650709282265,
          0.9467105491443251,
          0.18012813350629653,
          -0.9782555341132371,
          0.12338076515021612,
          0.7752367076652167,
          -1.3837687059326753,
          0.04090418934715734,
          0.48892630686021565,
          0.4068894384884336,
          -0.5356847307026014,
          -0.09231143907278971,
          0.1860146057379608,
          0.31433318999682935,
          -0.3528627254739014,
          -0.031882784391201735,
          0.031882784391201735,
          -0.7785299745791452,
          0.021933585325539795,
          0.7565963892536054,
          0,
          0,
          0,
          1.64180077228131,
          -1.64180077228131,
          0,
          -0.2158482855578847,
          0.8260504795574497,
          -0.610202193999565,
          -0.727393089913364,
          0.8400181139100127,
          -0.11262502399664864,
          0,
          -0.18058350360178332,
          0.18058350360178332,
          0,
          -0.17488232056421804,
          -0.2685458742611391,
          0.2589131134435041,
          1.768436458072109,
          -1.9279017314083546,
          0.3439803547180986,
          0,
          -0.09116865829104093,
          0.16039476916140938,
          -0.06922611087036845,
          -0.30012084406874084,
          -0.381213973076322,
          0.43916782261511633,
          0.07208160042134759,
          -0.061338296258406366,
          -0.5520522449685372,
          0.9145345053145126,
          -0.0401489525706511,
          -0.09090961740831904,
          0.04901274433330993,
          0.5652985080150996,
          -1.3445350178168836,
          0.20042821248128506,
          0.529795552987189,
          0,
          0,
          0,
          0.18804341590656914,
          -0.18804341590656914,
          0,
          0,
          0,
          -0.6092076859070539,
          0.9111050290021683,
          -0.19341342763274927,
          0.09057553124727225,
          -0.539103469582014,
          0.34004402287237667,
          -0.19538857688230493,
          0.4836615981520076,
          0.2657655773537382,
          0.10889835571710194,
          -0.40005691736084703,
          -0.5863304410319903,
          -0.3098250297571159,
          0.788616598875469,
          -0.15534116506605855,
          0.09089841367977414,
          -0.9694553837858777,
          0.7747664267257925,
          0.10379054338031102,
          0,
          0.1992813201683763,
          -0.345870200734566,
          0.14658888056618968,
          -0.6647950975777639,
          0.8177401079412561,
          0.20374825944866615,
          -0.3566932698121583,
          -0.11292483534222075,
          0.9142978188650952,
          -0.19848197348877328,
          -0.9326805393831461,
          0.410700392991703,
          -0.7513038582291798,
          0.9843852551969623,
          -0.3139922606104406,
          0,
          -0.04409717147205727,
          0.04409717147205727,
          0.02580813174459795,
          0.06453735238334257,
          -0.09034548412794052,
          -0.14650523432199192,
          0.14650523432199192,
          -0.2973150956563142,
          0.2973150956563142,
          -1.0150190318654828,
          0.9796698977913798,
          0.8670493362645804,
          -0.653137670728321,
          -0.1785625314621564,
          -0.6501266583698984,
          0.6111090860084545,
          0.1899074685261848,
          -0.1508898961647409,
          0.015793654988449646,
          1.5431197892039394,
          -1.2245226499445039,
          -0.5064307075613894,
          0.8992339337462574,
          -1.9262866327270811,
          1.10866959850765,
          -0.6516123277604868,
          0.4957860393879021,
          -0.36181003616894136,
          0.5604773421351683,
          0.047581996193035714,
          -0.44698130061474606,
          0.44698130061474606,
          0,
          0,
          0.02948340121948778,
          1.2044048974291899,
          -1.248692433630727,
          -0.19280583712861787,
          0.6729550062343215,
          -0.4395339703319623,
          0.12598143313942156,
          -0.6560039517314209,
          0.6386415499177511,
          -0.08795959682024179,
          -0.5094132604861357,
          1.2467532847737828,
          -1.1365935748127831,
          0.35278305222793405,
          0.10210803628218912,
          -0.4648095429259147,
          0.5936552574208109,
          -0.8045467734290601,
          0.33681149982753844,
          -1.322944127652348,
          1.7652511989267317,
          0.47150298067684115,
          -0.594605518894542,
          -0.3334128695148597,
          -0.238968463116207,
          0.4115840189355735,
          0.5426699959178993,
          0.11926939006148274,
          -0.5835650825161354,
          -0.19057713448439317,
          0.09410503035252038,
          0.0964721041318728,
          0,
          -0.21544039243579505,
          0.259216351791447,
          -0.04377595935565193,
          0,
          0,
          -4.06081422514265,
          4.624302115365452,
          -0.8437390182564175,
          0.8802936816044604,
          -0.7137528242104008,
          0.07841811847175695,
          -0.10752354752773252,
          -0.6743377503930281,
          -2.1254072941699453,
          3.6210345442026504,
          -0.6828344705788747,
          -0.3535565422067011,
          2.4634795723548764,
          -2.286743634419053,
          0.634813459004091,
          -0.4536321840984847,
          -2.8404739893653552,
          2.452998788906957,
          1.7783072061651306,
          -4.254839433903013,
          2.5390244287502806,
          -0.32438373481378235,
          0.6373134975697248,
          0.17482674769474515,
          -0.050788754728392504,
          -0.11198475627629545,
          -0.10857536700120685,
          1.0708088142535988,
          -1.6943941996094392,
          -0.48199636972364734,
          2.557297807231762,
          -2.155175330145287,
          -0.40940298491690674
         ],
         "yaxis": "y"
        },
        {
         "customdata": [
          [
           "Anwar Ibrahim: The man who fulfilled his goal to lead Malaysia"
          ],
          [
           "Najib Razak: Malaysia's former PM and his downfall over alleged corruption"
          ],
          [
           "Malaysia Airlines plane turns back after cockpit entry bid"
          ],
          [
           "Malaysia Airlines plane threat foiled by 'heroes', witness says"
          ],
          [
           "Malaysia airline cockpit scare"
          ],
          [
           "Man accused of Malaysia Airlines threat does not appear in court"
          ],
          [
           "Malaysia gay 'prevention' competition seeks videos"
          ],
          [
           "Malaysia drops gay 'prevention' category from video competition"
          ],
          [
           "US looks to seize $540m in 'stolen' assets from Malaysia fund 1MDB"
          ],
          [
           "Baby elephant killed on Malaysia highway"
          ],
          [
           "The 'blackface' ad that got Malaysia talking"
          ],
          [
           "Chinese deities flown on business class to Malaysia"
          ],
          [
           "Shell withdraws Malaysia cardboard cutouts after 'distasteful' groping"
          ],
          [
           "Despacito censored: Malaysia bans 'unsuitable' hit from state stations"
          ],
          [
           "Malaysia MP: 'Denying husbands sex is abuse'"
          ],
          [
           "Malaysia detains hundreds in counter-terrorism raids"
          ],
          [
           "Malaysia princess Tunku Aminah weds Dutchman in lavish ceremony"
          ],
          [
           "Malaysia sites hacked after blunder over Indonesian flag"
          ],
          [
           "The online abuse hurled at Malaysia's Muslim women"
          ],
          [
           "Malaysia to name firms lacking board diversity"
          ],
          [
           "Malaysia fire: Students and teachers killed in dormitory"
          ],
          [
           "Kim Jong-nam murder: Women plead not guilty in Malaysia trial"
          ],
          [
           "MH370: Malaysia in talks with US firm to restart plane search"
          ],
          [
           "Kim Jong-nam murder: Suspects revisit Malaysia airport"
          ],
          [
           "Miss Universe Malaysia to wear nasi lemak dress"
          ],
          [
           "Fake baby milk formula scare hits Malaysia"
          ],
          [
           "Ivana Smit: Model's death in Malaysia casts a long shadow"
          ],
          [
           "Malaysia court clears 'drug mule' grandmother who faced hanging"
          ],
          [
           "Mahathir Mohamad: Ex-Malaysia PM, 92, to run for office"
          ],
          [
           "100 Women: National Union of Journalists Malaysia sorry for 'sexy outfit' advice"
          ],
          [
           "'Shaking' Malaysia Airlines flight turns back to Australia"
          ],
          [
           "Malaysia defends 'hideous' tourism logo despite criticism"
          ],
          [
           "100 Women: Maid dies in Malaysia after being left to 'sleep outside with dog'"
          ],
          [
           "Pop star Denise Ho denied Malaysia permit 'over LGBT views'"
          ],
          [
           "Malaysia wishes wrong New Year with a barking rooster"
          ],
          [
           "Nerve agent attacks: How Malaysia responded compared to the UK"
          ],
          [
           "Malaysia seeks 10 year-jail terms for 'fake news'"
          ],
          [
           "Syria man 'stranded at Malaysia airport for weeks'"
          ],
          [
           "Palestinian lecturer and Hamas member killed in Malaysia"
          ],
          [
           "Malaysia's youth have power they won't use"
          ],
          [
           "Malaysia's election: A battle of old allies"
          ],
          [
           "Malaysia elections: Could Mahathir Mohamad make a comeback?"
          ],
          [
           "Malaysia election: What does politics mean to multi-racial voters?"
          ],
          [
           "Mahathir Mohamad: The man who dominated Malaysian politics"
          ],
          [
           "Malaysia election: Opposition scores historic victory"
          ],
          [
           "Malaysia's Mahathir hopes to get back lost 1MDB funds"
          ],
          [
           "Malaysia election: Why did young voters pick a 92-year-old?"
          ],
          [
           "Malaysia's Mahathir Mohamad sworn in after shock comeback victory"
          ],
          [
           "Malaysia election: What just happened?"
          ],
          [
           "Business Matters: Opposition Claims Victory in Malaysia"
          ],
          [
           "Corruption, money and Malaysia's election"
          ],
          [
           "Former Malaysia PM Najib Razak banned from leaving country"
          ],
          [
           "The Cultural Frontline: Truth and Taboo from Malaysia to the Middle East"
          ],
          [
           "Malaysia to review not revoke fake news law, says Mahathir"
          ],
          [
           "Malaysia's freed Anwar Ibrahim hails 'new dawn' after poll win"
          ],
          [
           "Malaysia's Najib Razak has home searched by police"
          ],
          [
           "Malaysia's political drama is worthy of Shakespeare"
          ],
          [
           "Malaysia police seize cash and luxury goods in Najib-linked raids"
          ],
          [
           "Malaysia politics: $4 sandals vs luxury Birkin bags"
          ],
          [
           "Najib Razak: Scandal-hit ex-Malaysia PM condemns police raids"
          ],
          [
           "From Our Own Correspondent Podcast: Malaysiaâs Political Drama"
          ],
          [
           "From Our Own Correspondent: Malaysia's Political Drama"
          ],
          [
           "Australian woman sentenced to death in Malaysia over drugs"
          ],
          [
           "Police find $28m cash in raids linked to Malaysia ex-PM Najib"
          ],
          [
           "Australia jails man over Malaysia Airlines plane bomb threat"
          ],
          [
           "Malaysia's Anwar Ibrahim on Mahathir: 'We have to move on'"
          ],
          [
           "Malaysia mosque bans tourists after provocative dance"
          ],
          [
           "World Business Report: Malaysia 1MDB: Seized Cash and Goods 'Worth $273m'"
          ],
          [
           "Malaysia 1MDB: Seized tiaras, cash and Hermes bags 'worth $273m'"
          ],
          [
           "World Business Report: Malaysia 1MDB: Seized Cash and Goods 'Worth $273m'"
          ],
          [
           "Child marriage involving bride of 11 sparks outrage in Malaysia"
          ],
          [
           "1MDB: Malaysia's global corruption scandal"
          ],
          [
           "Malaysia 1MDB: Ex-PM Najib arrested by anti-corruption officials"
          ],
          [
           "Malaysia's ex-PM Najib charged with corruption over 1MDB"
          ],
          [
           "Missing Malaysia flight MH370: Aviation chief quits over failings"
          ],
          [
           "Malaysia ex-PM Najib charged with money laundering"
          ],
          [
           "Radioactive device goes missing in Malaysia"
          ],
          [
           "LGBT rights: Malaysia women caned for attempting to have lesbian sex"
          ],
          [
           "Laundrette cat killers arrested in Malaysia"
          ],
          [
           "Ex-Malaysia PM Najib hit with 25 charges of money laundering and abuse of power"
          ],
          [
           "Syrian Hassan al-Kontar removed from Malaysia airport after months"
          ],
          [
           "South China Sea: Battleships may lead to war - Malaysia PM"
          ],
          [
           "HARDtalk: Mahathir Mohamad, Prime Minister of Malaysia"
          ],
          [
           "Six rescue divers drown trying to save teen in Malaysia"
          ],
          [
           "Wife charged with murder of ex firefighter in Malaysia"
          ],
          [
           "From Our Own Correspondent: Italy and Malaysia"
          ],
          [
           "From Our Own Correspondent: Malaysia and Hungary"
          ],
          [
           "From Our Own Correspondent: North Korea and Malaysia"
          ],
          [
           "A bitter winter in Afghanistan: Malaysia and Macedonia"
          ],
          [
           "From Our Own Correspondent: Malaysia, the USA and Zimbabwe"
          ],
          [
           "From Our Own Correspondent: Syria and Malaysia"
          ],
          [
           "Medical cannabis: Death sentence prompts Malaysia to re-think harsh laws"
          ],
          [
           "World Have Your Say: WHYS 30: Malaysia's internet black-out day"
          ],
          [
           "From Our Own Correspondent: Malaysia and Mexico"
          ],
          [
           "From Our Own Correspondent: Honduras and Malaysia"
          ],
          [
           "Syrian man stranded in Malaysia airport arrives in Canada"
          ],
          [
           "1MDB: Malaysia charges Goldman Sachs and two bankers"
          ],
          [
           "Malaysia king: Sultan Muhammad V abdicates in historic first"
          ],
          [
           "Malaysia revises 'victim-shaming' school text book"
          ],
          [
           "Malaysia defends ban on Israeli Paralympic athletes"
          ],
          [
           "HARDtalk: Malaysia's Minister for Youth and Sport - Syed Saddiq"
          ],
          [
           "Malaysia elects new king after unprecedented abdication"
          ],
          [
           "Sultan Abdullah crowned Malaysia's new king"
          ],
          [
           "Russians detained over baby swinging street act in Malaysia"
          ],
          [
           "'Competent' oil worker crushed by machine on ship off Malaysia"
          ],
          [
           "Lowestoft oil worker's injuries on ship off Malaysia 'non-survivable'"
          ],
          [
           "Malaysia plastic pollution: 'We saved our town from your Western rubbish'"
          ],
          [
           "Kim Jong-nam murder: Malaysia rejects suspect's release plea"
          ],
          [
           "Najib 1MDB trial: Malaysia ex-PM faces court in global financial scandal"
          ],
          [
           "Newsday: Malaysia: former Prime Minister Najib Razak goes on trial"
          ],
          [
           "Business Matters: Malaysia: ex-PM faces court in global financial scandal"
          ],
          [
           "1MDB: US to return $200m in funds to Malaysia as part of probe"
          ],
          [
           "Malaysia bans 'recycled' waste"
          ],
          [
           "Malaysia orders tonnes of imported waste to be returned"
          ],
          [
           "Last male Sumatran rhino in Malaysia dies"
          ],
          [
           "Beyond Today: Why is Malaysia sending our rubbish back?"
          ],
          [
           "Plastic waste: Milton Keynes Council launches probe after Malaysia find"
          ],
          [
           "Hugh Fearnley-Whittingstall finds UK plastic waste abandoned in Malaysia"
          ],
          [
           "MH17 crash: Malaysia PM Mahathir denounces murder charges"
          ],
          [
           "Malaysia air pollution: Schools shut after illness hits children"
          ],
          [
           "Thousands of turtles seized at Malaysia airport"
          ],
          [
           "Malaysia seizes thousands of smuggled turtles at airport"
          ],
          [
           "Wolf of Wall Street producer arrested in Malaysia for money laundering"
          ],
          [
           "CÃ©sar Pelli: Architect of Malaysia's Petronas Towers dies at 92"
          ],
          [
           "London girl Nora Quoirin, 15, vanishes on Malaysia holiday"
          ],
          [
           "Nora Quoirin: Malaysia jungle search for holiday teen"
          ],
          [
           "Nora Quoirin: Family say teen missing in Malaysia was abducted"
          ],
          [
           "Missing Nora Quoirin: Malaysia police 'rule nothing out' in search"
          ],
          [
           "Goldman bosses charged in Malaysia bond scandal"
          ],
          [
           "Missing Nora Quoirin's mother Meabh thanks search teams in Malaysia"
          ],
          [
           "The mystery of screaming schoolgirls in Malaysia"
          ],
          [
           "Nora Quoirin: Body found in Malaysia is missing girl"
          ],
          [
           "Missing Nora Quoirin: Malaysia police say a body has been found nearby"
          ],
          [
           "Nora Quoirin: Family 'heartbroken' after body found in Malaysia"
          ],
          [
           "Najib Razak 1MDB: Malaysia's former PM faces biggest trial yet"
          ],
          [
           "Najib Razak : Ex-Malaysia PM's second fraud trial begins"
          ],
          [
           "Rainforest fires trigger smog alerts in Indonesia and Malaysia"
          ],
          [
           "Malaysia queen denounces arrest of online critics"
          ],
          [
           "Plastic waste: Milton Keynes Council cleared after Malaysia waste find"
          ],
          [
           "Jennifer Lopez stripper film Hustlers banned in Malaysia"
          ],
          [
           "Outlook: The rebel lawyer transforming Malaysia"
          ],
          [
           "The Outlook Podcast Archive: The rebel lawyer transforming Malaysia"
          ],
          [
           "'I woke up to thousands of messages from Malaysia'"
          ],
          [
           "HARDtalk: Minister for Islamic Affairs in Malaysia -Mujahid Yusof Rawa"
          ],
          [
           "Mujahid Yusof Rawa: Malaysia needs a new narrative of Islam"
          ],
          [
           "Malaysia's last known Sumatran rhino dies"
          ],
          [
           "Malaysia grants reprieve to Australian 'love scam' drug mule"
          ],
          [
           "Inside Malaysia's straight edge punk scene"
          ],
          [
           "Malaysia's straight edge punk scene"
          ],
          [
           "Nora Quoirin: Parents determined to find answers over Malaysia death"
          ],
          [
           "Malaysia returns 42 containers of 'illegal' plastic waste to UK"
          ],
          [
           "The Documentary: Shifting Cultures: Polygamous marriage in modern Malaysia"
          ],
          [
           "The Documentary Podcast: Polygamous marriage in modern Malaysia"
          ],
          [
           "Fireball meteor lights up night sky over Malaysia"
          ],
          [
           "Malaysia gets new PM, Muhyiddin Yassin, after week of turmoil"
          ],
          [
           "How Malaysiaâs government collapsed in two years"
          ],
          [
           "Malaysia migrant raids 'to reduce Covid-19 spread'"
          ],
          [
           "1MDB: Malaysia drops charges against Wolf of Wall Street producer"
          ],
          [
           "Malaysia detains 270 Rohingya refugees who had drifted at sea for weeks"
          ],
          [
           "Goldman Sachs settles 1MDB scandal with Malaysia for $3.9bn"
          ],
          [
           "Malaysia arrests Bangladeshi migrant who criticised government on TV"
          ],
          [
           "Najib Razak: Malaysian ex-PM gets 12-year jail term in 1MDB corruption trial"
          ],
          [
           "Newsday: Najib Razak â former Malaysia PM â handed guilty verdict"
          ],
          [
           "Newsday: Guilty verdict for former Malaysian prime minister"
          ],
          [
           "Newsday: Former Malaysian PM guilty of abuse of power"
          ],
          [
           "Samantha Jones avoids death for husband's Malaysia murder"
          ],
          [
           "NÃ³ra Quoirin: Malaysia opens inquest into death of London teenager"
          ],
          [
           "NÃ³ra Quoirin: Site of Malaysian body find 'searched several times'"
          ],
          [
           "NÃ³ra Quoirin: Window in Malaysian resort was broken, inquest hears"
          ],
          [
           "Go Jetters: Series 3: Funky Fireflies, Selangor River, Malaysia"
          ],
          [
           "Malaysian man 'finds' monkey selfies on lost phone"
          ],
          [
           "Chinese and Malaysian hackers charged by US over attacks"
          ],
          [
           "Cooking with Paula McIntyre: Malaysian Chicken Curry with Tomato Rice"
          ],
          [
           "Philips sells Suffolk factory to Malaysia's Guan Chong Berhad"
          ],
          [
           "US bans Malaysian palm oil producer over forced labour"
          ],
          [
           "Gareth Huntley: Backpacker's Malaysia death 'mysterious'"
          ],
          [
           "Covid-19: Couple holds 10,000 people drive-thru wedding in Malaysia"
          ],
          [
           "NÃ³ra Quoirin: 'Misadventure' verdict for girl found in Malaysian jungle"
          ],
          [
           "NÃ³ra Quoirin death: The schoolgirl who vanished into a Malaysian jungle"
          ],
          [
           "Malaysia declares Covid state of emergency amid political challenges"
          ],
          [
           "Scoff the Ball: A Taste of Malaysia in Scotland"
          ],
          [
           "Malaysiakini: The upstart that changed Malaysia's media landscape"
          ],
          [
           "Malaysia deports Myanmar nationals despite court order"
          ],
          [
           "Malaysia High Court rules Christians can use 'Allah'"
          ],
          [
           "South China Sea dispute: Malaysia accuses China of breaching airspace"
          ],
          [
           "Malaysia deports French conspiracy theorist wanted for abduction"
          ],
          [
           "Malaysian casino giant Genting makes $4.3bn bet on Las Vegas"
          ],
          [
           "Malaysians in Covid lockdown fly white flags to ask for help"
          ],
          [
           "Bitcoin mining machines steamrolled by Malaysia police"
          ],
          [
           "Anger as Covid-ravaged Malaysia lifts pandemic measures"
          ],
          [
           "Malaysian singer dies of Covid days after giving birth"
          ],
          [
           "British and Malaysian men jailed in Somalia for terror offences"
          ],
          [
           "'I had to run away', says Malaysian transgender woman"
          ],
          [
           "Malaysian transgender woman Nur Sajat: 'I had to run away'"
          ],
          [
           "MH370: Could missing Malaysian Airlines plane finally be found?"
          ],
          [
           "Malaysia: Death toll rises after massive floods"
          ],
          [
           "Malaysia hit by the worst floods in decades"
          ],
          [
           "Malaysia hit by the worst floods in decades"
          ],
          [
           "British man and son missing after Malaysia diving trip"
          ],
          [
           "World Business Report: 1MDB: Ex-Goldman Malaysia boss convicted"
          ],
          [
           "1MDB scandal: Ex-Goldman Malaysia boss found guilty"
          ],
          [
           "Malaysia: Boy, 14, believed dead after diving trip"
          ],
          [
           "World Business Report: 1MDB: Ex-Goldman Malaysia boss convicted"
          ],
          [
           "Chinese rocket debris falls back to Earth over Malaysia"
          ],
          [
           "Najib Razak: Malaysia's ex-PM starts jail term after final appeal fails"
          ],
          [
           "Najib Razak: The verdict that sent Malaysia's untouchable ex-PM to prison"
          ],
          [
           "Rosmah Mansor: Wife of ex-Malaysian PM Najib gets 10 years jail for bribery"
          ],
          [
           "Fat Leonard: Malaysian businessman linked to US Navy scandal escapes"
          ],
          [
           "Queen Elizabeth II: What her death means to Malaysia"
          ],
          [
           "Fat Leonard: Malaysian criminal in US Navy scandal recaptured after jail break"
          ],
          [
           "Mahathir Mohamad: Former Malaysia PM to run for office aged 97"
          ],
          [
           "Why is Malaysia deporting Myanmar asylum seekers?"
          ],
          [
           "Malaysia elects first ever hung parliament"
          ],
          [
           "Malaysia election: Why isn't there a government yet?"
          ],
          [
           "Anwar Ibrahim sworn in as Malaysian PM after post-election deadlock"
          ],
          [
           "Anwar Ibrahim: Honeymoon as Malaysian PM will be brutally short"
          ],
          [
           "Tamil Nadu: Indian man's search for father's lost grave ends in Malaysia"
          ],
          [
           "Malaysia authorities searching for survivors after deadly landslide"
          ],
          [
           "Malaysia landslide: At least 21 campers dead and more missing"
          ],
          [
           "Ex-Goldman Sachs Malaysia boss gets 10 years for 1MDB scheme"
          ],
          [
           "Muhyiddin Yassin: Ex-Malaysia PM charged with corruption over Covid spending"
          ],
          [
           "Malaysia ends mandatory death penalty for serious crimes"
          ],
          [
           "Malaysia detains Chinese ship suspected of looting British WW2 wrecks"
          ],
          [
           "Your Place or Mine with Shaun Keaveny: Craig Parkinson: Penang, Malaysia"
          ],
          [
           "MH370 joke: Malaysia asks Interpol to track down comedian"
          ],
          [
           "Jocelyn Chia: US comedian calls Malaysia's reaction to MH370 joke 'ridiculous'"
          ],
          [
           "Swatch sues Malaysia over Pride watch seizures"
          ],
          [
           "Matty Healy: Malaysia festival cancelled after The 1975 singer attacks anti-LGBT law"
          ],
          [
           "The 1975 cancels Indonesia and Taiwan shows after Malaysia LGBT row"
          ],
          [
           "Matty Healy: Malaysia LGBT community angry at 1975 'white saviour stunt'"
          ],
          [
           "Matty Healy: The 1975 threatened with legal action after Malaysia festival cancellation"
          ],
          [
           "Private jet crashes onto Malaysia highway, killing 10"
          ],
          [
           "Matty Healy defends Malaysia kiss during 1975 concert in Dallas"
          ],
          [
           "Israel-Gaza: Malaysia will maintain ties with Hamas says PM Anwar Ibrahim"
          ],
          [
           "Malaysian killer released from Australian immigration detention"
          ],
          [
           "Forest City: Inside Malaysia's Chinese-built 'ghost city'"
          ]
         ],
         "hovertemplate": "Date: %{x}<br>Exchange Rate: %{y}<br>Title: %{customdata[0]}",
         "legendgroup": "myr_eur_diff_grad",
         "line": {
          "color": "#00cc96",
          "dash": "solid"
         },
         "marker": {
          "symbol": "circle"
         },
         "mode": "markers+lines",
         "name": "EUR",
         "orientation": "v",
         "showlegend": true,
         "type": "scatter",
         "x": [
          "2012-01-06T00:00:00",
          "2013-05-01T00:00:00",
          "2017-05-31T00:00:00",
          "2017-06-01T00:00:00",
          "2017-06-01T00:00:00",
          "2017-06-02T00:00:00",
          "2017-06-03T00:00:00",
          "2017-06-08T00:00:00",
          "2017-06-16T00:00:00",
          "2017-06-19T00:00:00",
          "2017-06-30T00:00:00",
          "2017-07-05T00:00:00",
          "2017-07-05T00:00:00",
          "2017-07-20T00:00:00",
          "2017-07-27T00:00:00",
          "2017-08-07T00:00:00",
          "2017-08-15T00:00:00",
          "2017-08-21T00:00:00",
          "2017-08-21T00:00:00",
          "2017-09-06T00:00:00",
          "2017-09-14T00:00:00",
          "2017-10-02T00:00:00",
          "2017-10-20T00:00:00",
          "2017-10-24T00:00:00",
          "2017-11-01T00:00:00",
          "2017-12-14T00:00:00",
          "2017-12-24T00:00:00",
          "2017-12-27T00:00:00",
          "2018-01-08T00:00:00",
          "2018-01-18T00:00:00",
          "2018-01-19T00:00:00",
          "2018-01-30T00:00:00",
          "2018-02-14T00:00:00",
          "2018-02-15T00:00:00",
          "2018-02-18T00:00:00",
          "2018-03-16T00:00:00",
          "2018-03-26T00:00:00",
          "2018-04-12T00:00:00",
          "2018-04-21T00:00:00",
          "2018-05-05T00:00:00",
          "2018-05-07T00:00:00",
          "2018-05-07T00:00:00",
          "2018-05-08T00:00:00",
          "2018-05-08T00:00:00",
          "2018-05-09T00:00:00",
          "2018-05-10T00:00:00",
          "2018-05-10T00:00:00",
          "2018-05-10T00:00:00",
          "2018-05-10T00:00:00",
          "2018-05-10T00:00:00",
          "2018-05-11T00:00:00",
          "2018-05-12T00:00:00",
          "2018-05-12T00:00:00",
          "2018-05-14T00:00:00",
          "2018-05-16T00:00:00",
          "2018-05-16T00:00:00",
          "2018-05-17T00:00:00",
          "2018-05-18T00:00:00",
          "2018-05-18T00:00:00",
          "2018-05-19T00:00:00",
          "2018-05-24T00:00:00",
          "2018-05-24T00:00:00",
          "2018-05-24T00:00:00",
          "2018-05-25T00:00:00",
          "2018-06-07T00:00:00",
          "2018-06-11T00:00:00",
          "2018-06-25T00:00:00",
          "2018-06-27T00:00:00",
          "2018-06-27T00:00:00",
          "2018-06-27T00:00:00",
          "2018-07-01T00:00:00",
          "2018-07-03T00:00:00",
          "2018-07-03T00:00:00",
          "2018-07-04T00:00:00",
          "2018-07-31T00:00:00",
          "2018-08-08T00:00:00",
          "2018-08-21T00:00:00",
          "2018-09-03T00:00:00",
          "2018-09-14T00:00:00",
          "2018-09-20T00:00:00",
          "2018-10-02T00:00:00",
          "2018-10-02T00:00:00",
          "2018-10-03T00:00:00",
          "2018-10-04T00:00:00",
          "2018-10-31T00:00:00",
          "2018-11-04T00:00:00",
          "2018-11-04T00:00:00",
          "2018-11-04T00:00:00",
          "2018-11-04T00:00:00",
          "2018-11-04T00:00:00",
          "2018-11-12T00:00:00",
          "2018-11-12T00:00:00",
          "2018-11-12T00:00:00",
          "2018-11-12T00:00:00",
          "2018-11-12T00:00:00",
          "2018-11-26T00:00:00",
          "2018-12-17T00:00:00",
          "2019-01-06T00:00:00",
          "2019-01-16T00:00:00",
          "2019-01-23T00:00:00",
          "2019-01-23T00:00:00",
          "2019-01-24T00:00:00",
          "2019-01-31T00:00:00",
          "2019-02-05T00:00:00",
          "2019-02-11T00:00:00",
          "2019-02-12T00:00:00",
          "2019-02-13T00:00:00",
          "2019-03-14T00:00:00",
          "2019-04-03T00:00:00",
          "2019-04-03T00:00:00",
          "2019-04-04T00:00:00",
          "2019-05-07T00:00:00",
          "2019-05-28T00:00:00",
          "2019-05-28T00:00:00",
          "2019-05-28T00:00:00",
          "2019-05-30T00:00:00",
          "2019-06-10T00:00:00",
          "2019-06-10T00:00:00",
          "2019-06-20T00:00:00",
          "2019-06-25T00:00:00",
          "2019-06-26T00:00:00",
          "2019-06-26T00:00:00",
          "2019-07-04T00:00:00",
          "2019-07-20T00:00:00",
          "2019-08-04T00:00:00",
          "2019-08-05T00:00:00",
          "2019-08-06T00:00:00",
          "2019-08-07T00:00:00",
          "2019-08-09T00:00:00",
          "2019-08-10T00:00:00",
          "2019-08-11T00:00:00",
          "2019-08-13T00:00:00",
          "2019-08-13T00:00:00",
          "2019-08-14T00:00:00",
          "2019-08-28T00:00:00",
          "2019-08-28T00:00:00",
          "2019-09-13T00:00:00",
          "2019-09-14T00:00:00",
          "2019-09-20T00:00:00",
          "2019-09-20T00:00:00",
          "2019-10-31T00:00:00",
          "2019-11-01T00:00:00",
          "2019-11-12T00:00:00",
          "2019-11-13T00:00:00",
          "2019-11-13T00:00:00",
          "2019-11-23T00:00:00",
          "2019-11-26T00:00:00",
          "2019-11-29T00:00:00",
          "2019-11-30T00:00:00",
          "2019-12-17T00:00:00",
          "2020-01-20T00:00:00",
          "2020-02-01T00:00:00",
          "2020-02-04T00:00:00",
          "2020-02-21T00:00:00",
          "2020-03-01T00:00:00",
          "2020-03-05T00:00:00",
          "2020-05-02T00:00:00",
          "2020-05-14T00:00:00",
          "2020-06-09T00:00:00",
          "2020-07-24T00:00:00",
          "2020-07-25T00:00:00",
          "2020-07-28T00:00:00",
          "2020-07-28T00:00:00",
          "2020-07-28T00:00:00",
          "2020-07-28T00:00:00",
          "2020-08-03T00:00:00",
          "2020-08-24T00:00:00",
          "2020-08-26T00:00:00",
          "2020-08-27T00:00:00",
          "2020-09-07T00:00:00",
          "2020-09-15T00:00:00",
          "2020-09-16T00:00:00",
          "2020-09-19T00:00:00",
          "2020-09-29T00:00:00",
          "2020-10-01T00:00:00",
          "2020-10-08T00:00:00",
          "2020-12-21T00:00:00",
          "2021-01-04T00:00:00",
          "2021-01-04T00:00:00",
          "2021-01-12T00:00:00",
          "2021-01-21T00:00:00",
          "2021-02-19T00:00:00",
          "2021-02-24T00:00:00",
          "2021-03-11T00:00:00",
          "2021-06-02T00:00:00",
          "2021-06-13T00:00:00",
          "2021-06-24T00:00:00",
          "2021-07-05T00:00:00",
          "2021-07-20T00:00:00",
          "2021-07-28T00:00:00",
          "2021-08-10T00:00:00",
          "2021-09-24T00:00:00",
          "2021-11-19T00:00:00",
          "2021-11-19T00:00:00",
          "2021-12-03T00:00:00",
          "2021-12-21T00:00:00",
          "2021-12-21T00:00:00",
          "2021-12-21T00:00:00",
          "2022-04-07T00:00:00",
          "2022-04-08T00:00:00",
          "2022-04-08T00:00:00",
          "2022-04-09T00:00:00",
          "2022-04-09T00:00:00",
          "2022-07-31T00:00:00",
          "2022-08-23T00:00:00",
          "2022-08-27T00:00:00",
          "2022-09-01T00:00:00",
          "2022-09-06T00:00:00",
          "2022-09-14T00:00:00",
          "2022-09-22T00:00:00",
          "2022-10-11T00:00:00",
          "2022-10-25T00:00:00",
          "2022-11-20T00:00:00",
          "2022-11-21T00:00:00",
          "2022-11-24T00:00:00",
          "2022-12-03T00:00:00",
          "2022-12-13T00:00:00",
          "2022-12-16T00:00:00",
          "2022-12-16T00:00:00",
          "2023-03-09T00:00:00",
          "2023-03-10T00:00:00",
          "2023-04-03T00:00:00",
          "2023-05-30T00:00:00",
          "2023-06-07T00:00:00",
          "2023-06-13T00:00:00",
          "2023-06-14T00:00:00",
          "2023-07-17T00:00:00",
          "2023-07-22T00:00:00",
          "2023-07-23T00:00:00",
          "2023-07-25T00:00:00",
          "2023-08-07T00:00:00",
          "2023-08-17T00:00:00",
          "2023-10-10T00:00:00",
          "2023-11-08T00:00:00",
          "2023-11-13T00:00:00",
          "2023-12-05T00:00:00"
         ],
         "xaxis": "x",
         "y": [
          null,
          null,
          -17.05315294492943,
          15.887756701191137,
          0.5741017218473421,
          0.4348448595817178,
          -0.4348448595817178,
          0.05942531792626493,
          0.5811482089307818,
          -1.2111437863260854,
          -1.834592376873001,
          3.028748509763546,
          -0.6235858734215061,
          -1.3219277020940612,
          -0.0577578556752778,
          0.8469087555914023,
          0.22901245403615933,
          0.6802056344289986,
          -0.3764412862872213,
          -0.27838931122698973,
          1.3231248359183212,
          -0.9822682742508526,
          -0.2054464968848979,
          0.6964583165534943,
          0.41617185480342656,
          1.0200049538449552,
          -2.0238159651700394,
          -0.044125329109945266,
          0.6704102562787417,
          -0.7144991559200675,
          0.07932379896785635,
          -0.17363508009528017,
          0.38690899059193873,
          -0.8336565249351335,
          0.35501265783522973,
          1.4975865447799164,
          -1.1269960091686348,
          0.2572981242546568,
          -0.5074682712535195,
          1.7359417627387908,
          -1.15953026143083,
          -0.38841141712113725,
          0.08916348090934889,
          -0.08916348090934889,
          -0.6300026057391217,
          -0.5581238659710608,
          1.1881264717101825,
          0,
          0,
          0,
          1.8146816340813388,
          -1.8146816340813388,
          0,
          -0.2618057569300891,
          1.2033632340653133,
          -0.9415574771352242,
          -0.2570361660164,
          0.3278072039768265,
          -0.0707710379604265,
          0,
          0.561914838769173,
          -0.561914838769173,
          0,
          -0.1316781518282628,
          -0.22631232455024852,
          -0.030509008730972287,
          1.2119865902571414,
          -1.3503539890207805,
          0.5268668838731227,
          0,
          0.2437473395315859,
          -0.8621584350047784,
          0.6184110954731925,
          -0.18377863004350736,
          -0.6206828723914648,
          1.2588959594142302,
          -0.0452689662323813,
          -1.7930593644328474,
          -0.0747879244145544,
          1.8434533732400893,
          0.3486781704494568,
          -0.733449745589021,
          0.18711956491082038,
          0.4872011933950482,
          -0.5380135995193047,
          -0.552166264876286,
          0.4158591060897221,
          0,
          0,
          0,
          0.7055027966493821,
          -0.7055027966493821,
          0,
          0,
          0,
          -0.4804994852588118,
          0.9740484634430002,
          -0.22197668300629747,
          0.4026212085947112,
          -0.9266928465394786,
          0.25249934276687647,
          -0.26077889825840694,
          0.5229127124683042,
          0.2731024030766749,
          0.9134910087802872,
          -1.1465180123316987,
          -0.792848340089447,
          0.13066959418303048,
          1.4335015184967714,
          -1.0735319863255155,
          -0.08992955626208055,
          -1.1690640593813306,
          0.39792289735255393,
          0.8610707182908572,
          0,
          0.29375409138425734,
          -0.7813632293969364,
          0.487609138012679,
          0.10854596422815721,
          -0.7153934656373373,
          1.128739066537432,
          -0.5218915651282519,
          0.5170636507772386,
          0.45023068407583633,
          -0.18766585790852552,
          -1.3711210295168863,
          -1.1434402385555376,
          1.7328401036326602,
          0.36358198086358096,
          -0.36148929336836666,
          0,
          -0.6763911304880965,
          0.6763911304880965,
          0.7144383386768371,
          -0.28974885022188257,
          -0.4246894884549546,
          1.127543901453154,
          -1.127543901453154,
          -0.4421777030884866,
          0.4421777030884866,
          -0.6607299707654946,
          0.6085771342613788,
          2.0163284573222806,
          -1.730297783911583,
          -0.23387783690658193,
          -1.128255290748692,
          1.37869740508747,
          -0.13030730767835674,
          -0.12013480666042131,
          -0.3600396026456676,
          2.9069136561954756,
          -2.72673128614781,
          -0.8406148623583021,
          1.9833719937546235,
          -3.5740706522752186,
          2.058408598265171,
          -0.4045276288861088,
          1.2647071992671899,
          -2.9844693860928473,
          0.25195528317151217,
          2.425096687751982,
          -1.37880833508508,
          1.37880833508508,
          0,
          0,
          0.19585434418212255,
          1.0934065341106969,
          -1.3507116373116301,
          -0.003645595648815725,
          0.6175797343147993,
          -0.7676787479283353,
          0.8075274827272771,
          -0.8417991287890336,
          0.8244933979372426,
          -0.48626520960650677,
          -0.500503595496038,
          -0.4698216111381992,
          1.0458723044291518,
          -0.16430827178273155,
          0.11744377704558939,
          0.3042014963875239,
          -0.1385577047778419,
          -0.8157835366828348,
          0.3534647565726079,
          -2.184702706785868,
          2.8815935229891454,
          0.5070836834286885,
          -0.4481425448477516,
          -1.5002736558620389,
          0.48734978841653565,
          1.2528713851426843,
          0.26850286513839805,
          2.1857902939312446,
          -3.2708414200960823,
          -0.579554648555114,
          0.8932674737650692,
          -0.31371282520995525,
          0,
          3.774993799505122,
          -3.534285896536371,
          -0.2407079029687509,
          0,
          0,
          0.9880344050493317,
          0.8124812319214803,
          -1.8408231995368451,
          -0.7124536530251468,
          1.2589360581505948,
          -1.0859723618053208,
          1.0590069055967488,
          -1.3712326567175692,
          -2.707453983758057,
          2.8746989673371526,
          1.0231998744295145,
          -1.5667140581273387,
          4.011775034854703,
          -3.1413122759603174,
          -0.5196735442322464,
          0.9175032558233154,
          -1.8080136700011296,
          0.9257151871675529,
          2.1623444795714764,
          -4.729919696721485,
          3.536847501052598,
          -0.8723794915321825,
          0.6167610531538803,
          -2.190725881030675,
          2.7819576061467677,
          -0.42258708780680276,
          0.39682683165964683,
          0.46855041112410234,
          -1.7181557111174417,
          1.7911173000952685,
          0.1553825862734337,
          -2.2541349552825163,
          0.22091739565768265
         ],
         "yaxis": "y"
        },
        {
         "customdata": [
          [
           "Anwar Ibrahim: The man who fulfilled his goal to lead Malaysia"
          ],
          [
           "Najib Razak: Malaysia's former PM and his downfall over alleged corruption"
          ],
          [
           "Malaysia Airlines plane turns back after cockpit entry bid"
          ],
          [
           "Malaysia Airlines plane threat foiled by 'heroes', witness says"
          ],
          [
           "Malaysia airline cockpit scare"
          ],
          [
           "Man accused of Malaysia Airlines threat does not appear in court"
          ],
          [
           "Malaysia gay 'prevention' competition seeks videos"
          ],
          [
           "Malaysia drops gay 'prevention' category from video competition"
          ],
          [
           "US looks to seize $540m in 'stolen' assets from Malaysia fund 1MDB"
          ],
          [
           "Baby elephant killed on Malaysia highway"
          ],
          [
           "The 'blackface' ad that got Malaysia talking"
          ],
          [
           "Chinese deities flown on business class to Malaysia"
          ],
          [
           "Shell withdraws Malaysia cardboard cutouts after 'distasteful' groping"
          ],
          [
           "Despacito censored: Malaysia bans 'unsuitable' hit from state stations"
          ],
          [
           "Malaysia MP: 'Denying husbands sex is abuse'"
          ],
          [
           "Malaysia detains hundreds in counter-terrorism raids"
          ],
          [
           "Malaysia princess Tunku Aminah weds Dutchman in lavish ceremony"
          ],
          [
           "Malaysia sites hacked after blunder over Indonesian flag"
          ],
          [
           "The online abuse hurled at Malaysia's Muslim women"
          ],
          [
           "Malaysia to name firms lacking board diversity"
          ],
          [
           "Malaysia fire: Students and teachers killed in dormitory"
          ],
          [
           "Kim Jong-nam murder: Women plead not guilty in Malaysia trial"
          ],
          [
           "MH370: Malaysia in talks with US firm to restart plane search"
          ],
          [
           "Kim Jong-nam murder: Suspects revisit Malaysia airport"
          ],
          [
           "Miss Universe Malaysia to wear nasi lemak dress"
          ],
          [
           "Fake baby milk formula scare hits Malaysia"
          ],
          [
           "Ivana Smit: Model's death in Malaysia casts a long shadow"
          ],
          [
           "Malaysia court clears 'drug mule' grandmother who faced hanging"
          ],
          [
           "Mahathir Mohamad: Ex-Malaysia PM, 92, to run for office"
          ],
          [
           "100 Women: National Union of Journalists Malaysia sorry for 'sexy outfit' advice"
          ],
          [
           "'Shaking' Malaysia Airlines flight turns back to Australia"
          ],
          [
           "Malaysia defends 'hideous' tourism logo despite criticism"
          ],
          [
           "100 Women: Maid dies in Malaysia after being left to 'sleep outside with dog'"
          ],
          [
           "Pop star Denise Ho denied Malaysia permit 'over LGBT views'"
          ],
          [
           "Malaysia wishes wrong New Year with a barking rooster"
          ],
          [
           "Nerve agent attacks: How Malaysia responded compared to the UK"
          ],
          [
           "Malaysia seeks 10 year-jail terms for 'fake news'"
          ],
          [
           "Syria man 'stranded at Malaysia airport for weeks'"
          ],
          [
           "Palestinian lecturer and Hamas member killed in Malaysia"
          ],
          [
           "Malaysia's youth have power they won't use"
          ],
          [
           "Malaysia's election: A battle of old allies"
          ],
          [
           "Malaysia elections: Could Mahathir Mohamad make a comeback?"
          ],
          [
           "Malaysia election: What does politics mean to multi-racial voters?"
          ],
          [
           "Mahathir Mohamad: The man who dominated Malaysian politics"
          ],
          [
           "Malaysia election: Opposition scores historic victory"
          ],
          [
           "Malaysia's Mahathir hopes to get back lost 1MDB funds"
          ],
          [
           "Malaysia election: Why did young voters pick a 92-year-old?"
          ],
          [
           "Malaysia's Mahathir Mohamad sworn in after shock comeback victory"
          ],
          [
           "Malaysia election: What just happened?"
          ],
          [
           "Business Matters: Opposition Claims Victory in Malaysia"
          ],
          [
           "Corruption, money and Malaysia's election"
          ],
          [
           "Former Malaysia PM Najib Razak banned from leaving country"
          ],
          [
           "The Cultural Frontline: Truth and Taboo from Malaysia to the Middle East"
          ],
          [
           "Malaysia to review not revoke fake news law, says Mahathir"
          ],
          [
           "Malaysia's freed Anwar Ibrahim hails 'new dawn' after poll win"
          ],
          [
           "Malaysia's Najib Razak has home searched by police"
          ],
          [
           "Malaysia's political drama is worthy of Shakespeare"
          ],
          [
           "Malaysia police seize cash and luxury goods in Najib-linked raids"
          ],
          [
           "Malaysia politics: $4 sandals vs luxury Birkin bags"
          ],
          [
           "Najib Razak: Scandal-hit ex-Malaysia PM condemns police raids"
          ],
          [
           "From Our Own Correspondent Podcast: Malaysiaâs Political Drama"
          ],
          [
           "From Our Own Correspondent: Malaysia's Political Drama"
          ],
          [
           "Australian woman sentenced to death in Malaysia over drugs"
          ],
          [
           "Police find $28m cash in raids linked to Malaysia ex-PM Najib"
          ],
          [
           "Australia jails man over Malaysia Airlines plane bomb threat"
          ],
          [
           "Malaysia's Anwar Ibrahim on Mahathir: 'We have to move on'"
          ],
          [
           "Malaysia mosque bans tourists after provocative dance"
          ],
          [
           "World Business Report: Malaysia 1MDB: Seized Cash and Goods 'Worth $273m'"
          ],
          [
           "Malaysia 1MDB: Seized tiaras, cash and Hermes bags 'worth $273m'"
          ],
          [
           "World Business Report: Malaysia 1MDB: Seized Cash and Goods 'Worth $273m'"
          ],
          [
           "Child marriage involving bride of 11 sparks outrage in Malaysia"
          ],
          [
           "1MDB: Malaysia's global corruption scandal"
          ],
          [
           "Malaysia 1MDB: Ex-PM Najib arrested by anti-corruption officials"
          ],
          [
           "Malaysia's ex-PM Najib charged with corruption over 1MDB"
          ],
          [
           "Missing Malaysia flight MH370: Aviation chief quits over failings"
          ],
          [
           "Malaysia ex-PM Najib charged with money laundering"
          ],
          [
           "Radioactive device goes missing in Malaysia"
          ],
          [
           "LGBT rights: Malaysia women caned for attempting to have lesbian sex"
          ],
          [
           "Laundrette cat killers arrested in Malaysia"
          ],
          [
           "Ex-Malaysia PM Najib hit with 25 charges of money laundering and abuse of power"
          ],
          [
           "Syrian Hassan al-Kontar removed from Malaysia airport after months"
          ],
          [
           "South China Sea: Battleships may lead to war - Malaysia PM"
          ],
          [
           "HARDtalk: Mahathir Mohamad, Prime Minister of Malaysia"
          ],
          [
           "Six rescue divers drown trying to save teen in Malaysia"
          ],
          [
           "Wife charged with murder of ex firefighter in Malaysia"
          ],
          [
           "From Our Own Correspondent: Italy and Malaysia"
          ],
          [
           "From Our Own Correspondent: Malaysia and Hungary"
          ],
          [
           "From Our Own Correspondent: North Korea and Malaysia"
          ],
          [
           "A bitter winter in Afghanistan: Malaysia and Macedonia"
          ],
          [
           "From Our Own Correspondent: Malaysia, the USA and Zimbabwe"
          ],
          [
           "From Our Own Correspondent: Syria and Malaysia"
          ],
          [
           "Medical cannabis: Death sentence prompts Malaysia to re-think harsh laws"
          ],
          [
           "World Have Your Say: WHYS 30: Malaysia's internet black-out day"
          ],
          [
           "From Our Own Correspondent: Malaysia and Mexico"
          ],
          [
           "From Our Own Correspondent: Honduras and Malaysia"
          ],
          [
           "Syrian man stranded in Malaysia airport arrives in Canada"
          ],
          [
           "1MDB: Malaysia charges Goldman Sachs and two bankers"
          ],
          [
           "Malaysia king: Sultan Muhammad V abdicates in historic first"
          ],
          [
           "Malaysia revises 'victim-shaming' school text book"
          ],
          [
           "Malaysia defends ban on Israeli Paralympic athletes"
          ],
          [
           "HARDtalk: Malaysia's Minister for Youth and Sport - Syed Saddiq"
          ],
          [
           "Malaysia elects new king after unprecedented abdication"
          ],
          [
           "Sultan Abdullah crowned Malaysia's new king"
          ],
          [
           "Russians detained over baby swinging street act in Malaysia"
          ],
          [
           "'Competent' oil worker crushed by machine on ship off Malaysia"
          ],
          [
           "Lowestoft oil worker's injuries on ship off Malaysia 'non-survivable'"
          ],
          [
           "Malaysia plastic pollution: 'We saved our town from your Western rubbish'"
          ],
          [
           "Kim Jong-nam murder: Malaysia rejects suspect's release plea"
          ],
          [
           "Najib 1MDB trial: Malaysia ex-PM faces court in global financial scandal"
          ],
          [
           "Newsday: Malaysia: former Prime Minister Najib Razak goes on trial"
          ],
          [
           "Business Matters: Malaysia: ex-PM faces court in global financial scandal"
          ],
          [
           "1MDB: US to return $200m in funds to Malaysia as part of probe"
          ],
          [
           "Malaysia bans 'recycled' waste"
          ],
          [
           "Malaysia orders tonnes of imported waste to be returned"
          ],
          [
           "Last male Sumatran rhino in Malaysia dies"
          ],
          [
           "Beyond Today: Why is Malaysia sending our rubbish back?"
          ],
          [
           "Plastic waste: Milton Keynes Council launches probe after Malaysia find"
          ],
          [
           "Hugh Fearnley-Whittingstall finds UK plastic waste abandoned in Malaysia"
          ],
          [
           "MH17 crash: Malaysia PM Mahathir denounces murder charges"
          ],
          [
           "Malaysia air pollution: Schools shut after illness hits children"
          ],
          [
           "Thousands of turtles seized at Malaysia airport"
          ],
          [
           "Malaysia seizes thousands of smuggled turtles at airport"
          ],
          [
           "Wolf of Wall Street producer arrested in Malaysia for money laundering"
          ],
          [
           "CÃ©sar Pelli: Architect of Malaysia's Petronas Towers dies at 92"
          ],
          [
           "London girl Nora Quoirin, 15, vanishes on Malaysia holiday"
          ],
          [
           "Nora Quoirin: Malaysia jungle search for holiday teen"
          ],
          [
           "Nora Quoirin: Family say teen missing in Malaysia was abducted"
          ],
          [
           "Missing Nora Quoirin: Malaysia police 'rule nothing out' in search"
          ],
          [
           "Goldman bosses charged in Malaysia bond scandal"
          ],
          [
           "Missing Nora Quoirin's mother Meabh thanks search teams in Malaysia"
          ],
          [
           "The mystery of screaming schoolgirls in Malaysia"
          ],
          [
           "Nora Quoirin: Body found in Malaysia is missing girl"
          ],
          [
           "Missing Nora Quoirin: Malaysia police say a body has been found nearby"
          ],
          [
           "Nora Quoirin: Family 'heartbroken' after body found in Malaysia"
          ],
          [
           "Najib Razak 1MDB: Malaysia's former PM faces biggest trial yet"
          ],
          [
           "Najib Razak : Ex-Malaysia PM's second fraud trial begins"
          ],
          [
           "Rainforest fires trigger smog alerts in Indonesia and Malaysia"
          ],
          [
           "Malaysia queen denounces arrest of online critics"
          ],
          [
           "Plastic waste: Milton Keynes Council cleared after Malaysia waste find"
          ],
          [
           "Jennifer Lopez stripper film Hustlers banned in Malaysia"
          ],
          [
           "Outlook: The rebel lawyer transforming Malaysia"
          ],
          [
           "The Outlook Podcast Archive: The rebel lawyer transforming Malaysia"
          ],
          [
           "'I woke up to thousands of messages from Malaysia'"
          ],
          [
           "HARDtalk: Minister for Islamic Affairs in Malaysia -Mujahid Yusof Rawa"
          ],
          [
           "Mujahid Yusof Rawa: Malaysia needs a new narrative of Islam"
          ],
          [
           "Malaysia's last known Sumatran rhino dies"
          ],
          [
           "Malaysia grants reprieve to Australian 'love scam' drug mule"
          ],
          [
           "Inside Malaysia's straight edge punk scene"
          ],
          [
           "Malaysia's straight edge punk scene"
          ],
          [
           "Nora Quoirin: Parents determined to find answers over Malaysia death"
          ],
          [
           "Malaysia returns 42 containers of 'illegal' plastic waste to UK"
          ],
          [
           "The Documentary: Shifting Cultures: Polygamous marriage in modern Malaysia"
          ],
          [
           "The Documentary Podcast: Polygamous marriage in modern Malaysia"
          ],
          [
           "Fireball meteor lights up night sky over Malaysia"
          ],
          [
           "Malaysia gets new PM, Muhyiddin Yassin, after week of turmoil"
          ],
          [
           "How Malaysiaâs government collapsed in two years"
          ],
          [
           "Malaysia migrant raids 'to reduce Covid-19 spread'"
          ],
          [
           "1MDB: Malaysia drops charges against Wolf of Wall Street producer"
          ],
          [
           "Malaysia detains 270 Rohingya refugees who had drifted at sea for weeks"
          ],
          [
           "Goldman Sachs settles 1MDB scandal with Malaysia for $3.9bn"
          ],
          [
           "Malaysia arrests Bangladeshi migrant who criticised government on TV"
          ],
          [
           "Najib Razak: Malaysian ex-PM gets 12-year jail term in 1MDB corruption trial"
          ],
          [
           "Newsday: Najib Razak â former Malaysia PM â handed guilty verdict"
          ],
          [
           "Newsday: Guilty verdict for former Malaysian prime minister"
          ],
          [
           "Newsday: Former Malaysian PM guilty of abuse of power"
          ],
          [
           "Samantha Jones avoids death for husband's Malaysia murder"
          ],
          [
           "NÃ³ra Quoirin: Malaysia opens inquest into death of London teenager"
          ],
          [
           "NÃ³ra Quoirin: Site of Malaysian body find 'searched several times'"
          ],
          [
           "NÃ³ra Quoirin: Window in Malaysian resort was broken, inquest hears"
          ],
          [
           "Go Jetters: Series 3: Funky Fireflies, Selangor River, Malaysia"
          ],
          [
           "Malaysian man 'finds' monkey selfies on lost phone"
          ],
          [
           "Chinese and Malaysian hackers charged by US over attacks"
          ],
          [
           "Cooking with Paula McIntyre: Malaysian Chicken Curry with Tomato Rice"
          ],
          [
           "Philips sells Suffolk factory to Malaysia's Guan Chong Berhad"
          ],
          [
           "US bans Malaysian palm oil producer over forced labour"
          ],
          [
           "Gareth Huntley: Backpacker's Malaysia death 'mysterious'"
          ],
          [
           "Covid-19: Couple holds 10,000 people drive-thru wedding in Malaysia"
          ],
          [
           "NÃ³ra Quoirin: 'Misadventure' verdict for girl found in Malaysian jungle"
          ],
          [
           "NÃ³ra Quoirin death: The schoolgirl who vanished into a Malaysian jungle"
          ],
          [
           "Malaysia declares Covid state of emergency amid political challenges"
          ],
          [
           "Scoff the Ball: A Taste of Malaysia in Scotland"
          ],
          [
           "Malaysiakini: The upstart that changed Malaysia's media landscape"
          ],
          [
           "Malaysia deports Myanmar nationals despite court order"
          ],
          [
           "Malaysia High Court rules Christians can use 'Allah'"
          ],
          [
           "South China Sea dispute: Malaysia accuses China of breaching airspace"
          ],
          [
           "Malaysia deports French conspiracy theorist wanted for abduction"
          ],
          [
           "Malaysian casino giant Genting makes $4.3bn bet on Las Vegas"
          ],
          [
           "Malaysians in Covid lockdown fly white flags to ask for help"
          ],
          [
           "Bitcoin mining machines steamrolled by Malaysia police"
          ],
          [
           "Anger as Covid-ravaged Malaysia lifts pandemic measures"
          ],
          [
           "Malaysian singer dies of Covid days after giving birth"
          ],
          [
           "British and Malaysian men jailed in Somalia for terror offences"
          ],
          [
           "'I had to run away', says Malaysian transgender woman"
          ],
          [
           "Malaysian transgender woman Nur Sajat: 'I had to run away'"
          ],
          [
           "MH370: Could missing Malaysian Airlines plane finally be found?"
          ],
          [
           "Malaysia: Death toll rises after massive floods"
          ],
          [
           "Malaysia hit by the worst floods in decades"
          ],
          [
           "Malaysia hit by the worst floods in decades"
          ],
          [
           "British man and son missing after Malaysia diving trip"
          ],
          [
           "World Business Report: 1MDB: Ex-Goldman Malaysia boss convicted"
          ],
          [
           "1MDB scandal: Ex-Goldman Malaysia boss found guilty"
          ],
          [
           "Malaysia: Boy, 14, believed dead after diving trip"
          ],
          [
           "World Business Report: 1MDB: Ex-Goldman Malaysia boss convicted"
          ],
          [
           "Chinese rocket debris falls back to Earth over Malaysia"
          ],
          [
           "Najib Razak: Malaysia's ex-PM starts jail term after final appeal fails"
          ],
          [
           "Najib Razak: The verdict that sent Malaysia's untouchable ex-PM to prison"
          ],
          [
           "Rosmah Mansor: Wife of ex-Malaysian PM Najib gets 10 years jail for bribery"
          ],
          [
           "Fat Leonard: Malaysian businessman linked to US Navy scandal escapes"
          ],
          [
           "Queen Elizabeth II: What her death means to Malaysia"
          ],
          [
           "Fat Leonard: Malaysian criminal in US Navy scandal recaptured after jail break"
          ],
          [
           "Mahathir Mohamad: Former Malaysia PM to run for office aged 97"
          ],
          [
           "Why is Malaysia deporting Myanmar asylum seekers?"
          ],
          [
           "Malaysia elects first ever hung parliament"
          ],
          [
           "Malaysia election: Why isn't there a government yet?"
          ],
          [
           "Anwar Ibrahim sworn in as Malaysian PM after post-election deadlock"
          ],
          [
           "Anwar Ibrahim: Honeymoon as Malaysian PM will be brutally short"
          ],
          [
           "Tamil Nadu: Indian man's search for father's lost grave ends in Malaysia"
          ],
          [
           "Malaysia authorities searching for survivors after deadly landslide"
          ],
          [
           "Malaysia landslide: At least 21 campers dead and more missing"
          ],
          [
           "Ex-Goldman Sachs Malaysia boss gets 10 years for 1MDB scheme"
          ],
          [
           "Muhyiddin Yassin: Ex-Malaysia PM charged with corruption over Covid spending"
          ],
          [
           "Malaysia ends mandatory death penalty for serious crimes"
          ],
          [
           "Malaysia detains Chinese ship suspected of looting British WW2 wrecks"
          ],
          [
           "Your Place or Mine with Shaun Keaveny: Craig Parkinson: Penang, Malaysia"
          ],
          [
           "MH370 joke: Malaysia asks Interpol to track down comedian"
          ],
          [
           "Jocelyn Chia: US comedian calls Malaysia's reaction to MH370 joke 'ridiculous'"
          ],
          [
           "Swatch sues Malaysia over Pride watch seizures"
          ],
          [
           "Matty Healy: Malaysia festival cancelled after The 1975 singer attacks anti-LGBT law"
          ],
          [
           "The 1975 cancels Indonesia and Taiwan shows after Malaysia LGBT row"
          ],
          [
           "Matty Healy: Malaysia LGBT community angry at 1975 'white saviour stunt'"
          ],
          [
           "Matty Healy: The 1975 threatened with legal action after Malaysia festival cancellation"
          ],
          [
           "Private jet crashes onto Malaysia highway, killing 10"
          ],
          [
           "Matty Healy defends Malaysia kiss during 1975 concert in Dallas"
          ],
          [
           "Israel-Gaza: Malaysia will maintain ties with Hamas says PM Anwar Ibrahim"
          ],
          [
           "Malaysian killer released from Australian immigration detention"
          ],
          [
           "Forest City: Inside Malaysia's Chinese-built 'ghost city'"
          ]
         ],
         "hovertemplate": "Date: %{x}<br>Exchange Rate: %{y}<br>Title: %{customdata[0]}",
         "legendgroup": "myr_gbp_diff_grad",
         "line": {
          "color": "#ab63fa",
          "dash": "solid"
         },
         "marker": {
          "symbol": "circle"
         },
         "mode": "markers+lines",
         "name": "GBP",
         "orientation": "v",
         "showlegend": true,
         "type": "scatter",
         "x": [
          "2012-01-06T00:00:00",
          "2013-05-01T00:00:00",
          "2017-05-31T00:00:00",
          "2017-06-01T00:00:00",
          "2017-06-01T00:00:00",
          "2017-06-02T00:00:00",
          "2017-06-03T00:00:00",
          "2017-06-08T00:00:00",
          "2017-06-16T00:00:00",
          "2017-06-19T00:00:00",
          "2017-06-30T00:00:00",
          "2017-07-05T00:00:00",
          "2017-07-05T00:00:00",
          "2017-07-20T00:00:00",
          "2017-07-27T00:00:00",
          "2017-08-07T00:00:00",
          "2017-08-15T00:00:00",
          "2017-08-21T00:00:00",
          "2017-08-21T00:00:00",
          "2017-09-06T00:00:00",
          "2017-09-14T00:00:00",
          "2017-10-02T00:00:00",
          "2017-10-20T00:00:00",
          "2017-10-24T00:00:00",
          "2017-11-01T00:00:00",
          "2017-12-14T00:00:00",
          "2017-12-24T00:00:00",
          "2017-12-27T00:00:00",
          "2018-01-08T00:00:00",
          "2018-01-18T00:00:00",
          "2018-01-19T00:00:00",
          "2018-01-30T00:00:00",
          "2018-02-14T00:00:00",
          "2018-02-15T00:00:00",
          "2018-02-18T00:00:00",
          "2018-03-16T00:00:00",
          "2018-03-26T00:00:00",
          "2018-04-12T00:00:00",
          "2018-04-21T00:00:00",
          "2018-05-05T00:00:00",
          "2018-05-07T00:00:00",
          "2018-05-07T00:00:00",
          "2018-05-08T00:00:00",
          "2018-05-08T00:00:00",
          "2018-05-09T00:00:00",
          "2018-05-10T00:00:00",
          "2018-05-10T00:00:00",
          "2018-05-10T00:00:00",
          "2018-05-10T00:00:00",
          "2018-05-10T00:00:00",
          "2018-05-11T00:00:00",
          "2018-05-12T00:00:00",
          "2018-05-12T00:00:00",
          "2018-05-14T00:00:00",
          "2018-05-16T00:00:00",
          "2018-05-16T00:00:00",
          "2018-05-17T00:00:00",
          "2018-05-18T00:00:00",
          "2018-05-18T00:00:00",
          "2018-05-19T00:00:00",
          "2018-05-24T00:00:00",
          "2018-05-24T00:00:00",
          "2018-05-24T00:00:00",
          "2018-05-25T00:00:00",
          "2018-06-07T00:00:00",
          "2018-06-11T00:00:00",
          "2018-06-25T00:00:00",
          "2018-06-27T00:00:00",
          "2018-06-27T00:00:00",
          "2018-06-27T00:00:00",
          "2018-07-01T00:00:00",
          "2018-07-03T00:00:00",
          "2018-07-03T00:00:00",
          "2018-07-04T00:00:00",
          "2018-07-31T00:00:00",
          "2018-08-08T00:00:00",
          "2018-08-21T00:00:00",
          "2018-09-03T00:00:00",
          "2018-09-14T00:00:00",
          "2018-09-20T00:00:00",
          "2018-10-02T00:00:00",
          "2018-10-02T00:00:00",
          "2018-10-03T00:00:00",
          "2018-10-04T00:00:00",
          "2018-10-31T00:00:00",
          "2018-11-04T00:00:00",
          "2018-11-04T00:00:00",
          "2018-11-04T00:00:00",
          "2018-11-04T00:00:00",
          "2018-11-04T00:00:00",
          "2018-11-12T00:00:00",
          "2018-11-12T00:00:00",
          "2018-11-12T00:00:00",
          "2018-11-12T00:00:00",
          "2018-11-12T00:00:00",
          "2018-11-26T00:00:00",
          "2018-12-17T00:00:00",
          "2019-01-06T00:00:00",
          "2019-01-16T00:00:00",
          "2019-01-23T00:00:00",
          "2019-01-23T00:00:00",
          "2019-01-24T00:00:00",
          "2019-01-31T00:00:00",
          "2019-02-05T00:00:00",
          "2019-02-11T00:00:00",
          "2019-02-12T00:00:00",
          "2019-02-13T00:00:00",
          "2019-03-14T00:00:00",
          "2019-04-03T00:00:00",
          "2019-04-03T00:00:00",
          "2019-04-04T00:00:00",
          "2019-05-07T00:00:00",
          "2019-05-28T00:00:00",
          "2019-05-28T00:00:00",
          "2019-05-28T00:00:00",
          "2019-05-30T00:00:00",
          "2019-06-10T00:00:00",
          "2019-06-10T00:00:00",
          "2019-06-20T00:00:00",
          "2019-06-25T00:00:00",
          "2019-06-26T00:00:00",
          "2019-06-26T00:00:00",
          "2019-07-04T00:00:00",
          "2019-07-20T00:00:00",
          "2019-08-04T00:00:00",
          "2019-08-05T00:00:00",
          "2019-08-06T00:00:00",
          "2019-08-07T00:00:00",
          "2019-08-09T00:00:00",
          "2019-08-10T00:00:00",
          "2019-08-11T00:00:00",
          "2019-08-13T00:00:00",
          "2019-08-13T00:00:00",
          "2019-08-14T00:00:00",
          "2019-08-28T00:00:00",
          "2019-08-28T00:00:00",
          "2019-09-13T00:00:00",
          "2019-09-14T00:00:00",
          "2019-09-20T00:00:00",
          "2019-09-20T00:00:00",
          "2019-10-31T00:00:00",
          "2019-11-01T00:00:00",
          "2019-11-12T00:00:00",
          "2019-11-13T00:00:00",
          "2019-11-13T00:00:00",
          "2019-11-23T00:00:00",
          "2019-11-26T00:00:00",
          "2019-11-29T00:00:00",
          "2019-11-30T00:00:00",
          "2019-12-17T00:00:00",
          "2020-01-20T00:00:00",
          "2020-02-01T00:00:00",
          "2020-02-04T00:00:00",
          "2020-02-21T00:00:00",
          "2020-03-01T00:00:00",
          "2020-03-05T00:00:00",
          "2020-05-02T00:00:00",
          "2020-05-14T00:00:00",
          "2020-06-09T00:00:00",
          "2020-07-24T00:00:00",
          "2020-07-25T00:00:00",
          "2020-07-28T00:00:00",
          "2020-07-28T00:00:00",
          "2020-07-28T00:00:00",
          "2020-07-28T00:00:00",
          "2020-08-03T00:00:00",
          "2020-08-24T00:00:00",
          "2020-08-26T00:00:00",
          "2020-08-27T00:00:00",
          "2020-09-07T00:00:00",
          "2020-09-15T00:00:00",
          "2020-09-16T00:00:00",
          "2020-09-19T00:00:00",
          "2020-09-29T00:00:00",
          "2020-10-01T00:00:00",
          "2020-10-08T00:00:00",
          "2020-12-21T00:00:00",
          "2021-01-04T00:00:00",
          "2021-01-04T00:00:00",
          "2021-01-12T00:00:00",
          "2021-01-21T00:00:00",
          "2021-02-19T00:00:00",
          "2021-02-24T00:00:00",
          "2021-03-11T00:00:00",
          "2021-06-02T00:00:00",
          "2021-06-13T00:00:00",
          "2021-06-24T00:00:00",
          "2021-07-05T00:00:00",
          "2021-07-20T00:00:00",
          "2021-07-28T00:00:00",
          "2021-08-10T00:00:00",
          "2021-09-24T00:00:00",
          "2021-11-19T00:00:00",
          "2021-11-19T00:00:00",
          "2021-12-03T00:00:00",
          "2021-12-21T00:00:00",
          "2021-12-21T00:00:00",
          "2021-12-21T00:00:00",
          "2022-04-07T00:00:00",
          "2022-04-08T00:00:00",
          "2022-04-08T00:00:00",
          "2022-04-09T00:00:00",
          "2022-04-09T00:00:00",
          "2022-07-31T00:00:00",
          "2022-08-23T00:00:00",
          "2022-08-27T00:00:00",
          "2022-09-01T00:00:00",
          "2022-09-06T00:00:00",
          "2022-09-14T00:00:00",
          "2022-09-22T00:00:00",
          "2022-10-11T00:00:00",
          "2022-10-25T00:00:00",
          "2022-11-20T00:00:00",
          "2022-11-21T00:00:00",
          "2022-11-24T00:00:00",
          "2022-12-03T00:00:00",
          "2022-12-13T00:00:00",
          "2022-12-16T00:00:00",
          "2022-12-16T00:00:00",
          "2023-03-09T00:00:00",
          "2023-03-10T00:00:00",
          "2023-04-03T00:00:00",
          "2023-05-30T00:00:00",
          "2023-06-07T00:00:00",
          "2023-06-13T00:00:00",
          "2023-06-14T00:00:00",
          "2023-07-17T00:00:00",
          "2023-07-22T00:00:00",
          "2023-07-23T00:00:00",
          "2023-07-25T00:00:00",
          "2023-08-07T00:00:00",
          "2023-08-17T00:00:00",
          "2023-10-10T00:00:00",
          "2023-11-08T00:00:00",
          "2023-11-13T00:00:00",
          "2023-12-05T00:00:00"
         ],
         "xaxis": "x",
         "y": [
          null,
          null,
          -17.309188157293033,
          13.57970665624687,
          0.4512085138005051,
          0.08770051932114331,
          -0.08770051932114331,
          -0.16120280029207068,
          1.4253359661796083,
          -1.4533361933563471,
          -1.9572233293949637,
          2.6421490546464366,
          -0.4957226977826634,
          -0.6113847231299707,
          0.3112498287121901,
          0.7137811527934801,
          -0.11030131070390858,
          0.618688123746769,
          -0.9220330714185598,
          -0.15455101504938673,
          -0.341813036495453,
          -1.5366266861493116,
          4.089090745895707,
          -2.679606352576036,
          0.02601185133499495,
          3.291174155214016,
          -2.3275849143221894,
          -0.39685313284693047,
          0.6328973028038143,
          -1.3520017648319893,
          0.6568841721503627,
          -0.24974428285641226,
          1.6561669379680621,
          -1.9857428489053586,
          0.027921536967745464,
          1.443414971641499,
          -1.8535522124031423,
          1.2214457638640597,
          0.15935120875669728,
          2.026664372010356,
          -1.9524760724911383,
          -0.40047069967996674,
          -0.3713797352646542,
          0.3713797352646542,
          -1.0549983983519584,
          -0.2410383715011566,
          1.296036769853115,
          0,
          0,
          0,
          2.579854358579192,
          -2.579854358579192,
          0,
          -0.1966757230437488,
          0.4261896652492658,
          -0.22951394220551702,
          -0.6440590468058782,
          0.7742833991603582,
          -0.13022435235447993,
          0,
          0.9119371586001845,
          -0.9119371586001845,
          0,
          -0.11605039189402921,
          0.008145895771072276,
          -0.2360161621654755,
          1.257586674612532,
          -1.2245146123349038,
          0.3108485960108043,
          0,
          0.6028332400787706,
          -1.0655618672472777,
          0.46272862716850716,
          -0.41817419569857295,
          0.4704974347333857,
          0.9573770125903103,
          -0.46036803651072766,
          -1.906944313742065,
          -0.756178673479202,
          2.1235315329908966,
          0.6332893337599899,
          -0.6430300946440148,
          0.43836802368228955,
          -0.1020398115640031,
          0.4712113766820236,
          -2.992903094971977,
          2.185363506171667,
          0,
          0,
          0,
          0.5189764030340216,
          -0.5189764030340216,
          0,
          0,
          0,
          0.6087698811819475,
          1.4117058166173813,
          -1.33974604325926,
          -1.686540408744186,
          -0.3636688030611346,
          1.3694795572652518,
          -0.9990096019643957,
          1.8665722430707632,
          -0.12019416113919767,
          0.43936174431316033,
          -0.7202242653641333,
          -0.6839123150425785,
          -3.12516772962661,
          4.484368301120101,
          -1.141794215367109,
          -0.08086966797611339,
          -0.9909440681657999,
          3.3969903603537466,
          -2.3251766242118332,
          0,
          0.205378148377533,
          0.19697340195667934,
          -0.4023515503342123,
          -0.09278127588056018,
          0.25986817079429736,
          0.474357886978094,
          -0.6414447818918312,
          0.6481354909585013,
          0.41093209129143826,
          1.5005137399091595,
          -3.1177648238946643,
          -0.025309737401646437,
          0.15963965560908955,
          0.8225289402349345,
          -0.3986753567068124,
          0,
          0.13575918917301255,
          -0.13575918917301255,
          0.4652878874680244,
          -2.5991413419973353,
          2.133853454529311,
          0.46013205450228245,
          -0.46013205450228245,
          -2.0840331646901133,
          2.0840331646901133,
          -2.635904015741697,
          2.314384537550085,
          1.8108137422935489,
          -1.4162714440296265,
          -0.07302282007231042,
          -1.16891445640529,
          1.1287209760714956,
          0.014727465614616797,
          0.025466014719177643,
          -1.957115411122179,
          6.196367229646871,
          -5.627657517627926,
          1.370385304428301,
          -0.6554071713849918,
          -0.09239951781837563,
          1.604897895252455,
          -1.2474097972263398,
          2.353933190666868,
          -4.230791458803063,
          2.4031582109896976,
          -0.11796095700131737,
          -1.1406477793580727,
          1.1406477793580727,
          0,
          0,
          -1.3158061061700699,
          2.798577445552819,
          -1.6731741561040736,
          -0.3212220602700766,
          0.7973013523342121,
          2.883685125704405,
          -3.0673162006691124,
          -1.01771982576232,
          0.8389612241843092,
          0.22754582844362048,
          -0.211001895697005,
          -0.7614133834408121,
          -0.8024485713481022,
          1.624031223242206,
          0.5583221495375712,
          -1.5656155641214364,
          -1.0483993067657682,
          0.9365026825618017,
          0.4107766240637689,
          -0.8614943072478898,
          1.6234578024894586,
          0.42151490345925247,
          0.43683208004083873,
          -1.1939510206069093,
          -1.4365777955668846,
          2.0564632575804542,
          1.6951520027959965,
          -0.3821656364625392,
          -1.6508178717577149,
          0.36069005540886323,
          0.38011044071877276,
          -0.740800496127636,
          0,
          1.3430558579504481,
          -1.3885691632807062,
          0.0455133053302581,
          0,
          0,
          1.7091020538065216,
          0.9992521483357164,
          -2.9163808476713293,
          2.0724906936975374,
          -1.9513085617439918,
          0.32725031353026957,
          0.9154187420288507,
          -1.6775696786532568,
          -3.3340055287600756,
          3.056773409342395,
          0.5783829444020672,
          -1.7751281469310598,
          4.272243829392652,
          -2.6424949847736134,
          1.047367950903333,
          -0.681394336906016,
          -0.13877881772983436,
          -1.1158825522607163,
          1.9386522213319823,
          -5.727121942464231,
          4.618482782183464,
          -0.3996442676685863,
          0.17371034245483585,
          -1.2690134131904895,
          3.0270590176979195,
          -1.1074633703543446,
          0.15416619558485944,
          0.40442112163117105,
          -2.325107063557441,
          3.8748361382709984,
          -0.147902673893352,
          -2.662143031023012,
          -2.0961231575039485
         ],
         "yaxis": "y"
        }
       ],
       "layout": {
        "annotations": [
         {
          "showarrow": false,
          "text": "0",
          "x": 1,
          "xanchor": "right",
          "xref": "x domain",
          "y": 0,
          "yanchor": "bottom",
          "yref": "y"
         },
         {
          "showarrow": false,
          "text": "decline",
          "x": 0,
          "xanchor": "left",
          "xref": "x domain",
          "y": 0,
          "yanchor": "top",
          "yref": "y"
         }
        ],
        "legend": {
         "title": {
          "text": "variable"
         },
         "tracegroupgap": 0
        },
        "shapes": [
         {
          "line": {
           "color": "black",
           "dash": "dot"
          },
          "opacity": 0.5,
          "type": "line",
          "x0": 0,
          "x1": 1,
          "xref": "x domain",
          "y0": 0,
          "y1": 0,
          "yref": "y"
         },
         {
          "fillcolor": "red",
          "line": {
           "width": 0
          },
          "opacity": 0.25,
          "type": "rect",
          "x0": 0,
          "x1": 1,
          "xref": "x domain",
          "y0": 0,
          "y1": -30,
          "yref": "y"
         }
        ],
        "template": {
         "data": {
          "bar": [
           {
            "error_x": {
             "color": "#2a3f5f"
            },
            "error_y": {
             "color": "#2a3f5f"
            },
            "marker": {
             "line": {
              "color": "#E5ECF6",
              "width": 0.5
             },
             "pattern": {
              "fillmode": "overlay",
              "size": 10,
              "solidity": 0.2
             }
            },
            "type": "bar"
           }
          ],
          "barpolar": [
           {
            "marker": {
             "line": {
              "color": "#E5ECF6",
              "width": 0.5
             },
             "pattern": {
              "fillmode": "overlay",
              "size": 10,
              "solidity": 0.2
             }
            },
            "type": "barpolar"
           }
          ],
          "carpet": [
           {
            "aaxis": {
             "endlinecolor": "#2a3f5f",
             "gridcolor": "white",
             "linecolor": "white",
             "minorgridcolor": "white",
             "startlinecolor": "#2a3f5f"
            },
            "baxis": {
             "endlinecolor": "#2a3f5f",
             "gridcolor": "white",
             "linecolor": "white",
             "minorgridcolor": "white",
             "startlinecolor": "#2a3f5f"
            },
            "type": "carpet"
           }
          ],
          "choropleth": [
           {
            "colorbar": {
             "outlinewidth": 0,
             "ticks": ""
            },
            "type": "choropleth"
           }
          ],
          "contour": [
           {
            "colorbar": {
             "outlinewidth": 0,
             "ticks": ""
            },
            "colorscale": [
             [
              0,
              "#0d0887"
             ],
             [
              0.1111111111111111,
              "#46039f"
             ],
             [
              0.2222222222222222,
              "#7201a8"
             ],
             [
              0.3333333333333333,
              "#9c179e"
             ],
             [
              0.4444444444444444,
              "#bd3786"
             ],
             [
              0.5555555555555556,
              "#d8576b"
             ],
             [
              0.6666666666666666,
              "#ed7953"
             ],
             [
              0.7777777777777778,
              "#fb9f3a"
             ],
             [
              0.8888888888888888,
              "#fdca26"
             ],
             [
              1,
              "#f0f921"
             ]
            ],
            "type": "contour"
           }
          ],
          "contourcarpet": [
           {
            "colorbar": {
             "outlinewidth": 0,
             "ticks": ""
            },
            "type": "contourcarpet"
           }
          ],
          "heatmap": [
           {
            "colorbar": {
             "outlinewidth": 0,
             "ticks": ""
            },
            "colorscale": [
             [
              0,
              "#0d0887"
             ],
             [
              0.1111111111111111,
              "#46039f"
             ],
             [
              0.2222222222222222,
              "#7201a8"
             ],
             [
              0.3333333333333333,
              "#9c179e"
             ],
             [
              0.4444444444444444,
              "#bd3786"
             ],
             [
              0.5555555555555556,
              "#d8576b"
             ],
             [
              0.6666666666666666,
              "#ed7953"
             ],
             [
              0.7777777777777778,
              "#fb9f3a"
             ],
             [
              0.8888888888888888,
              "#fdca26"
             ],
             [
              1,
              "#f0f921"
             ]
            ],
            "type": "heatmap"
           }
          ],
          "heatmapgl": [
           {
            "colorbar": {
             "outlinewidth": 0,
             "ticks": ""
            },
            "colorscale": [
             [
              0,
              "#0d0887"
             ],
             [
              0.1111111111111111,
              "#46039f"
             ],
             [
              0.2222222222222222,
              "#7201a8"
             ],
             [
              0.3333333333333333,
              "#9c179e"
             ],
             [
              0.4444444444444444,
              "#bd3786"
             ],
             [
              0.5555555555555556,
              "#d8576b"
             ],
             [
              0.6666666666666666,
              "#ed7953"
             ],
             [
              0.7777777777777778,
              "#fb9f3a"
             ],
             [
              0.8888888888888888,
              "#fdca26"
             ],
             [
              1,
              "#f0f921"
             ]
            ],
            "type": "heatmapgl"
           }
          ],
          "histogram": [
           {
            "marker": {
             "pattern": {
              "fillmode": "overlay",
              "size": 10,
              "solidity": 0.2
             }
            },
            "type": "histogram"
           }
          ],
          "histogram2d": [
           {
            "colorbar": {
             "outlinewidth": 0,
             "ticks": ""
            },
            "colorscale": [
             [
              0,
              "#0d0887"
             ],
             [
              0.1111111111111111,
              "#46039f"
             ],
             [
              0.2222222222222222,
              "#7201a8"
             ],
             [
              0.3333333333333333,
              "#9c179e"
             ],
             [
              0.4444444444444444,
              "#bd3786"
             ],
             [
              0.5555555555555556,
              "#d8576b"
             ],
             [
              0.6666666666666666,
              "#ed7953"
             ],
             [
              0.7777777777777778,
              "#fb9f3a"
             ],
             [
              0.8888888888888888,
              "#fdca26"
             ],
             [
              1,
              "#f0f921"
             ]
            ],
            "type": "histogram2d"
           }
          ],
          "histogram2dcontour": [
           {
            "colorbar": {
             "outlinewidth": 0,
             "ticks": ""
            },
            "colorscale": [
             [
              0,
              "#0d0887"
             ],
             [
              0.1111111111111111,
              "#46039f"
             ],
             [
              0.2222222222222222,
              "#7201a8"
             ],
             [
              0.3333333333333333,
              "#9c179e"
             ],
             [
              0.4444444444444444,
              "#bd3786"
             ],
             [
              0.5555555555555556,
              "#d8576b"
             ],
             [
              0.6666666666666666,
              "#ed7953"
             ],
             [
              0.7777777777777778,
              "#fb9f3a"
             ],
             [
              0.8888888888888888,
              "#fdca26"
             ],
             [
              1,
              "#f0f921"
             ]
            ],
            "type": "histogram2dcontour"
           }
          ],
          "mesh3d": [
           {
            "colorbar": {
             "outlinewidth": 0,
             "ticks": ""
            },
            "type": "mesh3d"
           }
          ],
          "parcoords": [
           {
            "line": {
             "colorbar": {
              "outlinewidth": 0,
              "ticks": ""
             }
            },
            "type": "parcoords"
           }
          ],
          "pie": [
           {
            "automargin": true,
            "type": "pie"
           }
          ],
          "scatter": [
           {
            "fillpattern": {
             "fillmode": "overlay",
             "size": 10,
             "solidity": 0.2
            },
            "type": "scatter"
           }
          ],
          "scatter3d": [
           {
            "line": {
             "colorbar": {
              "outlinewidth": 0,
              "ticks": ""
             }
            },
            "marker": {
             "colorbar": {
              "outlinewidth": 0,
              "ticks": ""
             }
            },
            "type": "scatter3d"
           }
          ],
          "scattercarpet": [
           {
            "marker": {
             "colorbar": {
              "outlinewidth": 0,
              "ticks": ""
             }
            },
            "type": "scattercarpet"
           }
          ],
          "scattergeo": [
           {
            "marker": {
             "colorbar": {
              "outlinewidth": 0,
              "ticks": ""
             }
            },
            "type": "scattergeo"
           }
          ],
          "scattergl": [
           {
            "marker": {
             "colorbar": {
              "outlinewidth": 0,
              "ticks": ""
             }
            },
            "type": "scattergl"
           }
          ],
          "scattermapbox": [
           {
            "marker": {
             "colorbar": {
              "outlinewidth": 0,
              "ticks": ""
             }
            },
            "type": "scattermapbox"
           }
          ],
          "scatterpolar": [
           {
            "marker": {
             "colorbar": {
              "outlinewidth": 0,
              "ticks": ""
             }
            },
            "type": "scatterpolar"
           }
          ],
          "scatterpolargl": [
           {
            "marker": {
             "colorbar": {
              "outlinewidth": 0,
              "ticks": ""
             }
            },
            "type": "scatterpolargl"
           }
          ],
          "scatterternary": [
           {
            "marker": {
             "colorbar": {
              "outlinewidth": 0,
              "ticks": ""
             }
            },
            "type": "scatterternary"
           }
          ],
          "surface": [
           {
            "colorbar": {
             "outlinewidth": 0,
             "ticks": ""
            },
            "colorscale": [
             [
              0,
              "#0d0887"
             ],
             [
              0.1111111111111111,
              "#46039f"
             ],
             [
              0.2222222222222222,
              "#7201a8"
             ],
             [
              0.3333333333333333,
              "#9c179e"
             ],
             [
              0.4444444444444444,
              "#bd3786"
             ],
             [
              0.5555555555555556,
              "#d8576b"
             ],
             [
              0.6666666666666666,
              "#ed7953"
             ],
             [
              0.7777777777777778,
              "#fb9f3a"
             ],
             [
              0.8888888888888888,
              "#fdca26"
             ],
             [
              1,
              "#f0f921"
             ]
            ],
            "type": "surface"
           }
          ],
          "table": [
           {
            "cells": {
             "fill": {
              "color": "#EBF0F8"
             },
             "line": {
              "color": "white"
             }
            },
            "header": {
             "fill": {
              "color": "#C8D4E3"
             },
             "line": {
              "color": "white"
             }
            },
            "type": "table"
           }
          ]
         },
         "layout": {
          "annotationdefaults": {
           "arrowcolor": "#2a3f5f",
           "arrowhead": 0,
           "arrowwidth": 1
          },
          "autotypenumbers": "strict",
          "coloraxis": {
           "colorbar": {
            "outlinewidth": 0,
            "ticks": ""
           }
          },
          "colorscale": {
           "diverging": [
            [
             0,
             "#8e0152"
            ],
            [
             0.1,
             "#c51b7d"
            ],
            [
             0.2,
             "#de77ae"
            ],
            [
             0.3,
             "#f1b6da"
            ],
            [
             0.4,
             "#fde0ef"
            ],
            [
             0.5,
             "#f7f7f7"
            ],
            [
             0.6,
             "#e6f5d0"
            ],
            [
             0.7,
             "#b8e186"
            ],
            [
             0.8,
             "#7fbc41"
            ],
            [
             0.9,
             "#4d9221"
            ],
            [
             1,
             "#276419"
            ]
           ],
           "sequential": [
            [
             0,
             "#0d0887"
            ],
            [
             0.1111111111111111,
             "#46039f"
            ],
            [
             0.2222222222222222,
             "#7201a8"
            ],
            [
             0.3333333333333333,
             "#9c179e"
            ],
            [
             0.4444444444444444,
             "#bd3786"
            ],
            [
             0.5555555555555556,
             "#d8576b"
            ],
            [
             0.6666666666666666,
             "#ed7953"
            ],
            [
             0.7777777777777778,
             "#fb9f3a"
            ],
            [
             0.8888888888888888,
             "#fdca26"
            ],
            [
             1,
             "#f0f921"
            ]
           ],
           "sequentialminus": [
            [
             0,
             "#0d0887"
            ],
            [
             0.1111111111111111,
             "#46039f"
            ],
            [
             0.2222222222222222,
             "#7201a8"
            ],
            [
             0.3333333333333333,
             "#9c179e"
            ],
            [
             0.4444444444444444,
             "#bd3786"
            ],
            [
             0.5555555555555556,
             "#d8576b"
            ],
            [
             0.6666666666666666,
             "#ed7953"
            ],
            [
             0.7777777777777778,
             "#fb9f3a"
            ],
            [
             0.8888888888888888,
             "#fdca26"
            ],
            [
             1,
             "#f0f921"
            ]
           ]
          },
          "colorway": [
           "#636efa",
           "#EF553B",
           "#00cc96",
           "#ab63fa",
           "#FFA15A",
           "#19d3f3",
           "#FF6692",
           "#B6E880",
           "#FF97FF",
           "#FECB52"
          ],
          "font": {
           "color": "#2a3f5f"
          },
          "geo": {
           "bgcolor": "white",
           "lakecolor": "white",
           "landcolor": "#E5ECF6",
           "showlakes": true,
           "showland": true,
           "subunitcolor": "white"
          },
          "hoverlabel": {
           "align": "left"
          },
          "hovermode": "closest",
          "mapbox": {
           "style": "light"
          },
          "paper_bgcolor": "white",
          "plot_bgcolor": "#E5ECF6",
          "polar": {
           "angularaxis": {
            "gridcolor": "white",
            "linecolor": "white",
            "ticks": ""
           },
           "bgcolor": "#E5ECF6",
           "radialaxis": {
            "gridcolor": "white",
            "linecolor": "white",
            "ticks": ""
           }
          },
          "scene": {
           "xaxis": {
            "backgroundcolor": "#E5ECF6",
            "gridcolor": "white",
            "gridwidth": 2,
            "linecolor": "white",
            "showbackground": true,
            "ticks": "",
            "zerolinecolor": "white"
           },
           "yaxis": {
            "backgroundcolor": "#E5ECF6",
            "gridcolor": "white",
            "gridwidth": 2,
            "linecolor": "white",
            "showbackground": true,
            "ticks": "",
            "zerolinecolor": "white"
           },
           "zaxis": {
            "backgroundcolor": "#E5ECF6",
            "gridcolor": "white",
            "gridwidth": 2,
            "linecolor": "white",
            "showbackground": true,
            "ticks": "",
            "zerolinecolor": "white"
           }
          },
          "shapedefaults": {
           "line": {
            "color": "#2a3f5f"
           }
          },
          "ternary": {
           "aaxis": {
            "gridcolor": "white",
            "linecolor": "white",
            "ticks": ""
           },
           "baxis": {
            "gridcolor": "white",
            "linecolor": "white",
            "ticks": ""
           },
           "bgcolor": "#E5ECF6",
           "caxis": {
            "gridcolor": "white",
            "linecolor": "white",
            "ticks": ""
           }
          },
          "title": {
           "x": 0.05
          },
          "xaxis": {
           "automargin": true,
           "gridcolor": "white",
           "linecolor": "white",
           "ticks": "",
           "title": {
            "standoff": 15
           },
           "zerolinecolor": "white",
           "zerolinewidth": 2
          },
          "yaxis": {
           "automargin": true,
           "gridcolor": "white",
           "linecolor": "white",
           "ticks": "",
           "title": {
            "standoff": 15
           },
           "zerolinecolor": "white",
           "zerolinewidth": 2
          }
         }
        },
        "title": {
         "text": "MYR and Other Currencies: How BBC News Affects Their Values (PCT Change)"
        },
        "xaxis": {
         "anchor": "y",
         "domain": [
          0,
          1
         ],
         "range": [
          "2012-01-06T00:00:00",
          "2023-12-05T00:00:00"
         ],
         "title": {
          "text": "Date"
         }
        },
        "yaxis": {
         "anchor": "x",
         "domain": [
          0,
          1
         ],
         "title": {
          "text": "Exchange Rate"
         }
        }
       }
      }
     },
     "metadata": {},
     "output_type": "display_data"
    }
   ],
   "source": [
    "fig = px.line(df_merged,x='date',y=['myr_usd_diff_grad','myr_sgd_diff_grad','myr_eur_diff_grad','myr_gbp_diff_grad'],\n",
    "              labels={\"value\": 'Exchange Rate','date':'Date'},\n",
    "              custom_data='title',\n",
    "              markers=True,\n",
    "              title=\"MYR and Other Currencies: How BBC News Affects Their Values (PCT Change)\",\n",
    "              )\n",
    "fig.update_layout(\n",
    "    xaxis_range=[df_merged['date'][0],df_merged['date'][len(df_merged)-1]]\n",
    ")\n",
    "fig.add_hline(y=0,line_color='black',line_dash=\"dot\",annotation_text=\"0\",opacity=0.5)\n",
    "fig.add_hrect(y0=0, y1=-30, \n",
    "              annotation_text=\"decline\", annotation_position=\"top left\",\n",
    "              fillcolor=\"red\", opacity=0.25, line_width=0)\n",
    "fig.for_each_trace(lambda x : x.update(name =x.name.split('_')[1].upper()))\n",
    "fig.update_traces(hovertemplate='<br>'.join([\n",
    "    'Date: %{x}',\n",
    "    'Exchange Rate: %{y}',\n",
    "    'Title: %{customdata[0]}'\n",
    "]))\n",
    "fig.show()"
   ]
  }
 ],
 "metadata": {
  "kernelspec": {
   "display_name": ".venv",
   "language": "python",
   "name": "python3"
  },
  "language_info": {
   "codemirror_mode": {
    "name": "ipython",
    "version": 3
   },
   "file_extension": ".py",
   "mimetype": "text/x-python",
   "name": "python",
   "nbconvert_exporter": "python",
   "pygments_lexer": "ipython3",
   "version": "3.11.1"
  }
 },
 "nbformat": 4,
 "nbformat_minor": 2
}
