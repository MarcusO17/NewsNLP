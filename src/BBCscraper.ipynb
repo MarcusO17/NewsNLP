{
 "cells": [
  {
   "cell_type": "code",
   "execution_count": 25,
   "metadata": {},
   "outputs": [],
   "source": [
    "import pandas as pd\n",
    "from datetime import datetime, timedelta\n",
    "from bs4 import BeautifulSoup\n",
    "import requests"
   ]
  },
  {
   "cell_type": "markdown",
   "metadata": {},
   "source": [
    "Scraping BBC Using BS4 and HTML Parsing\n"
   ]
  },
  {
   "cell_type": "markdown",
   "metadata": {},
   "source": [
    "Scraped On 11/12/2023 4.10 PM\n"
   ]
  },
  {
   "cell_type": "code",
   "execution_count": 80,
   "metadata": {},
   "outputs": [],
   "source": [
    "page = 0\n",
    "url = f\"https://www.bbc.co.uk/search?q=Malaysia&d=SEARCH_PS&seqId=062777f0-97ec-11ee-a035-fb9f9909d6da&page={page}\"\n",
    "total_info = []"
   ]
  },
  {
   "cell_type": "code",
   "execution_count": 21,
   "metadata": {},
   "outputs": [
    {
     "name": "stdout",
     "output_type": "stream",
     "text": [
      "<div class=\"ssrcss-3vkeha-StyledButtonContent e1kcrsdk1\">29</div>\n"
     ]
    }
   ],
   "source": [
    "url = f\"https://www.bbc.co.uk/search?q=UK&d=SEARCH_PS&seqId=062777f0-97ec-11ee-a035-fb9f9909d6da&page=1\"\n",
    "webpage = requests.get(url).text\n",
    "soup = BeautifulSoup(webpage, \"html.parser\")\n",
    "max_page = soup.select_one('#main-content > div:nth-child(5) > div > div > nav > div > div > div.ssrcss-1izxn3x-NumberedPagesButtonsContainer.e1ksme8n4 > div > ol > li:nth-child(14) > div > a > div')\n",
    "print(max_page)"
   ]
  },
  {
   "cell_type": "code",
   "execution_count": null,
   "metadata": {},
   "outputs": [
    {
     "name": "stdout",
     "output_type": "stream",
     "text": [
      "Printing 1\n",
      "Printing 2\n",
      "Printing 3\n",
      "Printing 4\n",
      "Printing 5\n",
      "Printing 6\n",
      "Printing 7\n",
      "Printing 8\n",
      "Printing 9\n",
      "Printing 10\n",
      "Printing 11\n",
      "Printing 12\n",
      "Printing 13\n",
      "Printing 14\n",
      "Printing 15\n",
      "Printing 16\n",
      "Printing 17\n",
      "Printing 18\n",
      "Printing 19\n",
      "Printing 20\n",
      "Printing 21\n",
      "Printing 22\n",
      "Printing 23\n",
      "Printing 24\n",
      "Printing 25\n",
      "Printing 26\n",
      "Printing 27\n",
      "Printing 28\n",
      "Printing 29\n",
      "Total Articles : 290\n"
     ]
    }
   ],
   "source": [
    "page = 0\n",
    "total_info = []\n",
    "total_articles = 0\n",
    "\n",
    "while page != 29:\n",
    "    page += 1\n",
    "    url = f\"https://www.bbc.co.uk/search?q=Malaysia&d=SEARCH_PS&seqId=062777f0-97ec-11ee-a035-fb9f9909d6da&page={page}\"\n",
    "    webpage = requests.get(url).text\n",
    "    soup = BeautifulSoup(webpage, \"html.parser\")\n",
    "    print(f'Printing {page}')   \n",
    "    for article in soup.find_all('div',class_='ssrcss-tq7xfh-PromoContent exn3ah99'):\n",
    "        total_articles += 1\n",
    "        title = article.find('span').text #get article titles\n",
    "        description = article.find('p',class_='ssrcss-1q0x1qg-Paragraph e1jhz7w10').text #get article descs\n",
    "        misc_list = article.find('ul',class_='ssrcss-1xpwu3-MetadataStripContainer eh44mf03') # get miscellanous info such as date published, section and area\n",
    "\n",
    "        for list_item in misc_list.findAll('li'):\n",
    "            if list_item.text.startswith('Published'):\n",
    "                time = list_item.text.split('Published')[1]\n",
    "            if list_item.text.startswith('Site'):\n",
    "                site = list_item.text.split('Site')[1]\n",
    "            if list_item.text.startswith('Section'):\n",
    "                section = list_item.text.split('Section')[1]\n",
    "\n",
    "        row_info = [title,description,time,site,section]\n",
    "        total_info.append(row_info)  \n",
    "   \n",
    "print(f'Total Articles : {total_articles}')\n",
    " "
   ]
  },
  {
   "cell_type": "code",
   "execution_count": 36,
   "metadata": {},
   "outputs": [],
   "source": [
    "def time_processor(date):\n",
    "    today = datetime.today().date()\n",
    "    if date.endswith('ago'):\n",
    "        if 'hour' in date:\n",
    "           date = today.strftime('%d %B %Y')\n",
    "        if 'days' in date:\n",
    "           date = (today - timedelta(days=int(date.split(' ')[0]))).strftime('%d %B %Y')\n",
    "    elif date[len(date)-4:].isnumeric() == False:\n",
    "           date = date + ' 2023'\n",
    "    return date"
   ]
  },
  {
   "cell_type": "code",
   "execution_count": 37,
   "metadata": {},
   "outputs": [],
   "source": [
    "def data_pipeline(info):\n",
    "    #Make DF\n",
    "    df = pd.DataFrame(info,columns=['title','description','publisheddate','section','site'])\n",
    "\n",
    "    #Convert Written Dates to Datetime OBJ\n",
    "    print(df['publisheddate'])\n",
    "    df['publisheddate'] = df['publisheddate'].apply(lambda x : time_processor(x))\n",
    "    print(df['publisheddate'])\n",
    "    df['publisheddate'] = pd.to_datetime(df['publisheddate'])\n",
    "    df['publisheddate'] = df.sort_values(by='publisheddate',ascending=False).reset_index(drop=True)\n",
    "    print(df)"
   ]
  },
  {
   "cell_type": "code",
   "execution_count": 38,
   "metadata": {},
   "outputs": [
    {
     "name": "stdout",
     "output_type": "stream",
     "text": [
      "0       10 December\n",
      "1        8 December\n",
      "2        4 December\n",
      "3       13 November\n",
      "4       12 November\n",
      "           ...     \n",
      "285    27 July 2017\n",
      "286    20 July 2017\n",
      "287     5 July 2017\n",
      "288     5 July 2017\n",
      "289    30 June 2017\n",
      "Name: publisheddate, Length: 290, dtype: object\n",
      "0      None\n",
      "1      None\n",
      "2      None\n",
      "3      None\n",
      "4      None\n",
      "       ... \n",
      "285    None\n",
      "286    None\n",
      "287    None\n",
      "288    None\n",
      "289    None\n",
      "Name: publisheddate, Length: 290, dtype: object\n"
     ]
    },
    {
     "ename": "ValueError",
     "evalue": "Columns must be same length as key",
     "output_type": "error",
     "traceback": [
      "\u001b[1;31m---------------------------------------------------------------------------\u001b[0m",
      "\u001b[1;31mValueError\u001b[0m                                Traceback (most recent call last)",
      "\u001b[1;32m~\\AppData\\Local\\Temp\\ipykernel_4204\\535453087.py\u001b[0m in \u001b[0;36m?\u001b[1;34m()\u001b[0m\n\u001b[1;32m----> 1\u001b[1;33m \u001b[0mdata_pipeline\u001b[0m\u001b[1;33m(\u001b[0m\u001b[0mtotal_info\u001b[0m\u001b[1;33m)\u001b[0m\u001b[1;33m\u001b[0m\u001b[1;33m\u001b[0m\u001b[0m\n\u001b[0m",
      "\u001b[1;32m~\\AppData\\Local\\Temp\\ipykernel_4204\\4216141379.py\u001b[0m in \u001b[0;36m?\u001b[1;34m(info)\u001b[0m\n\u001b[0;32m      6\u001b[0m     \u001b[0mprint\u001b[0m\u001b[1;33m(\u001b[0m\u001b[0mdf\u001b[0m\u001b[1;33m[\u001b[0m\u001b[1;34m'publisheddate'\u001b[0m\u001b[1;33m]\u001b[0m\u001b[1;33m)\u001b[0m\u001b[1;33m\u001b[0m\u001b[1;33m\u001b[0m\u001b[0m\n\u001b[0;32m      7\u001b[0m     \u001b[0mdf\u001b[0m\u001b[1;33m[\u001b[0m\u001b[1;34m'publisheddate'\u001b[0m\u001b[1;33m]\u001b[0m \u001b[1;33m=\u001b[0m \u001b[0mdf\u001b[0m\u001b[1;33m[\u001b[0m\u001b[1;34m'publisheddate'\u001b[0m\u001b[1;33m]\u001b[0m\u001b[1;33m.\u001b[0m\u001b[0mapply\u001b[0m\u001b[1;33m(\u001b[0m\u001b[1;32mlambda\u001b[0m \u001b[0mx\u001b[0m \u001b[1;33m:\u001b[0m \u001b[0mtime_processor\u001b[0m\u001b[1;33m(\u001b[0m\u001b[0mx\u001b[0m\u001b[1;33m)\u001b[0m\u001b[1;33m)\u001b[0m\u001b[1;33m\u001b[0m\u001b[1;33m\u001b[0m\u001b[0m\n\u001b[0;32m      8\u001b[0m     \u001b[0mprint\u001b[0m\u001b[1;33m(\u001b[0m\u001b[0mdf\u001b[0m\u001b[1;33m[\u001b[0m\u001b[1;34m'publisheddate'\u001b[0m\u001b[1;33m]\u001b[0m\u001b[1;33m)\u001b[0m\u001b[1;33m\u001b[0m\u001b[1;33m\u001b[0m\u001b[0m\n\u001b[0;32m      9\u001b[0m     \u001b[0mdf\u001b[0m\u001b[1;33m[\u001b[0m\u001b[1;34m'publisheddate'\u001b[0m\u001b[1;33m]\u001b[0m \u001b[1;33m=\u001b[0m \u001b[0mpd\u001b[0m\u001b[1;33m.\u001b[0m\u001b[0mto_datetime\u001b[0m\u001b[1;33m(\u001b[0m\u001b[0mdf\u001b[0m\u001b[1;33m[\u001b[0m\u001b[1;34m'publisheddate'\u001b[0m\u001b[1;33m]\u001b[0m\u001b[1;33m)\u001b[0m\u001b[1;33m\u001b[0m\u001b[1;33m\u001b[0m\u001b[0m\n\u001b[1;32m---> 10\u001b[1;33m     \u001b[0mdf\u001b[0m\u001b[1;33m[\u001b[0m\u001b[1;34m'publisheddate'\u001b[0m\u001b[1;33m]\u001b[0m \u001b[1;33m=\u001b[0m \u001b[0mdf\u001b[0m\u001b[1;33m.\u001b[0m\u001b[0msort_values\u001b[0m\u001b[1;33m(\u001b[0m\u001b[0mby\u001b[0m\u001b[1;33m=\u001b[0m\u001b[1;34m'publisheddate'\u001b[0m\u001b[1;33m,\u001b[0m\u001b[0mascending\u001b[0m\u001b[1;33m=\u001b[0m\u001b[1;32mFalse\u001b[0m\u001b[1;33m)\u001b[0m\u001b[1;33m.\u001b[0m\u001b[0mreset_index\u001b[0m\u001b[1;33m(\u001b[0m\u001b[0mdrop\u001b[0m\u001b[1;33m=\u001b[0m\u001b[1;32mTrue\u001b[0m\u001b[1;33m)\u001b[0m\u001b[1;33m\u001b[0m\u001b[1;33m\u001b[0m\u001b[0m\n\u001b[0m\u001b[0;32m     11\u001b[0m     \u001b[0mprint\u001b[0m\u001b[1;33m(\u001b[0m\u001b[0mdf\u001b[0m\u001b[1;33m)\u001b[0m\u001b[1;33m\u001b[0m\u001b[1;33m\u001b[0m\u001b[0m\n",
      "\u001b[1;32me:\\Github Repositories\\NewsNLP\\.venv\\Lib\\site-packages\\pandas\\core\\frame.py\u001b[0m in \u001b[0;36m?\u001b[1;34m(self, key, value)\u001b[0m\n\u001b[0;32m   4077\u001b[0m             \u001b[0mself\u001b[0m\u001b[1;33m.\u001b[0m\u001b[0m_setitem_frame\u001b[0m\u001b[1;33m(\u001b[0m\u001b[0mkey\u001b[0m\u001b[1;33m,\u001b[0m \u001b[0mvalue\u001b[0m\u001b[1;33m)\u001b[0m\u001b[1;33m\u001b[0m\u001b[1;33m\u001b[0m\u001b[0m\n\u001b[0;32m   4078\u001b[0m         \u001b[1;32melif\u001b[0m \u001b[0misinstance\u001b[0m\u001b[1;33m(\u001b[0m\u001b[0mkey\u001b[0m\u001b[1;33m,\u001b[0m \u001b[1;33m(\u001b[0m\u001b[0mSeries\u001b[0m\u001b[1;33m,\u001b[0m \u001b[0mnp\u001b[0m\u001b[1;33m.\u001b[0m\u001b[0mndarray\u001b[0m\u001b[1;33m,\u001b[0m \u001b[0mlist\u001b[0m\u001b[1;33m,\u001b[0m \u001b[0mIndex\u001b[0m\u001b[1;33m)\u001b[0m\u001b[1;33m)\u001b[0m\u001b[1;33m:\u001b[0m\u001b[1;33m\u001b[0m\u001b[1;33m\u001b[0m\u001b[0m\n\u001b[0;32m   4079\u001b[0m             \u001b[0mself\u001b[0m\u001b[1;33m.\u001b[0m\u001b[0m_setitem_array\u001b[0m\u001b[1;33m(\u001b[0m\u001b[0mkey\u001b[0m\u001b[1;33m,\u001b[0m \u001b[0mvalue\u001b[0m\u001b[1;33m)\u001b[0m\u001b[1;33m\u001b[0m\u001b[1;33m\u001b[0m\u001b[0m\n\u001b[0;32m   4080\u001b[0m         \u001b[1;32melif\u001b[0m \u001b[0misinstance\u001b[0m\u001b[1;33m(\u001b[0m\u001b[0mvalue\u001b[0m\u001b[1;33m,\u001b[0m \u001b[0mDataFrame\u001b[0m\u001b[1;33m)\u001b[0m\u001b[1;33m:\u001b[0m\u001b[1;33m\u001b[0m\u001b[1;33m\u001b[0m\u001b[0m\n\u001b[1;32m-> 4081\u001b[1;33m             \u001b[0mself\u001b[0m\u001b[1;33m.\u001b[0m\u001b[0m_set_item_frame_value\u001b[0m\u001b[1;33m(\u001b[0m\u001b[0mkey\u001b[0m\u001b[1;33m,\u001b[0m \u001b[0mvalue\u001b[0m\u001b[1;33m)\u001b[0m\u001b[1;33m\u001b[0m\u001b[1;33m\u001b[0m\u001b[0m\n\u001b[0m\u001b[0;32m   4082\u001b[0m         elif (\n\u001b[0;32m   4083\u001b[0m             \u001b[0mis_list_like\u001b[0m\u001b[1;33m(\u001b[0m\u001b[0mvalue\u001b[0m\u001b[1;33m)\u001b[0m\u001b[1;33m\u001b[0m\u001b[1;33m\u001b[0m\u001b[0m\n\u001b[0;32m   4084\u001b[0m             \u001b[1;32mand\u001b[0m \u001b[1;32mnot\u001b[0m \u001b[0mself\u001b[0m\u001b[1;33m.\u001b[0m\u001b[0mcolumns\u001b[0m\u001b[1;33m.\u001b[0m\u001b[0mis_unique\u001b[0m\u001b[1;33m\u001b[0m\u001b[1;33m\u001b[0m\u001b[0m\n",
      "\u001b[1;32me:\\Github Repositories\\NewsNLP\\.venv\\Lib\\site-packages\\pandas\\core\\frame.py\u001b[0m in \u001b[0;36m?\u001b[1;34m(self, key, value)\u001b[0m\n\u001b[0;32m   4205\u001b[0m             \u001b[0mloc\u001b[0m \u001b[1;33m=\u001b[0m \u001b[0mself\u001b[0m\u001b[1;33m.\u001b[0m\u001b[0mcolumns\u001b[0m\u001b[1;33m.\u001b[0m\u001b[0mget_loc\u001b[0m\u001b[1;33m(\u001b[0m\u001b[0mkey\u001b[0m\u001b[1;33m)\u001b[0m\u001b[1;33m\u001b[0m\u001b[1;33m\u001b[0m\u001b[0m\n\u001b[0;32m   4206\u001b[0m             \u001b[0mcols\u001b[0m \u001b[1;33m=\u001b[0m \u001b[0mself\u001b[0m\u001b[1;33m.\u001b[0m\u001b[0mcolumns\u001b[0m\u001b[1;33m[\u001b[0m\u001b[0mloc\u001b[0m\u001b[1;33m]\u001b[0m\u001b[1;33m\u001b[0m\u001b[1;33m\u001b[0m\u001b[0m\n\u001b[0;32m   4207\u001b[0m             \u001b[0mlen_cols\u001b[0m \u001b[1;33m=\u001b[0m \u001b[1;36m1\u001b[0m \u001b[1;32mif\u001b[0m \u001b[0mis_scalar\u001b[0m\u001b[1;33m(\u001b[0m\u001b[0mcols\u001b[0m\u001b[1;33m)\u001b[0m \u001b[1;32mor\u001b[0m \u001b[0misinstance\u001b[0m\u001b[1;33m(\u001b[0m\u001b[0mcols\u001b[0m\u001b[1;33m,\u001b[0m \u001b[0mtuple\u001b[0m\u001b[1;33m)\u001b[0m \u001b[1;32melse\u001b[0m \u001b[0mlen\u001b[0m\u001b[1;33m(\u001b[0m\u001b[0mcols\u001b[0m\u001b[1;33m)\u001b[0m\u001b[1;33m\u001b[0m\u001b[1;33m\u001b[0m\u001b[0m\n\u001b[0;32m   4208\u001b[0m             \u001b[1;32mif\u001b[0m \u001b[0mlen_cols\u001b[0m \u001b[1;33m!=\u001b[0m \u001b[0mlen\u001b[0m\u001b[1;33m(\u001b[0m\u001b[0mvalue\u001b[0m\u001b[1;33m.\u001b[0m\u001b[0mcolumns\u001b[0m\u001b[1;33m)\u001b[0m\u001b[1;33m:\u001b[0m\u001b[1;33m\u001b[0m\u001b[1;33m\u001b[0m\u001b[0m\n\u001b[1;32m-> 4209\u001b[1;33m                 \u001b[1;32mraise\u001b[0m \u001b[0mValueError\u001b[0m\u001b[1;33m(\u001b[0m\u001b[1;34m\"Columns must be same length as key\"\u001b[0m\u001b[1;33m)\u001b[0m\u001b[1;33m\u001b[0m\u001b[1;33m\u001b[0m\u001b[0m\n\u001b[0m\u001b[0;32m   4210\u001b[0m \u001b[1;33m\u001b[0m\u001b[0m\n\u001b[0;32m   4211\u001b[0m             \u001b[1;31m# align right-hand-side columns if self.columns\u001b[0m\u001b[1;33m\u001b[0m\u001b[1;33m\u001b[0m\u001b[0m\n\u001b[0;32m   4212\u001b[0m             \u001b[1;31m# is multi-index and self[key] is a sub-frame\u001b[0m\u001b[1;33m\u001b[0m\u001b[1;33m\u001b[0m\u001b[0m\n",
      "\u001b[1;31mValueError\u001b[0m: Columns must be same length as key"
     ]
    }
   ],
   "source": [
    "data_pipeline(total_info)"
   ]
  },
  {
   "cell_type": "code",
   "execution_count": 104,
   "metadata": {},
   "outputs": [
    {
     "data": {
      "text/html": [
       "<div>\n",
       "<style scoped>\n",
       "    .dataframe tbody tr th:only-of-type {\n",
       "        vertical-align: middle;\n",
       "    }\n",
       "\n",
       "    .dataframe tbody tr th {\n",
       "        vertical-align: top;\n",
       "    }\n",
       "\n",
       "    .dataframe thead th {\n",
       "        text-align: right;\n",
       "    }\n",
       "</style>\n",
       "<table border=\"1\" class=\"dataframe\">\n",
       "  <thead>\n",
       "    <tr style=\"text-align: right;\">\n",
       "      <th></th>\n",
       "      <th>title</th>\n",
       "      <th>description</th>\n",
       "      <th>publisheddate</th>\n",
       "      <th>section</th>\n",
       "      <th>site</th>\n",
       "    </tr>\n",
       "  </thead>\n",
       "  <tbody>\n",
       "    <tr>\n",
       "      <th>0</th>\n",
       "      <td>The $100bn ghost city in southern Malaysia</td>\n",
       "      <td>The Chinese-built city was supposed to be a th...</td>\n",
       "      <td>15 hours ago</td>\n",
       "      <td>News</td>\n",
       "      <td>Asia</td>\n",
       "    </tr>\n",
       "    <tr>\n",
       "      <th>1</th>\n",
       "      <td>Snoop Dogg &amp; an ex-Wolves midfielder - meet Ma...</td>\n",
       "      <td>Former Wolves midfielder Hong Wan has moved fr...</td>\n",
       "      <td>2 days ago</td>\n",
       "      <td>Sport</td>\n",
       "      <td>Football</td>\n",
       "    </tr>\n",
       "    <tr>\n",
       "      <th>2</th>\n",
       "      <td>Forest City: Inside Malaysia's Chinese-built '...</td>\n",
       "      <td>Built during the Chinese property boom, Forest...</td>\n",
       "      <td>6 days ago</td>\n",
       "      <td>News</td>\n",
       "      <td>Business</td>\n",
       "    </tr>\n",
       "    <tr>\n",
       "      <th>3</th>\n",
       "      <td>Malaysian killer released from Australian immi...</td>\n",
       "      <td>An ex-policeman convicted in a politically cha...</td>\n",
       "      <td>13 November</td>\n",
       "      <td>News</td>\n",
       "      <td>Australia</td>\n",
       "    </tr>\n",
       "    <tr>\n",
       "      <th>4</th>\n",
       "      <td>MotoGP: Enea Bastianini claims first race win ...</td>\n",
       "      <td>Ducati's Enea Bastianini claims his first race...</td>\n",
       "      <td>12 November</td>\n",
       "      <td>Sport</td>\n",
       "      <td>Motorsport</td>\n",
       "    </tr>\n",
       "    <tr>\n",
       "      <th>...</th>\n",
       "      <td>...</td>\n",
       "      <td>...</td>\n",
       "      <td>...</td>\n",
       "      <td>...</td>\n",
       "      <td>...</td>\n",
       "    </tr>\n",
       "    <tr>\n",
       "      <th>285</th>\n",
       "      <td>Najib Razak: Malaysian ex-PM gets 12-year jail...</td>\n",
       "      <td>Najib Razak gets 12 years in jail after he is ...</td>\n",
       "      <td>28 July 2020</td>\n",
       "      <td>News</td>\n",
       "      <td>Asia</td>\n",
       "    </tr>\n",
       "    <tr>\n",
       "      <th>286</th>\n",
       "      <td>Newsday: Guilty verdict for former Malaysian p...</td>\n",
       "      <td>Live news, business and sport from around the ...</td>\n",
       "      <td>28 July 2020</td>\n",
       "      <td>Programmes</td>\n",
       "      <td>BBC World Service</td>\n",
       "    </tr>\n",
       "    <tr>\n",
       "      <th>287</th>\n",
       "      <td>Newsday: Former Malaysian PM guilty of abuse o...</td>\n",
       "      <td>Live news, business and sport from around the ...</td>\n",
       "      <td>28 July 2020</td>\n",
       "      <td>Programmes</td>\n",
       "      <td>BBC World Service</td>\n",
       "    </tr>\n",
       "    <tr>\n",
       "      <th>288</th>\n",
       "      <td>North Korea v Malaysia: Asian Cup qualifier is...</td>\n",
       "      <td>\"Geo-political tension\" and \"safety and securi...</td>\n",
       "      <td>17 May 2017</td>\n",
       "      <td>Sport</td>\n",
       "      <td>Football</td>\n",
       "    </tr>\n",
       "    <tr>\n",
       "      <th>289</th>\n",
       "      <td>Malaysia chief fears player poisonings during ...</td>\n",
       "      <td>Malaysia's football chief is worried players c...</td>\n",
       "      <td>11 May 2017</td>\n",
       "      <td>Sport</td>\n",
       "      <td>Football</td>\n",
       "    </tr>\n",
       "  </tbody>\n",
       "</table>\n",
       "<p>290 rows × 5 columns</p>\n",
       "</div>"
      ],
      "text/plain": [
       "                                                 title  \\\n",
       "0           The $100bn ghost city in southern Malaysia   \n",
       "1    Snoop Dogg & an ex-Wolves midfielder - meet Ma...   \n",
       "2    Forest City: Inside Malaysia's Chinese-built '...   \n",
       "3    Malaysian killer released from Australian immi...   \n",
       "4    MotoGP: Enea Bastianini claims first race win ...   \n",
       "..                                                 ...   \n",
       "285  Najib Razak: Malaysian ex-PM gets 12-year jail...   \n",
       "286  Newsday: Guilty verdict for former Malaysian p...   \n",
       "287  Newsday: Former Malaysian PM guilty of abuse o...   \n",
       "288  North Korea v Malaysia: Asian Cup qualifier is...   \n",
       "289  Malaysia chief fears player poisonings during ...   \n",
       "\n",
       "                                           description publisheddate  \\\n",
       "0    The Chinese-built city was supposed to be a th...  15 hours ago   \n",
       "1    Former Wolves midfielder Hong Wan has moved fr...    2 days ago   \n",
       "2    Built during the Chinese property boom, Forest...    6 days ago   \n",
       "3    An ex-policeman convicted in a politically cha...   13 November   \n",
       "4    Ducati's Enea Bastianini claims his first race...   12 November   \n",
       "..                                                 ...           ...   \n",
       "285  Najib Razak gets 12 years in jail after he is ...  28 July 2020   \n",
       "286  Live news, business and sport from around the ...  28 July 2020   \n",
       "287  Live news, business and sport from around the ...  28 July 2020   \n",
       "288  \"Geo-political tension\" and \"safety and securi...   17 May 2017   \n",
       "289  Malaysia's football chief is worried players c...   11 May 2017   \n",
       "\n",
       "        section               site  \n",
       "0          News               Asia  \n",
       "1         Sport           Football  \n",
       "2          News           Business  \n",
       "3          News          Australia  \n",
       "4         Sport         Motorsport  \n",
       "..          ...                ...  \n",
       "285        News               Asia  \n",
       "286  Programmes  BBC World Service  \n",
       "287  Programmes  BBC World Service  \n",
       "288       Sport           Football  \n",
       "289       Sport           Football  \n",
       "\n",
       "[290 rows x 5 columns]"
      ]
     },
     "execution_count": 104,
     "metadata": {},
     "output_type": "execute_result"
    }
   ],
   "source": [
    "df = pd.DataFrame(total_info,columns=['title','description','publisheddate','section','site'])\n",
    "df"
   ]
  },
  {
   "cell_type": "code",
   "execution_count": 105,
   "metadata": {},
   "outputs": [],
   "source": [
    "df.to_csv('BBCNews.csv',index=False)"
   ]
  }
 ],
 "metadata": {
  "kernelspec": {
   "display_name": ".venv",
   "language": "python",
   "name": "python3"
  },
  "language_info": {
   "codemirror_mode": {
    "name": "ipython",
    "version": 3
   },
   "file_extension": ".py",
   "mimetype": "text/x-python",
   "name": "python",
   "nbconvert_exporter": "python",
   "pygments_lexer": "ipython3",
   "version": "3.11.1"
  }
 },
 "nbformat": 4,
 "nbformat_minor": 2
}
